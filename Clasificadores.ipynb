{
 "cells": [
  {
   "cell_type": "code",
   "execution_count": 3,
   "metadata": {},
   "outputs": [],
   "source": [
    "import numpy as np\n",
    "import matplotlib.pyplot as plt\n",
    "import pandas as pd\n",
    "import os\n",
    "import tensorflow as tf\n",
    "import IPython.display as ipd"
   ]
  },
  {
   "cell_type": "code",
   "execution_count": 5,
   "metadata": {},
   "outputs": [],
   "source": [
    "train_directory = \"/Users/andavaro/Desktop/Andrès/UBA/TrabajoDeGradoCEIA/VENV_Python/Tesis_IA/train/\""
   ]
  },
  {
   "cell_type": "code",
   "execution_count": 6,
   "metadata": {},
   "outputs": [
    {
     "name": "stdout",
     "output_type": "stream",
     "text": [
      "Found 16 files belonging to 4 classes.\n",
      "Using 3 files for validation.\n"
     ]
    },
    {
     "name": "stderr",
     "output_type": "stream",
     "text": [
      "2023-08-23 18:11:33.679518: I metal_plugin/src/device/metal_device.cc:1154] Metal device set to: Apple M1\n",
      "2023-08-23 18:11:33.679552: I metal_plugin/src/device/metal_device.cc:296] systemMemory: 16.00 GB\n",
      "2023-08-23 18:11:33.679558: I metal_plugin/src/device/metal_device.cc:313] maxCacheSize: 5.33 GB\n",
      "2023-08-23 18:11:33.679602: I tensorflow/core/common_runtime/pluggable_device/pluggable_device_factory.cc:303] Could not identify NUMA node of platform GPU ID 0, defaulting to 0. Your kernel may not have been built with NUMA support.\n",
      "2023-08-23 18:11:33.679627: I tensorflow/core/common_runtime/pluggable_device/pluggable_device_factory.cc:269] Created TensorFlow device (/job:localhost/replica:0/task:0/device:GPU:0 with 0 MB memory) -> physical PluggableDevice (device: 0, name: METAL, pci bus id: <undefined>)\n"
     ]
    }
   ],
   "source": [
    "train_ds = tf.keras.preprocessing.image_dataset_from_directory(\n",
    "    train_directory, labels='inferred', label_mode='int', image_size=(256, 256), seed=123, \n",
    "    validation_split=0.2, subset='validation')"
   ]
  },
  {
   "cell_type": "code",
   "execution_count": 7,
   "metadata": {},
   "outputs": [
    {
     "name": "stdout",
     "output_type": "stream",
     "text": [
      "['Copia de VT', 'Copia de VT 2', 'VT', 'VTobspy']\n"
     ]
    }
   ],
   "source": [
    "class_names = train_ds.class_names\n",
    "print(class_names)"
   ]
  },
  {
   "attachments": {},
   "cell_type": "markdown",
   "metadata": {},
   "source": [
    "# Modelos"
   ]
  },
  {
   "cell_type": "code",
   "execution_count": 15,
   "metadata": {},
   "outputs": [],
   "source": [
    "num_classes = len(class_names)\n",
    "img_height = 256\n",
    "img_width = 256"
   ]
  },
  {
   "attachments": {},
   "cell_type": "markdown",
   "metadata": {},
   "source": [
    "## Modelo 1"
   ]
  },
  {
   "cell_type": "code",
   "execution_count": 10,
   "metadata": {},
   "outputs": [],
   "source": [
    "model = tf.keras.Sequential([\n",
    "  tf.keras.layers.experimental.preprocessing.Rescaling(1./255, input_shape=(img_height, img_width, 3)),\n",
    "  tf.keras.layers.Conv2D(16, 3, padding='same', activation='relu'),\n",
    "  tf.keras.layers.MaxPooling2D(),\n",
    "  tf.keras.layers.Conv2D(32, 3, padding='same', activation='relu'),\n",
    "  tf.keras.layers.MaxPooling2D(),\n",
    "  tf.keras.layers.Conv2D(64, 3, padding='same', activation='relu'),\n",
    "  tf.keras.layers.MaxPooling2D(),\n",
    "  tf.keras.layers.Flatten(),\n",
    "  tf.keras.layers.Dense(128, activation='relu'),\n",
    "  tf.keras.layers.Dense(num_classes)\n",
    "])"
   ]
  },
  {
   "cell_type": "code",
   "execution_count": 11,
   "metadata": {},
   "outputs": [
    {
     "name": "stderr",
     "output_type": "stream",
     "text": [
      "WARNING:absl:At this time, the v2.11+ optimizer `tf.keras.optimizers.SGD` runs slowly on M1/M2 Macs, please use the legacy Keras optimizer instead, located at `tf.keras.optimizers.legacy.SGD`.\n",
      "WARNING:absl:There is a known slowdown when using v2.11+ Keras optimizers on M1/M2 Macs. Falling back to the legacy Keras optimizer, i.e., `tf.keras.optimizers.legacy.SGD`.\n"
     ]
    }
   ],
   "source": [
    "learning_rate = 0.125\n",
    "\n",
    "loss_fn = tf.keras.losses.SparseCategoricalCrossentropy(from_logits=True)\n",
    "optimizer = tf.keras.optimizers.SGD(learning_rate)\n",
    "metrics = ['accuracy']\n",
    "model.compile(optimizer, loss_fn, metrics)"
   ]
  },
  {
   "cell_type": "code",
   "execution_count": 12,
   "metadata": {},
   "outputs": [
    {
     "name": "stdout",
     "output_type": "stream",
     "text": [
      "\n",
      "Fitting:\n",
      "Epoch 1/10\n"
     ]
    },
    {
     "name": "stderr",
     "output_type": "stream",
     "text": [
      "2023-08-23 18:18:25.888509: I tensorflow/core/grappler/optimizers/custom_graph_optimizer_registry.cc:114] Plugin optimizer for device_type GPU is enabled.\n"
     ]
    },
    {
     "name": "stdout",
     "output_type": "stream",
     "text": [
      "1/1 [==============================] - 3s 3s/step - loss: 1.4745 - accuracy: 0.0000e+00\n",
      "Epoch 2/10\n",
      "1/1 [==============================] - 0s 34ms/step - loss: 4.4370 - accuracy: 0.6667\n",
      "Epoch 3/10\n",
      "1/1 [==============================] - 0s 32ms/step - loss: 3.5963 - accuracy: 0.3333\n",
      "Epoch 4/10\n",
      "1/1 [==============================] - 0s 31ms/step - loss: 1.8610 - accuracy: 0.0000e+00\n",
      "Epoch 5/10\n",
      "1/1 [==============================] - 0s 31ms/step - loss: 1.1983 - accuracy: 0.6667\n",
      "Epoch 6/10\n",
      "1/1 [==============================] - 0s 32ms/step - loss: 2.2476 - accuracy: 0.6667\n",
      "Epoch 7/10\n",
      "1/1 [==============================] - 0s 32ms/step - loss: 1.0362 - accuracy: 0.3333\n",
      "Epoch 8/10\n",
      "1/1 [==============================] - 0s 32ms/step - loss: 0.7157 - accuracy: 0.6667\n",
      "Epoch 9/10\n",
      "1/1 [==============================] - 0s 36ms/step - loss: 0.9852 - accuracy: 0.3333\n",
      "Epoch 10/10\n",
      "1/1 [==============================] - 0s 31ms/step - loss: 1.0511 - accuracy: 0.6667\n"
     ]
    }
   ],
   "source": [
    "# Set the epocks\n",
    "epochs = 10\n",
    "print('\\nFitting:')\n",
    "\n",
    "# Train the model.\n",
    "history = model.fit(train_ds, epochs=epochs)"
   ]
  },
  {
   "cell_type": "code",
   "execution_count": 13,
   "metadata": {},
   "outputs": [
    {
     "name": "stdout",
     "output_type": "stream",
     "text": [
      "Model: \"sequential\"\n",
      "_________________________________________________________________\n",
      " Layer (type)                Output Shape              Param #   \n",
      "=================================================================\n",
      " rescaling (Rescaling)       (None, 256, 256, 3)       0         \n",
      "                                                                 \n",
      " conv2d (Conv2D)             (None, 256, 256, 16)      448       \n",
      "                                                                 \n",
      " max_pooling2d (MaxPooling2  (None, 128, 128, 16)      0         \n",
      " D)                                                              \n",
      "                                                                 \n",
      " conv2d_1 (Conv2D)           (None, 128, 128, 32)      4640      \n",
      "                                                                 \n",
      " max_pooling2d_1 (MaxPoolin  (None, 64, 64, 32)        0         \n",
      " g2D)                                                            \n",
      "                                                                 \n",
      " conv2d_2 (Conv2D)           (None, 64, 64, 64)        18496     \n",
      "                                                                 \n",
      " max_pooling2d_2 (MaxPoolin  (None, 32, 32, 64)        0         \n",
      " g2D)                                                            \n",
      "                                                                 \n",
      " flatten (Flatten)           (None, 65536)             0         \n",
      "                                                                 \n",
      " dense (Dense)               (None, 128)               8388736   \n",
      "                                                                 \n",
      " dense_1 (Dense)             (None, 4)                 516       \n",
      "                                                                 \n",
      "=================================================================\n",
      "Total params: 8412836 (32.09 MB)\n",
      "Trainable params: 8412836 (32.09 MB)\n",
      "Non-trainable params: 0 (0.00 Byte)\n",
      "_________________________________________________________________\n"
     ]
    }
   ],
   "source": [
    "model.summary()"
   ]
  },
  {
   "attachments": {},
   "cell_type": "markdown",
   "metadata": {},
   "source": [
    "### Test"
   ]
  },
  {
   "cell_type": "code",
   "execution_count": 14,
   "metadata": {},
   "outputs": [
    {
     "name": "stdout",
     "output_type": "stream",
     "text": [
      "1/1 [==============================] - 0s 149ms/step\n",
      "Number correct: 2 out of 3\n",
      "Accuracy 0.6666666666666666\n"
     ]
    },
    {
     "name": "stderr",
     "output_type": "stream",
     "text": [
      "2023-08-23 18:19:33.825637: I tensorflow/core/grappler/optimizers/custom_graph_optimizer_registry.cc:114] Plugin optimizer for device_type GPU is enabled.\n"
     ]
    }
   ],
   "source": [
    "correct = 0\n",
    "batch_size = 0\n",
    "for batch_num, (X, Y) in enumerate(train_ds):\n",
    "    batch_size = len(Y)\n",
    "    pred = model.predict(X)\n",
    "    for i in range(batch_size):\n",
    "        predicted = np.argmax(pred[i], axis=-1)\n",
    "        actual = Y[i]\n",
    "        #print(f'predicted {predicted}, actual {actual}')\n",
    "        if predicted == actual:\n",
    "            correct += 1\n",
    "    break\n",
    "\n",
    "print(f'Number correct: {correct} out of {batch_size}')\n",
    "print(f'Accuracy {correct / batch_size}')"
   ]
  },
  {
   "attachments": {},
   "cell_type": "markdown",
   "metadata": {},
   "source": [
    "## Modelo 2"
   ]
  },
  {
   "cell_type": "code",
   "execution_count": 24,
   "metadata": {},
   "outputs": [],
   "source": [
    "'''import tensorflow_decision_forests as tfdf\n",
    "model = tfdf.keras.RandomForestModel(\n",
    "    core.Task.CLASSIFICATION\n",
    ")'''\n",
    "model2 = tf.keras.models.Sequential([\n",
    "    tf.keras.layers.experimental.preprocessing.Rescaling(1./255, input_shape=(img_height, img_width, 3)),\n",
    "    tf.keras.layers.Conv2D(32, kernel_size=(3, 3), activation='relu'),\n",
    "    tf.keras.layers.MaxPooling2D(pool_size=(2, 2)),\n",
    "    tf.keras.layers.Conv2D(64, kernel_size=(3, 3), activation='relu'),\n",
    "    tf.keras.layers.MaxPooling2D(pool_size=(2, 2)),\n",
    "    tf.keras.layers.Flatten(),\n",
    "    tf.keras.layers.Dense(128, activation='relu'),\n",
    "    tf.keras.layers.Dense(num_classes, activation='softmax')\n",
    "])"
   ]
  },
  {
   "cell_type": "code",
   "execution_count": 25,
   "metadata": {},
   "outputs": [
    {
     "name": "stderr",
     "output_type": "stream",
     "text": [
      "WARNING:absl:At this time, the v2.11+ optimizer `tf.keras.optimizers.SGD` runs slowly on M1/M2 Macs, please use the legacy Keras optimizer instead, located at `tf.keras.optimizers.legacy.SGD`.\n",
      "WARNING:absl:There is a known slowdown when using v2.11+ Keras optimizers on M1/M2 Macs. Falling back to the legacy Keras optimizer, i.e., `tf.keras.optimizers.legacy.SGD`.\n"
     ]
    }
   ],
   "source": [
    "learning_rate = 0.125\n",
    "\n",
    "loss_fn = tf.keras.losses.SparseCategoricalCrossentropy(from_logits=True)\n",
    "optimizer = tf.keras.optimizers.SGD(learning_rate)\n",
    "metrics = ['accuracy']\n",
    "model.compile(optimizer, loss_fn, metrics)"
   ]
  },
  {
   "cell_type": "code",
   "execution_count": 26,
   "metadata": {},
   "outputs": [
    {
     "name": "stdout",
     "output_type": "stream",
     "text": [
      "\n",
      "Fitting:\n",
      "Epoch 1/15\n"
     ]
    },
    {
     "name": "stderr",
     "output_type": "stream",
     "text": [
      "2023-08-23 18:34:29.552314: I tensorflow/core/grappler/optimizers/custom_graph_optimizer_registry.cc:114] Plugin optimizer for device_type GPU is enabled.\n"
     ]
    },
    {
     "name": "stdout",
     "output_type": "stream",
     "text": [
      "1/1 [==============================] - 0s 264ms/step - loss: 0.9592 - accuracy: 0.6667\n",
      "Epoch 2/15\n",
      "1/1 [==============================] - 0s 36ms/step - loss: 0.9780 - accuracy: 0.6667\n",
      "Epoch 3/15\n",
      "1/1 [==============================] - 0s 32ms/step - loss: 0.8247 - accuracy: 0.6667\n",
      "Epoch 4/15\n",
      "1/1 [==============================] - 0s 32ms/step - loss: 0.8678 - accuracy: 0.6667\n",
      "Epoch 5/15\n",
      "1/1 [==============================] - 0s 53ms/step - loss: 0.7089 - accuracy: 0.6667\n",
      "Epoch 6/15\n",
      "1/1 [==============================] - 0s 33ms/step - loss: 0.6776 - accuracy: 0.6667\n",
      "Epoch 7/15\n",
      "1/1 [==============================] - 0s 32ms/step - loss: 0.6657 - accuracy: 0.6667\n",
      "Epoch 8/15\n",
      "1/1 [==============================] - 0s 31ms/step - loss: 0.6838 - accuracy: 0.6667\n",
      "Epoch 9/15\n",
      "1/1 [==============================] - 0s 38ms/step - loss: 0.7183 - accuracy: 0.3333\n",
      "Epoch 10/15\n",
      "1/1 [==============================] - 0s 32ms/step - loss: 0.8003 - accuracy: 0.6667\n",
      "Epoch 11/15\n",
      "1/1 [==============================] - 0s 36ms/step - loss: 0.7580 - accuracy: 0.3333\n",
      "Epoch 12/15\n",
      "1/1 [==============================] - 0s 31ms/step - loss: 0.7043 - accuracy: 0.6667\n",
      "Epoch 13/15\n",
      "1/1 [==============================] - 0s 32ms/step - loss: 0.6627 - accuracy: 0.6667\n",
      "Epoch 14/15\n",
      "1/1 [==============================] - 0s 31ms/step - loss: 0.6580 - accuracy: 0.6667\n",
      "Epoch 15/15\n",
      "1/1 [==============================] - 0s 32ms/step - loss: 0.6541 - accuracy: 0.6667\n"
     ]
    }
   ],
   "source": [
    "# Set the epocks\n",
    "epochs = 15\n",
    "print('\\nFitting:')\n",
    "\n",
    "# Train the model.\n",
    "history = model.fit(train_ds, epochs=epochs)"
   ]
  },
  {
   "cell_type": "code",
   "execution_count": 27,
   "metadata": {},
   "outputs": [
    {
     "name": "stdout",
     "output_type": "stream",
     "text": [
      "Model: \"sequential\"\n",
      "_________________________________________________________________\n",
      " Layer (type)                Output Shape              Param #   \n",
      "=================================================================\n",
      " rescaling (Rescaling)       (None, 256, 256, 3)       0         \n",
      "                                                                 \n",
      " conv2d (Conv2D)             (None, 256, 256, 16)      448       \n",
      "                                                                 \n",
      " max_pooling2d (MaxPooling2  (None, 128, 128, 16)      0         \n",
      " D)                                                              \n",
      "                                                                 \n",
      " conv2d_1 (Conv2D)           (None, 128, 128, 32)      4640      \n",
      "                                                                 \n",
      " max_pooling2d_1 (MaxPoolin  (None, 64, 64, 32)        0         \n",
      " g2D)                                                            \n",
      "                                                                 \n",
      " conv2d_2 (Conv2D)           (None, 64, 64, 64)        18496     \n",
      "                                                                 \n",
      " max_pooling2d_2 (MaxPoolin  (None, 32, 32, 64)        0         \n",
      " g2D)                                                            \n",
      "                                                                 \n",
      " flatten (Flatten)           (None, 65536)             0         \n",
      "                                                                 \n",
      " dense (Dense)               (None, 128)               8388736   \n",
      "                                                                 \n",
      " dense_1 (Dense)             (None, 4)                 516       \n",
      "                                                                 \n",
      "=================================================================\n",
      "Total params: 8412836 (32.09 MB)\n",
      "Trainable params: 8412836 (32.09 MB)\n",
      "Non-trainable params: 0 (0.00 Byte)\n",
      "_________________________________________________________________\n"
     ]
    }
   ],
   "source": [
    "model.summary()"
   ]
  },
  {
   "attachments": {},
   "cell_type": "markdown",
   "metadata": {},
   "source": [
    "### Test"
   ]
  },
  {
   "cell_type": "code",
   "execution_count": 29,
   "metadata": {},
   "outputs": [
    {
     "name": "stdout",
     "output_type": "stream",
     "text": [
      "1/1 [==============================] - 0s 51ms/step\n",
      "Number correct: 2 out of 3\n",
      "Accuracy 0.6666666666666666\n"
     ]
    },
    {
     "name": "stderr",
     "output_type": "stream",
     "text": [
      "2023-08-23 18:34:45.293035: I tensorflow/core/grappler/optimizers/custom_graph_optimizer_registry.cc:114] Plugin optimizer for device_type GPU is enabled.\n"
     ]
    }
   ],
   "source": [
    "correct = 0\n",
    "batch_size = 0\n",
    "for batch_num, (X, Y) in enumerate(train_ds):\n",
    "    batch_size = len(Y)\n",
    "    pred = model.predict(X)\n",
    "    for i in range(batch_size):\n",
    "        predicted = np.argmax(pred[i], axis=-1)\n",
    "        actual = Y[i]\n",
    "        #print(f'predicted {predicted}, actual {actual}')\n",
    "        if predicted == actual:\n",
    "            correct += 1\n",
    "    break\n",
    "\n",
    "print(f'Number correct: {correct} out of {batch_size}')\n",
    "print(f'Accuracy {correct / batch_size}')"
   ]
  }
 ],
 "metadata": {
  "kernelspec": {
   "display_name": "Tesis_IA",
   "language": "python",
   "name": "python3"
  },
  "language_info": {
   "codemirror_mode": {
    "name": "ipython",
    "version": 3
   },
   "file_extension": ".py",
   "mimetype": "text/x-python",
   "name": "python",
   "nbconvert_exporter": "python",
   "pygments_lexer": "ipython3",
   "version": "3.8.16"
  },
  "orig_nbformat": 4
 },
 "nbformat": 4,
 "nbformat_minor": 2
}
