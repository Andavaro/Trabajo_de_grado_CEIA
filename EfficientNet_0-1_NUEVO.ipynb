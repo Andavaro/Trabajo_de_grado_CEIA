{
 "cells": [
  {
   "cell_type": "code",
   "execution_count": 1,
   "metadata": {},
   "outputs": [],
   "source": [
    "import numpy as np\n",
    "import tensorflow as tf\n",
    "from tensorflow.keras import layers, models, regularizers\n",
    "from tensorflow.keras.applications.efficientnet import EfficientNetB0 as EfficientNet\n",
    "from tensorflow.keras.preprocessing.image import ImageDataGenerator\n",
    "from sklearn.utils.class_weight import compute_class_weight\n",
    "from sklearn.model_selection import train_test_split\n",
    "from sklearn.metrics import classification_report, confusion_matrix\n",
    "import matplotlib.pyplot as plt"
   ]
  },
  {
   "cell_type": "code",
   "execution_count": 2,
   "metadata": {},
   "outputs": [],
   "source": [
    "img_height = 224\n",
    "img_width = 224\n",
    "batch_size = 256"
   ]
  },
  {
   "cell_type": "code",
   "execution_count": 3,
   "metadata": {},
   "outputs": [],
   "source": [
    "train_directory = \"/Volumes/SSD_ANDRÉS/Espectrogramas/off/Copia de ns=32_sol=0.9_lowpass_f=0-1\""
   ]
  },
  {
   "cell_type": "code",
   "execution_count": 4,
   "metadata": {},
   "outputs": [
    {
     "name": "stdout",
     "output_type": "stream",
     "text": [
      "Found 5530 files belonging to 3 classes.\n",
      "Using 4977 files for training.\n",
      "Using 553 files for validation.\n"
     ]
    },
    {
     "name": "stderr",
     "output_type": "stream",
     "text": [
      "2024-06-16 13:21:49.546417: I metal_plugin/src/device/metal_device.cc:1154] Metal device set to: Apple M1\n",
      "2024-06-16 13:21:49.546447: I metal_plugin/src/device/metal_device.cc:296] systemMemory: 16.00 GB\n",
      "2024-06-16 13:21:49.546450: I metal_plugin/src/device/metal_device.cc:313] maxCacheSize: 5.33 GB\n",
      "2024-06-16 13:21:49.546760: I tensorflow/core/common_runtime/pluggable_device/pluggable_device_factory.cc:303] Could not identify NUMA node of platform GPU ID 0, defaulting to 0. Your kernel may not have been built with NUMA support.\n",
      "2024-06-16 13:21:49.546805: I tensorflow/core/common_runtime/pluggable_device/pluggable_device_factory.cc:269] Created TensorFlow device (/job:localhost/replica:0/task:0/device:GPU:0 with 0 MB memory) -> physical PluggableDevice (device: 0, name: METAL, pci bus id: <undefined>)\n"
     ]
    }
   ],
   "source": [
    "# Dividir el set en entrenamiento y validación\n",
    "train_ds, validation_dataset = tf.keras.preprocessing.image_dataset_from_directory(\n",
    "    train_directory, labels='inferred', label_mode='int', batch_size=batch_size, image_size=(img_height, img_width), seed=123, \n",
    "    validation_split=0.1, subset='both')"
   ]
  },
  {
   "cell_type": "code",
   "execution_count": 5,
   "metadata": {},
   "outputs": [
    {
     "name": "stdout",
     "output_type": "stream",
     "text": [
      "Tamaño del dataset: 20\n",
      "Tamaño de train: 17\n",
      "Tamaño de test: 3\n"
     ]
    }
   ],
   "source": [
    "# Obtener el tamaño del dataset\n",
    "class_names = train_ds.class_names\n",
    "dataset_size = len(train_ds)\n",
    "print(\"Tamaño del dataset:\", dataset_size)\n",
    "\n",
    "# Calcular el tamaño de los subconjuntos\n",
    "test_size = int(0.15 * dataset_size)\n",
    "train_size = dataset_size - test_size\n",
    "\n",
    "# Dividir el dataset en entrenamiento y prueba\n",
    "test_ds = train_ds.take(test_size)\n",
    "train_ds = train_ds.skip(test_size)\n",
    "\n",
    "print(\"Tamaño de train:\", len(train_ds))\n",
    "print(\"Tamaño de test:\", len(test_ds))"
   ]
  },
  {
   "cell_type": "code",
   "execution_count": 6,
   "metadata": {},
   "outputs": [
    {
     "data": {
      "text/plain": [
       "'test_directory = \"/Users/andavaro/Desktop/Andrès/UBA/TrabajoDeGradoCEIA/dataset/Espectrogramas/multibalance_para_test/ns=32_sol=0.9_off_f=0-40\"\\ntest_ds= tf.keras.preprocessing.image_dataset_from_directory(\\n    test_directory, labels=\\'inferred\\', label_mode=\\'int\\', batch_size=batch_size, image_size=(img_height, img_width), seed=123)'"
      ]
     },
     "execution_count": 6,
     "metadata": {},
     "output_type": "execute_result"
    }
   ],
   "source": [
    "'''test_directory = \"/Users/andavaro/Desktop/Andrès/UBA/TrabajoDeGradoCEIA/dataset/Espectrogramas/multibalance_para_test/ns=32_sol=0.9_off_f=0-40\"\n",
    "test_ds= tf.keras.preprocessing.image_dataset_from_directory(\n",
    "    test_directory, labels='inferred', label_mode='int', batch_size=batch_size, image_size=(img_height, img_width), seed=123)'''"
   ]
  },
  {
   "cell_type": "code",
   "execution_count": 7,
   "metadata": {},
   "outputs": [
    {
     "name": "stdout",
     "output_type": "stream",
     "text": [
      "['LP', 'VLP', 'VT']\n",
      "test size:3\n",
      "train size:17\n",
      "step by epoch:17\n"
     ]
    }
   ],
   "source": [
    "# Esta parte se usa para generar datos para pruebas. Si se tienen datos específicos para las pruebas, se deben llamar con el nombre de test_ds\n",
    "\n",
    "print(class_names)\n",
    "\n",
    "num_elements = len(train_ds)\n",
    "\n",
    "porcentaje_test = 0.1\n",
    "train_size = int((1-porcentaje_test) * num_elements)\n",
    "\n",
    "\n",
    "'''test_size = num_elements - train_size\n",
    "test_ds = train_ds.take(test_size)\n",
    "train_ds = train_ds.skip(test_size)'''\n",
    "\n",
    "step_by_epoch = len(train_ds)\n",
    "\n",
    "print(f'test size:{len(test_ds)}')\n",
    "print(f'train size:{len(train_ds)}')\n",
    "print(f'step by epoch:{step_by_epoch}')"
   ]
  },
  {
   "cell_type": "code",
   "execution_count": 8,
   "metadata": {},
   "outputs": [
    {
     "data": {
      "text/plain": [
       "\"y_train = train_ds.map(lambda _, label: label).unbatch()\\ny_train = list(y_train.as_numpy_iterator())\\nclass_weights = compute_class_weight('balanced', classes=np.unique(y_train), y=y_train)\\nclass_weight_dict = dict(enumerate(class_weights))\\nprint(class_weight_dict)\""
      ]
     },
     "execution_count": 8,
     "metadata": {},
     "output_type": "execute_result"
    }
   ],
   "source": [
    "'''y_train = train_ds.map(lambda _, label: label).unbatch()\n",
    "y_train = list(y_train.as_numpy_iterator())\n",
    "class_weights = compute_class_weight('balanced', classes=np.unique(y_train), y=y_train)\n",
    "class_weight_dict = dict(enumerate(class_weights))\n",
    "print(class_weight_dict)'''"
   ]
  },
  {
   "attachments": {},
   "cell_type": "markdown",
   "metadata": {},
   "source": [
    "# Modelo ResNet 50"
   ]
  },
  {
   "cell_type": "code",
   "execution_count": 9,
   "metadata": {},
   "outputs": [],
   "source": [
    "num_classes = len(class_names)"
   ]
  },
  {
   "cell_type": "code",
   "execution_count": 10,
   "metadata": {},
   "outputs": [],
   "source": [
    "# Cargar la arquitectura preentrenada VGG16 sin las capas superiores (sin incluir la capa de salida)\n",
    "base_model = EfficientNet(weights='imagenet', include_top=False, input_shape=(img_height, img_width, 3)) #input_shape=(altura, anchura, canales))\n",
    "base_model = tf.keras.Model(inputs=base_model.input, outputs=base_model.layers[-2].output)"
   ]
  },
  {
   "cell_type": "code",
   "execution_count": 11,
   "metadata": {},
   "outputs": [],
   "source": [
    "# Congelar las capas de la base (no se entrenarán durante el ajuste fino)\n",
    "for layer in base_model.layers:\n",
    "    layer.trainable = False"
   ]
  },
  {
   "cell_type": "code",
   "execution_count": 12,
   "metadata": {},
   "outputs": [],
   "source": [
    "# Agregar capas personalizadas a la arquitectura base\n",
    "model = models.Sequential([\n",
    "    base_model,\n",
    "    layers.Flatten(),\n",
    "    layers.Dense(256, activation='relu', kernel_regularizer=regularizers.L2(0.000001), activity_regularizer=regularizers.L2(0.000001)),\n",
    "    #layers.Dropout(0.5),\n",
    "    layers.Dense(len(class_names), activation='softmax')\n",
    "])"
   ]
  },
  {
   "cell_type": "code",
   "execution_count": 13,
   "metadata": {},
   "outputs": [],
   "source": [
    "# Definir la programación de la tasa de aprendizaje exponencial\n",
    "lr_schedule = tf.keras.optimizers.schedules.ExponentialDecay(\n",
    "    initial_learning_rate=0.00001,\n",
    "    decay_steps=step_by_epoch*20,\n",
    "    decay_rate=0.96\n",
    ")"
   ]
  },
  {
   "cell_type": "code",
   "execution_count": 14,
   "metadata": {},
   "outputs": [
    {
     "name": "stderr",
     "output_type": "stream",
     "text": [
      "WARNING:absl:At this time, the v2.11+ optimizer `tf.keras.optimizers.SGD` runs slowly on M1/M2 Macs, please use the legacy Keras optimizer instead, located at `tf.keras.optimizers.legacy.SGD`.\n"
     ]
    }
   ],
   "source": [
    "# Crear un optimizador con la programación de la tasa de aprendizaje exponencial y momentum\n",
    "custom_optimizer = tf.keras.optimizers.SGD(learning_rate=lr_schedule, momentum=0.9)"
   ]
  },
  {
   "cell_type": "code",
   "execution_count": 15,
   "metadata": {},
   "outputs": [
    {
     "name": "stderr",
     "output_type": "stream",
     "text": [
      "WARNING:absl:There is a known slowdown when using v2.11+ Keras optimizers on M1/M2 Macs. Falling back to the legacy Keras optimizer, i.e., `tf.keras.optimizers.legacy.SGD`.\n"
     ]
    }
   ],
   "source": [
    "# Compilar el modelo\n",
    "model.compile(optimizer=custom_optimizer,\n",
    "              loss='sparse_categorical_crossentropy',\n",
    "              metrics=['accuracy'])"
   ]
  },
  {
   "cell_type": "code",
   "execution_count": 16,
   "metadata": {},
   "outputs": [
    {
     "name": "stdout",
     "output_type": "stream",
     "text": [
      "Epoch 1/100\n"
     ]
    },
    {
     "name": "stderr",
     "output_type": "stream",
     "text": [
      "2024-06-16 13:21:53.198321: I tensorflow/core/grappler/optimizers/custom_graph_optimizer_registry.cc:114] Plugin optimizer for device_type GPU is enabled.\n"
     ]
    },
    {
     "name": "stdout",
     "output_type": "stream",
     "text": [
      "17/17 [==============================] - ETA: 0s - loss: 1.9930 - accuracy: 0.5270"
     ]
    },
    {
     "name": "stderr",
     "output_type": "stream",
     "text": [
      "2024-06-16 13:22:29.828516: I tensorflow/core/grappler/optimizers/custom_graph_optimizer_registry.cc:114] Plugin optimizer for device_type GPU is enabled.\n"
     ]
    },
    {
     "name": "stdout",
     "output_type": "stream",
     "text": [
      "17/17 [==============================] - 43s 2s/step - loss: 1.9930 - accuracy: 0.5270 - val_loss: 0.8443 - val_accuracy: 0.7197\n",
      "Epoch 2/100\n",
      "17/17 [==============================] - 40s 2s/step - loss: 0.5933 - accuracy: 0.8009 - val_loss: 0.3193 - val_accuracy: 0.8915\n",
      "Epoch 3/100\n",
      "17/17 [==============================] - 40s 2s/step - loss: 0.2968 - accuracy: 0.8945 - val_loss: 0.2550 - val_accuracy: 0.9168\n",
      "Epoch 4/100\n",
      "17/17 [==============================] - 39s 2s/step - loss: 0.2459 - accuracy: 0.9138 - val_loss: 0.1978 - val_accuracy: 0.9367\n",
      "Epoch 5/100\n",
      "17/17 [==============================] - 39s 2s/step - loss: 0.1990 - accuracy: 0.9330 - val_loss: 0.1821 - val_accuracy: 0.9439\n",
      "Epoch 6/100\n",
      "17/17 [==============================] - 39s 2s/step - loss: 0.1998 - accuracy: 0.9375 - val_loss: 0.1743 - val_accuracy: 0.9458\n",
      "Epoch 7/100\n",
      "17/17 [==============================] - 39s 2s/step - loss: 0.1869 - accuracy: 0.9389 - val_loss: 0.1661 - val_accuracy: 0.9512\n",
      "Epoch 8/100\n",
      "17/17 [==============================] - 39s 2s/step - loss: 0.1797 - accuracy: 0.9451 - val_loss: 0.1635 - val_accuracy: 0.9494\n",
      "Epoch 9/100\n",
      "17/17 [==============================] - 39s 2s/step - loss: 0.1659 - accuracy: 0.9496 - val_loss: 0.1550 - val_accuracy: 0.9530\n",
      "Epoch 10/100\n",
      "17/17 [==============================] - 40s 2s/step - loss: 0.1645 - accuracy: 0.9465 - val_loss: 0.1531 - val_accuracy: 0.9530\n",
      "Epoch 11/100\n",
      "17/17 [==============================] - 39s 2s/step - loss: 0.1572 - accuracy: 0.9511 - val_loss: 0.1504 - val_accuracy: 0.9530\n",
      "Epoch 12/100\n",
      "17/17 [==============================] - 39s 2s/step - loss: 0.1504 - accuracy: 0.9549 - val_loss: 0.1447 - val_accuracy: 0.9566\n",
      "Epoch 13/100\n",
      "17/17 [==============================] - 39s 2s/step - loss: 0.1525 - accuracy: 0.9527 - val_loss: 0.1430 - val_accuracy: 0.9530\n",
      "Epoch 14/100\n",
      "17/17 [==============================] - 40s 2s/step - loss: 0.1410 - accuracy: 0.9575 - val_loss: 0.1418 - val_accuracy: 0.9548\n",
      "Epoch 15/100\n",
      "17/17 [==============================] - 40s 2s/step - loss: 0.1469 - accuracy: 0.9518 - val_loss: 0.1423 - val_accuracy: 0.9512\n",
      "Epoch 16/100\n",
      "17/17 [==============================] - 41s 2s/step - loss: 0.1425 - accuracy: 0.9544 - val_loss: 0.1322 - val_accuracy: 0.9566\n",
      "Epoch 17/100\n",
      "17/17 [==============================] - 40s 2s/step - loss: 0.1338 - accuracy: 0.9615 - val_loss: 0.1304 - val_accuracy: 0.9602\n",
      "Epoch 18/100\n",
      "17/17 [==============================] - 40s 2s/step - loss: 0.1398 - accuracy: 0.9556 - val_loss: 0.1298 - val_accuracy: 0.9620\n",
      "Epoch 19/100\n",
      "17/17 [==============================] - 40s 2s/step - loss: 0.1281 - accuracy: 0.9667 - val_loss: 0.1268 - val_accuracy: 0.9566\n",
      "Epoch 20/100\n",
      "17/17 [==============================] - 40s 2s/step - loss: 0.1318 - accuracy: 0.9632 - val_loss: 0.1296 - val_accuracy: 0.9602\n",
      "Epoch 21/100\n",
      "17/17 [==============================] - 39s 2s/step - loss: 0.1238 - accuracy: 0.9660 - val_loss: 0.1235 - val_accuracy: 0.9620\n",
      "Epoch 22/100\n",
      "17/17 [==============================] - 39s 2s/step - loss: 0.1273 - accuracy: 0.9641 - val_loss: 0.1222 - val_accuracy: 0.9620\n",
      "Epoch 23/100\n",
      "17/17 [==============================] - 39s 2s/step - loss: 0.1262 - accuracy: 0.9629 - val_loss: 0.1215 - val_accuracy: 0.9584\n",
      "Epoch 24/100\n",
      "17/17 [==============================] - 39s 2s/step - loss: 0.1272 - accuracy: 0.9634 - val_loss: 0.1226 - val_accuracy: 0.9675\n",
      "Epoch 25/100\n",
      "17/17 [==============================] - 39s 2s/step - loss: 0.1233 - accuracy: 0.9656 - val_loss: 0.1186 - val_accuracy: 0.9638\n",
      "Epoch 26/100\n",
      "17/17 [==============================] - 39s 2s/step - loss: 0.1197 - accuracy: 0.9670 - val_loss: 0.1180 - val_accuracy: 0.9620\n",
      "Epoch 27/100\n",
      "17/17 [==============================] - 39s 2s/step - loss: 0.1170 - accuracy: 0.9665 - val_loss: 0.1165 - val_accuracy: 0.9638\n",
      "Epoch 28/100\n",
      "17/17 [==============================] - 38s 2s/step - loss: 0.1221 - accuracy: 0.9641 - val_loss: 0.1169 - val_accuracy: 0.9602\n",
      "Epoch 29/100\n",
      "17/17 [==============================] - 39s 2s/step - loss: 0.1139 - accuracy: 0.9667 - val_loss: 0.1148 - val_accuracy: 0.9675\n",
      "Epoch 30/100\n",
      "17/17 [==============================] - 38s 2s/step - loss: 0.1128 - accuracy: 0.9682 - val_loss: 0.1129 - val_accuracy: 0.9620\n",
      "Epoch 31/100\n",
      "17/17 [==============================] - 38s 2s/step - loss: 0.1118 - accuracy: 0.9677 - val_loss: 0.1133 - val_accuracy: 0.9711\n",
      "Epoch 32/100\n",
      "17/17 [==============================] - 40s 2s/step - loss: 0.1100 - accuracy: 0.9717 - val_loss: 0.1106 - val_accuracy: 0.9711\n",
      "Epoch 33/100\n",
      "17/17 [==============================] - 39s 2s/step - loss: 0.1089 - accuracy: 0.9696 - val_loss: 0.1125 - val_accuracy: 0.9675\n",
      "Epoch 34/100\n",
      "17/17 [==============================] - 40s 2s/step - loss: 0.1105 - accuracy: 0.9724 - val_loss: 0.1115 - val_accuracy: 0.9584\n",
      "Epoch 35/100\n",
      "17/17 [==============================] - 40s 2s/step - loss: 0.1082 - accuracy: 0.9710 - val_loss: 0.1088 - val_accuracy: 0.9711\n",
      "Epoch 36/100\n",
      "17/17 [==============================] - 40s 2s/step - loss: 0.1055 - accuracy: 0.9724 - val_loss: 0.1087 - val_accuracy: 0.9711\n",
      "Epoch 37/100\n",
      "17/17 [==============================] - 40s 2s/step - loss: 0.1053 - accuracy: 0.9743 - val_loss: 0.1087 - val_accuracy: 0.9656\n",
      "Epoch 38/100\n",
      "17/17 [==============================] - 40s 2s/step - loss: 0.1079 - accuracy: 0.9708 - val_loss: 0.1065 - val_accuracy: 0.9711\n",
      "Epoch 39/100\n",
      "17/17 [==============================] - 39s 2s/step - loss: 0.1064 - accuracy: 0.9724 - val_loss: 0.1052 - val_accuracy: 0.9711\n",
      "Epoch 40/100\n",
      "17/17 [==============================] - 39s 2s/step - loss: 0.1005 - accuracy: 0.9748 - val_loss: 0.1081 - val_accuracy: 0.9675\n",
      "Epoch 41/100\n",
      "17/17 [==============================] - 39s 2s/step - loss: 0.1024 - accuracy: 0.9727 - val_loss: 0.1054 - val_accuracy: 0.9693\n",
      "Epoch 42/100\n",
      "17/17 [==============================] - 40s 2s/step - loss: 0.1068 - accuracy: 0.9694 - val_loss: 0.1096 - val_accuracy: 0.9584\n",
      "Epoch 43/100\n",
      "17/17 [==============================] - 39s 2s/step - loss: 0.1059 - accuracy: 0.9729 - val_loss: 0.1080 - val_accuracy: 0.9711\n",
      "Epoch 44/100\n",
      "17/17 [==============================] - 39s 2s/step - loss: 0.1024 - accuracy: 0.9715 - val_loss: 0.1050 - val_accuracy: 0.9693\n",
      "Epoch 45/100\n",
      "17/17 [==============================] - 39s 2s/step - loss: 0.1003 - accuracy: 0.9739 - val_loss: 0.1037 - val_accuracy: 0.9675\n",
      "Epoch 46/100\n",
      "17/17 [==============================] - 39s 2s/step - loss: 0.0983 - accuracy: 0.9727 - val_loss: 0.1016 - val_accuracy: 0.9729\n",
      "Epoch 47/100\n",
      "17/17 [==============================] - 39s 2s/step - loss: 0.1005 - accuracy: 0.9741 - val_loss: 0.1018 - val_accuracy: 0.9711\n",
      "Epoch 48/100\n",
      "17/17 [==============================] - 39s 2s/step - loss: 0.0932 - accuracy: 0.9770 - val_loss: 0.1004 - val_accuracy: 0.9729\n",
      "Epoch 49/100\n",
      "17/17 [==============================] - 40s 2s/step - loss: 0.1008 - accuracy: 0.9736 - val_loss: 0.1001 - val_accuracy: 0.9729\n",
      "Epoch 50/100\n",
      "17/17 [==============================] - 40s 2s/step - loss: 0.1002 - accuracy: 0.9729 - val_loss: 0.1001 - val_accuracy: 0.9675\n",
      "Epoch 51/100\n",
      "17/17 [==============================] - 39s 2s/step - loss: 0.0952 - accuracy: 0.9774 - val_loss: 0.1002 - val_accuracy: 0.9711\n",
      "Epoch 52/100\n",
      "17/17 [==============================] - 39s 2s/step - loss: 0.0871 - accuracy: 0.9815 - val_loss: 0.0994 - val_accuracy: 0.9711\n",
      "Epoch 53/100\n",
      "17/17 [==============================] - 40s 2s/step - loss: 0.0960 - accuracy: 0.9748 - val_loss: 0.0992 - val_accuracy: 0.9675\n",
      "Epoch 54/100\n",
      "17/17 [==============================] - 40s 2s/step - loss: 0.0964 - accuracy: 0.9784 - val_loss: 0.1011 - val_accuracy: 0.9675\n",
      "Epoch 55/100\n",
      "17/17 [==============================] - 40s 2s/step - loss: 0.0954 - accuracy: 0.9751 - val_loss: 0.0983 - val_accuracy: 0.9711\n",
      "Epoch 56/100\n",
      "17/17 [==============================] - 40s 2s/step - loss: 0.0953 - accuracy: 0.9755 - val_loss: 0.0999 - val_accuracy: 0.9729\n",
      "Epoch 57/100\n",
      "17/17 [==============================] - 39s 2s/step - loss: 0.0956 - accuracy: 0.9772 - val_loss: 0.0966 - val_accuracy: 0.9711\n",
      "Epoch 58/100\n",
      "17/17 [==============================] - 39s 2s/step - loss: 0.0917 - accuracy: 0.9779 - val_loss: 0.1015 - val_accuracy: 0.9675\n",
      "Epoch 59/100\n",
      "17/17 [==============================] - 39s 2s/step - loss: 0.0950 - accuracy: 0.9760 - val_loss: 0.0957 - val_accuracy: 0.9729\n",
      "Epoch 60/100\n",
      "17/17 [==============================] - 40s 2s/step - loss: 0.0934 - accuracy: 0.9772 - val_loss: 0.0957 - val_accuracy: 0.9747\n",
      "Epoch 61/100\n",
      "17/17 [==============================] - 40s 2s/step - loss: 0.0916 - accuracy: 0.9770 - val_loss: 0.0955 - val_accuracy: 0.9747\n",
      "Epoch 62/100\n",
      "17/17 [==============================] - 39s 2s/step - loss: 0.0960 - accuracy: 0.9774 - val_loss: 0.0953 - val_accuracy: 0.9711\n",
      "Epoch 63/100\n",
      "17/17 [==============================] - 39s 2s/step - loss: 0.0962 - accuracy: 0.9751 - val_loss: 0.0965 - val_accuracy: 0.9693\n",
      "Epoch 64/100\n",
      "17/17 [==============================] - 39s 2s/step - loss: 0.0842 - accuracy: 0.9810 - val_loss: 0.0956 - val_accuracy: 0.9747\n",
      "Epoch 65/100\n",
      "17/17 [==============================] - 39s 2s/step - loss: 0.0872 - accuracy: 0.9784 - val_loss: 0.0949 - val_accuracy: 0.9693\n",
      "Epoch 66/100\n",
      "17/17 [==============================] - 39s 2s/step - loss: 0.0907 - accuracy: 0.9784 - val_loss: 0.0946 - val_accuracy: 0.9729\n",
      "Epoch 67/100\n",
      "17/17 [==============================] - 39s 2s/step - loss: 0.0844 - accuracy: 0.9793 - val_loss: 0.0953 - val_accuracy: 0.9711\n",
      "Epoch 68/100\n",
      "17/17 [==============================] - 39s 2s/step - loss: 0.0828 - accuracy: 0.9834 - val_loss: 0.0933 - val_accuracy: 0.9693\n",
      "Epoch 69/100\n",
      "17/17 [==============================] - 39s 2s/step - loss: 0.0886 - accuracy: 0.9793 - val_loss: 0.0947 - val_accuracy: 0.9693\n",
      "Epoch 70/100\n",
      "17/17 [==============================] - 38s 2s/step - loss: 0.0870 - accuracy: 0.9774 - val_loss: 0.0947 - val_accuracy: 0.9729\n",
      "Epoch 71/100\n",
      "17/17 [==============================] - 39s 2s/step - loss: 0.0853 - accuracy: 0.9779 - val_loss: 0.0924 - val_accuracy: 0.9693\n",
      "Epoch 72/100\n",
      "17/17 [==============================] - 40s 2s/step - loss: 0.0856 - accuracy: 0.9786 - val_loss: 0.0932 - val_accuracy: 0.9729\n",
      "Epoch 73/100\n",
      "17/17 [==============================] - 40s 2s/step - loss: 0.0869 - accuracy: 0.9767 - val_loss: 0.0939 - val_accuracy: 0.9693\n",
      "Epoch 74/100\n",
      "17/17 [==============================] - 39s 2s/step - loss: 0.0867 - accuracy: 0.9803 - val_loss: 0.0919 - val_accuracy: 0.9675\n",
      "Epoch 75/100\n",
      "17/17 [==============================] - 40s 2s/step - loss: 0.0862 - accuracy: 0.9793 - val_loss: 0.0912 - val_accuracy: 0.9711\n",
      "Epoch 76/100\n",
      "17/17 [==============================] - 40s 2s/step - loss: 0.0857 - accuracy: 0.9779 - val_loss: 0.0912 - val_accuracy: 0.9711\n",
      "Epoch 77/100\n",
      "17/17 [==============================] - 40s 2s/step - loss: 0.0862 - accuracy: 0.9779 - val_loss: 0.0917 - val_accuracy: 0.9747\n",
      "Epoch 78/100\n",
      "17/17 [==============================] - 40s 2s/step - loss: 0.0861 - accuracy: 0.9808 - val_loss: 0.0910 - val_accuracy: 0.9693\n",
      "Epoch 79/100\n",
      "17/17 [==============================] - 39s 2s/step - loss: 0.0816 - accuracy: 0.9810 - val_loss: 0.0906 - val_accuracy: 0.9729\n",
      "Epoch 80/100\n",
      "17/17 [==============================] - 39s 2s/step - loss: 0.0831 - accuracy: 0.9815 - val_loss: 0.0900 - val_accuracy: 0.9675\n",
      "Epoch 81/100\n",
      "17/17 [==============================] - 39s 2s/step - loss: 0.0813 - accuracy: 0.9817 - val_loss: 0.0905 - val_accuracy: 0.9729\n",
      "Epoch 82/100\n",
      "17/17 [==============================] - 39s 2s/step - loss: 0.0834 - accuracy: 0.9819 - val_loss: 0.0904 - val_accuracy: 0.9729\n",
      "Epoch 83/100\n",
      "17/17 [==============================] - 39s 2s/step - loss: 0.0858 - accuracy: 0.9774 - val_loss: 0.0959 - val_accuracy: 0.9747\n",
      "Epoch 84/100\n",
      "17/17 [==============================] - 39s 2s/step - loss: 0.0848 - accuracy: 0.9817 - val_loss: 0.0980 - val_accuracy: 0.9765\n",
      "Epoch 85/100\n",
      "17/17 [==============================] - 39s 2s/step - loss: 0.0864 - accuracy: 0.9772 - val_loss: 0.0961 - val_accuracy: 0.9747\n",
      "Epoch 86/100\n",
      "17/17 [==============================] - 39s 2s/step - loss: 0.0831 - accuracy: 0.9791 - val_loss: 0.0932 - val_accuracy: 0.9729\n",
      "Epoch 87/100\n",
      "17/17 [==============================] - 39s 2s/step - loss: 0.0908 - accuracy: 0.9781 - val_loss: 0.0899 - val_accuracy: 0.9747\n",
      "Epoch 88/100\n",
      "17/17 [==============================] - 39s 2s/step - loss: 0.0795 - accuracy: 0.9805 - val_loss: 0.0891 - val_accuracy: 0.9765\n",
      "Epoch 89/100\n",
      "17/17 [==============================] - 39s 2s/step - loss: 0.0801 - accuracy: 0.9817 - val_loss: 0.0934 - val_accuracy: 0.9729\n",
      "Epoch 90/100\n",
      "17/17 [==============================] - 39s 2s/step - loss: 0.0839 - accuracy: 0.9784 - val_loss: 0.0926 - val_accuracy: 0.9747\n",
      "Epoch 91/100\n",
      "17/17 [==============================] - 38s 2s/step - loss: 0.0839 - accuracy: 0.9774 - val_loss: 0.0891 - val_accuracy: 0.9747\n",
      "Epoch 92/100\n",
      "17/17 [==============================] - 38s 2s/step - loss: 0.0812 - accuracy: 0.9793 - val_loss: 0.0879 - val_accuracy: 0.9729\n",
      "Epoch 93/100\n",
      "17/17 [==============================] - 40s 2s/step - loss: 0.0815 - accuracy: 0.9812 - val_loss: 0.0879 - val_accuracy: 0.9711\n",
      "Epoch 94/100\n",
      "17/17 [==============================] - 40s 2s/step - loss: 0.0822 - accuracy: 0.9786 - val_loss: 0.0876 - val_accuracy: 0.9729\n",
      "Epoch 95/100\n",
      "17/17 [==============================] - 39s 2s/step - loss: 0.0798 - accuracy: 0.9810 - val_loss: 0.0868 - val_accuracy: 0.9729\n",
      "Epoch 96/100\n",
      "17/17 [==============================] - 39s 2s/step - loss: 0.0747 - accuracy: 0.9834 - val_loss: 0.0932 - val_accuracy: 0.9729\n",
      "Epoch 97/100\n",
      "17/17 [==============================] - 40s 2s/step - loss: 0.0796 - accuracy: 0.9805 - val_loss: 0.0871 - val_accuracy: 0.9729\n",
      "Epoch 98/100\n",
      "17/17 [==============================] - 40s 2s/step - loss: 0.0804 - accuracy: 0.9803 - val_loss: 0.0871 - val_accuracy: 0.9729\n",
      "Epoch 99/100\n",
      "17/17 [==============================] - 41s 2s/step - loss: 0.0810 - accuracy: 0.9808 - val_loss: 0.0891 - val_accuracy: 0.9729\n",
      "Epoch 100/100\n",
      "17/17 [==============================] - 39s 2s/step - loss: 0.0778 - accuracy: 0.9789 - val_loss: 0.0867 - val_accuracy: 0.9711\n"
     ]
    }
   ],
   "source": [
    "# Entrenar el modelo\n",
    "epochs = 100\n",
    "\n",
    "'''checkpoint_filepath = '/Volumes/SSD_ANDRÉS/PRUEBAS_nuevos_vlp/Checkpoint/resnet_sinfiltro_checkpoint.model.keras'\n",
    "model_checkpoint_callback = tf.keras.callbacks.ModelCheckpoint(\n",
    "    filepath=checkpoint_filepath,\n",
    "    monitor='val_accuracy',\n",
    "    mode='max',\n",
    "    save_best_only=True,\n",
    "    verbose=1)'''\n",
    "\n",
    "history = model.fit(train_ds, epochs=epochs, validation_data=validation_dataset)#, callbacks=[model_checkpoint_callback])#, class_weight=class_weight_dict)"
   ]
  },
  {
   "cell_type": "code",
   "execution_count": 17,
   "metadata": {},
   "outputs": [
    {
     "name": "stdout",
     "output_type": "stream",
     "text": [
      "3/3 [==============================] - 7s 2s/step - loss: 0.0575 - accuracy: 0.9844\n",
      "Precisión en el conjunto de prueba: 0.984375\n"
     ]
    }
   ],
   "source": [
    "# Evaluar el modelo en el conjunto de prueba\n",
    "test_loss, test_acc = model.evaluate(test_ds)\n",
    "print(f'Precisión en el conjunto de prueba: {test_acc}')"
   ]
  },
  {
   "cell_type": "code",
   "execution_count": 18,
   "metadata": {},
   "outputs": [
    {
     "data": {
      "image/png": "[encoded data removed]",
      "text/plain": [
       "<Figure size 1200x400 with 2 Axes>"
      ]
     },
     "metadata": {},
     "output_type": "display_data"
    }
   ],
   "source": [
    "# Trazar la curva de aprendizaje\n",
    "plt.figure(figsize=(12, 4))\n",
    "plt.subplot(1, 2, 1)\n",
    "plt.plot(history.history['accuracy'], label='Precisión de Entrenamiento')\n",
    "plt.plot(history.history['val_accuracy'], label='Precisión de Validación')\n",
    "plt.legend(loc='lower right')\n",
    "plt.title('Curva de Aprendizaje de la Precisión')\n",
    "\n",
    "plt.subplot(1, 2, 2)\n",
    "plt.plot(history.history['loss'], label='Pérdida de Entrenamiento')\n",
    "plt.plot(history.history['val_loss'], label='Pérdida de Validación')\n",
    "plt.legend(loc='upper right')\n",
    "plt.title('Curva de Aprendizaje de la Pérdida')\n",
    "plt.show()"
   ]
  },
  {
   "cell_type": "code",
   "execution_count": 19,
   "metadata": {},
   "outputs": [],
   "source": [
    "ruta_modelos_entrenados = '/Volumes/SSD_ANDRÉS/PRUEBAS_nuevos_vlp/Modelos entrenadoss'"
   ]
  },
  {
   "cell_type": "code",
   "execution_count": 20,
   "metadata": {},
   "outputs": [
    {
     "name": "stdout",
     "output_type": "stream",
     "text": [
      "INFO:tensorflow:Assets written to: /Volumes/SSD_ANDRÉS/PRUEBAS_nuevos_vlp/Modelos entrenadoss/Efficient_0-1/assets\n"
     ]
    },
    {
     "name": "stderr",
     "output_type": "stream",
     "text": [
      "INFO:tensorflow:Assets written to: /Volumes/SSD_ANDRÉS/PRUEBAS_nuevos_vlp/Modelos entrenadoss/Efficient_0-1/assets\n"
     ]
    }
   ],
   "source": [
    "model.save(ruta_modelos_entrenados+'/Efficient_0-1')"
   ]
  },
  {
   "cell_type": "code",
   "execution_count": 21,
   "metadata": {},
   "outputs": [
    {
     "name": "stderr",
     "output_type": "stream",
     "text": [
      "2024-06-16 14:27:46.575605: I tensorflow/core/grappler/optimizers/custom_graph_optimizer_registry.cc:114] Plugin optimizer for device_type GPU is enabled.\n"
     ]
    },
    {
     "name": "stdout",
     "output_type": "stream",
     "text": [
      "8/8 [==============================] - 3s 205ms/step\n",
      "8/8 [==============================] - 2s 227ms/step\n",
      "8/8 [==============================] - 2s 225ms/step\n"
     ]
    }
   ],
   "source": [
    "ruta_modelos_entrenados = '/Volumes/SSD_ANDRÉS/PRUEBAS_nuevos_vlp/Modelos entrenadoss'\n",
    "new_model = tf.keras.models.load_model(ruta_modelos_entrenados+'/Efficient_0-1')\n",
    "y_pred = []  # store predicted labels\n",
    "y_true = []  # store true labels\n",
    "\n",
    "# iterate over the dataset\n",
    "for image_batch, label_batch in test_ds:   # use dataset.unbatch() with repeat\n",
    "   # append true labels\n",
    "   #print(\"Label: \",label_batch)\n",
    "   y_true.append(label_batch)\n",
    "   # compute predictions\n",
    "   #print(\"Imagen: \",image_batch)\n",
    "   preds = new_model.predict(image_batch)\n",
    "   # append predicted labels\n",
    "   y_pred.append(np.argmax(preds, axis = - 1))\n",
    "   #print(\"-----------------\")\n",
    "\n",
    "# convert the true and predicted labels into tensors\n",
    "correct_labels = tf.concat([item for item in y_true], axis = 0)\n",
    "predicted_labels = tf.concat([item for item in y_pred], axis = 0)"
   ]
  },
  {
   "cell_type": "code",
   "execution_count": 22,
   "metadata": {},
   "outputs": [
    {
     "data": {
      "image/png": "[encoded data removed]",
      "text/plain": [
       "<Figure size 1000x800 with 2 Axes>"
      ]
     },
     "metadata": {},
     "output_type": "display_data"
    }
   ],
   "source": [
    "import seaborn as sns\n",
    "\n",
    "confusion_mtx = tf.math.confusion_matrix(correct_labels, predicted_labels)\n",
    "plt.figure(figsize=(10, 8))\n",
    "sns.heatmap(confusion_mtx,\n",
    "            xticklabels=class_names,\n",
    "            yticklabels=class_names,\n",
    "            annot=True, fmt='g')\n",
    "plt.xlabel('Prediction')\n",
    "plt.ylabel('Label')\n",
    "plt.show()"
   ]
  },
  {
   "cell_type": "code",
   "execution_count": 23,
   "metadata": {},
   "outputs": [
    {
     "name": "stdout",
     "output_type": "stream",
     "text": [
      "%LP: 97.43589743589743\n",
      "%VLP: 98.7878787878788\n",
      "%VT: 99.26470588235294\n"
     ]
    }
   ],
   "source": [
    "cm = confusion_matrix(correct_labels, predicted_labels)\n",
    "print('%LP: '+str(cm[0][0]/sum(cm[0]) * 100))\n",
    "print('%VLP: '+str(cm[1][1]/sum(cm[1]) * 100))\n",
    "print('%VT: '+str(cm[2][2]/sum(cm[2]) * 100))"
   ]
  },
  {
   "cell_type": "code",
   "execution_count": 24,
   "metadata": {},
   "outputs": [
    {
     "name": "stdout",
     "output_type": "stream",
     "text": [
      "              precision    recall  f1-score   support\n",
      "\n",
      "           0     0.9744    0.9744    0.9744       195\n",
      "           1     0.9879    0.9879    0.9879       165\n",
      "           2     0.9926    0.9926    0.9926       408\n",
      "\n",
      "    accuracy                         0.9870       768\n",
      "   macro avg     0.9850    0.9850    0.9850       768\n",
      "weighted avg     0.9870    0.9870    0.9870       768\n",
      "\n"
     ]
    }
   ],
   "source": [
    "from sklearn.metrics import classification_report\n",
    "print(classification_report(correct_labels, predicted_labels, digits=4))"
   ]
  }
 ],
 "metadata": {
  "kernelspec": {
   "display_name": "Tesis_IA",
   "language": "python",
   "name": "python3"
  },
  "language_info": {
   "codemirror_mode": {
    "name": "ipython",
    "version": 3
   },
   "file_extension": ".py",
   "mimetype": "text/x-python",
   "name": "python",
   "nbconvert_exporter": "python",
   "pygments_lexer": "ipython3",
   "version": "3.8.16"
  },
  "orig_nbformat": 4
 },
 "nbformat": 4,
 "nbformat_minor": 2
}
