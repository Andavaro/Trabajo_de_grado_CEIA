{
 "cells": [
  {
   "cell_type": "code",
   "execution_count": 1,
   "metadata": {},
   "outputs": [],
   "source": [
    "import os\n",
    "import numpy as np\n",
    "import tensorflow as tf\n",
    "from tensorflow.keras import layers, models, regularizers\n",
    "from tensorflow.keras.applications.efficientnet import EfficientNetB0 as EfficientNet\n",
    "from sklearn.utils.class_weight import compute_class_weight\n",
    "from sklearn.model_selection import train_test_split\n",
    "from sklearn.metrics import classification_report, confusion_matrix\n",
    "import matplotlib.pyplot as plt"
   ]
  },
  {
   "cell_type": "code",
   "execution_count": 2,
   "metadata": {},
   "outputs": [],
   "source": [
    "img_height = 224\n",
    "img_width = 224\n",
    "batch_size = 256"
   ]
  },
  {
   "cell_type": "code",
   "execution_count": 3,
   "metadata": {},
   "outputs": [],
   "source": [
    "from pathlib import Path\n",
    "import imghdr\n",
    "import shutil\n",
    "from os import remove\n",
    "\n",
    "destination_folder_path = '/Volumes/SSD_ANDRÉS/Espectrogramas/descartados'\n",
    "data_dir = \"/Volumes/SSD_ANDRÉS/Espectrogramas/off/ns=32_sol=0.9_lowpass_f=0-1\"\n",
    "image_extensions = [\".png\", \".jpg\", 'bmp', 'jpeg']  # add there all your images file extensions\n",
    "img_type_accepted_by_tf = [\"bmp\", \"gif\", \"jpeg\", \"png\"]\n",
    "contador = 0\n",
    "for filepath in Path(data_dir).rglob(\"*\"):\n",
    "    if filepath.suffix.lower() in image_extensions:\n",
    "        img_type = imghdr.what(filepath)\n",
    "        destination_file_path = os.path.join(destination_folder_path, f'/im{contador}')\n",
    "        if img_type is None:\n",
    "            print(f\"{filepath} is not an image\")\n",
    "            remove(filepath)\n",
    "            #shutil.move(filepath, destination_file_path)\n",
    "            contador += 1\n",
    "        elif img_type not in img_type_accepted_by_tf:\n",
    "            print(f\"{filepath} is a {img_type}, not accepted by TensorFlow\")\n",
    "            remove(filepath)\n",
    "            #shutil.move(filepath, destination_file_path)\n",
    "            contador += 1"
   ]
  },
  {
   "cell_type": "code",
   "execution_count": 4,
   "metadata": {},
   "outputs": [],
   "source": [
    "train_directory = \"/Volumes/SSD_ANDRÉS/Espectrogramas/off/ns=32_sol=0.9_lowpass_f=0-1\""
   ]
  },
  {
   "cell_type": "code",
   "execution_count": 5,
   "metadata": {},
   "outputs": [
    {
     "name": "stdout",
     "output_type": "stream",
     "text": [
      "Found 6015 files belonging to 3 classes.\n",
      "Using 4812 files for training.\n",
      "Using 1203 files for validation.\n"
     ]
    },
    {
     "name": "stderr",
     "output_type": "stream",
     "text": [
      "2024-03-17 22:22:48.315514: I metal_plugin/src/device/metal_device.cc:1154] Metal device set to: Apple M1\n",
      "2024-03-17 22:22:48.315537: I metal_plugin/src/device/metal_device.cc:296] systemMemory: 16.00 GB\n",
      "2024-03-17 22:22:48.315540: I metal_plugin/src/device/metal_device.cc:313] maxCacheSize: 5.33 GB\n",
      "2024-03-17 22:22:48.315564: I tensorflow/core/common_runtime/pluggable_device/pluggable_device_factory.cc:303] Could not identify NUMA node of platform GPU ID 0, defaulting to 0. Your kernel may not have been built with NUMA support.\n",
      "2024-03-17 22:22:48.315583: I tensorflow/core/common_runtime/pluggable_device/pluggable_device_factory.cc:269] Created TensorFlow device (/job:localhost/replica:0/task:0/device:GPU:0 with 0 MB memory) -> physical PluggableDevice (device: 0, name: METAL, pci bus id: <undefined>)\n"
     ]
    }
   ],
   "source": [
    "# Dividir el set en entrenamiento y validación\n",
    "train_ds, validation_dataset = tf.keras.preprocessing.image_dataset_from_directory(\n",
    "    train_directory, labels='inferred', label_mode='int', batch_size=batch_size, image_size=(img_height, img_width), seed=123, \n",
    "    validation_split=0.2, subset='both')"
   ]
  },
  {
   "cell_type": "code",
   "execution_count": 6,
   "metadata": {},
   "outputs": [
    {
     "name": "stdout",
     "output_type": "stream",
     "text": [
      "Found 8886 files belonging to 3 classes.\n"
     ]
    }
   ],
   "source": [
    "test_directory = \"/Volumes/SSD_ANDRÉS/Espectrogramas/pb1test\"\n",
    "test_ds= tf.keras.preprocessing.image_dataset_from_directory(\n",
    "    test_directory, labels='inferred', label_mode='int', batch_size=batch_size, image_size=(img_height, img_width), seed=123)"
   ]
  },
  {
   "cell_type": "code",
   "execution_count": 7,
   "metadata": {},
   "outputs": [
    {
     "data": {
      "text/plain": [
       "'num_elements = len(train_ds)\\n\\nporcentaje_test = 0.1\\ntrain_size = int((1-porcentaje_test) * num_elements)\\n\\n\\ntest_size = num_elements - train_size\\ntest_ds = train_ds.take(test_size)\\ntrain_ds = train_ds.skip(test_size)'"
      ]
     },
     "execution_count": 7,
     "metadata": {},
     "output_type": "execute_result"
    }
   ],
   "source": [
    "# Esta parte se usa para generar datos para pruebas. Si se tienen datos específicos para las pruebas, se deben llamar con el nombre de test_ds\n",
    "'''num_elements = len(train_ds)\n",
    "\n",
    "porcentaje_test = 0.1\n",
    "train_size = int((1-porcentaje_test) * num_elements)\n",
    "\n",
    "\n",
    "test_size = num_elements - train_size\n",
    "test_ds = train_ds.take(test_size)\n",
    "train_ds = train_ds.skip(test_size)'''"
   ]
  },
  {
   "cell_type": "code",
   "execution_count": 8,
   "metadata": {},
   "outputs": [
    {
     "name": "stdout",
     "output_type": "stream",
     "text": [
      "['LP', 'VLP', 'VT']\n"
     ]
    }
   ],
   "source": [
    "class_names = train_ds.class_names\n",
    "print(class_names)"
   ]
  },
  {
   "cell_type": "code",
   "execution_count": 9,
   "metadata": {},
   "outputs": [
    {
     "data": {
      "text/plain": [
       "\"y_train = train_ds.map(lambda _, label: label).unbatch()\\ny_train = list(y_train.as_numpy_iterator())\\nclass_weights = compute_class_weight('balanced', classes=np.unique(y_train), y=y_train)\\nclass_weight_dict = dict(enumerate(class_weights))\\nprint(class_weight_dict)\""
      ]
     },
     "execution_count": 9,
     "metadata": {},
     "output_type": "execute_result"
    }
   ],
   "source": [
    "'''y_train = train_ds.map(lambda _, label: label).unbatch()\n",
    "y_train = list(y_train.as_numpy_iterator())\n",
    "class_weights = compute_class_weight('balanced', classes=np.unique(y_train), y=y_train)\n",
    "class_weight_dict = dict(enumerate(class_weights))\n",
    "print(class_weight_dict)'''"
   ]
  },
  {
   "attachments": {},
   "cell_type": "markdown",
   "metadata": {},
   "source": [
    "# Modelo DenseNet 121"
   ]
  },
  {
   "cell_type": "code",
   "execution_count": 10,
   "metadata": {},
   "outputs": [],
   "source": [
    "num_classes = len(class_names)"
   ]
  },
  {
   "cell_type": "code",
   "execution_count": 11,
   "metadata": {},
   "outputs": [],
   "source": [
    "# Cargar la arquitectura preentrenada VGG16 sin las capas superiores (sin incluir la capa de salida)\n",
    "base_model = EfficientNet(weights='imagenet', include_top=False, input_shape=(img_height, img_width, 3)) #input_shape=(altura, anchura, canales))\n",
    "base_model = tf.keras.Model(inputs=base_model.input, outputs=base_model.layers[-2].output)"
   ]
  },
  {
   "cell_type": "code",
   "execution_count": 12,
   "metadata": {},
   "outputs": [],
   "source": [
    "# Congelar las capas de la base (no se entrenarán durante el ajuste fino)\n",
    "for layer in base_model.layers:\n",
    "    layer.trainable = False"
   ]
  },
  {
   "cell_type": "code",
   "execution_count": 13,
   "metadata": {},
   "outputs": [],
   "source": [
    "# Agregar capas personalizadas a la arquitectura base\n",
    "model = models.Sequential([\n",
    "    base_model,\n",
    "    layers.Flatten(),\n",
    "    layers.Dense(256, activation='relu', kernel_regularizer=regularizers.L2(0.000001), activity_regularizer=regularizers.L2(0.000001)),\n",
    "    #layers.Dropout(0.5),\n",
    "    layers.Dense(len(class_names), activation='softmax')\n",
    "])"
   ]
  },
  {
   "cell_type": "code",
   "execution_count": 14,
   "metadata": {},
   "outputs": [],
   "source": [
    "# Definir la programación de la tasa de aprendizaje exponencial\n",
    "lr_schedule = tf.keras.optimizers.schedules.ExponentialDecay(\n",
    "    initial_learning_rate=0.00001,\n",
    "    decay_steps=len(train_ds)*20,\n",
    "    decay_rate=0.9\n",
    ")"
   ]
  },
  {
   "cell_type": "code",
   "execution_count": 15,
   "metadata": {},
   "outputs": [
    {
     "name": "stderr",
     "output_type": "stream",
     "text": [
      "WARNING:absl:At this time, the v2.11+ optimizer `tf.keras.optimizers.SGD` runs slowly on M1/M2 Macs, please use the legacy Keras optimizer instead, located at `tf.keras.optimizers.legacy.SGD`.\n"
     ]
    }
   ],
   "source": [
    "# Crear un optimizador con la programación de la tasa de aprendizaje exponencial y momentum\n",
    "custom_optimizer = tf.keras.optimizers.SGD(learning_rate=lr_schedule, momentum=0.9)"
   ]
  },
  {
   "cell_type": "code",
   "execution_count": 16,
   "metadata": {},
   "outputs": [
    {
     "name": "stderr",
     "output_type": "stream",
     "text": [
      "WARNING:absl:There is a known slowdown when using v2.11+ Keras optimizers on M1/M2 Macs. Falling back to the legacy Keras optimizer, i.e., `tf.keras.optimizers.legacy.SGD`.\n"
     ]
    }
   ],
   "source": [
    "# Compilar el modelo\n",
    "model.compile(optimizer=custom_optimizer,\n",
    "              loss='sparse_categorical_crossentropy',\n",
    "              metrics=['accuracy'])"
   ]
  },
  {
   "cell_type": "code",
   "execution_count": 17,
   "metadata": {},
   "outputs": [
    {
     "name": "stdout",
     "output_type": "stream",
     "text": [
      "Epoch 1/100\n"
     ]
    },
    {
     "name": "stderr",
     "output_type": "stream",
     "text": [
      "2024-03-17 22:22:51.735792: I tensorflow/core/grappler/optimizers/custom_graph_optimizer_registry.cc:114] Plugin optimizer for device_type GPU is enabled.\n"
     ]
    },
    {
     "name": "stdout",
     "output_type": "stream",
     "text": [
      "19/19 [==============================] - ETA: 0s - loss: 1.8874 - accuracy: 0.4701"
     ]
    },
    {
     "name": "stderr",
     "output_type": "stream",
     "text": [
      "2024-03-17 22:23:32.180575: I tensorflow/core/grappler/optimizers/custom_graph_optimizer_registry.cc:114] Plugin optimizer for device_type GPU is enabled.\n"
     ]
    },
    {
     "name": "stdout",
     "output_type": "stream",
     "text": [
      "19/19 [==============================] - 52s 3s/step - loss: 1.8874 - accuracy: 0.4701 - val_loss: 0.4320 - val_accuracy: 0.8188\n",
      "Epoch 2/100\n",
      "19/19 [==============================] - 49s 3s/step - loss: 0.4761 - accuracy: 0.8123 - val_loss: 0.2373 - val_accuracy: 0.9152\n",
      "Epoch 3/100\n",
      "19/19 [==============================] - 49s 3s/step - loss: 0.2724 - accuracy: 0.8969 - val_loss: 0.1879 - val_accuracy: 0.9435\n",
      "Epoch 4/100\n",
      "19/19 [==============================] - 48s 2s/step - loss: 0.2171 - accuracy: 0.9266 - val_loss: 0.1498 - val_accuracy: 0.9643\n",
      "Epoch 5/100\n",
      "19/19 [==============================] - 47s 2s/step - loss: 0.1898 - accuracy: 0.9408 - val_loss: 0.1397 - val_accuracy: 0.9709\n",
      "Epoch 6/100\n",
      "19/19 [==============================] - 49s 3s/step - loss: 0.1773 - accuracy: 0.9458 - val_loss: 0.1375 - val_accuracy: 0.9651\n",
      "Epoch 7/100\n",
      "19/19 [==============================] - 49s 3s/step - loss: 0.1647 - accuracy: 0.9456 - val_loss: 0.1277 - val_accuracy: 0.9692\n",
      "Epoch 8/100\n",
      "19/19 [==============================] - 48s 2s/step - loss: 0.1576 - accuracy: 0.9547 - val_loss: 0.1217 - val_accuracy: 0.9717\n",
      "Epoch 9/100\n",
      "19/19 [==============================] - 48s 2s/step - loss: 0.1442 - accuracy: 0.9574 - val_loss: 0.1159 - val_accuracy: 0.9726\n",
      "Epoch 10/100\n",
      "19/19 [==============================] - 49s 3s/step - loss: 0.1442 - accuracy: 0.9562 - val_loss: 0.1162 - val_accuracy: 0.9734\n",
      "Epoch 11/100\n",
      "19/19 [==============================] - 49s 3s/step - loss: 0.1347 - accuracy: 0.9611 - val_loss: 0.1174 - val_accuracy: 0.9717\n",
      "Epoch 12/100\n",
      "19/19 [==============================] - 49s 3s/step - loss: 0.1381 - accuracy: 0.9566 - val_loss: 0.1058 - val_accuracy: 0.9784\n",
      "Epoch 13/100\n",
      "19/19 [==============================] - 48s 2s/step - loss: 0.1329 - accuracy: 0.9626 - val_loss: 0.1035 - val_accuracy: 0.9759\n",
      "Epoch 14/100\n",
      "19/19 [==============================] - 49s 3s/step - loss: 0.1222 - accuracy: 0.9649 - val_loss: 0.1037 - val_accuracy: 0.9784\n",
      "Epoch 15/100\n",
      "19/19 [==============================] - 49s 3s/step - loss: 0.1248 - accuracy: 0.9624 - val_loss: 0.0988 - val_accuracy: 0.9776\n",
      "Epoch 16/100\n",
      "19/19 [==============================] - 49s 3s/step - loss: 0.1245 - accuracy: 0.9632 - val_loss: 0.1007 - val_accuracy: 0.9776\n",
      "Epoch 17/100\n",
      "19/19 [==============================] - 48s 3s/step - loss: 0.1182 - accuracy: 0.9628 - val_loss: 0.0970 - val_accuracy: 0.9776\n",
      "Epoch 18/100\n",
      "19/19 [==============================] - 48s 2s/step - loss: 0.1170 - accuracy: 0.9645 - val_loss: 0.0966 - val_accuracy: 0.9792\n",
      "Epoch 19/100\n",
      "19/19 [==============================] - 48s 2s/step - loss: 0.1137 - accuracy: 0.9672 - val_loss: 0.0923 - val_accuracy: 0.9784\n",
      "Epoch 20/100\n",
      "19/19 [==============================] - 48s 2s/step - loss: 0.1118 - accuracy: 0.9678 - val_loss: 0.0909 - val_accuracy: 0.9792\n",
      "Epoch 21/100\n",
      "19/19 [==============================] - 48s 2s/step - loss: 0.1093 - accuracy: 0.9670 - val_loss: 0.0958 - val_accuracy: 0.9784\n",
      "Epoch 22/100\n",
      "19/19 [==============================] - 48s 2s/step - loss: 0.1039 - accuracy: 0.9690 - val_loss: 0.0924 - val_accuracy: 0.9817\n",
      "Epoch 23/100\n",
      "19/19 [==============================] - 48s 2s/step - loss: 0.1040 - accuracy: 0.9663 - val_loss: 0.0978 - val_accuracy: 0.9767\n",
      "Epoch 24/100\n",
      "19/19 [==============================] - 49s 3s/step - loss: 0.1065 - accuracy: 0.9699 - val_loss: 0.0881 - val_accuracy: 0.9809\n",
      "Epoch 25/100\n",
      "19/19 [==============================] - 48s 2s/step - loss: 0.0992 - accuracy: 0.9730 - val_loss: 0.0993 - val_accuracy: 0.9759\n",
      "Epoch 26/100\n",
      "19/19 [==============================] - 49s 3s/step - loss: 0.0977 - accuracy: 0.9732 - val_loss: 0.0933 - val_accuracy: 0.9792\n",
      "Epoch 27/100\n",
      "19/19 [==============================] - 48s 2s/step - loss: 0.1016 - accuracy: 0.9676 - val_loss: 0.0876 - val_accuracy: 0.9817\n",
      "Epoch 28/100\n",
      "19/19 [==============================] - 48s 3s/step - loss: 0.0954 - accuracy: 0.9740 - val_loss: 0.0891 - val_accuracy: 0.9809\n",
      "Epoch 29/100\n",
      "19/19 [==============================] - 49s 3s/step - loss: 0.0971 - accuracy: 0.9730 - val_loss: 0.0834 - val_accuracy: 0.9817\n",
      "Epoch 30/100\n",
      "19/19 [==============================] - 49s 3s/step - loss: 0.0953 - accuracy: 0.9744 - val_loss: 0.0951 - val_accuracy: 0.9751\n",
      "Epoch 31/100\n",
      "19/19 [==============================] - 48s 2s/step - loss: 0.0932 - accuracy: 0.9715 - val_loss: 0.0885 - val_accuracy: 0.9792\n",
      "Epoch 32/100\n",
      "19/19 [==============================] - 47s 2s/step - loss: 0.0945 - accuracy: 0.9746 - val_loss: 0.0828 - val_accuracy: 0.9817\n",
      "Epoch 33/100\n",
      "19/19 [==============================] - 48s 2s/step - loss: 0.0915 - accuracy: 0.9740 - val_loss: 0.0877 - val_accuracy: 0.9792\n",
      "Epoch 34/100\n",
      "19/19 [==============================] - 48s 2s/step - loss: 0.0908 - accuracy: 0.9746 - val_loss: 0.0808 - val_accuracy: 0.9817\n",
      "Epoch 35/100\n",
      "19/19 [==============================] - 48s 2s/step - loss: 0.0924 - accuracy: 0.9738 - val_loss: 0.0962 - val_accuracy: 0.9742\n",
      "Epoch 36/100\n",
      "19/19 [==============================] - 48s 2s/step - loss: 0.0909 - accuracy: 0.9759 - val_loss: 0.0807 - val_accuracy: 0.9834\n",
      "Epoch 37/100\n",
      "19/19 [==============================] - 48s 2s/step - loss: 0.0910 - accuracy: 0.9753 - val_loss: 0.0834 - val_accuracy: 0.9809\n",
      "Epoch 38/100\n",
      "19/19 [==============================] - 48s 3s/step - loss: 0.0868 - accuracy: 0.9757 - val_loss: 0.0790 - val_accuracy: 0.9825\n",
      "Epoch 39/100\n",
      "19/19 [==============================] - 48s 2s/step - loss: 0.0863 - accuracy: 0.9757 - val_loss: 0.0785 - val_accuracy: 0.9817\n",
      "Epoch 40/100\n",
      "19/19 [==============================] - 48s 2s/step - loss: 0.0873 - accuracy: 0.9755 - val_loss: 0.0826 - val_accuracy: 0.9809\n",
      "Epoch 41/100\n",
      "19/19 [==============================] - 48s 2s/step - loss: 0.0851 - accuracy: 0.9767 - val_loss: 0.0804 - val_accuracy: 0.9809\n",
      "Epoch 42/100\n",
      "19/19 [==============================] - 48s 2s/step - loss: 0.0851 - accuracy: 0.9755 - val_loss: 0.0782 - val_accuracy: 0.9817\n",
      "Epoch 43/100\n",
      "19/19 [==============================] - 48s 2s/step - loss: 0.0854 - accuracy: 0.9765 - val_loss: 0.0783 - val_accuracy: 0.9825\n",
      "Epoch 44/100\n",
      "19/19 [==============================] - 48s 2s/step - loss: 0.0869 - accuracy: 0.9765 - val_loss: 0.0767 - val_accuracy: 0.9834\n",
      "Epoch 45/100\n",
      "19/19 [==============================] - 47s 2s/step - loss: 0.0869 - accuracy: 0.9757 - val_loss: 0.0766 - val_accuracy: 0.9859\n",
      "Epoch 46/100\n",
      "19/19 [==============================] - 48s 2s/step - loss: 0.0821 - accuracy: 0.9759 - val_loss: 0.0774 - val_accuracy: 0.9817\n",
      "Epoch 47/100\n",
      "19/19 [==============================] - 48s 2s/step - loss: 0.0830 - accuracy: 0.9780 - val_loss: 0.0899 - val_accuracy: 0.9759\n",
      "Epoch 48/100\n",
      "19/19 [==============================] - 49s 3s/step - loss: 0.0854 - accuracy: 0.9753 - val_loss: 0.0783 - val_accuracy: 0.9809\n",
      "Epoch 49/100\n",
      "19/19 [==============================] - 48s 2s/step - loss: 0.0831 - accuracy: 0.9751 - val_loss: 0.0773 - val_accuracy: 0.9817\n",
      "Epoch 50/100\n",
      "19/19 [==============================] - 48s 2s/step - loss: 0.0859 - accuracy: 0.9742 - val_loss: 0.0776 - val_accuracy: 0.9817\n",
      "Epoch 51/100\n",
      "19/19 [==============================] - 48s 2s/step - loss: 0.0817 - accuracy: 0.9794 - val_loss: 0.0802 - val_accuracy: 0.9792\n",
      "Epoch 52/100\n",
      "19/19 [==============================] - 49s 3s/step - loss: 0.0803 - accuracy: 0.9773 - val_loss: 0.0765 - val_accuracy: 0.9825\n",
      "Epoch 53/100\n",
      "19/19 [==============================] - 48s 2s/step - loss: 0.0807 - accuracy: 0.9794 - val_loss: 0.0763 - val_accuracy: 0.9817\n",
      "Epoch 54/100\n",
      "19/19 [==============================] - 49s 3s/step - loss: 0.0798 - accuracy: 0.9778 - val_loss: 0.0749 - val_accuracy: 0.9825\n",
      "Epoch 55/100\n",
      "19/19 [==============================] - 49s 3s/step - loss: 0.0805 - accuracy: 0.9782 - val_loss: 0.0753 - val_accuracy: 0.9825\n",
      "Epoch 56/100\n",
      "19/19 [==============================] - 48s 2s/step - loss: 0.0792 - accuracy: 0.9794 - val_loss: 0.0767 - val_accuracy: 0.9817\n",
      "Epoch 57/100\n",
      "19/19 [==============================] - 49s 3s/step - loss: 0.0789 - accuracy: 0.9782 - val_loss: 0.0789 - val_accuracy: 0.9809\n",
      "Epoch 58/100\n",
      "19/19 [==============================] - 47s 2s/step - loss: 0.0791 - accuracy: 0.9786 - val_loss: 0.0751 - val_accuracy: 0.9825\n",
      "Epoch 59/100\n",
      "19/19 [==============================] - 48s 2s/step - loss: 0.0758 - accuracy: 0.9805 - val_loss: 0.0825 - val_accuracy: 0.9784\n",
      "Epoch 60/100\n",
      "19/19 [==============================] - 48s 3s/step - loss: 0.0783 - accuracy: 0.9790 - val_loss: 0.0784 - val_accuracy: 0.9800\n",
      "Epoch 61/100\n",
      "19/19 [==============================] - 48s 2s/step - loss: 0.0788 - accuracy: 0.9794 - val_loss: 0.0751 - val_accuracy: 0.9825\n",
      "Epoch 62/100\n",
      "19/19 [==============================] - 48s 2s/step - loss: 0.0741 - accuracy: 0.9809 - val_loss: 0.0783 - val_accuracy: 0.9800\n",
      "Epoch 63/100\n",
      "19/19 [==============================] - 49s 3s/step - loss: 0.0795 - accuracy: 0.9780 - val_loss: 0.0785 - val_accuracy: 0.9792\n",
      "Epoch 64/100\n",
      "19/19 [==============================] - 49s 3s/step - loss: 0.0761 - accuracy: 0.9798 - val_loss: 0.0801 - val_accuracy: 0.9792\n",
      "Epoch 65/100\n",
      "19/19 [==============================] - 49s 3s/step - loss: 0.0799 - accuracy: 0.9771 - val_loss: 0.0748 - val_accuracy: 0.9825\n",
      "Epoch 66/100\n",
      "19/19 [==============================] - 48s 2s/step - loss: 0.0755 - accuracy: 0.9796 - val_loss: 0.0732 - val_accuracy: 0.9825\n",
      "Epoch 67/100\n",
      "19/19 [==============================] - 49s 3s/step - loss: 0.0776 - accuracy: 0.9769 - val_loss: 0.0731 - val_accuracy: 0.9842\n",
      "Epoch 68/100\n",
      "19/19 [==============================] - 49s 3s/step - loss: 0.0735 - accuracy: 0.9796 - val_loss: 0.0769 - val_accuracy: 0.9800\n",
      "Epoch 69/100\n",
      "19/19 [==============================] - 49s 3s/step - loss: 0.0790 - accuracy: 0.9769 - val_loss: 0.0728 - val_accuracy: 0.9842\n",
      "Epoch 70/100\n",
      "19/19 [==============================] - 49s 3s/step - loss: 0.0742 - accuracy: 0.9792 - val_loss: 0.0752 - val_accuracy: 0.9817\n",
      "Epoch 71/100\n",
      "19/19 [==============================] - 47s 2s/step - loss: 0.0751 - accuracy: 0.9809 - val_loss: 0.0721 - val_accuracy: 0.9859\n",
      "Epoch 72/100\n",
      "19/19 [==============================] - 48s 2s/step - loss: 0.0731 - accuracy: 0.9821 - val_loss: 0.0746 - val_accuracy: 0.9817\n",
      "Epoch 73/100\n",
      "19/19 [==============================] - 48s 2s/step - loss: 0.0750 - accuracy: 0.9813 - val_loss: 0.0795 - val_accuracy: 0.9784\n",
      "Epoch 74/100\n",
      "19/19 [==============================] - 48s 2s/step - loss: 0.0744 - accuracy: 0.9790 - val_loss: 0.0853 - val_accuracy: 0.9759\n",
      "Epoch 75/100\n",
      "19/19 [==============================] - 48s 2s/step - loss: 0.0736 - accuracy: 0.9811 - val_loss: 0.0751 - val_accuracy: 0.9809\n",
      "Epoch 76/100\n",
      "19/19 [==============================] - 48s 2s/step - loss: 0.0715 - accuracy: 0.9811 - val_loss: 0.0759 - val_accuracy: 0.9800\n",
      "Epoch 77/100\n",
      "19/19 [==============================] - 48s 2s/step - loss: 0.0724 - accuracy: 0.9828 - val_loss: 0.0775 - val_accuracy: 0.9800\n",
      "Epoch 78/100\n",
      "19/19 [==============================] - 48s 3s/step - loss: 0.0718 - accuracy: 0.9811 - val_loss: 0.0747 - val_accuracy: 0.9817\n",
      "Epoch 79/100\n",
      "19/19 [==============================] - 48s 2s/step - loss: 0.0706 - accuracy: 0.9825 - val_loss: 0.0748 - val_accuracy: 0.9817\n",
      "Epoch 80/100\n",
      "19/19 [==============================] - 48s 2s/step - loss: 0.0729 - accuracy: 0.9819 - val_loss: 0.0764 - val_accuracy: 0.9800\n",
      "Epoch 81/100\n",
      "19/19 [==============================] - 48s 2s/step - loss: 0.0729 - accuracy: 0.9809 - val_loss: 0.0731 - val_accuracy: 0.9825\n",
      "Epoch 82/100\n",
      "19/19 [==============================] - 48s 2s/step - loss: 0.0741 - accuracy: 0.9811 - val_loss: 0.0757 - val_accuracy: 0.9800\n",
      "Epoch 83/100\n",
      "19/19 [==============================] - 48s 2s/step - loss: 0.0713 - accuracy: 0.9807 - val_loss: 0.0771 - val_accuracy: 0.9800\n",
      "Epoch 84/100\n",
      "19/19 [==============================] - 48s 2s/step - loss: 0.0718 - accuracy: 0.9796 - val_loss: 0.0714 - val_accuracy: 0.9834\n",
      "Epoch 85/100\n",
      "19/19 [==============================] - 47s 2s/step - loss: 0.0712 - accuracy: 0.9819 - val_loss: 0.0736 - val_accuracy: 0.9825\n",
      "Epoch 86/100\n",
      "19/19 [==============================] - 48s 2s/step - loss: 0.0705 - accuracy: 0.9809 - val_loss: 0.0728 - val_accuracy: 0.9817\n",
      "Epoch 87/100\n",
      "19/19 [==============================] - 48s 2s/step - loss: 0.0708 - accuracy: 0.9800 - val_loss: 0.0701 - val_accuracy: 0.9850\n",
      "Epoch 88/100\n",
      "19/19 [==============================] - 48s 2s/step - loss: 0.0690 - accuracy: 0.9809 - val_loss: 0.0723 - val_accuracy: 0.9825\n",
      "Epoch 89/100\n",
      "19/19 [==============================] - 48s 2s/step - loss: 0.0705 - accuracy: 0.9825 - val_loss: 0.0712 - val_accuracy: 0.9842\n",
      "Epoch 90/100\n",
      "19/19 [==============================] - 48s 2s/step - loss: 0.0733 - accuracy: 0.9803 - val_loss: 0.0752 - val_accuracy: 0.9817\n",
      "Epoch 91/100\n",
      "19/19 [==============================] - 48s 2s/step - loss: 0.0686 - accuracy: 0.9828 - val_loss: 0.0779 - val_accuracy: 0.9792\n",
      "Epoch 92/100\n",
      "19/19 [==============================] - 48s 2s/step - loss: 0.0660 - accuracy: 0.9844 - val_loss: 0.0710 - val_accuracy: 0.9834\n",
      "Epoch 93/100\n",
      "19/19 [==============================] - 48s 2s/step - loss: 0.0685 - accuracy: 0.9809 - val_loss: 0.0710 - val_accuracy: 0.9842\n",
      "Epoch 94/100\n",
      "19/19 [==============================] - 48s 2s/step - loss: 0.0687 - accuracy: 0.9821 - val_loss: 0.0760 - val_accuracy: 0.9800\n",
      "Epoch 95/100\n",
      "19/19 [==============================] - 48s 2s/step - loss: 0.0685 - accuracy: 0.9828 - val_loss: 0.0719 - val_accuracy: 0.9825\n",
      "Epoch 96/100\n",
      "19/19 [==============================] - 48s 2s/step - loss: 0.0679 - accuracy: 0.9836 - val_loss: 0.0697 - val_accuracy: 0.9842\n",
      "Epoch 97/100\n",
      "19/19 [==============================] - 48s 2s/step - loss: 0.0662 - accuracy: 0.9821 - val_loss: 0.0721 - val_accuracy: 0.9825\n",
      "Epoch 98/100\n",
      "19/19 [==============================] - 47s 2s/step - loss: 0.0660 - accuracy: 0.9830 - val_loss: 0.0719 - val_accuracy: 0.9825\n",
      "Epoch 99/100\n",
      "19/19 [==============================] - 47s 2s/step - loss: 0.0674 - accuracy: 0.9828 - val_loss: 0.0718 - val_accuracy: 0.9825\n",
      "Epoch 100/100\n",
      "19/19 [==============================] - 48s 2s/step - loss: 0.0669 - accuracy: 0.9830 - val_loss: 0.0744 - val_accuracy: 0.9809\n"
     ]
    }
   ],
   "source": [
    "# Entrenar el modelo\n",
    "epochs = 100\n",
    "\n",
    "history = model.fit(train_ds, epochs=epochs, validation_data=validation_dataset)#, class_weight=class_weight_dict)"
   ]
  },
  {
   "cell_type": "code",
   "execution_count": 18,
   "metadata": {},
   "outputs": [
    {
     "name": "stdout",
     "output_type": "stream",
     "text": [
      "35/35 [==============================] - 70s 2s/step - loss: 0.2451 - accuracy: 0.9221\n",
      "Precisión en el conjunto de prueba: 0.9221246838569641\n"
     ]
    }
   ],
   "source": [
    "# Evaluar el modelo en el conjunto de prueba\n",
    "test_loss, test_acc = model.evaluate(test_ds)\n",
    "print(f'Precisión en el conjunto de prueba: {test_acc}')"
   ]
  },
  {
   "cell_type": "code",
   "execution_count": 19,
   "metadata": {},
   "outputs": [
    {
     "data": {
      "image/png": "[encoded data removed]",
      "text/plain": [
       "<Figure size 1200x400 with 2 Axes>"
      ]
     },
     "metadata": {},
     "output_type": "display_data"
    }
   ],
   "source": [
    "# Trazar la curva de aprendizaje\n",
    "plt.figure(figsize=(12, 4))\n",
    "plt.subplot(1, 2, 1)\n",
    "plt.plot(history.history['accuracy'], label='Precisión de Entrenamiento')\n",
    "plt.plot(history.history['val_accuracy'], label='Precisión de Validación')\n",
    "plt.legend(loc='lower right')\n",
    "plt.title('Curva de Aprendizaje de la Precisión')\n",
    "\n",
    "plt.subplot(1, 2, 2)\n",
    "plt.plot(history.history['loss'], label='Pérdida de Entrenamiento')\n",
    "plt.plot(history.history['val_loss'], label='Pérdida de Validación')\n",
    "plt.legend(loc='upper right')\n",
    "plt.title('Curva de Aprendizaje de la Pérdida')\n",
    "plt.show()"
   ]
  },
  {
   "cell_type": "code",
   "execution_count": 20,
   "metadata": {},
   "outputs": [],
   "source": [
    "ruta_modelos_entrenados = '/Volumes/SSD_ANDRÉS/Modelos entrenados'"
   ]
  },
  {
   "cell_type": "code",
   "execution_count": 21,
   "metadata": {},
   "outputs": [
    {
     "name": "stdout",
     "output_type": "stream",
     "text": [
      "INFO:tensorflow:Assets written to: /Volumes/SSD_ANDRÉS/Modelos entrenados/Efficient_01/assets\n"
     ]
    },
    {
     "name": "stderr",
     "output_type": "stream",
     "text": [
      "INFO:tensorflow:Assets written to: /Volumes/SSD_ANDRÉS/Modelos entrenados/Efficient_01/assets\n"
     ]
    }
   ],
   "source": [
    "model.save(ruta_modelos_entrenados+'/Efficient_01')"
   ]
  },
  {
   "cell_type": "code",
   "execution_count": 22,
   "metadata": {},
   "outputs": [
    {
     "name": "stderr",
     "output_type": "stream",
     "text": [
      "2024-03-17 23:44:48.278738: I tensorflow/core/grappler/optimizers/custom_graph_optimizer_registry.cc:114] Plugin optimizer for device_type GPU is enabled.\n"
     ]
    },
    {
     "name": "stdout",
     "output_type": "stream",
     "text": [
      "8/8 [==============================] - 3s 217ms/step\n",
      "8/8 [==============================] - 2s 229ms/step\n",
      "8/8 [==============================] - 2s 228ms/step\n",
      "8/8 [==============================] - 2s 229ms/step\n",
      "8/8 [==============================] - 2s 228ms/step\n",
      "8/8 [==============================] - 2s 227ms/step\n",
      "8/8 [==============================] - 2s 229ms/step\n",
      "8/8 [==============================] - 2s 227ms/step\n",
      "8/8 [==============================] - 2s 228ms/step\n",
      "8/8 [==============================] - 2s 228ms/step\n",
      "8/8 [==============================] - 2s 226ms/step\n",
      "8/8 [==============================] - 2s 225ms/step\n",
      "8/8 [==============================] - 2s 227ms/step\n",
      "8/8 [==============================] - 2s 228ms/step\n",
      "8/8 [==============================] - 2s 226ms/step\n",
      "8/8 [==============================] - 2s 227ms/step\n",
      "8/8 [==============================] - 2s 227ms/step\n",
      "8/8 [==============================] - 2s 231ms/step\n",
      "8/8 [==============================] - 2s 227ms/step\n",
      "8/8 [==============================] - 2s 226ms/step\n",
      "8/8 [==============================] - 2s 226ms/step\n",
      "8/8 [==============================] - 2s 226ms/step\n",
      "8/8 [==============================] - 2s 228ms/step\n",
      "8/8 [==============================] - 2s 226ms/step\n",
      "8/8 [==============================] - 2s 231ms/step\n",
      "8/8 [==============================] - 2s 229ms/step\n",
      "8/8 [==============================] - 2s 227ms/step\n",
      "8/8 [==============================] - 2s 226ms/step\n",
      "8/8 [==============================] - 2s 227ms/step\n",
      "8/8 [==============================] - 2s 227ms/step\n",
      "8/8 [==============================] - 2s 231ms/step\n",
      "8/8 [==============================] - 2s 227ms/step\n",
      "8/8 [==============================] - 2s 227ms/step\n",
      "8/8 [==============================] - 2s 227ms/step\n"
     ]
    },
    {
     "name": "stderr",
     "output_type": "stream",
     "text": [
      "2024-03-17 23:45:53.076464: I tensorflow/core/grappler/optimizers/custom_graph_optimizer_registry.cc:114] Plugin optimizer for device_type GPU is enabled.\n"
     ]
    },
    {
     "name": "stdout",
     "output_type": "stream",
     "text": [
      "6/6 [==============================] - 3s 404ms/step\n"
     ]
    }
   ],
   "source": [
    "ruta_modelos_entrenados = '/Volumes/SSD_ANDRÉS/Modelos entrenados'\n",
    "new_model = tf.keras.models.load_model(ruta_modelos_entrenados+'/Efficient_01')\n",
    "y_pred = []  # store predicted labels\n",
    "y_true = []  # store true labels\n",
    "\n",
    "# iterate over the dataset\n",
    "for image_batch, label_batch in test_ds:   # use dataset.unbatch() with repeat\n",
    "   # append true labels\n",
    "   #print(\"Label: \",label_batch)\n",
    "   y_true.append(label_batch)\n",
    "   # compute predictions\n",
    "   #print(\"Imagen: \",image_batch)\n",
    "   preds = new_model.predict(image_batch)\n",
    "   # append predicted labels\n",
    "   y_pred.append(np.argmax(preds, axis = - 1))\n",
    "   #print(\"-----------------\")\n",
    "\n",
    "# convert the true and predicted labels into tensors\n",
    "correct_labels = tf.concat([item for item in y_true], axis = 0)\n",
    "predicted_labels = tf.concat([item for item in y_pred], axis = 0)"
   ]
  },
  {
   "cell_type": "code",
   "execution_count": 23,
   "metadata": {},
   "outputs": [
    {
     "data": {
      "image/png": "[encoded data removed]",
      "text/plain": [
       "<Figure size 1000x800 with 2 Axes>"
      ]
     },
     "metadata": {},
     "output_type": "display_data"
    }
   ],
   "source": [
    "import seaborn as sns\n",
    "\n",
    "confusion_mtx = tf.math.confusion_matrix(correct_labels, predicted_labels)\n",
    "plt.figure(figsize=(10, 8))\n",
    "sns.heatmap(confusion_mtx,\n",
    "            xticklabels=class_names,\n",
    "            yticklabels=class_names,\n",
    "            annot=True, fmt='g')\n",
    "plt.xlabel('Prediction')\n",
    "plt.ylabel('Label')\n",
    "plt.show()"
   ]
  },
  {
   "cell_type": "code",
   "execution_count": 24,
   "metadata": {},
   "outputs": [
    {
     "name": "stdout",
     "output_type": "stream",
     "text": [
      "%LP: 80.99415204678363\n",
      "%VLP: 99.61352657004831\n",
      "%VT: 98.99882214369848\n"
     ]
    }
   ],
   "source": [
    "cm = confusion_matrix(correct_labels, predicted_labels)\n",
    "print('%LP: '+str(cm[0][0]/sum(cm[0]) * 100))\n",
    "print('%VLP: '+str(cm[1][1]/sum(cm[1]) * 100))\n",
    "print('%VT: '+str(cm[2][2]/sum(cm[2]) * 100))"
   ]
  },
  {
   "cell_type": "code",
   "execution_count": 25,
   "metadata": {},
   "outputs": [
    {
     "name": "stdout",
     "output_type": "stream",
     "text": [
      "              precision    recall  f1-score   support\n",
      "\n",
      "           0       0.99      0.81      0.89      3420\n",
      "           1       0.82      1.00      0.90      2070\n",
      "           2       0.94      0.99      0.97      3396\n",
      "\n",
      "    accuracy                           0.92      8886\n",
      "   macro avg       0.92      0.93      0.92      8886\n",
      "weighted avg       0.93      0.92      0.92      8886\n",
      "\n"
     ]
    }
   ],
   "source": [
    "from sklearn.metrics import classification_report\n",
    "print(classification_report(correct_labels, predicted_labels))"
   ]
  }
 ],
 "metadata": {
  "kernelspec": {
   "display_name": "Tesis_IA",
   "language": "python",
   "name": "python3"
  },
  "language_info": {
   "codemirror_mode": {
    "name": "ipython",
    "version": 3
   },
   "file_extension": ".py",
   "mimetype": "text/x-python",
   "name": "python",
   "nbconvert_exporter": "python",
   "pygments_lexer": "ipython3",
   "version": "3.8.16"
  },
  "orig_nbformat": 4
 },
 "nbformat": 4,
 "nbformat_minor": 2
}
