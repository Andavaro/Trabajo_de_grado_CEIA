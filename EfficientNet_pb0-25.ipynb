{
 "cells": [
  {
   "cell_type": "code",
   "execution_count": 1,
   "metadata": {},
   "outputs": [],
   "source": [
    "import numpy as np\n",
    "import tensorflow as tf\n",
    "from tensorflow.keras import layers, models, regularizers\n",
    "from tensorflow.keras.applications.efficientnet import EfficientNetB0 as EfficientNet\n",
    "from sklearn.utils.class_weight import compute_class_weight\n",
    "from sklearn.model_selection import train_test_split\n",
    "from sklearn.metrics import classification_report, confusion_matrix\n",
    "import matplotlib.pyplot as plt"
   ]
  },
  {
   "cell_type": "code",
   "execution_count": 2,
   "metadata": {},
   "outputs": [],
   "source": [
    "img_height = 224\n",
    "img_width = 224\n",
    "batch_size = 256"
   ]
  },
  {
   "cell_type": "code",
   "execution_count": 3,
   "metadata": {},
   "outputs": [],
   "source": [
    "train_directory = \"/Volumes/SSD_ANDRÉS/Espectrogramas/off/ns=32_sol=0.9_lowpass_f=0-25\""
   ]
  },
  {
   "cell_type": "code",
   "execution_count": 4,
   "metadata": {},
   "outputs": [
    {
     "name": "stdout",
     "output_type": "stream",
     "text": [
      "Found 8937 files belonging to 3 classes.\n",
      "Using 7150 files for training.\n",
      "Using 1787 files for validation.\n"
     ]
    },
    {
     "name": "stderr",
     "output_type": "stream",
     "text": [
      "2024-03-17 19:24:17.315739: I metal_plugin/src/device/metal_device.cc:1154] Metal device set to: Apple M1\n",
      "2024-03-17 19:24:17.315760: I metal_plugin/src/device/metal_device.cc:296] systemMemory: 16.00 GB\n",
      "2024-03-17 19:24:17.315763: I metal_plugin/src/device/metal_device.cc:313] maxCacheSize: 5.33 GB\n",
      "2024-03-17 19:24:17.315864: I tensorflow/core/common_runtime/pluggable_device/pluggable_device_factory.cc:303] Could not identify NUMA node of platform GPU ID 0, defaulting to 0. Your kernel may not have been built with NUMA support.\n",
      "2024-03-17 19:24:17.315879: I tensorflow/core/common_runtime/pluggable_device/pluggable_device_factory.cc:269] Created TensorFlow device (/job:localhost/replica:0/task:0/device:GPU:0 with 0 MB memory) -> physical PluggableDevice (device: 0, name: METAL, pci bus id: <undefined>)\n"
     ]
    }
   ],
   "source": [
    "# Dividir el set en entrenamiento y validación\n",
    "train_ds, validation_dataset = tf.keras.preprocessing.image_dataset_from_directory(\n",
    "    train_directory, labels='inferred', label_mode='int', batch_size=batch_size, image_size=(img_height, img_width), seed=123, \n",
    "    validation_split=0.2, subset='both')"
   ]
  },
  {
   "cell_type": "code",
   "execution_count": 5,
   "metadata": {},
   "outputs": [
    {
     "name": "stdout",
     "output_type": "stream",
     "text": [
      "Found 8960 files belonging to 3 classes.\n"
     ]
    }
   ],
   "source": [
    "test_directory = \"/Volumes/SSD_ANDRÉS/Espectrogramas/pb25test\"\n",
    "test_ds= tf.keras.preprocessing.image_dataset_from_directory(\n",
    "    test_directory, labels='inferred', label_mode='int', batch_size=batch_size, image_size=(img_height, img_width), seed=123)"
   ]
  },
  {
   "cell_type": "code",
   "execution_count": 6,
   "metadata": {},
   "outputs": [
    {
     "data": {
      "text/plain": [
       "'num_elements = len(train_ds)\\n\\nporcentaje_test = 0.1\\ntrain_size = int((1-porcentaje_test) * num_elements)\\n\\n\\ntest_size = num_elements - train_size\\ntest_ds = train_ds.take(test_size)\\ntrain_ds = train_ds.skip(test_size)'"
      ]
     },
     "execution_count": 6,
     "metadata": {},
     "output_type": "execute_result"
    }
   ],
   "source": [
    "# Esta parte se usa para generar datos para pruebas. Si se tienen datos específicos para las pruebas, se deben llamar con el nombre de test_ds\n",
    "'''num_elements = len(train_ds)\n",
    "\n",
    "porcentaje_test = 0.1\n",
    "train_size = int((1-porcentaje_test) * num_elements)\n",
    "\n",
    "\n",
    "test_size = num_elements - train_size\n",
    "test_ds = train_ds.take(test_size)\n",
    "train_ds = train_ds.skip(test_size)'''"
   ]
  },
  {
   "cell_type": "code",
   "execution_count": 7,
   "metadata": {},
   "outputs": [
    {
     "name": "stdout",
     "output_type": "stream",
     "text": [
      "['LP', 'VLP', 'VT']\n"
     ]
    }
   ],
   "source": [
    "class_names = train_ds.class_names\n",
    "print(class_names)"
   ]
  },
  {
   "cell_type": "code",
   "execution_count": 8,
   "metadata": {},
   "outputs": [
    {
     "data": {
      "text/plain": [
       "\"y_train = train_ds.map(lambda _, label: label).unbatch()\\ny_train = list(y_train.as_numpy_iterator())\\nclass_weights = compute_class_weight('balanced', classes=np.unique(y_train), y=y_train)\\nclass_weight_dict = dict(enumerate(class_weights))\\nprint(class_weight_dict)\""
      ]
     },
     "execution_count": 8,
     "metadata": {},
     "output_type": "execute_result"
    }
   ],
   "source": [
    "'''y_train = train_ds.map(lambda _, label: label).unbatch()\n",
    "y_train = list(y_train.as_numpy_iterator())\n",
    "class_weights = compute_class_weight('balanced', classes=np.unique(y_train), y=y_train)\n",
    "class_weight_dict = dict(enumerate(class_weights))\n",
    "print(class_weight_dict)'''"
   ]
  },
  {
   "attachments": {},
   "cell_type": "markdown",
   "metadata": {},
   "source": [
    "# Modelo DenseNet 121"
   ]
  },
  {
   "cell_type": "code",
   "execution_count": 9,
   "metadata": {},
   "outputs": [],
   "source": [
    "num_classes = len(class_names)"
   ]
  },
  {
   "cell_type": "code",
   "execution_count": 10,
   "metadata": {},
   "outputs": [],
   "source": [
    "# Cargar la arquitectura preentrenada VGG16 sin las capas superiores (sin incluir la capa de salida)\n",
    "base_model = EfficientNet(weights='imagenet', include_top=False, input_shape=(img_height, img_width, 3)) #input_shape=(altura, anchura, canales))\n",
    "base_model = tf.keras.Model(inputs=base_model.input, outputs=base_model.layers[-2].output)"
   ]
  },
  {
   "cell_type": "code",
   "execution_count": 11,
   "metadata": {},
   "outputs": [],
   "source": [
    "# Congelar las capas de la base (no se entrenarán durante el ajuste fino)\n",
    "for layer in base_model.layers:\n",
    "    layer.trainable = False"
   ]
  },
  {
   "cell_type": "code",
   "execution_count": 12,
   "metadata": {},
   "outputs": [],
   "source": [
    "# Agregar capas personalizadas a la arquitectura base\n",
    "model = models.Sequential([\n",
    "    base_model,\n",
    "    layers.Flatten(),\n",
    "    layers.Dense(256, activation='relu', kernel_regularizer=regularizers.L2(0.000001), activity_regularizer=regularizers.L2(0.000001)),\n",
    "    #layers.Dropout(0.5),\n",
    "    layers.Dense(len(class_names), activation='softmax')\n",
    "])"
   ]
  },
  {
   "cell_type": "code",
   "execution_count": 13,
   "metadata": {},
   "outputs": [],
   "source": [
    "# Definir la programación de la tasa de aprendizaje exponencial\n",
    "lr_schedule = tf.keras.optimizers.schedules.ExponentialDecay(\n",
    "    initial_learning_rate=0.00001,\n",
    "    decay_steps=len(train_ds)*20,\n",
    "    decay_rate=0.9\n",
    ")"
   ]
  },
  {
   "cell_type": "code",
   "execution_count": 14,
   "metadata": {},
   "outputs": [
    {
     "name": "stderr",
     "output_type": "stream",
     "text": [
      "WARNING:absl:At this time, the v2.11+ optimizer `tf.keras.optimizers.SGD` runs slowly on M1/M2 Macs, please use the legacy Keras optimizer instead, located at `tf.keras.optimizers.legacy.SGD`.\n"
     ]
    }
   ],
   "source": [
    "# Crear un optimizador con la programación de la tasa de aprendizaje exponencial y momentum\n",
    "custom_optimizer = tf.keras.optimizers.SGD(learning_rate=lr_schedule, momentum=0.9)"
   ]
  },
  {
   "cell_type": "code",
   "execution_count": 15,
   "metadata": {},
   "outputs": [
    {
     "name": "stderr",
     "output_type": "stream",
     "text": [
      "WARNING:absl:There is a known slowdown when using v2.11+ Keras optimizers on M1/M2 Macs. Falling back to the legacy Keras optimizer, i.e., `tf.keras.optimizers.legacy.SGD`.\n"
     ]
    }
   ],
   "source": [
    "# Compilar el modelo\n",
    "model.compile(optimizer=custom_optimizer,\n",
    "              loss='sparse_categorical_crossentropy',\n",
    "              metrics=['accuracy'])"
   ]
  },
  {
   "cell_type": "code",
   "execution_count": 16,
   "metadata": {},
   "outputs": [
    {
     "name": "stdout",
     "output_type": "stream",
     "text": [
      "Epoch 1/100\n"
     ]
    },
    {
     "name": "stderr",
     "output_type": "stream",
     "text": [
      "2024-03-17 19:24:20.869516: I tensorflow/core/grappler/optimizers/custom_graph_optimizer_registry.cc:114] Plugin optimizer for device_type GPU is enabled.\n"
     ]
    },
    {
     "name": "stdout",
     "output_type": "stream",
     "text": [
      "28/28 [==============================] - ETA: 0s - loss: 1.5303 - accuracy: 0.6029"
     ]
    },
    {
     "name": "stderr",
     "output_type": "stream",
     "text": [
      "2024-03-17 19:25:20.626686: I tensorflow/core/grappler/optimizers/custom_graph_optimizer_registry.cc:114] Plugin optimizer for device_type GPU is enabled.\n"
     ]
    },
    {
     "name": "stdout",
     "output_type": "stream",
     "text": [
      "28/28 [==============================] - 76s 3s/step - loss: 1.5303 - accuracy: 0.6029 - val_loss: 0.6888 - val_accuracy: 0.7734\n",
      "Epoch 2/100\n",
      "28/28 [==============================] - 72s 3s/step - loss: 0.5847 - accuracy: 0.7853 - val_loss: 0.4810 - val_accuracy: 0.8109\n",
      "Epoch 3/100\n",
      "28/28 [==============================] - 72s 3s/step - loss: 0.4567 - accuracy: 0.8150 - val_loss: 0.4104 - val_accuracy: 0.8304\n",
      "Epoch 4/100\n",
      "28/28 [==============================] - 70s 2s/step - loss: 0.4012 - accuracy: 0.8397 - val_loss: 0.3726 - val_accuracy: 0.8534\n",
      "Epoch 5/100\n",
      "28/28 [==============================] - 71s 2s/step - loss: 0.3709 - accuracy: 0.8536 - val_loss: 0.3525 - val_accuracy: 0.8629\n",
      "Epoch 6/100\n",
      "28/28 [==============================] - 72s 3s/step - loss: 0.3453 - accuracy: 0.8606 - val_loss: 0.3382 - val_accuracy: 0.8719\n",
      "Epoch 7/100\n",
      "28/28 [==============================] - 72s 3s/step - loss: 0.3254 - accuracy: 0.8734 - val_loss: 0.3307 - val_accuracy: 0.8747\n",
      "Epoch 8/100\n",
      "28/28 [==============================] - 71s 3s/step - loss: 0.3139 - accuracy: 0.8768 - val_loss: 0.3218 - val_accuracy: 0.8814\n",
      "Epoch 9/100\n",
      "28/28 [==============================] - 71s 3s/step - loss: 0.3029 - accuracy: 0.8832 - val_loss: 0.3086 - val_accuracy: 0.8847\n",
      "Epoch 10/100\n",
      "28/28 [==============================] - 72s 3s/step - loss: 0.2919 - accuracy: 0.8885 - val_loss: 0.3022 - val_accuracy: 0.8870\n",
      "Epoch 11/100\n",
      "28/28 [==============================] - 71s 3s/step - loss: 0.2843 - accuracy: 0.8897 - val_loss: 0.2912 - val_accuracy: 0.8965\n",
      "Epoch 12/100\n",
      "28/28 [==============================] - 71s 3s/step - loss: 0.2783 - accuracy: 0.8938 - val_loss: 0.2786 - val_accuracy: 0.8993\n",
      "Epoch 13/100\n",
      "28/28 [==============================] - 71s 3s/step - loss: 0.2669 - accuracy: 0.9003 - val_loss: 0.2854 - val_accuracy: 0.8954\n",
      "Epoch 14/100\n",
      "28/28 [==============================] - 70s 2s/step - loss: 0.2665 - accuracy: 0.8999 - val_loss: 0.2656 - val_accuracy: 0.9043\n",
      "Epoch 15/100\n",
      "28/28 [==============================] - 71s 3s/step - loss: 0.2628 - accuracy: 0.9000 - val_loss: 0.2638 - val_accuracy: 0.9077\n",
      "Epoch 16/100\n",
      "28/28 [==============================] - 72s 3s/step - loss: 0.2628 - accuracy: 0.8978 - val_loss: 0.3058 - val_accuracy: 0.8847\n",
      "Epoch 17/100\n",
      "28/28 [==============================] - 71s 3s/step - loss: 0.2524 - accuracy: 0.9035 - val_loss: 0.2641 - val_accuracy: 0.9088\n",
      "Epoch 18/100\n",
      "28/28 [==============================] - 72s 3s/step - loss: 0.2476 - accuracy: 0.9071 - val_loss: 0.2576 - val_accuracy: 0.9116\n",
      "Epoch 19/100\n",
      "28/28 [==============================] - 72s 3s/step - loss: 0.2445 - accuracy: 0.9073 - val_loss: 0.2519 - val_accuracy: 0.9088\n",
      "Epoch 20/100\n",
      "28/28 [==============================] - 72s 3s/step - loss: 0.2426 - accuracy: 0.9102 - val_loss: 0.2613 - val_accuracy: 0.8937\n",
      "Epoch 21/100\n",
      "28/28 [==============================] - 71s 3s/step - loss: 0.2413 - accuracy: 0.9090 - val_loss: 0.2473 - val_accuracy: 0.9049\n",
      "Epoch 22/100\n",
      "28/28 [==============================] - 71s 3s/step - loss: 0.2410 - accuracy: 0.9092 - val_loss: 0.2369 - val_accuracy: 0.9138\n",
      "Epoch 23/100\n",
      "28/28 [==============================] - 70s 2s/step - loss: 0.2343 - accuracy: 0.9108 - val_loss: 0.2352 - val_accuracy: 0.9177\n",
      "Epoch 24/100\n",
      "28/28 [==============================] - 71s 3s/step - loss: 0.2218 - accuracy: 0.9187 - val_loss: 0.2332 - val_accuracy: 0.9144\n",
      "Epoch 25/100\n",
      "28/28 [==============================] - 71s 3s/step - loss: 0.2218 - accuracy: 0.9179 - val_loss: 0.2292 - val_accuracy: 0.9166\n",
      "Epoch 26/100\n",
      "28/28 [==============================] - 71s 3s/step - loss: 0.2208 - accuracy: 0.9182 - val_loss: 0.2350 - val_accuracy: 0.9205\n",
      "Epoch 27/100\n",
      "28/28 [==============================] - 71s 3s/step - loss: 0.2166 - accuracy: 0.9204 - val_loss: 0.2301 - val_accuracy: 0.9133\n",
      "Epoch 28/100\n",
      "28/28 [==============================] - 71s 3s/step - loss: 0.2195 - accuracy: 0.9182 - val_loss: 0.2301 - val_accuracy: 0.9233\n",
      "Epoch 29/100\n",
      "28/28 [==============================] - 71s 3s/step - loss: 0.2093 - accuracy: 0.9241 - val_loss: 0.2299 - val_accuracy: 0.9228\n",
      "Epoch 30/100\n",
      "28/28 [==============================] - 71s 3s/step - loss: 0.2068 - accuracy: 0.9243 - val_loss: 0.2252 - val_accuracy: 0.9183\n",
      "Epoch 31/100\n",
      "28/28 [==============================] - 71s 3s/step - loss: 0.2110 - accuracy: 0.9196 - val_loss: 0.2315 - val_accuracy: 0.9144\n",
      "Epoch 32/100\n",
      "28/28 [==============================] - 70s 2s/step - loss: 0.2138 - accuracy: 0.9196 - val_loss: 0.2221 - val_accuracy: 0.9183\n",
      "Epoch 33/100\n",
      "28/28 [==============================] - 71s 2s/step - loss: 0.2044 - accuracy: 0.9262 - val_loss: 0.2109 - val_accuracy: 0.9194\n",
      "Epoch 34/100\n",
      "28/28 [==============================] - 71s 3s/step - loss: 0.2042 - accuracy: 0.9252 - val_loss: 0.2160 - val_accuracy: 0.9233\n",
      "Epoch 35/100\n",
      "28/28 [==============================] - 71s 2s/step - loss: 0.2030 - accuracy: 0.9243 - val_loss: 0.2244 - val_accuracy: 0.9166\n",
      "Epoch 36/100\n",
      "28/28 [==============================] - 71s 3s/step - loss: 0.2004 - accuracy: 0.9266 - val_loss: 0.2299 - val_accuracy: 0.9149\n",
      "Epoch 37/100\n",
      "28/28 [==============================] - 71s 3s/step - loss: 0.2041 - accuracy: 0.9257 - val_loss: 0.2101 - val_accuracy: 0.9228\n",
      "Epoch 38/100\n",
      "28/28 [==============================] - 71s 3s/step - loss: 0.1966 - accuracy: 0.9294 - val_loss: 0.2097 - val_accuracy: 0.9256\n",
      "Epoch 39/100\n",
      "28/28 [==============================] - 71s 3s/step - loss: 0.1946 - accuracy: 0.9290 - val_loss: 0.2024 - val_accuracy: 0.9267\n",
      "Epoch 40/100\n",
      "28/28 [==============================] - 71s 3s/step - loss: 0.1901 - accuracy: 0.9315 - val_loss: 0.2002 - val_accuracy: 0.9250\n",
      "Epoch 41/100\n",
      "28/28 [==============================] - 70s 2s/step - loss: 0.1913 - accuracy: 0.9319 - val_loss: 0.2021 - val_accuracy: 0.9233\n",
      "Epoch 42/100\n",
      "28/28 [==============================] - 70s 2s/step - loss: 0.1930 - accuracy: 0.9283 - val_loss: 0.2077 - val_accuracy: 0.9256\n",
      "Epoch 43/100\n",
      "28/28 [==============================] - 71s 3s/step - loss: 0.1840 - accuracy: 0.9336 - val_loss: 0.2016 - val_accuracy: 0.9295\n",
      "Epoch 44/100\n",
      "28/28 [==============================] - 71s 3s/step - loss: 0.1890 - accuracy: 0.9323 - val_loss: 0.2002 - val_accuracy: 0.9295\n",
      "Epoch 45/100\n",
      "28/28 [==============================] - 71s 3s/step - loss: 0.1847 - accuracy: 0.9340 - val_loss: 0.1955 - val_accuracy: 0.9289\n",
      "Epoch 46/100\n",
      "28/28 [==============================] - 71s 3s/step - loss: 0.1808 - accuracy: 0.9344 - val_loss: 0.1936 - val_accuracy: 0.9289\n",
      "Epoch 47/100\n",
      "28/28 [==============================] - 71s 3s/step - loss: 0.1794 - accuracy: 0.9375 - val_loss: 0.1974 - val_accuracy: 0.9301\n",
      "Epoch 48/100\n",
      "28/28 [==============================] - 71s 3s/step - loss: 0.1794 - accuracy: 0.9376 - val_loss: 0.1949 - val_accuracy: 0.9312\n",
      "Epoch 49/100\n",
      "28/28 [==============================] - 71s 3s/step - loss: 0.1808 - accuracy: 0.9358 - val_loss: 0.1922 - val_accuracy: 0.9312\n",
      "Epoch 50/100\n",
      "28/28 [==============================] - 71s 2s/step - loss: 0.1778 - accuracy: 0.9352 - val_loss: 0.1915 - val_accuracy: 0.9317\n",
      "Epoch 51/100\n",
      "28/28 [==============================] - 70s 2s/step - loss: 0.1775 - accuracy: 0.9379 - val_loss: 0.1869 - val_accuracy: 0.9312\n",
      "Epoch 52/100\n",
      "28/28 [==============================] - 71s 3s/step - loss: 0.1804 - accuracy: 0.9348 - val_loss: 0.1894 - val_accuracy: 0.9312\n",
      "Epoch 53/100\n",
      "28/28 [==============================] - 71s 3s/step - loss: 0.1757 - accuracy: 0.9387 - val_loss: 0.1910 - val_accuracy: 0.9284\n",
      "Epoch 54/100\n",
      "28/28 [==============================] - 71s 3s/step - loss: 0.1764 - accuracy: 0.9362 - val_loss: 0.1856 - val_accuracy: 0.9323\n",
      "Epoch 55/100\n",
      "28/28 [==============================] - 71s 3s/step - loss: 0.1737 - accuracy: 0.9368 - val_loss: 0.1842 - val_accuracy: 0.9328\n",
      "Epoch 56/100\n",
      "28/28 [==============================] - 71s 3s/step - loss: 0.1727 - accuracy: 0.9399 - val_loss: 0.1887 - val_accuracy: 0.9328\n",
      "Epoch 57/100\n",
      "28/28 [==============================] - 71s 3s/step - loss: 0.1733 - accuracy: 0.9403 - val_loss: 0.1815 - val_accuracy: 0.9340\n",
      "Epoch 58/100\n",
      "28/28 [==============================] - 71s 3s/step - loss: 0.1689 - accuracy: 0.9420 - val_loss: 0.1817 - val_accuracy: 0.9323\n",
      "Epoch 59/100\n",
      "28/28 [==============================] - 71s 2s/step - loss: 0.1694 - accuracy: 0.9400 - val_loss: 0.1829 - val_accuracy: 0.9312\n",
      "Epoch 60/100\n",
      "28/28 [==============================] - 69s 2s/step - loss: 0.1683 - accuracy: 0.9404 - val_loss: 0.1804 - val_accuracy: 0.9317\n",
      "Epoch 61/100\n",
      "28/28 [==============================] - 71s 2s/step - loss: 0.1711 - accuracy: 0.9397 - val_loss: 0.1802 - val_accuracy: 0.9323\n",
      "Epoch 62/100\n",
      "28/28 [==============================] - 71s 3s/step - loss: 0.1682 - accuracy: 0.9424 - val_loss: 0.1782 - val_accuracy: 0.9340\n",
      "Epoch 63/100\n",
      "28/28 [==============================] - 71s 3s/step - loss: 0.1667 - accuracy: 0.9422 - val_loss: 0.1790 - val_accuracy: 0.9356\n",
      "Epoch 64/100\n",
      "28/28 [==============================] - 71s 3s/step - loss: 0.1676 - accuracy: 0.9407 - val_loss: 0.1769 - val_accuracy: 0.9356\n",
      "Epoch 65/100\n",
      "28/28 [==============================] - 71s 3s/step - loss: 0.1694 - accuracy: 0.9411 - val_loss: 0.1748 - val_accuracy: 0.9356\n",
      "Epoch 66/100\n",
      "28/28 [==============================] - 71s 3s/step - loss: 0.1625 - accuracy: 0.9445 - val_loss: 0.1746 - val_accuracy: 0.9351\n",
      "Epoch 67/100\n",
      "28/28 [==============================] - 71s 3s/step - loss: 0.1642 - accuracy: 0.9414 - val_loss: 0.1748 - val_accuracy: 0.9368\n",
      "Epoch 68/100\n",
      "28/28 [==============================] - 71s 3s/step - loss: 0.1623 - accuracy: 0.9436 - val_loss: 0.1783 - val_accuracy: 0.9334\n",
      "Epoch 69/100\n",
      "28/28 [==============================] - 70s 2s/step - loss: 0.1643 - accuracy: 0.9439 - val_loss: 0.1750 - val_accuracy: 0.9362\n",
      "Epoch 70/100\n",
      "28/28 [==============================] - 71s 3s/step - loss: 0.1640 - accuracy: 0.9420 - val_loss: 0.1748 - val_accuracy: 0.9373\n",
      "Epoch 71/100\n",
      "28/28 [==============================] - 71s 3s/step - loss: 0.1621 - accuracy: 0.9432 - val_loss: 0.1733 - val_accuracy: 0.9379\n",
      "Epoch 72/100\n",
      "28/28 [==============================] - 71s 3s/step - loss: 0.1623 - accuracy: 0.9443 - val_loss: 0.1734 - val_accuracy: 0.9384\n",
      "Epoch 73/100\n",
      "28/28 [==============================] - 71s 3s/step - loss: 0.1598 - accuracy: 0.9438 - val_loss: 0.1790 - val_accuracy: 0.9351\n",
      "Epoch 74/100\n",
      "28/28 [==============================] - 71s 3s/step - loss: 0.1600 - accuracy: 0.9460 - val_loss: 0.1761 - val_accuracy: 0.9368\n",
      "Epoch 75/100\n",
      "28/28 [==============================] - 71s 3s/step - loss: 0.1618 - accuracy: 0.9434 - val_loss: 0.1735 - val_accuracy: 0.9373\n",
      "Epoch 76/100\n",
      "28/28 [==============================] - 71s 3s/step - loss: 0.1571 - accuracy: 0.9477 - val_loss: 0.1728 - val_accuracy: 0.9384\n",
      "Epoch 77/100\n",
      "28/28 [==============================] - 72s 3s/step - loss: 0.1587 - accuracy: 0.9448 - val_loss: 0.1744 - val_accuracy: 0.9390\n",
      "Epoch 78/100\n",
      "28/28 [==============================] - 71s 3s/step - loss: 0.1541 - accuracy: 0.9471 - val_loss: 0.1686 - val_accuracy: 0.9396\n",
      "Epoch 79/100\n",
      "28/28 [==============================] - 72s 3s/step - loss: 0.1525 - accuracy: 0.9487 - val_loss: 0.1704 - val_accuracy: 0.9412\n",
      "Epoch 80/100\n",
      "28/28 [==============================] - 72s 3s/step - loss: 0.1567 - accuracy: 0.9478 - val_loss: 0.1717 - val_accuracy: 0.9373\n",
      "Epoch 81/100\n",
      "28/28 [==============================] - 72s 3s/step - loss: 0.1526 - accuracy: 0.9474 - val_loss: 0.1664 - val_accuracy: 0.9412\n",
      "Epoch 82/100\n",
      "28/28 [==============================] - 72s 3s/step - loss: 0.1533 - accuracy: 0.9481 - val_loss: 0.1648 - val_accuracy: 0.9390\n",
      "Epoch 83/100\n",
      "28/28 [==============================] - 73s 3s/step - loss: 0.1538 - accuracy: 0.9471 - val_loss: 0.1664 - val_accuracy: 0.9384\n",
      "Epoch 84/100\n",
      "28/28 [==============================] - 73s 3s/step - loss: 0.1538 - accuracy: 0.9473 - val_loss: 0.1726 - val_accuracy: 0.9429\n",
      "Epoch 85/100\n",
      "28/28 [==============================] - 72s 3s/step - loss: 0.1505 - accuracy: 0.9502 - val_loss: 0.1663 - val_accuracy: 0.9396\n",
      "Epoch 86/100\n",
      "28/28 [==============================] - 73s 3s/step - loss: 0.1519 - accuracy: 0.9481 - val_loss: 0.1716 - val_accuracy: 0.9379\n",
      "Epoch 87/100\n",
      "28/28 [==============================] - 72s 3s/step - loss: 0.1545 - accuracy: 0.9460 - val_loss: 0.1665 - val_accuracy: 0.9429\n",
      "Epoch 88/100\n",
      "28/28 [==============================] - 71s 2s/step - loss: 0.1516 - accuracy: 0.9503 - val_loss: 0.1623 - val_accuracy: 0.9407\n",
      "Epoch 89/100\n",
      "28/28 [==============================] - 72s 3s/step - loss: 0.1503 - accuracy: 0.9499 - val_loss: 0.1624 - val_accuracy: 0.9407\n",
      "Epoch 90/100\n",
      "28/28 [==============================] - 73s 3s/step - loss: 0.1516 - accuracy: 0.9480 - val_loss: 0.1667 - val_accuracy: 0.9435\n",
      "Epoch 91/100\n",
      "28/28 [==============================] - 72s 3s/step - loss: 0.1520 - accuracy: 0.9485 - val_loss: 0.1623 - val_accuracy: 0.9446\n",
      "Epoch 92/100\n",
      "28/28 [==============================] - 72s 3s/step - loss: 0.1509 - accuracy: 0.9499 - val_loss: 0.1612 - val_accuracy: 0.9440\n",
      "Epoch 93/100\n",
      "28/28 [==============================] - 73s 3s/step - loss: 0.1487 - accuracy: 0.9501 - val_loss: 0.1616 - val_accuracy: 0.9412\n",
      "Epoch 94/100\n",
      "28/28 [==============================] - 72s 3s/step - loss: 0.1464 - accuracy: 0.9497 - val_loss: 0.1622 - val_accuracy: 0.9435\n",
      "Epoch 95/100\n",
      "28/28 [==============================] - 73s 3s/step - loss: 0.1467 - accuracy: 0.9501 - val_loss: 0.1630 - val_accuracy: 0.9407\n",
      "Epoch 96/100\n",
      "28/28 [==============================] - 72s 3s/step - loss: 0.1468 - accuracy: 0.9523 - val_loss: 0.1594 - val_accuracy: 0.9424\n",
      "Epoch 97/100\n",
      "28/28 [==============================] - 71s 3s/step - loss: 0.1472 - accuracy: 0.9497 - val_loss: 0.1619 - val_accuracy: 0.9446\n",
      "Epoch 98/100\n",
      "28/28 [==============================] - 72s 3s/step - loss: 0.1464 - accuracy: 0.9512 - val_loss: 0.1623 - val_accuracy: 0.9418\n",
      "Epoch 99/100\n",
      "28/28 [==============================] - 72s 3s/step - loss: 0.1459 - accuracy: 0.9501 - val_loss: 0.1574 - val_accuracy: 0.9440\n",
      "Epoch 100/100\n",
      "28/28 [==============================] - 72s 3s/step - loss: 0.1418 - accuracy: 0.9533 - val_loss: 0.1568 - val_accuracy: 0.9446\n"
     ]
    }
   ],
   "source": [
    "# Entrenar el modelo\n",
    "epochs = 100\n",
    "\n",
    "history = model.fit(train_ds, epochs=epochs, validation_data=validation_dataset)#, class_weight=class_weight_dict)"
   ]
  },
  {
   "cell_type": "code",
   "execution_count": 17,
   "metadata": {},
   "outputs": [
    {
     "name": "stdout",
     "output_type": "stream",
     "text": [
      "35/35 [==============================] - 71s 2s/step - loss: 0.2333 - accuracy: 0.9312\n",
      "Precisión en el conjunto de prueba: 0.9312499761581421\n"
     ]
    }
   ],
   "source": [
    "# Evaluar el modelo en el conjunto de prueba\n",
    "test_loss, test_acc = model.evaluate(test_ds)\n",
    "print(f'Precisión en el conjunto de prueba: {test_acc}')"
   ]
  },
  {
   "cell_type": "code",
   "execution_count": 18,
   "metadata": {},
   "outputs": [
    {
     "data": {
      "image/png": "[encoded data removed]",
      "text/plain": [
       "<Figure size 1200x400 with 2 Axes>"
      ]
     },
     "metadata": {},
     "output_type": "display_data"
    }
   ],
   "source": [
    "# Trazar la curva de aprendizaje\n",
    "plt.figure(figsize=(12, 4))\n",
    "plt.subplot(1, 2, 1)\n",
    "plt.plot(history.history['accuracy'], label='Precisión de Entrenamiento')\n",
    "plt.plot(history.history['val_accuracy'], label='Precisión de Validación')\n",
    "plt.legend(loc='lower right')\n",
    "plt.title('Curva de Aprendizaje de la Precisión')\n",
    "\n",
    "plt.subplot(1, 2, 2)\n",
    "plt.plot(history.history['loss'], label='Pérdida de Entrenamiento')\n",
    "plt.plot(history.history['val_loss'], label='Pérdida de Validación')\n",
    "plt.legend(loc='upper right')\n",
    "plt.title('Curva de Aprendizaje de la Pérdida')\n",
    "plt.show()"
   ]
  },
  {
   "cell_type": "code",
   "execution_count": 19,
   "metadata": {},
   "outputs": [],
   "source": [
    "ruta_modelos_entrenados = '/Volumes/SSD_ANDRÉS/Modelos entrenados'"
   ]
  },
  {
   "cell_type": "code",
   "execution_count": 20,
   "metadata": {},
   "outputs": [
    {
     "name": "stdout",
     "output_type": "stream",
     "text": [
      "INFO:tensorflow:Assets written to: /Volumes/SSD_ANDRÉS/Modelos entrenados/Efficient_RegOpt_224_bs256NDO_L2000001L2000001_09decay20epoc/assets\n"
     ]
    },
    {
     "name": "stderr",
     "output_type": "stream",
     "text": [
      "INFO:tensorflow:Assets written to: /Volumes/SSD_ANDRÉS/Modelos entrenados/Efficient_RegOpt_224_bs256NDO_L2000001L2000001_09decay20epoc/assets\n"
     ]
    }
   ],
   "source": [
    "model.save(ruta_modelos_entrenados+'/Efficient_RegOpt_224_bs256NDO_L2000001L2000001_09decay20epoc')"
   ]
  },
  {
   "cell_type": "code",
   "execution_count": 21,
   "metadata": {},
   "outputs": [
    {
     "name": "stderr",
     "output_type": "stream",
     "text": [
      "2024-03-17 21:24:44.293347: I tensorflow/core/grappler/optimizers/custom_graph_optimizer_registry.cc:114] Plugin optimizer for device_type GPU is enabled.\n"
     ]
    },
    {
     "name": "stdout",
     "output_type": "stream",
     "text": [
      "8/8 [==============================] - 3s 208ms/step\n",
      "8/8 [==============================] - 2s 236ms/step\n",
      "8/8 [==============================] - 2s 235ms/step\n",
      "8/8 [==============================] - 2s 237ms/step\n",
      "8/8 [==============================] - 2s 235ms/step\n",
      "8/8 [==============================] - 2s 236ms/step\n",
      "8/8 [==============================] - 2s 240ms/step\n",
      "8/8 [==============================] - 2s 234ms/step\n",
      "8/8 [==============================] - 2s 235ms/step\n",
      "8/8 [==============================] - 2s 237ms/step\n",
      "8/8 [==============================] - 2s 236ms/step\n",
      "8/8 [==============================] - 2s 232ms/step\n",
      "8/8 [==============================] - 2s 233ms/step\n",
      "8/8 [==============================] - 2s 233ms/step\n",
      "8/8 [==============================] - 2s 234ms/step\n",
      "8/8 [==============================] - 2s 233ms/step\n",
      "8/8 [==============================] - 2s 234ms/step\n",
      "8/8 [==============================] - 2s 234ms/step\n",
      "8/8 [==============================] - 2s 234ms/step\n",
      "8/8 [==============================] - 2s 232ms/step\n",
      "8/8 [==============================] - 2s 232ms/step\n",
      "8/8 [==============================] - 2s 233ms/step\n",
      "8/8 [==============================] - 2s 233ms/step\n",
      "8/8 [==============================] - 2s 231ms/step\n",
      "8/8 [==============================] - 2s 233ms/step\n",
      "8/8 [==============================] - 2s 238ms/step\n",
      "8/8 [==============================] - 2s 234ms/step\n",
      "8/8 [==============================] - 2s 232ms/step\n",
      "8/8 [==============================] - 2s 233ms/step\n",
      "8/8 [==============================] - 2s 234ms/step\n",
      "8/8 [==============================] - 2s 233ms/step\n",
      "8/8 [==============================] - 2s 233ms/step\n",
      "8/8 [==============================] - 2s 233ms/step\n",
      "8/8 [==============================] - 2s 233ms/step\n",
      "8/8 [==============================] - 2s 233ms/step\n"
     ]
    }
   ],
   "source": [
    "ruta_modelos_entrenados = '/Volumes/SSD_ANDRÉS/Modelos entrenados'\n",
    "new_model = tf.keras.models.load_model(ruta_modelos_entrenados+'/Efficient_RegOpt_224_bs256NDO_L2000001L2000001_09decay20epoc')\n",
    "y_pred = []  # store predicted labels\n",
    "y_true = []  # store true labels\n",
    "\n",
    "# iterate over the dataset\n",
    "for image_batch, label_batch in test_ds:   # use dataset.unbatch() with repeat\n",
    "   # append true labels\n",
    "   #print(\"Label: \",label_batch)\n",
    "   y_true.append(label_batch)\n",
    "   # compute predictions\n",
    "   #print(\"Imagen: \",image_batch)\n",
    "   preds = new_model.predict(image_batch)\n",
    "   # append predicted labels\n",
    "   y_pred.append(np.argmax(preds, axis = - 1))\n",
    "   #print(\"-----------------\")\n",
    "\n",
    "# convert the true and predicted labels into tensors\n",
    "correct_labels = tf.concat([item for item in y_true], axis = 0)\n",
    "predicted_labels = tf.concat([item for item in y_pred], axis = 0)"
   ]
  },
  {
   "cell_type": "code",
   "execution_count": 22,
   "metadata": {},
   "outputs": [
    {
     "data": {
      "image/png": "[encoded data removed]",
      "text/plain": [
       "<Figure size 1000x800 with 2 Axes>"
      ]
     },
     "metadata": {},
     "output_type": "display_data"
    }
   ],
   "source": [
    "import seaborn as sns\n",
    "\n",
    "confusion_mtx = tf.math.confusion_matrix(correct_labels, predicted_labels)\n",
    "plt.figure(figsize=(10, 8))\n",
    "sns.heatmap(confusion_mtx,\n",
    "            xticklabels=class_names,\n",
    "            yticklabels=class_names,\n",
    "            annot=True, fmt='g')\n",
    "plt.xlabel('Prediction')\n",
    "plt.ylabel('Label')\n",
    "plt.show()"
   ]
  },
  {
   "cell_type": "code",
   "execution_count": 23,
   "metadata": {},
   "outputs": [
    {
     "name": "stdout",
     "output_type": "stream",
     "text": [
      "%LP: 89.15283342873498\n",
      "%VLP: 89.32367149758454\n",
      "%VT: 99.52885747938751\n"
     ]
    }
   ],
   "source": [
    "cm = confusion_matrix(correct_labels, predicted_labels)\n",
    "print('%LP: '+str(cm[0][0]/sum(cm[0]) * 100))\n",
    "print('%VLP: '+str(cm[1][1]/sum(cm[1]) * 100))\n",
    "print('%VT: '+str(cm[2][2]/sum(cm[2]) * 100))"
   ]
  },
  {
   "cell_type": "code",
   "execution_count": 24,
   "metadata": {},
   "outputs": [
    {
     "name": "stdout",
     "output_type": "stream",
     "text": [
      "              precision    recall  f1-score   support\n",
      "\n",
      "           0       0.93      0.89      0.91      3494\n",
      "           1       0.91      0.89      0.90      2070\n",
      "           2       0.95      1.00      0.97      3396\n",
      "\n",
      "    accuracy                           0.93      8960\n",
      "   macro avg       0.93      0.93      0.93      8960\n",
      "weighted avg       0.93      0.93      0.93      8960\n",
      "\n"
     ]
    }
   ],
   "source": [
    "from sklearn.metrics import classification_report\n",
    "print(classification_report(correct_labels, predicted_labels))"
   ]
  }
 ],
 "metadata": {
  "kernelspec": {
   "display_name": "Tesis_IA",
   "language": "python",
   "name": "python3"
  },
  "language_info": {
   "codemirror_mode": {
    "name": "ipython",
    "version": 3
   },
   "file_extension": ".py",
   "mimetype": "text/x-python",
   "name": "python",
   "nbconvert_exporter": "python",
   "pygments_lexer": "ipython3",
   "version": "3.8.16"
  },
  "orig_nbformat": 4
 },
 "nbformat": 4,
 "nbformat_minor": 2
}
