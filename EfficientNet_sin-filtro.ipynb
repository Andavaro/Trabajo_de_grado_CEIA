{
 "cells": [
  {
   "cell_type": "code",
   "execution_count": 1,
   "metadata": {},
   "outputs": [],
   "source": [
    "import numpy as np\n",
    "import tensorflow as tf\n",
    "from tensorflow.keras import layers, models, regularizers\n",
    "from tensorflow.keras.applications.efficientnet import EfficientNetB0 as EfficientNet\n",
    "from sklearn.utils.class_weight import compute_class_weight\n",
    "from sklearn.model_selection import train_test_split\n",
    "from sklearn.metrics import classification_report, confusion_matrix\n",
    "import matplotlib.pyplot as plt"
   ]
  },
  {
   "cell_type": "code",
   "execution_count": 2,
   "metadata": {},
   "outputs": [],
   "source": [
    "img_height = 224\n",
    "img_width = 224\n",
    "batch_size = 256"
   ]
  },
  {
   "cell_type": "code",
   "execution_count": 3,
   "metadata": {},
   "outputs": [],
   "source": [
    "train_directory = \"/Users/andavaro/Desktop/Andrès/UBA/TrabajoDeGradoCEIA/dataset/Espectrogramas/smote/ns=32_sol=0.9_off_f=0-40\""
   ]
  },
  {
   "cell_type": "code",
   "execution_count": 4,
   "metadata": {},
   "outputs": [
    {
     "name": "stdout",
     "output_type": "stream",
     "text": [
      "Found 8966 files belonging to 3 classes.\n",
      "Using 7173 files for training.\n",
      "Using 1793 files for validation.\n"
     ]
    },
    {
     "name": "stderr",
     "output_type": "stream",
     "text": [
      "2024-02-08 15:45:36.484401: I metal_plugin/src/device/metal_device.cc:1154] Metal device set to: Apple M1\n",
      "2024-02-08 15:45:36.484424: I metal_plugin/src/device/metal_device.cc:296] systemMemory: 16.00 GB\n",
      "2024-02-08 15:45:36.484426: I metal_plugin/src/device/metal_device.cc:313] maxCacheSize: 5.33 GB\n",
      "2024-02-08 15:45:36.484540: I tensorflow/core/common_runtime/pluggable_device/pluggable_device_factory.cc:303] Could not identify NUMA node of platform GPU ID 0, defaulting to 0. Your kernel may not have been built with NUMA support.\n",
      "2024-02-08 15:45:36.484556: I tensorflow/core/common_runtime/pluggable_device/pluggable_device_factory.cc:269] Created TensorFlow device (/job:localhost/replica:0/task:0/device:GPU:0 with 0 MB memory) -> physical PluggableDevice (device: 0, name: METAL, pci bus id: <undefined>)\n"
     ]
    }
   ],
   "source": [
    "# Dividir el set en entrenamiento y validación\n",
    "train_ds, validation_dataset = tf.keras.preprocessing.image_dataset_from_directory(\n",
    "    train_directory, labels='inferred', label_mode='int', batch_size=batch_size, image_size=(img_height, img_width), seed=123, \n",
    "    validation_split=0.2, subset='both')"
   ]
  },
  {
   "cell_type": "code",
   "execution_count": 5,
   "metadata": {},
   "outputs": [
    {
     "name": "stdout",
     "output_type": "stream",
     "text": [
      "Found 11008 files belonging to 3 classes.\n"
     ]
    }
   ],
   "source": [
    "test_directory = \"/Users/andavaro/Desktop/Andrès/UBA/TrabajoDeGradoCEIA/dataset/Espectrogramas/multibalance_para_test/ns=32_sol=0.9_off_f=0-40\"\n",
    "test_ds= tf.keras.preprocessing.image_dataset_from_directory(\n",
    "    test_directory, labels='inferred', label_mode='int', batch_size=batch_size, image_size=(img_height, img_width), seed=123)"
   ]
  },
  {
   "cell_type": "code",
   "execution_count": 6,
   "metadata": {},
   "outputs": [
    {
     "data": {
      "text/plain": [
       "'num_elements = len(train_ds)\\n\\nporcentaje_test = 0.1\\ntrain_size = int((1-porcentaje_test) * num_elements)\\n\\n\\ntest_size = num_elements - train_size\\ntest_ds = train_ds.take(test_size)\\ntrain_ds = train_ds.skip(test_size)'"
      ]
     },
     "execution_count": 6,
     "metadata": {},
     "output_type": "execute_result"
    }
   ],
   "source": [
    "# Esta parte se usa para generar datos para pruebas. Si se tienen datos específicos para las pruebas, se deben llamar con el nombre de test_ds\n",
    "'''num_elements = len(train_ds)\n",
    "\n",
    "porcentaje_test = 0.1\n",
    "train_size = int((1-porcentaje_test) * num_elements)\n",
    "\n",
    "\n",
    "test_size = num_elements - train_size\n",
    "test_ds = train_ds.take(test_size)\n",
    "train_ds = train_ds.skip(test_size)'''"
   ]
  },
  {
   "cell_type": "code",
   "execution_count": 7,
   "metadata": {},
   "outputs": [
    {
     "name": "stdout",
     "output_type": "stream",
     "text": [
      "['LP', 'VLP', 'VT']\n"
     ]
    }
   ],
   "source": [
    "class_names = train_ds.class_names\n",
    "print(class_names)"
   ]
  },
  {
   "cell_type": "code",
   "execution_count": 8,
   "metadata": {},
   "outputs": [
    {
     "data": {
      "text/plain": [
       "\"y_train = train_ds.map(lambda _, label: label).unbatch()\\ny_train = list(y_train.as_numpy_iterator())\\nclass_weights = compute_class_weight('balanced', classes=np.unique(y_train), y=y_train)\\nclass_weight_dict = dict(enumerate(class_weights))\\nprint(class_weight_dict)\""
      ]
     },
     "execution_count": 8,
     "metadata": {},
     "output_type": "execute_result"
    }
   ],
   "source": [
    "'''y_train = train_ds.map(lambda _, label: label).unbatch()\n",
    "y_train = list(y_train.as_numpy_iterator())\n",
    "class_weights = compute_class_weight('balanced', classes=np.unique(y_train), y=y_train)\n",
    "class_weight_dict = dict(enumerate(class_weights))\n",
    "print(class_weight_dict)'''"
   ]
  },
  {
   "attachments": {},
   "cell_type": "markdown",
   "metadata": {},
   "source": [
    "# Modelo DenseNet 121"
   ]
  },
  {
   "cell_type": "code",
   "execution_count": 9,
   "metadata": {},
   "outputs": [],
   "source": [
    "num_classes = len(class_names)"
   ]
  },
  {
   "cell_type": "code",
   "execution_count": 10,
   "metadata": {},
   "outputs": [],
   "source": [
    "# Cargar la arquitectura preentrenada VGG16 sin las capas superiores (sin incluir la capa de salida)\n",
    "base_model = EfficientNet(weights='imagenet', include_top=False, input_shape=(img_height, img_width, 3)) #input_shape=(altura, anchura, canales))\n",
    "base_model = tf.keras.Model(inputs=base_model.input, outputs=base_model.layers[-2].output)"
   ]
  },
  {
   "cell_type": "code",
   "execution_count": 11,
   "metadata": {},
   "outputs": [],
   "source": [
    "# Congelar las capas de la base (no se entrenarán durante el ajuste fino)\n",
    "for layer in base_model.layers:\n",
    "    layer.trainable = False"
   ]
  },
  {
   "cell_type": "code",
   "execution_count": 12,
   "metadata": {},
   "outputs": [],
   "source": [
    "# Agregar capas personalizadas a la arquitectura base\n",
    "model = models.Sequential([\n",
    "    base_model,\n",
    "    layers.Flatten(),\n",
    "    layers.Dense(256, activation='relu', kernel_regularizer=regularizers.L2(0.000001), activity_regularizer=regularizers.L2(0.000001)),\n",
    "    #layers.Dropout(0.5),\n",
    "    layers.Dense(len(class_names), activation='softmax')\n",
    "])"
   ]
  },
  {
   "cell_type": "code",
   "execution_count": 13,
   "metadata": {},
   "outputs": [],
   "source": [
    "# Definir la programación de la tasa de aprendizaje exponencial\n",
    "lr_schedule = tf.keras.optimizers.schedules.ExponentialDecay(\n",
    "    initial_learning_rate=0.00001,\n",
    "    decay_steps=len(train_ds)*20,\n",
    "    decay_rate=0.9\n",
    ")"
   ]
  },
  {
   "cell_type": "code",
   "execution_count": 14,
   "metadata": {},
   "outputs": [
    {
     "name": "stderr",
     "output_type": "stream",
     "text": [
      "WARNING:absl:At this time, the v2.11+ optimizer `tf.keras.optimizers.SGD` runs slowly on M1/M2 Macs, please use the legacy Keras optimizer instead, located at `tf.keras.optimizers.legacy.SGD`.\n"
     ]
    }
   ],
   "source": [
    "# Crear un optimizador con la programación de la tasa de aprendizaje exponencial y momentum\n",
    "custom_optimizer = tf.keras.optimizers.SGD(learning_rate=lr_schedule, momentum=0.9)"
   ]
  },
  {
   "cell_type": "code",
   "execution_count": 15,
   "metadata": {},
   "outputs": [
    {
     "name": "stderr",
     "output_type": "stream",
     "text": [
      "WARNING:absl:There is a known slowdown when using v2.11+ Keras optimizers on M1/M2 Macs. Falling back to the legacy Keras optimizer, i.e., `tf.keras.optimizers.legacy.SGD`.\n"
     ]
    }
   ],
   "source": [
    "# Compilar el modelo\n",
    "model.compile(optimizer=custom_optimizer,\n",
    "              loss='sparse_categorical_crossentropy',\n",
    "              metrics=['accuracy'])"
   ]
  },
  {
   "cell_type": "code",
   "execution_count": 16,
   "metadata": {},
   "outputs": [
    {
     "name": "stdout",
     "output_type": "stream",
     "text": [
      "Epoch 1/100\n"
     ]
    },
    {
     "name": "stderr",
     "output_type": "stream",
     "text": [
      "2024-02-08 15:45:40.048295: I tensorflow/core/grappler/optimizers/custom_graph_optimizer_registry.cc:114] Plugin optimizer for device_type GPU is enabled.\n"
     ]
    },
    {
     "name": "stdout",
     "output_type": "stream",
     "text": [
      "29/29 [==============================] - ETA: 0s - loss: 0.9782 - accuracy: 0.6734"
     ]
    },
    {
     "name": "stderr",
     "output_type": "stream",
     "text": [
      "2024-02-08 15:46:46.253401: I tensorflow/core/grappler/optimizers/custom_graph_optimizer_registry.cc:114] Plugin optimizer for device_type GPU is enabled.\n"
     ]
    },
    {
     "name": "stdout",
     "output_type": "stream",
     "text": [
      "29/29 [==============================] - 84s 3s/step - loss: 0.9782 - accuracy: 0.6734 - val_loss: 0.6200 - val_accuracy: 0.7535\n",
      "Epoch 2/100\n",
      "29/29 [==============================] - 73s 2s/step - loss: 0.5326 - accuracy: 0.7868 - val_loss: 0.3976 - val_accuracy: 0.8271\n",
      "Epoch 3/100\n",
      "29/29 [==============================] - 73s 2s/step - loss: 0.4071 - accuracy: 0.8340 - val_loss: 0.3638 - val_accuracy: 0.8500\n",
      "Epoch 4/100\n",
      "29/29 [==============================] - 72s 2s/step - loss: 0.3815 - accuracy: 0.8454 - val_loss: 0.3969 - val_accuracy: 0.8299\n",
      "Epoch 5/100\n",
      "29/29 [==============================] - 72s 2s/step - loss: 0.3489 - accuracy: 0.8598 - val_loss: 0.3362 - val_accuracy: 0.8567\n",
      "Epoch 6/100\n",
      "29/29 [==============================] - 70s 2s/step - loss: 0.3335 - accuracy: 0.8671 - val_loss: 0.3222 - val_accuracy: 0.8712\n",
      "Epoch 7/100\n",
      "29/29 [==============================] - 72s 2s/step - loss: 0.3096 - accuracy: 0.8801 - val_loss: 0.3005 - val_accuracy: 0.8806\n",
      "Epoch 8/100\n",
      "29/29 [==============================] - 72s 2s/step - loss: 0.3033 - accuracy: 0.8818 - val_loss: 0.3497 - val_accuracy: 0.8388\n",
      "Epoch 9/100\n",
      "29/29 [==============================] - 72s 2s/step - loss: 0.3015 - accuracy: 0.8850 - val_loss: 0.2788 - val_accuracy: 0.8890\n",
      "Epoch 10/100\n",
      "29/29 [==============================] - 72s 2s/step - loss: 0.2790 - accuracy: 0.8936 - val_loss: 0.2776 - val_accuracy: 0.8957\n",
      "Epoch 11/100\n",
      "29/29 [==============================] - 72s 2s/step - loss: 0.2722 - accuracy: 0.8975 - val_loss: 0.2741 - val_accuracy: 0.8968\n",
      "Epoch 12/100\n",
      "29/29 [==============================] - 72s 2s/step - loss: 0.2613 - accuracy: 0.9010 - val_loss: 0.2718 - val_accuracy: 0.8963\n",
      "Epoch 13/100\n",
      "29/29 [==============================] - 72s 2s/step - loss: 0.2591 - accuracy: 0.9048 - val_loss: 0.2734 - val_accuracy: 0.8985\n",
      "Epoch 14/100\n",
      "29/29 [==============================] - 72s 2s/step - loss: 0.2677 - accuracy: 0.8992 - val_loss: 0.2516 - val_accuracy: 0.9013\n",
      "Epoch 15/100\n",
      "29/29 [==============================] - 71s 2s/step - loss: 0.2494 - accuracy: 0.9087 - val_loss: 0.2548 - val_accuracy: 0.9041\n",
      "Epoch 16/100\n",
      "29/29 [==============================] - 72s 2s/step - loss: 0.2425 - accuracy: 0.9116 - val_loss: 0.2535 - val_accuracy: 0.8991\n",
      "Epoch 17/100\n",
      "29/29 [==============================] - 72s 2s/step - loss: 0.2449 - accuracy: 0.9126 - val_loss: 0.2565 - val_accuracy: 0.9013\n",
      "Epoch 18/100\n",
      "29/29 [==============================] - 72s 2s/step - loss: 0.2388 - accuracy: 0.9102 - val_loss: 0.3315 - val_accuracy: 0.8561\n",
      "Epoch 19/100\n",
      "29/29 [==============================] - 72s 2s/step - loss: 0.2418 - accuracy: 0.9108 - val_loss: 0.2392 - val_accuracy: 0.9102\n",
      "Epoch 20/100\n",
      "29/29 [==============================] - 73s 2s/step - loss: 0.2317 - accuracy: 0.9157 - val_loss: 0.2428 - val_accuracy: 0.9096\n",
      "Epoch 21/100\n",
      "29/29 [==============================] - 72s 2s/step - loss: 0.2266 - accuracy: 0.9194 - val_loss: 0.2710 - val_accuracy: 0.8879\n",
      "Epoch 22/100\n",
      "29/29 [==============================] - 72s 2s/step - loss: 0.2346 - accuracy: 0.9150 - val_loss: 0.2442 - val_accuracy: 0.9063\n",
      "Epoch 23/100\n",
      "29/29 [==============================] - 73s 2s/step - loss: 0.2229 - accuracy: 0.9157 - val_loss: 0.2295 - val_accuracy: 0.9186\n",
      "Epoch 24/100\n",
      "29/29 [==============================] - 71s 2s/step - loss: 0.2155 - accuracy: 0.9250 - val_loss: 0.2295 - val_accuracy: 0.9158\n",
      "Epoch 25/100\n",
      "29/29 [==============================] - 72s 2s/step - loss: 0.2116 - accuracy: 0.9242 - val_loss: 0.2633 - val_accuracy: 0.8935\n",
      "Epoch 26/100\n",
      "29/29 [==============================] - 72s 2s/step - loss: 0.2330 - accuracy: 0.9133 - val_loss: 0.2189 - val_accuracy: 0.9163\n",
      "Epoch 27/100\n",
      "29/29 [==============================] - 72s 2s/step - loss: 0.2161 - accuracy: 0.9228 - val_loss: 0.2381 - val_accuracy: 0.9102\n",
      "Epoch 28/100\n",
      "29/29 [==============================] - 72s 2s/step - loss: 0.2139 - accuracy: 0.9250 - val_loss: 0.2206 - val_accuracy: 0.9208\n",
      "Epoch 29/100\n",
      "29/29 [==============================] - 72s 2s/step - loss: 0.2033 - accuracy: 0.9290 - val_loss: 0.2130 - val_accuracy: 0.9236\n",
      "Epoch 30/100\n",
      "29/29 [==============================] - 72s 2s/step - loss: 0.2019 - accuracy: 0.9304 - val_loss: 0.2528 - val_accuracy: 0.8974\n",
      "Epoch 31/100\n",
      "29/29 [==============================] - 72s 2s/step - loss: 0.2095 - accuracy: 0.9226 - val_loss: 0.2047 - val_accuracy: 0.9275\n",
      "Epoch 32/100\n",
      "29/29 [==============================] - 72s 2s/step - loss: 0.1956 - accuracy: 0.9317 - val_loss: 0.2060 - val_accuracy: 0.9275\n",
      "Epoch 33/100\n",
      "29/29 [==============================] - 71s 2s/step - loss: 0.2002 - accuracy: 0.9286 - val_loss: 0.2099 - val_accuracy: 0.9275\n",
      "Epoch 34/100\n",
      "29/29 [==============================] - 72s 2s/step - loss: 0.2010 - accuracy: 0.9253 - val_loss: 0.2056 - val_accuracy: 0.9286\n",
      "Epoch 35/100\n",
      "29/29 [==============================] - 72s 2s/step - loss: 0.1900 - accuracy: 0.9338 - val_loss: 0.1974 - val_accuracy: 0.9297\n",
      "Epoch 36/100\n",
      "29/29 [==============================] - 72s 2s/step - loss: 0.1869 - accuracy: 0.9377 - val_loss: 0.2020 - val_accuracy: 0.9297\n",
      "Epoch 37/100\n",
      "29/29 [==============================] - 72s 2s/step - loss: 0.1877 - accuracy: 0.9343 - val_loss: 0.1995 - val_accuracy: 0.9297\n",
      "Epoch 38/100\n",
      "29/29 [==============================] - 72s 2s/step - loss: 0.1908 - accuracy: 0.9311 - val_loss: 0.1955 - val_accuracy: 0.9325\n",
      "Epoch 39/100\n",
      "29/29 [==============================] - 72s 2s/step - loss: 0.1819 - accuracy: 0.9384 - val_loss: 0.1938 - val_accuracy: 0.9320\n",
      "Epoch 40/100\n",
      "29/29 [==============================] - 72s 2s/step - loss: 0.1949 - accuracy: 0.9279 - val_loss: 0.2009 - val_accuracy: 0.9286\n",
      "Epoch 41/100\n",
      "29/29 [==============================] - 72s 2s/step - loss: 0.1782 - accuracy: 0.9378 - val_loss: 0.1890 - val_accuracy: 0.9342\n",
      "Epoch 42/100\n",
      "29/29 [==============================] - 70s 2s/step - loss: 0.1786 - accuracy: 0.9384 - val_loss: 0.1976 - val_accuracy: 0.9303\n",
      "Epoch 43/100\n",
      "29/29 [==============================] - 72s 2s/step - loss: 0.1780 - accuracy: 0.9396 - val_loss: 0.1880 - val_accuracy: 0.9364\n",
      "Epoch 44/100\n",
      "29/29 [==============================] - 73s 2s/step - loss: 0.1719 - accuracy: 0.9410 - val_loss: 0.1990 - val_accuracy: 0.9297\n",
      "Epoch 45/100\n",
      "29/29 [==============================] - 72s 2s/step - loss: 0.1735 - accuracy: 0.9412 - val_loss: 0.2064 - val_accuracy: 0.9281\n",
      "Epoch 46/100\n",
      "29/29 [==============================] - 72s 2s/step - loss: 0.1765 - accuracy: 0.9394 - val_loss: 0.1915 - val_accuracy: 0.9353\n",
      "Epoch 47/100\n",
      "29/29 [==============================] - 72s 2s/step - loss: 0.1740 - accuracy: 0.9399 - val_loss: 0.1884 - val_accuracy: 0.9364\n",
      "Epoch 48/100\n",
      "29/29 [==============================] - 72s 2s/step - loss: 0.1734 - accuracy: 0.9413 - val_loss: 0.2061 - val_accuracy: 0.9241\n",
      "Epoch 49/100\n",
      "29/29 [==============================] - 72s 2s/step - loss: 0.1846 - accuracy: 0.9357 - val_loss: 0.1841 - val_accuracy: 0.9381\n",
      "Epoch 50/100\n",
      "29/29 [==============================] - 72s 2s/step - loss: 0.1744 - accuracy: 0.9395 - val_loss: 0.1812 - val_accuracy: 0.9409\n",
      "Epoch 51/100\n",
      "29/29 [==============================] - 70s 2s/step - loss: 0.1687 - accuracy: 0.9416 - val_loss: 0.1785 - val_accuracy: 0.9431\n",
      "Epoch 52/100\n",
      "29/29 [==============================] - 72s 2s/step - loss: 0.1657 - accuracy: 0.9431 - val_loss: 0.1774 - val_accuracy: 0.9398\n",
      "Epoch 53/100\n",
      "29/29 [==============================] - 72s 2s/step - loss: 0.1623 - accuracy: 0.9421 - val_loss: 0.2373 - val_accuracy: 0.9063\n",
      "Epoch 54/100\n",
      "29/29 [==============================] - 73s 2s/step - loss: 0.1886 - accuracy: 0.9306 - val_loss: 0.1746 - val_accuracy: 0.9442\n",
      "Epoch 55/100\n",
      "29/29 [==============================] - 72s 2s/step - loss: 0.1683 - accuracy: 0.9433 - val_loss: 0.1919 - val_accuracy: 0.9308\n",
      "Epoch 56/100\n",
      "29/29 [==============================] - 72s 2s/step - loss: 0.1635 - accuracy: 0.9440 - val_loss: 0.1784 - val_accuracy: 0.9403\n",
      "Epoch 57/100\n",
      "29/29 [==============================] - 72s 2s/step - loss: 0.1594 - accuracy: 0.9479 - val_loss: 0.1814 - val_accuracy: 0.9381\n",
      "Epoch 58/100\n",
      "29/29 [==============================] - 72s 2s/step - loss: 0.1557 - accuracy: 0.9476 - val_loss: 0.1801 - val_accuracy: 0.9403\n",
      "Epoch 59/100\n",
      "29/29 [==============================] - 72s 2s/step - loss: 0.1614 - accuracy: 0.9474 - val_loss: 0.1732 - val_accuracy: 0.9442\n",
      "Epoch 60/100\n",
      "29/29 [==============================] - 70s 2s/step - loss: 0.1608 - accuracy: 0.9484 - val_loss: 0.1733 - val_accuracy: 0.9409\n",
      "Epoch 61/100\n",
      "29/29 [==============================] - 72s 2s/step - loss: 0.1594 - accuracy: 0.9467 - val_loss: 0.1744 - val_accuracy: 0.9426\n",
      "Epoch 62/100\n",
      "29/29 [==============================] - 72s 2s/step - loss: 0.1558 - accuracy: 0.9476 - val_loss: 0.1719 - val_accuracy: 0.9453\n",
      "Epoch 63/100\n",
      "29/29 [==============================] - 72s 2s/step - loss: 0.1599 - accuracy: 0.9434 - val_loss: 0.2550 - val_accuracy: 0.8907\n",
      "Epoch 64/100\n",
      "29/29 [==============================] - 72s 2s/step - loss: 0.1760 - accuracy: 0.9361 - val_loss: 0.1700 - val_accuracy: 0.9426\n",
      "Epoch 65/100\n",
      "29/29 [==============================] - 72s 2s/step - loss: 0.1571 - accuracy: 0.9490 - val_loss: 0.2038 - val_accuracy: 0.9208\n",
      "Epoch 66/100\n",
      "29/29 [==============================] - 72s 2s/step - loss: 0.1747 - accuracy: 0.9357 - val_loss: 0.1703 - val_accuracy: 0.9431\n",
      "Epoch 67/100\n",
      "29/29 [==============================] - 72s 2s/step - loss: 0.1577 - accuracy: 0.9472 - val_loss: 0.2384 - val_accuracy: 0.9080\n",
      "Epoch 68/100\n",
      "29/29 [==============================] - 73s 2s/step - loss: 0.1801 - accuracy: 0.9331 - val_loss: 0.1695 - val_accuracy: 0.9431\n",
      "Epoch 69/100\n",
      "29/29 [==============================] - 70s 2s/step - loss: 0.1545 - accuracy: 0.9488 - val_loss: 0.1676 - val_accuracy: 0.9459\n",
      "Epoch 70/100\n",
      "29/29 [==============================] - 72s 2s/step - loss: 0.1525 - accuracy: 0.9483 - val_loss: 0.1687 - val_accuracy: 0.9453\n",
      "Epoch 71/100\n",
      "29/29 [==============================] - 72s 2s/step - loss: 0.1529 - accuracy: 0.9477 - val_loss: 0.1813 - val_accuracy: 0.9331\n",
      "Epoch 72/100\n",
      "29/29 [==============================] - 72s 2s/step - loss: 0.1551 - accuracy: 0.9494 - val_loss: 0.1662 - val_accuracy: 0.9465\n",
      "Epoch 73/100\n",
      "29/29 [==============================] - 74s 3s/step - loss: 0.1505 - accuracy: 0.9505 - val_loss: 0.1977 - val_accuracy: 0.9308\n",
      "Epoch 74/100\n",
      "29/29 [==============================] - 73s 2s/step - loss: 0.1662 - accuracy: 0.9409 - val_loss: 0.1937 - val_accuracy: 0.9275\n",
      "Epoch 75/100\n",
      "29/29 [==============================] - 73s 2s/step - loss: 0.1602 - accuracy: 0.9440 - val_loss: 0.1625 - val_accuracy: 0.9465\n",
      "Epoch 76/100\n",
      "29/29 [==============================] - 73s 2s/step - loss: 0.1522 - accuracy: 0.9483 - val_loss: 0.1651 - val_accuracy: 0.9476\n",
      "Epoch 77/100\n",
      "29/29 [==============================] - 73s 2s/step - loss: 0.1453 - accuracy: 0.9520 - val_loss: 0.1641 - val_accuracy: 0.9492\n",
      "Epoch 78/100\n",
      "29/29 [==============================] - 72s 2s/step - loss: 0.1482 - accuracy: 0.9502 - val_loss: 0.1630 - val_accuracy: 0.9481\n",
      "Epoch 79/100\n",
      "29/29 [==============================] - 72s 2s/step - loss: 0.1479 - accuracy: 0.9500 - val_loss: 0.1613 - val_accuracy: 0.9481\n",
      "Epoch 80/100\n",
      "29/29 [==============================] - 73s 2s/step - loss: 0.1466 - accuracy: 0.9530 - val_loss: 0.2073 - val_accuracy: 0.9247\n",
      "Epoch 81/100\n",
      "29/29 [==============================] - 73s 2s/step - loss: 0.1717 - accuracy: 0.9366 - val_loss: 0.1679 - val_accuracy: 0.9437\n",
      "Epoch 82/100\n",
      "29/29 [==============================] - 73s 2s/step - loss: 0.1442 - accuracy: 0.9522 - val_loss: 0.1756 - val_accuracy: 0.9414\n",
      "Epoch 83/100\n",
      "29/29 [==============================] - 73s 2s/step - loss: 0.1448 - accuracy: 0.9539 - val_loss: 0.1638 - val_accuracy: 0.9492\n",
      "Epoch 84/100\n",
      "29/29 [==============================] - 73s 2s/step - loss: 0.1501 - accuracy: 0.9494 - val_loss: 0.1619 - val_accuracy: 0.9492\n",
      "Epoch 85/100\n",
      "29/29 [==============================] - 73s 2s/step - loss: 0.1424 - accuracy: 0.9546 - val_loss: 0.1657 - val_accuracy: 0.9426\n",
      "Epoch 86/100\n",
      "29/29 [==============================] - 73s 2s/step - loss: 0.1521 - accuracy: 0.9483 - val_loss: 0.1672 - val_accuracy: 0.9426\n",
      "Epoch 87/100\n",
      "29/29 [==============================] - 72s 2s/step - loss: 0.1443 - accuracy: 0.9502 - val_loss: 0.1587 - val_accuracy: 0.9492\n",
      "Epoch 88/100\n",
      "29/29 [==============================] - 72s 2s/step - loss: 0.1395 - accuracy: 0.9557 - val_loss: 0.1580 - val_accuracy: 0.9498\n",
      "Epoch 89/100\n",
      "29/29 [==============================] - 73s 2s/step - loss: 0.1366 - accuracy: 0.9569 - val_loss: 0.1579 - val_accuracy: 0.9509\n",
      "Epoch 90/100\n",
      "29/29 [==============================] - 73s 2s/step - loss: 0.1355 - accuracy: 0.9585 - val_loss: 0.1613 - val_accuracy: 0.9487\n",
      "Epoch 91/100\n",
      "29/29 [==============================] - 73s 2s/step - loss: 0.1395 - accuracy: 0.9558 - val_loss: 0.1546 - val_accuracy: 0.9532\n",
      "Epoch 92/100\n",
      "29/29 [==============================] - 72s 2s/step - loss: 0.1353 - accuracy: 0.9573 - val_loss: 0.1614 - val_accuracy: 0.9476\n",
      "Epoch 93/100\n",
      "29/29 [==============================] - 72s 2s/step - loss: 0.1498 - accuracy: 0.9505 - val_loss: 0.1581 - val_accuracy: 0.9492\n",
      "Epoch 94/100\n",
      "29/29 [==============================] - 72s 2s/step - loss: 0.1353 - accuracy: 0.9565 - val_loss: 0.1711 - val_accuracy: 0.9426\n",
      "Epoch 95/100\n",
      "29/29 [==============================] - 72s 2s/step - loss: 0.1465 - accuracy: 0.9519 - val_loss: 0.1592 - val_accuracy: 0.9504\n",
      "Epoch 96/100\n",
      "29/29 [==============================] - 72s 2s/step - loss: 0.1347 - accuracy: 0.9575 - val_loss: 0.1527 - val_accuracy: 0.9509\n",
      "Epoch 97/100\n",
      "29/29 [==============================] - 70s 2s/step - loss: 0.1377 - accuracy: 0.9543 - val_loss: 0.1551 - val_accuracy: 0.9526\n",
      "Epoch 98/100\n",
      "29/29 [==============================] - 72s 2s/step - loss: 0.1344 - accuracy: 0.9590 - val_loss: 0.1546 - val_accuracy: 0.9520\n",
      "Epoch 99/100\n",
      "29/29 [==============================] - 72s 2s/step - loss: 0.1337 - accuracy: 0.9600 - val_loss: 0.1555 - val_accuracy: 0.9520\n",
      "Epoch 100/100\n",
      "29/29 [==============================] - 72s 2s/step - loss: 0.1351 - accuracy: 0.9573 - val_loss: 0.1543 - val_accuracy: 0.9504\n"
     ]
    }
   ],
   "source": [
    "# Entrenar el modelo\n",
    "epochs = 100\n",
    "\n",
    "history = model.fit(train_ds, epochs=epochs, validation_data=validation_dataset)#, class_weight=class_weight_dict)"
   ]
  },
  {
   "cell_type": "code",
   "execution_count": 17,
   "metadata": {},
   "outputs": [
    {
     "name": "stdout",
     "output_type": "stream",
     "text": [
      "43/43 [==============================] - 87s 2s/step - loss: 0.1602 - accuracy: 0.9450\n",
      "Precisión en el conjunto de prueba: 0.9450399875640869\n"
     ]
    }
   ],
   "source": [
    "# Evaluar el modelo en el conjunto de prueba\n",
    "test_loss, test_acc = model.evaluate(test_ds)\n",
    "print(f'Precisión en el conjunto de prueba: {test_acc}')"
   ]
  },
  {
   "cell_type": "code",
   "execution_count": 18,
   "metadata": {},
   "outputs": [
    {
     "data": {
      "image/png": "[encoded data removed]",
      "text/plain": [
       "<Figure size 1200x400 with 2 Axes>"
      ]
     },
     "metadata": {},
     "output_type": "display_data"
    }
   ],
   "source": [
    "# Trazar la curva de aprendizaje\n",
    "plt.figure(figsize=(12, 4))\n",
    "plt.subplot(1, 2, 1)\n",
    "plt.plot(history.history['accuracy'], label='Precisión de Entrenamiento')\n",
    "plt.plot(history.history['val_accuracy'], label='Precisión de Validación')\n",
    "plt.legend(loc='lower right')\n",
    "plt.title('Curva de Aprendizaje de la Precisión')\n",
    "\n",
    "plt.subplot(1, 2, 2)\n",
    "plt.plot(history.history['loss'], label='Pérdida de Entrenamiento')\n",
    "plt.plot(history.history['val_loss'], label='Pérdida de Validación')\n",
    "plt.legend(loc='upper right')\n",
    "plt.title('Curva de Aprendizaje de la Pérdida')\n",
    "plt.show()"
   ]
  },
  {
   "cell_type": "code",
   "execution_count": 19,
   "metadata": {},
   "outputs": [],
   "source": [
    "ruta_modelos_entrenados = '/Volumes/SSD_ANDRÉS/Modelos entrenados'"
   ]
  },
  {
   "cell_type": "code",
   "execution_count": 20,
   "metadata": {},
   "outputs": [
    {
     "name": "stdout",
     "output_type": "stream",
     "text": [
      "INFO:tensorflow:Assets written to: /Volumes/SSD_ANDRÉS/Modelos entrenados/Efficient_RegOpt_224_bs256NDO_L2000001L2000001_09decay20epoc/assets\n"
     ]
    },
    {
     "name": "stderr",
     "output_type": "stream",
     "text": [
      "INFO:tensorflow:Assets written to: /Volumes/SSD_ANDRÉS/Modelos entrenados/Efficient_RegOpt_224_bs256NDO_L2000001L2000001_09decay20epoc/assets\n"
     ]
    }
   ],
   "source": [
    "model.save(ruta_modelos_entrenados+'/Efficient_RegOpt_224_bs256NDO_L2000001L2000001_09decay20epoc')"
   ]
  },
  {
   "cell_type": "code",
   "execution_count": 21,
   "metadata": {},
   "outputs": [
    {
     "name": "stderr",
     "output_type": "stream",
     "text": [
      "2024-02-08 17:47:48.204527: I tensorflow/core/grappler/optimizers/custom_graph_optimizer_registry.cc:114] Plugin optimizer for device_type GPU is enabled.\n"
     ]
    },
    {
     "name": "stdout",
     "output_type": "stream",
     "text": [
      "8/8 [==============================] - 3s 206ms/step\n",
      "8/8 [==============================] - 2s 232ms/step\n",
      "8/8 [==============================] - 2s 232ms/step\n",
      "8/8 [==============================] - 2s 230ms/step\n",
      "8/8 [==============================] - 2s 226ms/step\n",
      "8/8 [==============================] - 2s 226ms/step\n",
      "8/8 [==============================] - 2s 222ms/step\n",
      "8/8 [==============================] - 2s 222ms/step\n",
      "8/8 [==============================] - 2s 215ms/step\n",
      "8/8 [==============================] - 2s 227ms/step\n",
      "8/8 [==============================] - 2s 225ms/step\n",
      "8/8 [==============================] - 2s 224ms/step\n",
      "8/8 [==============================] - 2s 222ms/step\n",
      "8/8 [==============================] - 2s 229ms/step\n",
      "8/8 [==============================] - 2s 226ms/step\n",
      "8/8 [==============================] - 2s 228ms/step\n",
      "8/8 [==============================] - 2s 231ms/step\n",
      "8/8 [==============================] - 2s 219ms/step\n",
      "8/8 [==============================] - 2s 228ms/step\n",
      "8/8 [==============================] - 2s 224ms/step\n",
      "8/8 [==============================] - 2s 231ms/step\n",
      "8/8 [==============================] - 2s 230ms/step\n",
      "8/8 [==============================] - 2s 224ms/step\n",
      "8/8 [==============================] - 2s 229ms/step\n",
      "8/8 [==============================] - 2s 228ms/step\n",
      "8/8 [==============================] - 2s 227ms/step\n",
      "8/8 [==============================] - 2s 228ms/step\n",
      "8/8 [==============================] - 2s 230ms/step\n",
      "8/8 [==============================] - 2s 228ms/step\n",
      "8/8 [==============================] - 2s 232ms/step\n",
      "8/8 [==============================] - 2s 227ms/step\n",
      "8/8 [==============================] - 2s 229ms/step\n",
      "8/8 [==============================] - 2s 235ms/step\n",
      "8/8 [==============================] - 2s 230ms/step\n",
      "8/8 [==============================] - 2s 228ms/step\n",
      "8/8 [==============================] - 2s 228ms/step\n",
      "8/8 [==============================] - 2s 228ms/step\n",
      "8/8 [==============================] - 2s 227ms/step\n",
      "8/8 [==============================] - 2s 227ms/step\n",
      "8/8 [==============================] - 2s 228ms/step\n",
      "8/8 [==============================] - 2s 230ms/step\n",
      "8/8 [==============================] - 2s 227ms/step\n",
      "8/8 [==============================] - 2s 230ms/step\n"
     ]
    }
   ],
   "source": [
    "ruta_modelos_entrenados = '/Volumes/SSD_ANDRÉS/Modelos entrenados'\n",
    "new_model = tf.keras.models.load_model(ruta_modelos_entrenados+'/Efficient_RegOpt_224_bs256NDO_L2000001L2000001_09decay20epoc')\n",
    "y_pred = []  # store predicted labels\n",
    "y_true = []  # store true labels\n",
    "\n",
    "# iterate over the dataset\n",
    "for image_batch, label_batch in test_ds:   # use dataset.unbatch() with repeat\n",
    "   # append true labels\n",
    "   #print(\"Label: \",label_batch)\n",
    "   y_true.append(label_batch)\n",
    "   # compute predictions\n",
    "   #print(\"Imagen: \",image_batch)\n",
    "   preds = new_model.predict(image_batch)\n",
    "   # append predicted labels\n",
    "   y_pred.append(np.argmax(preds, axis = - 1))\n",
    "   #print(\"-----------------\")\n",
    "\n",
    "# convert the true and predicted labels into tensors\n",
    "correct_labels = tf.concat([item for item in y_true], axis = 0)\n",
    "predicted_labels = tf.concat([item for item in y_pred], axis = 0)"
   ]
  },
  {
   "cell_type": "code",
   "execution_count": 22,
   "metadata": {},
   "outputs": [
    {
     "data": {
      "image/png": "[encoded data removed]",
      "text/plain": [
       "<Figure size 1000x800 with 2 Axes>"
      ]
     },
     "metadata": {},
     "output_type": "display_data"
    }
   ],
   "source": [
    "import seaborn as sns\n",
    "\n",
    "confusion_mtx = tf.math.confusion_matrix(correct_labels, predicted_labels)\n",
    "plt.figure(figsize=(10, 8))\n",
    "sns.heatmap(confusion_mtx,\n",
    "            xticklabels=class_names,\n",
    "            yticklabels=class_names,\n",
    "            annot=True, fmt='g')\n",
    "plt.xlabel('Prediction')\n",
    "plt.ylabel('Label')\n",
    "plt.show()"
   ]
  },
  {
   "cell_type": "code",
   "execution_count": 23,
   "metadata": {},
   "outputs": [
    {
     "name": "stdout",
     "output_type": "stream",
     "text": [
      "%LP: 96.88410017472336\n",
      "%VLP: 88.76811594202898\n",
      "%VT: 99.03902154921374\n"
     ]
    }
   ],
   "source": [
    "cm = confusion_matrix(correct_labels, predicted_labels)\n",
    "print('%LP: '+str(cm[0][0]/sum(cm[0]) * 100))\n",
    "print('%VLP: '+str(cm[1][1]/sum(cm[1]) * 100))\n",
    "print('%VT: '+str(cm[2][2]/sum(cm[2]) * 100))"
   ]
  },
  {
   "cell_type": "code",
   "execution_count": 24,
   "metadata": {},
   "outputs": [
    {
     "name": "stdout",
     "output_type": "stream",
     "text": [
      "              precision    recall  f1-score   support\n",
      "\n",
      "           0       0.87      0.97      0.92      3434\n",
      "           1       0.99      0.89      0.93      4140\n",
      "           2       0.98      0.99      0.99      3434\n",
      "\n",
      "    accuracy                           0.95     11008\n",
      "   macro avg       0.95      0.95      0.95     11008\n",
      "weighted avg       0.95      0.95      0.95     11008\n",
      "\n"
     ]
    }
   ],
   "source": [
    "from sklearn.metrics import classification_report\n",
    "print(classification_report(correct_labels, predicted_labels))"
   ]
  }
 ],
 "metadata": {
  "kernelspec": {
   "display_name": "Tesis_IA",
   "language": "python",
   "name": "python3"
  },
  "language_info": {
   "codemirror_mode": {
    "name": "ipython",
    "version": 3
   },
   "file_extension": ".py",
   "mimetype": "text/x-python",
   "name": "python",
   "nbconvert_exporter": "python",
   "pygments_lexer": "ipython3",
   "version": "3.8.16"
  },
  "orig_nbformat": 4
 },
 "nbformat": 4,
 "nbformat_minor": 2
}
