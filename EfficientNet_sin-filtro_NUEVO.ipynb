{
 "cells": [
  {
   "cell_type": "code",
   "execution_count": 1,
   "metadata": {},
   "outputs": [],
   "source": [
    "import numpy as np\n",
    "import tensorflow as tf\n",
    "from tensorflow.keras import layers, models, regularizers\n",
    "from tensorflow.keras.applications.efficientnet import EfficientNetB0 as EfficientNet\n",
    "from tensorflow.keras.preprocessing.image import ImageDataGenerator\n",
    "from sklearn.utils.class_weight import compute_class_weight\n",
    "from sklearn.model_selection import train_test_split\n",
    "from sklearn.metrics import classification_report, confusion_matrix\n",
    "import matplotlib.pyplot as plt"
   ]
  },
  {
   "cell_type": "code",
   "execution_count": 2,
   "metadata": {},
   "outputs": [],
   "source": [
    "img_height = 224\n",
    "img_width = 224\n",
    "batch_size = 256"
   ]
  },
  {
   "cell_type": "code",
   "execution_count": 3,
   "metadata": {},
   "outputs": [],
   "source": [
    "train_directory = \"/Users/andavaro/Desktop/Andrès/UBA/TrabajoDeGradoCEIA/dataset/Espectrogramas/off/Copia de ns=32_sol=0.9_off_f=0-40\""
   ]
  },
  {
   "cell_type": "code",
   "execution_count": 4,
   "metadata": {},
   "outputs": [
    {
     "name": "stdout",
     "output_type": "stream",
     "text": [
      "Found 7956 files belonging to 3 classes.\n",
      "Using 7161 files for training.\n",
      "Using 795 files for validation.\n"
     ]
    },
    {
     "name": "stderr",
     "output_type": "stream",
     "text": [
      "2024-06-11 21:50:17.940024: I metal_plugin/src/device/metal_device.cc:1154] Metal device set to: Apple M1\n",
      "2024-06-11 21:50:17.940053: I metal_plugin/src/device/metal_device.cc:296] systemMemory: 16.00 GB\n",
      "2024-06-11 21:50:17.940056: I metal_plugin/src/device/metal_device.cc:313] maxCacheSize: 5.33 GB\n",
      "2024-06-11 21:50:17.940092: I tensorflow/core/common_runtime/pluggable_device/pluggable_device_factory.cc:303] Could not identify NUMA node of platform GPU ID 0, defaulting to 0. Your kernel may not have been built with NUMA support.\n",
      "2024-06-11 21:50:17.940114: I tensorflow/core/common_runtime/pluggable_device/pluggable_device_factory.cc:269] Created TensorFlow device (/job:localhost/replica:0/task:0/device:GPU:0 with 0 MB memory) -> physical PluggableDevice (device: 0, name: METAL, pci bus id: <undefined>)\n"
     ]
    }
   ],
   "source": [
    "# Dividir el set en entrenamiento y validación\n",
    "train_ds, validation_dataset = tf.keras.preprocessing.image_dataset_from_directory(\n",
    "    train_directory, labels='inferred', label_mode='int', batch_size=batch_size, image_size=(img_height, img_width), seed=123, \n",
    "    validation_split=0.1, subset='both')"
   ]
  },
  {
   "cell_type": "code",
   "execution_count": 5,
   "metadata": {},
   "outputs": [
    {
     "name": "stdout",
     "output_type": "stream",
     "text": [
      "Tamaño del dataset: 28\n",
      "Tamaño de train: 24\n",
      "Tamaño de test: 4\n"
     ]
    }
   ],
   "source": [
    "# Obtener el tamaño del dataset\n",
    "class_names = train_ds.class_names\n",
    "dataset_size = len(train_ds)\n",
    "print(\"Tamaño del dataset:\", dataset_size)\n",
    "\n",
    "# Calcular el tamaño de los subconjuntos\n",
    "test_size = int(0.15 * dataset_size)\n",
    "train_size = dataset_size - test_size\n",
    "\n",
    "# Dividir el dataset en entrenamiento y prueba\n",
    "test_ds = train_ds.take(test_size)\n",
    "train_ds = train_ds.skip(test_size)\n",
    "\n",
    "print(\"Tamaño de train:\", len(train_ds))\n",
    "print(\"Tamaño de test:\", len(test_ds))"
   ]
  },
  {
   "cell_type": "code",
   "execution_count": 6,
   "metadata": {},
   "outputs": [
    {
     "data": {
      "text/plain": [
       "'test_directory = \"/Users/andavaro/Desktop/Andrès/UBA/TrabajoDeGradoCEIA/dataset/Espectrogramas/multibalance_para_test/ns=32_sol=0.9_off_f=0-40\"\\ntest_ds= tf.keras.preprocessing.image_dataset_from_directory(\\n    test_directory, labels=\\'inferred\\', label_mode=\\'int\\', batch_size=batch_size, image_size=(img_height, img_width), seed=123)'"
      ]
     },
     "execution_count": 6,
     "metadata": {},
     "output_type": "execute_result"
    }
   ],
   "source": [
    "'''test_directory = \"/Users/andavaro/Desktop/Andrès/UBA/TrabajoDeGradoCEIA/dataset/Espectrogramas/multibalance_para_test/ns=32_sol=0.9_off_f=0-40\"\n",
    "test_ds= tf.keras.preprocessing.image_dataset_from_directory(\n",
    "    test_directory, labels='inferred', label_mode='int', batch_size=batch_size, image_size=(img_height, img_width), seed=123)'''"
   ]
  },
  {
   "cell_type": "code",
   "execution_count": 7,
   "metadata": {},
   "outputs": [
    {
     "name": "stdout",
     "output_type": "stream",
     "text": [
      "['LP', 'VLP', 'VT']\n",
      "test size:4\n",
      "train size:24\n",
      "step by epoch:24\n"
     ]
    }
   ],
   "source": [
    "# Esta parte se usa para generar datos para pruebas. Si se tienen datos específicos para las pruebas, se deben llamar con el nombre de test_ds\n",
    "\n",
    "print(class_names)\n",
    "\n",
    "num_elements = len(train_ds)\n",
    "\n",
    "porcentaje_test = 0.1\n",
    "train_size = int((1-porcentaje_test) * num_elements)\n",
    "\n",
    "\n",
    "'''test_size = num_elements - train_size\n",
    "test_ds = train_ds.take(test_size)\n",
    "train_ds = train_ds.skip(test_size)'''\n",
    "\n",
    "step_by_epoch = len(train_ds)\n",
    "\n",
    "print(f'test size:{len(test_ds)}')\n",
    "print(f'train size:{len(train_ds)}')\n",
    "print(f'step by epoch:{step_by_epoch}')"
   ]
  },
  {
   "cell_type": "code",
   "execution_count": 8,
   "metadata": {},
   "outputs": [
    {
     "data": {
      "text/plain": [
       "\"y_train = train_ds.map(lambda _, label: label).unbatch()\\ny_train = list(y_train.as_numpy_iterator())\\nclass_weights = compute_class_weight('balanced', classes=np.unique(y_train), y=y_train)\\nclass_weight_dict = dict(enumerate(class_weights))\\nprint(class_weight_dict)\""
      ]
     },
     "execution_count": 8,
     "metadata": {},
     "output_type": "execute_result"
    }
   ],
   "source": [
    "'''y_train = train_ds.map(lambda _, label: label).unbatch()\n",
    "y_train = list(y_train.as_numpy_iterator())\n",
    "class_weights = compute_class_weight('balanced', classes=np.unique(y_train), y=y_train)\n",
    "class_weight_dict = dict(enumerate(class_weights))\n",
    "print(class_weight_dict)'''"
   ]
  },
  {
   "attachments": {},
   "cell_type": "markdown",
   "metadata": {},
   "source": [
    "# Modelo ResNet 50"
   ]
  },
  {
   "cell_type": "code",
   "execution_count": 9,
   "metadata": {},
   "outputs": [],
   "source": [
    "num_classes = len(class_names)"
   ]
  },
  {
   "cell_type": "code",
   "execution_count": 10,
   "metadata": {},
   "outputs": [],
   "source": [
    "# Cargar la arquitectura preentrenada VGG16 sin las capas superiores (sin incluir la capa de salida)\n",
    "base_model = EfficientNet(weights='imagenet', include_top=False, input_shape=(img_height, img_width, 3)) #input_shape=(altura, anchura, canales))\n",
    "base_model = tf.keras.Model(inputs=base_model.input, outputs=base_model.layers[-2].output)"
   ]
  },
  {
   "cell_type": "code",
   "execution_count": 11,
   "metadata": {},
   "outputs": [],
   "source": [
    "# Congelar las capas de la base (no se entrenarán durante el ajuste fino)\n",
    "for layer in base_model.layers:\n",
    "    layer.trainable = False"
   ]
  },
  {
   "cell_type": "code",
   "execution_count": 12,
   "metadata": {},
   "outputs": [],
   "source": [
    "# Agregar capas personalizadas a la arquitectura base\n",
    "model = models.Sequential([\n",
    "    base_model,\n",
    "    layers.Flatten(),\n",
    "    layers.Dense(256, activation='relu', kernel_regularizer=regularizers.L2(0.000001), activity_regularizer=regularizers.L2(0.000001)),\n",
    "    #layers.Dropout(0.5),\n",
    "    layers.Dense(len(class_names), activation='softmax')\n",
    "])"
   ]
  },
  {
   "cell_type": "code",
   "execution_count": 13,
   "metadata": {},
   "outputs": [],
   "source": [
    "# Definir la programación de la tasa de aprendizaje exponencial\n",
    "lr_schedule = tf.keras.optimizers.schedules.ExponentialDecay(\n",
    "    initial_learning_rate=0.00001,\n",
    "    decay_steps=step_by_epoch*20,\n",
    "    decay_rate=0.96\n",
    ")"
   ]
  },
  {
   "cell_type": "code",
   "execution_count": 14,
   "metadata": {},
   "outputs": [
    {
     "name": "stderr",
     "output_type": "stream",
     "text": [
      "WARNING:absl:At this time, the v2.11+ optimizer `tf.keras.optimizers.SGD` runs slowly on M1/M2 Macs, please use the legacy Keras optimizer instead, located at `tf.keras.optimizers.legacy.SGD`.\n"
     ]
    }
   ],
   "source": [
    "# Crear un optimizador con la programación de la tasa de aprendizaje exponencial y momentum\n",
    "custom_optimizer = tf.keras.optimizers.SGD(learning_rate=lr_schedule, momentum=0.9)"
   ]
  },
  {
   "cell_type": "code",
   "execution_count": 15,
   "metadata": {},
   "outputs": [
    {
     "name": "stderr",
     "output_type": "stream",
     "text": [
      "WARNING:absl:There is a known slowdown when using v2.11+ Keras optimizers on M1/M2 Macs. Falling back to the legacy Keras optimizer, i.e., `tf.keras.optimizers.legacy.SGD`.\n"
     ]
    }
   ],
   "source": [
    "# Compilar el modelo\n",
    "model.compile(optimizer=custom_optimizer,\n",
    "              loss='sparse_categorical_crossentropy',\n",
    "              metrics=['accuracy'])"
   ]
  },
  {
   "cell_type": "code",
   "execution_count": 16,
   "metadata": {},
   "outputs": [
    {
     "name": "stdout",
     "output_type": "stream",
     "text": [
      "Epoch 1/100\n"
     ]
    },
    {
     "name": "stderr",
     "output_type": "stream",
     "text": [
      "2024-06-11 21:50:21.255755: I tensorflow/core/grappler/optimizers/custom_graph_optimizer_registry.cc:114] Plugin optimizer for device_type GPU is enabled.\n"
     ]
    },
    {
     "name": "stdout",
     "output_type": "stream",
     "text": [
      "24/24 [==============================] - ETA: 0s - loss: 1.8813 - accuracy: 0.6096"
     ]
    },
    {
     "name": "stderr",
     "output_type": "stream",
     "text": [
      "2024-06-11 21:51:14.543282: I tensorflow/core/grappler/optimizers/custom_graph_optimizer_registry.cc:114] Plugin optimizer for device_type GPU is enabled.\n"
     ]
    },
    {
     "name": "stdout",
     "output_type": "stream",
     "text": [
      "24/24 [==============================] - 62s 2s/step - loss: 1.8813 - accuracy: 0.6096 - val_loss: 1.1024 - val_accuracy: 0.7786\n",
      "Epoch 2/100\n",
      "24/24 [==============================] - 59s 2s/step - loss: 0.6210 - accuracy: 0.7963 - val_loss: 0.4748 - val_accuracy: 0.8189\n",
      "Epoch 3/100\n",
      "24/24 [==============================] - 56s 2s/step - loss: 0.4212 - accuracy: 0.8421 - val_loss: 0.4237 - val_accuracy: 0.8415\n",
      "Epoch 4/100\n",
      "24/24 [==============================] - 56s 2s/step - loss: 0.3949 - accuracy: 0.8473 - val_loss: 0.3852 - val_accuracy: 0.8415\n",
      "Epoch 5/100\n",
      "24/24 [==============================] - 57s 2s/step - loss: 0.3579 - accuracy: 0.8605 - val_loss: 0.3727 - val_accuracy: 0.8503\n",
      "Epoch 6/100\n",
      "24/24 [==============================] - 56s 2s/step - loss: 0.3464 - accuracy: 0.8628 - val_loss: 0.3539 - val_accuracy: 0.8478\n",
      "Epoch 7/100\n",
      "24/24 [==============================] - 56s 2s/step - loss: 0.3374 - accuracy: 0.8696 - val_loss: 0.3407 - val_accuracy: 0.8528\n",
      "Epoch 8/100\n",
      "24/24 [==============================] - 56s 2s/step - loss: 0.3264 - accuracy: 0.8739 - val_loss: 0.3344 - val_accuracy: 0.8553\n",
      "Epoch 9/100\n",
      "24/24 [==============================] - 58s 2s/step - loss: 0.3154 - accuracy: 0.8740 - val_loss: 0.3226 - val_accuracy: 0.8566\n",
      "Epoch 10/100\n",
      "24/24 [==============================] - 57s 2s/step - loss: 0.3047 - accuracy: 0.8802 - val_loss: 0.3177 - val_accuracy: 0.8679\n",
      "Epoch 11/100\n",
      "24/24 [==============================] - 58s 2s/step - loss: 0.3016 - accuracy: 0.8819 - val_loss: 0.3282 - val_accuracy: 0.8629\n",
      "Epoch 12/100\n",
      "24/24 [==============================] - 59s 2s/step - loss: 0.2917 - accuracy: 0.8848 - val_loss: 0.3046 - val_accuracy: 0.8704\n",
      "Epoch 13/100\n",
      "24/24 [==============================] - 58s 2s/step - loss: 0.2857 - accuracy: 0.8957 - val_loss: 0.2980 - val_accuracy: 0.8704\n",
      "Epoch 14/100\n",
      "24/24 [==============================] - 56s 2s/step - loss: 0.2769 - accuracy: 0.8908 - val_loss: 0.3010 - val_accuracy: 0.8667\n",
      "Epoch 15/100\n",
      "24/24 [==============================] - 56s 2s/step - loss: 0.2725 - accuracy: 0.8920 - val_loss: 0.2897 - val_accuracy: 0.8704\n",
      "Epoch 16/100\n",
      "24/24 [==============================] - 57s 2s/step - loss: 0.2653 - accuracy: 0.8982 - val_loss: 0.2965 - val_accuracy: 0.8717\n",
      "Epoch 17/100\n",
      "24/24 [==============================] - 57s 2s/step - loss: 0.2652 - accuracy: 0.8969 - val_loss: 0.2844 - val_accuracy: 0.8730\n",
      "Epoch 18/100\n",
      "24/24 [==============================] - 56s 2s/step - loss: 0.2596 - accuracy: 0.9008 - val_loss: 0.2758 - val_accuracy: 0.8868\n",
      "Epoch 19/100\n",
      "24/24 [==============================] - 56s 2s/step - loss: 0.2569 - accuracy: 0.8993 - val_loss: 0.2740 - val_accuracy: 0.8805\n",
      "Epoch 20/100\n",
      "24/24 [==============================] - 57s 2s/step - loss: 0.2407 - accuracy: 0.9071 - val_loss: 0.2697 - val_accuracy: 0.8893\n",
      "Epoch 21/100\n",
      "24/24 [==============================] - 56s 2s/step - loss: 0.2490 - accuracy: 0.9045 - val_loss: 0.2683 - val_accuracy: 0.8956\n",
      "Epoch 22/100\n",
      "24/24 [==============================] - 56s 2s/step - loss: 0.2408 - accuracy: 0.9084 - val_loss: 0.2680 - val_accuracy: 0.9006\n",
      "Epoch 23/100\n",
      "24/24 [==============================] - 56s 2s/step - loss: 0.2393 - accuracy: 0.9107 - val_loss: 0.2671 - val_accuracy: 0.8818\n",
      "Epoch 24/100\n",
      "24/24 [==============================] - 57s 2s/step - loss: 0.2368 - accuracy: 0.9097 - val_loss: 0.2625 - val_accuracy: 0.8843\n",
      "Epoch 25/100\n",
      "24/24 [==============================] - 57s 2s/step - loss: 0.2355 - accuracy: 0.9127 - val_loss: 0.2599 - val_accuracy: 0.8855\n",
      "Epoch 26/100\n",
      "24/24 [==============================] - 57s 2s/step - loss: 0.2342 - accuracy: 0.9083 - val_loss: 0.2563 - val_accuracy: 0.9006\n",
      "Epoch 27/100\n",
      "24/24 [==============================] - 57s 2s/step - loss: 0.2322 - accuracy: 0.9120 - val_loss: 0.2548 - val_accuracy: 0.9069\n",
      "Epoch 28/100\n",
      "24/24 [==============================] - 57s 2s/step - loss: 0.2307 - accuracy: 0.9135 - val_loss: 0.2581 - val_accuracy: 0.9069\n",
      "Epoch 29/100\n",
      "24/24 [==============================] - 56s 2s/step - loss: 0.2237 - accuracy: 0.9174 - val_loss: 0.2561 - val_accuracy: 0.8830\n",
      "Epoch 30/100\n",
      "24/24 [==============================] - 56s 2s/step - loss: 0.2271 - accuracy: 0.9146 - val_loss: 0.2492 - val_accuracy: 0.8931\n",
      "Epoch 31/100\n",
      "24/24 [==============================] - 57s 2s/step - loss: 0.2201 - accuracy: 0.9166 - val_loss: 0.2463 - val_accuracy: 0.9019\n",
      "Epoch 32/100\n",
      "24/24 [==============================] - 58s 2s/step - loss: 0.2209 - accuracy: 0.9189 - val_loss: 0.2560 - val_accuracy: 0.8855\n",
      "Epoch 33/100\n",
      "24/24 [==============================] - 59s 2s/step - loss: 0.2181 - accuracy: 0.9180 - val_loss: 0.2451 - val_accuracy: 0.9031\n",
      "Epoch 34/100\n",
      "24/24 [==============================] - 59s 2s/step - loss: 0.2156 - accuracy: 0.9215 - val_loss: 0.2447 - val_accuracy: 0.8969\n",
      "Epoch 35/100\n",
      "24/24 [==============================] - 59s 2s/step - loss: 0.2215 - accuracy: 0.9206 - val_loss: 0.2468 - val_accuracy: 0.8931\n",
      "Epoch 36/100\n",
      "24/24 [==============================] - 59s 2s/step - loss: 0.2075 - accuracy: 0.9215 - val_loss: 0.2475 - val_accuracy: 0.9069\n",
      "Epoch 37/100\n",
      "24/24 [==============================] - 59s 2s/step - loss: 0.2204 - accuracy: 0.9206 - val_loss: 0.2387 - val_accuracy: 0.9170\n",
      "Epoch 38/100\n",
      "24/24 [==============================] - 59s 2s/step - loss: 0.2190 - accuracy: 0.9167 - val_loss: 0.2440 - val_accuracy: 0.8906\n",
      "Epoch 39/100\n",
      "24/24 [==============================] - 60s 2s/step - loss: 0.2100 - accuracy: 0.9246 - val_loss: 0.2409 - val_accuracy: 0.9119\n",
      "Epoch 40/100\n",
      "24/24 [==============================] - 59s 2s/step - loss: 0.2092 - accuracy: 0.9229 - val_loss: 0.2348 - val_accuracy: 0.9132\n",
      "Epoch 41/100\n",
      "24/24 [==============================] - 58s 2s/step - loss: 0.2067 - accuracy: 0.9237 - val_loss: 0.2342 - val_accuracy: 0.9069\n",
      "Epoch 42/100\n",
      "24/24 [==============================] - 60s 2s/step - loss: 0.2058 - accuracy: 0.9267 - val_loss: 0.2343 - val_accuracy: 0.9170\n",
      "Epoch 43/100\n",
      "24/24 [==============================] - 59s 2s/step - loss: 0.2014 - accuracy: 0.9259 - val_loss: 0.2368 - val_accuracy: 0.9157\n",
      "Epoch 44/100\n",
      "24/24 [==============================] - 60s 2s/step - loss: 0.1999 - accuracy: 0.9280 - val_loss: 0.2455 - val_accuracy: 0.9082\n",
      "Epoch 45/100\n",
      "24/24 [==============================] - 59s 2s/step - loss: 0.2010 - accuracy: 0.9277 - val_loss: 0.2299 - val_accuracy: 0.9107\n",
      "Epoch 46/100\n",
      "24/24 [==============================] - 58s 2s/step - loss: 0.1980 - accuracy: 0.9291 - val_loss: 0.2290 - val_accuracy: 0.9195\n",
      "Epoch 47/100\n",
      "24/24 [==============================] - 56s 2s/step - loss: 0.1944 - accuracy: 0.9304 - val_loss: 0.2283 - val_accuracy: 0.9195\n",
      "Epoch 48/100\n",
      "24/24 [==============================] - 56s 2s/step - loss: 0.1954 - accuracy: 0.9299 - val_loss: 0.2277 - val_accuracy: 0.9157\n",
      "Epoch 49/100\n",
      "24/24 [==============================] - 56s 2s/step - loss: 0.1926 - accuracy: 0.9334 - val_loss: 0.2261 - val_accuracy: 0.9182\n",
      "Epoch 50/100\n",
      "24/24 [==============================] - 56s 2s/step - loss: 0.1997 - accuracy: 0.9263 - val_loss: 0.2256 - val_accuracy: 0.9182\n",
      "Epoch 51/100\n",
      "24/24 [==============================] - 56s 2s/step - loss: 0.1971 - accuracy: 0.9290 - val_loss: 0.2334 - val_accuracy: 0.9145\n",
      "Epoch 52/100\n",
      "24/24 [==============================] - 56s 2s/step - loss: 0.1883 - accuracy: 0.9334 - val_loss: 0.2274 - val_accuracy: 0.9182\n",
      "Epoch 53/100\n",
      "24/24 [==============================] - 56s 2s/step - loss: 0.1883 - accuracy: 0.9324 - val_loss: 0.2258 - val_accuracy: 0.9082\n",
      "Epoch 54/100\n",
      "24/24 [==============================] - 56s 2s/step - loss: 0.1885 - accuracy: 0.9335 - val_loss: 0.2231 - val_accuracy: 0.9182\n",
      "Epoch 55/100\n",
      "24/24 [==============================] - 56s 2s/step - loss: 0.1895 - accuracy: 0.9319 - val_loss: 0.2249 - val_accuracy: 0.9195\n",
      "Epoch 56/100\n",
      "24/24 [==============================] - 55s 2s/step - loss: 0.1882 - accuracy: 0.9337 - val_loss: 0.2255 - val_accuracy: 0.9220\n",
      "Epoch 57/100\n",
      "24/24 [==============================] - 56s 2s/step - loss: 0.1859 - accuracy: 0.9368 - val_loss: 0.2298 - val_accuracy: 0.9182\n",
      "Epoch 58/100\n",
      "24/24 [==============================] - 56s 2s/step - loss: 0.1838 - accuracy: 0.9343 - val_loss: 0.2250 - val_accuracy: 0.9195\n",
      "Epoch 59/100\n",
      "24/24 [==============================] - 55s 2s/step - loss: 0.1872 - accuracy: 0.9348 - val_loss: 0.2232 - val_accuracy: 0.9220\n",
      "Epoch 60/100\n",
      "24/24 [==============================] - 56s 2s/step - loss: 0.1827 - accuracy: 0.9348 - val_loss: 0.2181 - val_accuracy: 0.9245\n",
      "Epoch 61/100\n",
      "24/24 [==============================] - 57s 2s/step - loss: 0.1869 - accuracy: 0.9345 - val_loss: 0.2179 - val_accuracy: 0.9245\n",
      "Epoch 62/100\n",
      "24/24 [==============================] - 56s 2s/step - loss: 0.1872 - accuracy: 0.9334 - val_loss: 0.2180 - val_accuracy: 0.9233\n",
      "Epoch 63/100\n",
      "24/24 [==============================] - 56s 2s/step - loss: 0.1853 - accuracy: 0.9347 - val_loss: 0.2230 - val_accuracy: 0.9220\n",
      "Epoch 64/100\n",
      "24/24 [==============================] - 57s 2s/step - loss: 0.1892 - accuracy: 0.9342 - val_loss: 0.2184 - val_accuracy: 0.9208\n",
      "Epoch 65/100\n",
      "24/24 [==============================] - 57s 2s/step - loss: 0.1816 - accuracy: 0.9369 - val_loss: 0.2163 - val_accuracy: 0.9233\n",
      "Epoch 66/100\n",
      "24/24 [==============================] - 57s 2s/step - loss: 0.1789 - accuracy: 0.9361 - val_loss: 0.2150 - val_accuracy: 0.9233\n",
      "Epoch 67/100\n",
      "24/24 [==============================] - 57s 2s/step - loss: 0.1752 - accuracy: 0.9412 - val_loss: 0.2143 - val_accuracy: 0.9258\n",
      "Epoch 68/100\n",
      "24/24 [==============================] - 57s 2s/step - loss: 0.1801 - accuracy: 0.9378 - val_loss: 0.2163 - val_accuracy: 0.9220\n",
      "Epoch 69/100\n",
      "24/24 [==============================] - 56s 2s/step - loss: 0.1799 - accuracy: 0.9365 - val_loss: 0.2147 - val_accuracy: 0.9245\n",
      "Epoch 70/100\n",
      "24/24 [==============================] - 56s 2s/step - loss: 0.1844 - accuracy: 0.9351 - val_loss: 0.2149 - val_accuracy: 0.9233\n",
      "Epoch 71/100\n",
      "24/24 [==============================] - 55s 2s/step - loss: 0.1754 - accuracy: 0.9389 - val_loss: 0.2135 - val_accuracy: 0.9270\n",
      "Epoch 72/100\n",
      "24/24 [==============================] - 57s 2s/step - loss: 0.1837 - accuracy: 0.9350 - val_loss: 0.2156 - val_accuracy: 0.9094\n",
      "Epoch 73/100\n",
      "24/24 [==============================] - 57s 2s/step - loss: 0.1768 - accuracy: 0.9392 - val_loss: 0.2155 - val_accuracy: 0.9245\n",
      "Epoch 74/100\n",
      "24/24 [==============================] - 57s 2s/step - loss: 0.1745 - accuracy: 0.9391 - val_loss: 0.2125 - val_accuracy: 0.9245\n",
      "Epoch 75/100\n",
      "24/24 [==============================] - 57s 2s/step - loss: 0.1719 - accuracy: 0.9413 - val_loss: 0.2106 - val_accuracy: 0.9270\n",
      "Epoch 76/100\n",
      "24/24 [==============================] - 57s 2s/step - loss: 0.1747 - accuracy: 0.9394 - val_loss: 0.2108 - val_accuracy: 0.9258\n",
      "Epoch 77/100\n",
      "24/24 [==============================] - 56s 2s/step - loss: 0.1767 - accuracy: 0.9368 - val_loss: 0.2180 - val_accuracy: 0.9233\n",
      "Epoch 78/100\n",
      "24/24 [==============================] - 56s 2s/step - loss: 0.1775 - accuracy: 0.9409 - val_loss: 0.2095 - val_accuracy: 0.9283\n",
      "Epoch 79/100\n",
      "24/24 [==============================] - 57s 2s/step - loss: 0.1770 - accuracy: 0.9366 - val_loss: 0.2204 - val_accuracy: 0.9182\n",
      "Epoch 80/100\n",
      "24/24 [==============================] - 56s 2s/step - loss: 0.1774 - accuracy: 0.9402 - val_loss: 0.2087 - val_accuracy: 0.9296\n",
      "Epoch 81/100\n",
      "24/24 [==============================] - 56s 2s/step - loss: 0.1755 - accuracy: 0.9382 - val_loss: 0.2091 - val_accuracy: 0.9233\n",
      "Epoch 82/100\n",
      "24/24 [==============================] - 56s 2s/step - loss: 0.1709 - accuracy: 0.9433 - val_loss: 0.2135 - val_accuracy: 0.9270\n",
      "Epoch 83/100\n",
      "24/24 [==============================] - 55s 2s/step - loss: 0.1761 - accuracy: 0.9409 - val_loss: 0.2125 - val_accuracy: 0.9270\n",
      "Epoch 84/100\n",
      "24/24 [==============================] - 57s 2s/step - loss: 0.1716 - accuracy: 0.9426 - val_loss: 0.2078 - val_accuracy: 0.9283\n",
      "Epoch 85/100\n",
      "24/24 [==============================] - 56s 2s/step - loss: 0.1759 - accuracy: 0.9397 - val_loss: 0.2062 - val_accuracy: 0.9296\n",
      "Epoch 86/100\n",
      "24/24 [==============================] - 56s 2s/step - loss: 0.1686 - accuracy: 0.9420 - val_loss: 0.2065 - val_accuracy: 0.9283\n",
      "Epoch 87/100\n",
      "24/24 [==============================] - 57s 2s/step - loss: 0.1653 - accuracy: 0.9446 - val_loss: 0.2085 - val_accuracy: 0.9283\n",
      "Epoch 88/100\n",
      "24/24 [==============================] - 58s 2s/step - loss: 0.1661 - accuracy: 0.9439 - val_loss: 0.2064 - val_accuracy: 0.9296\n",
      "Epoch 89/100\n",
      "24/24 [==============================] - 56s 2s/step - loss: 0.1682 - accuracy: 0.9425 - val_loss: 0.2053 - val_accuracy: 0.9296\n",
      "Epoch 90/100\n",
      "24/24 [==============================] - 56s 2s/step - loss: 0.1711 - accuracy: 0.9436 - val_loss: 0.2070 - val_accuracy: 0.9182\n",
      "Epoch 91/100\n",
      "24/24 [==============================] - 57s 2s/step - loss: 0.1632 - accuracy: 0.9448 - val_loss: 0.2068 - val_accuracy: 0.9308\n",
      "Epoch 92/100\n",
      "24/24 [==============================] - 56s 2s/step - loss: 0.1624 - accuracy: 0.9441 - val_loss: 0.2047 - val_accuracy: 0.9308\n",
      "Epoch 93/100\n",
      "24/24 [==============================] - 56s 2s/step - loss: 0.1650 - accuracy: 0.9436 - val_loss: 0.2048 - val_accuracy: 0.9308\n",
      "Epoch 94/100\n",
      "24/24 [==============================] - 56s 2s/step - loss: 0.1637 - accuracy: 0.9441 - val_loss: 0.2061 - val_accuracy: 0.9283\n",
      "Epoch 95/100\n",
      "24/24 [==============================] - 57s 2s/step - loss: 0.1577 - accuracy: 0.9479 - val_loss: 0.2038 - val_accuracy: 0.9321\n",
      "Epoch 96/100\n",
      "24/24 [==============================] - 57s 2s/step - loss: 0.1636 - accuracy: 0.9453 - val_loss: 0.2138 - val_accuracy: 0.9233\n",
      "Epoch 97/100\n",
      "24/24 [==============================] - 55s 2s/step - loss: 0.1646 - accuracy: 0.9448 - val_loss: 0.2037 - val_accuracy: 0.9296\n",
      "Epoch 98/100\n",
      "24/24 [==============================] - 55s 2s/step - loss: 0.1667 - accuracy: 0.9433 - val_loss: 0.2065 - val_accuracy: 0.9296\n",
      "Epoch 99/100\n",
      "24/24 [==============================] - 56s 2s/step - loss: 0.1645 - accuracy: 0.9457 - val_loss: 0.2034 - val_accuracy: 0.9296\n",
      "Epoch 100/100\n",
      "24/24 [==============================] - 57s 2s/step - loss: 0.1667 - accuracy: 0.9428 - val_loss: 0.2049 - val_accuracy: 0.9233\n"
     ]
    }
   ],
   "source": [
    "# Entrenar el modelo\n",
    "epochs = 100\n",
    "\n",
    "'''checkpoint_filepath = '/Volumes/SSD_ANDRÉS/PRUEBAS_nuevos_vlp/Checkpoint/resnet_sinfiltro_checkpoint.model.keras'\n",
    "model_checkpoint_callback = tf.keras.callbacks.ModelCheckpoint(\n",
    "    filepath=checkpoint_filepath,\n",
    "    monitor='val_accuracy',\n",
    "    mode='max',\n",
    "    save_best_only=True,\n",
    "    verbose=1)'''\n",
    "\n",
    "history = model.fit(train_ds, epochs=epochs, validation_data=validation_dataset)#, callbacks=[model_checkpoint_callback])#, class_weight=class_weight_dict)"
   ]
  },
  {
   "cell_type": "code",
   "execution_count": 17,
   "metadata": {},
   "outputs": [
    {
     "name": "stdout",
     "output_type": "stream",
     "text": [
      "4/4 [==============================] - 9s 2s/step - loss: 0.1466 - accuracy: 0.9473\n",
      "Precisión en el conjunto de prueba: 0.947265625\n"
     ]
    }
   ],
   "source": [
    "# Evaluar el modelo en el conjunto de prueba\n",
    "test_loss, test_acc = model.evaluate(test_ds)\n",
    "print(f'Precisión en el conjunto de prueba: {test_acc}')"
   ]
  },
  {
   "cell_type": "code",
   "execution_count": 18,
   "metadata": {},
   "outputs": [
    {
     "data": {
      "image/png": "[encoded data removed]",
      "text/plain": [
       "<Figure size 1200x400 with 2 Axes>"
      ]
     },
     "metadata": {},
     "output_type": "display_data"
    }
   ],
   "source": [
    "# Trazar la curva de aprendizaje\n",
    "plt.figure(figsize=(12, 4))\n",
    "plt.subplot(1, 2, 1)\n",
    "plt.plot(history.history['accuracy'], label='Precisión de Entrenamiento')\n",
    "plt.plot(history.history['val_accuracy'], label='Precisión de Validación')\n",
    "plt.legend(loc='lower right')\n",
    "plt.title('Curva de Aprendizaje de la Precisión')\n",
    "\n",
    "plt.subplot(1, 2, 2)\n",
    "plt.plot(history.history['loss'], label='Pérdida de Entrenamiento')\n",
    "plt.plot(history.history['val_loss'], label='Pérdida de Validación')\n",
    "plt.legend(loc='upper right')\n",
    "plt.title('Curva de Aprendizaje de la Pérdida')\n",
    "plt.show()"
   ]
  },
  {
   "cell_type": "code",
   "execution_count": 19,
   "metadata": {},
   "outputs": [],
   "source": [
    "ruta_modelos_entrenados = '/Volumes/SSD_ANDRÉS/PRUEBAS_nuevos_vlp/Modelos entrenadoss'"
   ]
  },
  {
   "cell_type": "code",
   "execution_count": 20,
   "metadata": {},
   "outputs": [
    {
     "name": "stdout",
     "output_type": "stream",
     "text": [
      "INFO:tensorflow:Assets written to: /Volumes/SSD_ANDRÉS/PRUEBAS_nuevos_vlp/Modelos entrenadoss/Efficient_RegOpt_224_bs256NDO_L2000001L2000001_09decay20epoc/assets\n"
     ]
    },
    {
     "name": "stderr",
     "output_type": "stream",
     "text": [
      "INFO:tensorflow:Assets written to: /Volumes/SSD_ANDRÉS/PRUEBAS_nuevos_vlp/Modelos entrenadoss/Efficient_RegOpt_224_bs256NDO_L2000001L2000001_09decay20epoc/assets\n"
     ]
    }
   ],
   "source": [
    "model.save(ruta_modelos_entrenados+'/Efficient_RegOpt_224_bs256NDO_L2000001L2000001_09decay20epoc')"
   ]
  },
  {
   "cell_type": "code",
   "execution_count": 21,
   "metadata": {},
   "outputs": [
    {
     "name": "stderr",
     "output_type": "stream",
     "text": [
      "2024-06-11 23:25:32.239415: I tensorflow/core/grappler/optimizers/custom_graph_optimizer_registry.cc:114] Plugin optimizer for device_type GPU is enabled.\n"
     ]
    },
    {
     "name": "stdout",
     "output_type": "stream",
     "text": [
      "8/8 [==============================] - 3s 209ms/step\n",
      "8/8 [==============================] - 2s 232ms/step\n",
      "8/8 [==============================] - 2s 231ms/step\n",
      "8/8 [==============================] - 2s 229ms/step\n"
     ]
    }
   ],
   "source": [
    "ruta_modelos_entrenados = '/Volumes/SSD_ANDRÉS/PRUEBAS_nuevos_vlp/Modelos entrenadoss'\n",
    "new_model = tf.keras.models.load_model(ruta_modelos_entrenados+'/Efficient_RegOpt_224_bs256NDO_L2000001L2000001_09decay20epoc')\n",
    "y_pred = []  # store predicted labels\n",
    "y_true = []  # store true labels\n",
    "\n",
    "# iterate over the dataset\n",
    "for image_batch, label_batch in test_ds:   # use dataset.unbatch() with repeat\n",
    "   # append true labels\n",
    "   #print(\"Label: \",label_batch)\n",
    "   y_true.append(label_batch)\n",
    "   # compute predictions\n",
    "   #print(\"Imagen: \",image_batch)\n",
    "   preds = new_model.predict(image_batch)\n",
    "   # append predicted labels\n",
    "   y_pred.append(np.argmax(preds, axis = - 1))\n",
    "   #print(\"-----------------\")\n",
    "\n",
    "# convert the true and predicted labels into tensors\n",
    "correct_labels = tf.concat([item for item in y_true], axis = 0)\n",
    "predicted_labels = tf.concat([item for item in y_pred], axis = 0)"
   ]
  },
  {
   "cell_type": "code",
   "execution_count": 22,
   "metadata": {},
   "outputs": [
    {
     "data": {
      "image/png": "[encoded data removed]",
      "text/plain": [
       "<Figure size 1000x800 with 2 Axes>"
      ]
     },
     "metadata": {},
     "output_type": "display_data"
    }
   ],
   "source": [
    "import seaborn as sns\n",
    "\n",
    "confusion_mtx = tf.math.confusion_matrix(correct_labels, predicted_labels)\n",
    "plt.figure(figsize=(10, 8))\n",
    "sns.heatmap(confusion_mtx,\n",
    "            xticklabels=class_names,\n",
    "            yticklabels=class_names,\n",
    "            annot=True, fmt='g')\n",
    "plt.xlabel('Prediction')\n",
    "plt.ylabel('Label')\n",
    "plt.show()"
   ]
  },
  {
   "cell_type": "code",
   "execution_count": 23,
   "metadata": {},
   "outputs": [
    {
     "name": "stdout",
     "output_type": "stream",
     "text": [
      "%LP: 96.75174013921114\n",
      "%VLP: 76.55172413793103\n",
      "%VT: 98.21428571428571\n"
     ]
    }
   ],
   "source": [
    "cm = confusion_matrix(correct_labels, predicted_labels)\n",
    "print('%LP: '+str(cm[0][0]/sum(cm[0]) * 100))\n",
    "print('%VLP: '+str(cm[1][1]/sum(cm[1]) * 100))\n",
    "print('%VT: '+str(cm[2][2]/sum(cm[2]) * 100))"
   ]
  },
  {
   "cell_type": "code",
   "execution_count": 24,
   "metadata": {},
   "outputs": [
    {
     "name": "stdout",
     "output_type": "stream",
     "text": [
      "              precision    recall  f1-score   support\n",
      "\n",
      "           0     0.9105    0.9675    0.9381       431\n",
      "           1     0.9250    0.7655    0.8377       145\n",
      "           2     0.9865    0.9821    0.9843       448\n",
      "\n",
      "    accuracy                         0.9453      1024\n",
      "   macro avg     0.9407    0.9051    0.9201      1024\n",
      "weighted avg     0.9458    0.9453    0.9441      1024\n",
      "\n"
     ]
    }
   ],
   "source": [
    "from sklearn.metrics import classification_report\n",
    "print(classification_report(correct_labels, predicted_labels, digits=4))"
   ]
  }
 ],
 "metadata": {
  "kernelspec": {
   "display_name": "Tesis_IA",
   "language": "python",
   "name": "python3"
  },
  "language_info": {
   "codemirror_mode": {
    "name": "ipython",
    "version": 3
   },
   "file_extension": ".py",
   "mimetype": "text/x-python",
   "name": "python",
   "nbconvert_exporter": "python",
   "pygments_lexer": "ipython3",
   "version": "3.8.16"
  },
  "orig_nbformat": 4
 },
 "nbformat": 4,
 "nbformat_minor": 2
}
