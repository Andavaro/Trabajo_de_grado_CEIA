{
 "cells": [
  {
   "cell_type": "code",
   "execution_count": 1,
   "metadata": {},
   "outputs": [],
   "source": [
    "import numpy as np\n",
    "import tensorflow as tf\n",
    "from tensorflow.keras import layers, models\n",
    "from tensorflow.keras.applications import ResNet50\n",
    "from tensorflow.keras.applications import DenseNet121\n",
    "from tensorflow.keras.preprocessing.image import ImageDataGenerator\n",
    "from sklearn.utils.class_weight import compute_class_weight\n",
    "from sklearn.model_selection import train_test_split\n",
    "from sklearn.metrics import classification_report, confusion_matrix\n",
    "import matplotlib.pyplot as plt"
   ]
  },
  {
   "cell_type": "code",
   "execution_count": 2,
   "metadata": {},
   "outputs": [],
   "source": [
    "img_height = 224\n",
    "img_width = 224\n",
    "batch_size = 256"
   ]
  },
  {
   "cell_type": "code",
   "execution_count": 3,
   "metadata": {},
   "outputs": [
    {
     "name": "stdout",
     "output_type": "stream",
     "text": [
      "Found 11008 files belonging to 3 classes.\n"
     ]
    },
    {
     "name": "stderr",
     "output_type": "stream",
     "text": [
      "2024-02-08 17:50:01.535334: I metal_plugin/src/device/metal_device.cc:1154] Metal device set to: Apple M1\n",
      "2024-02-08 17:50:01.535358: I metal_plugin/src/device/metal_device.cc:296] systemMemory: 16.00 GB\n",
      "2024-02-08 17:50:01.535361: I metal_plugin/src/device/metal_device.cc:313] maxCacheSize: 5.33 GB\n",
      "2024-02-08 17:50:01.535555: I tensorflow/core/common_runtime/pluggable_device/pluggable_device_factory.cc:303] Could not identify NUMA node of platform GPU ID 0, defaulting to 0. Your kernel may not have been built with NUMA support.\n",
      "2024-02-08 17:50:01.535571: I tensorflow/core/common_runtime/pluggable_device/pluggable_device_factory.cc:269] Created TensorFlow device (/job:localhost/replica:0/task:0/device:GPU:0 with 0 MB memory) -> physical PluggableDevice (device: 0, name: METAL, pci bus id: <undefined>)\n"
     ]
    }
   ],
   "source": [
    "test_directory = \"/Users/andavaro/Desktop/Andrès/UBA/TrabajoDeGradoCEIA/dataset/Espectrogramas/multibalance_para_test/ns=32_sol=0.9_off_f=0-40\"\n",
    "test_ds= tf.keras.preprocessing.image_dataset_from_directory(\n",
    "    test_directory, labels='inferred', label_mode='int', batch_size=batch_size, image_size=(img_height, img_width), seed=123)"
   ]
  },
  {
   "cell_type": "code",
   "execution_count": 4,
   "metadata": {},
   "outputs": [],
   "source": [
    "def resize_images(image, label):\n",
    "    # Redimensionar la imagen para que se ajuste al tamaño de entrada del primer modelo\n",
    "    image_resized_model = tf.image.resize(image, (299,299))\n",
    "    \n",
    "    return image_resized_model, label\n",
    "\n",
    "# Redimensionar las imágenes del conjunto de datos de prueba\n",
    "test_ds_resized = test_ds.map(resize_images)"
   ]
  },
  {
   "cell_type": "code",
   "execution_count": 5,
   "metadata": {},
   "outputs": [
    {
     "name": "stdout",
     "output_type": "stream",
     "text": [
      "['LP', 'VLP', 'VT']\n",
      "test size:43\n"
     ]
    }
   ],
   "source": [
    "# Esta parte se usa para generar datos para pruebas. Si se tienen datos específicos para las pruebas, se deben llamar con el nombre de test_ds\n",
    "class_names = test_ds.class_names\n",
    "print(class_names)\n",
    "\n",
    "'''test_size = num_elements - train_size\n",
    "test_ds = train_ds.take(test_size)\n",
    "train_ds = train_ds.skip(test_size)'''\n",
    "\n",
    "print(f'test size:{len(test_ds)}')"
   ]
  },
  {
   "attachments": {},
   "cell_type": "markdown",
   "metadata": {},
   "source": [
    "# Modelo ResNet 50"
   ]
  },
  {
   "cell_type": "code",
   "execution_count": 6,
   "metadata": {},
   "outputs": [],
   "source": [
    "num_classes = len(class_names)"
   ]
  },
  {
   "cell_type": "code",
   "execution_count": 7,
   "metadata": {},
   "outputs": [],
   "source": [
    "ruta_modelos_entrenados = '/Volumes/SSD_ANDRÉS/Modelos entrenados'\n",
    "Resnet_model = tf.keras.models.load_model(ruta_modelos_entrenados+'/resnet_RegOpt_adasyn_224_bs256NDO_DATAyruido_decay20epoc')\n",
    "#Densenet_model = tf.keras.models.load_model(ruta_modelos_entrenados+'/densenet_RegOpt_adasyn_224_bs256DO05_L200001L2000001_decay5epoc')\n",
    "Inception_model = tf.keras.models.load_model(ruta_modelos_entrenados+'/Inception_RegOpt_224_bs256NDO_L2000001L2000001_decay10epoc')\n",
    "Efficient_model = tf.keras.models.load_model(ruta_modelos_entrenados+'/Efficient_RegOpt_224_bs256NDO_L2000001L2000001_09decay20epoc')\n",
    "\n",
    "\n",
    "modelos_entrenados= [Efficient_model, Inception_model, Resnet_model]\n"
   ]
  },
  {
   "cell_type": "code",
   "execution_count": 8,
   "metadata": {},
   "outputs": [
    {
     "name": "stderr",
     "output_type": "stream",
     "text": [
      "2024-02-08 17:50:13.428107: I tensorflow/core/grappler/optimizers/custom_graph_optimizer_registry.cc:114] Plugin optimizer for device_type GPU is enabled.\n"
     ]
    },
    {
     "name": "stdout",
     "output_type": "stream",
     "text": [
      "43/43 [==============================] - 87s 2s/step - loss: 0.1602 - accuracy: 0.9450\n",
      "Precisión en el conjunto de prueba: 0.9450399875640869\n"
     ]
    },
    {
     "name": "stderr",
     "output_type": "stream",
     "text": [
      "2024-02-08 17:51:40.768611: I tensorflow/core/grappler/optimizers/custom_graph_optimizer_registry.cc:114] Plugin optimizer for device_type GPU is enabled.\n"
     ]
    },
    {
     "name": "stdout",
     "output_type": "stream",
     "text": [
      "43/43 [==============================] - 62s 1s/step - loss: 0.1999 - accuracy: 0.9556\n",
      "Precisión en el conjunto de prueba: 0.9555777311325073\n"
     ]
    },
    {
     "name": "stderr",
     "output_type": "stream",
     "text": [
      "2024-02-08 17:52:42.428049: I tensorflow/core/grappler/optimizers/custom_graph_optimizer_registry.cc:114] Plugin optimizer for device_type GPU is enabled.\n"
     ]
    },
    {
     "name": "stdout",
     "output_type": "stream",
     "text": [
      "43/43 [==============================] - 104s 2s/step - loss: 0.0606 - accuracy: 0.9812\n",
      "Precisión en el conjunto de prueba: 0.9811955094337463\n"
     ]
    }
   ],
   "source": [
    "# Evaluar el modelo en el conjunto de prueba\n",
    "for modelo in modelos_entrenados:\n",
    "    test_loss, test_acc = modelo.evaluate(test_ds)\n",
    "    print(f'Precisión en el conjunto de prueba: {test_acc}')"
   ]
  },
  {
   "cell_type": "code",
   "execution_count": 9,
   "metadata": {},
   "outputs": [
    {
     "name": "stderr",
     "output_type": "stream",
     "text": [
      "2024-02-08 17:54:28.505288: I tensorflow/core/grappler/optimizers/custom_graph_optimizer_registry.cc:114] Plugin optimizer for device_type GPU is enabled.\n"
     ]
    },
    {
     "name": "stdout",
     "output_type": "stream",
     "text": [
      "8/8 [==============================] - 3s 201ms/step\n"
     ]
    },
    {
     "name": "stderr",
     "output_type": "stream",
     "text": [
      "2024-02-08 17:54:31.513243: I tensorflow/core/grappler/optimizers/custom_graph_optimizer_registry.cc:114] Plugin optimizer for device_type GPU is enabled.\n"
     ]
    },
    {
     "name": "stdout",
     "output_type": "stream",
     "text": [
      "8/8 [==============================] - 2s 146ms/step\n"
     ]
    },
    {
     "name": "stderr",
     "output_type": "stream",
     "text": [
      "2024-02-08 17:54:33.654622: I tensorflow/core/grappler/optimizers/custom_graph_optimizer_registry.cc:114] Plugin optimizer for device_type GPU is enabled.\n"
     ]
    },
    {
     "name": "stdout",
     "output_type": "stream",
     "text": [
      "8/8 [==============================] - 3s 273ms/step\n",
      "8/8 [==============================] - 2s 229ms/step\n",
      "8/8 [==============================] - 1s 165ms/step\n",
      "8/8 [==============================] - 2s 315ms/step\n",
      "8/8 [==============================] - 2s 228ms/step\n",
      "8/8 [==============================] - 1s 168ms/step\n",
      "8/8 [==============================] - 2s 316ms/step\n",
      "8/8 [==============================] - 2s 229ms/step\n",
      "8/8 [==============================] - 1s 167ms/step\n",
      "8/8 [==============================] - 2s 317ms/step\n",
      "8/8 [==============================] - 2s 230ms/step\n",
      "8/8 [==============================] - 1s 166ms/step\n",
      "8/8 [==============================] - 2s 326ms/step\n",
      "8/8 [==============================] - 2s 218ms/step\n",
      "8/8 [==============================] - 1s 167ms/step\n",
      "8/8 [==============================] - 2s 315ms/step\n",
      "8/8 [==============================] - 2s 232ms/step\n",
      "8/8 [==============================] - 1s 166ms/step\n",
      "8/8 [==============================] - 2s 315ms/step\n",
      "8/8 [==============================] - 2s 227ms/step\n",
      "8/8 [==============================] - 1s 167ms/step\n",
      "8/8 [==============================] - 2s 312ms/step\n",
      "8/8 [==============================] - 2s 227ms/step\n",
      "8/8 [==============================] - 1s 167ms/step\n",
      "8/8 [==============================] - 2s 313ms/step\n",
      "8/8 [==============================] - 2s 232ms/step\n",
      "8/8 [==============================] - 1s 171ms/step\n",
      "8/8 [==============================] - 2s 313ms/step\n",
      "8/8 [==============================] - 2s 228ms/step\n",
      "8/8 [==============================] - 1s 171ms/step\n",
      "8/8 [==============================] - 2s 313ms/step\n",
      "8/8 [==============================] - 2s 223ms/step\n",
      "8/8 [==============================] - 1s 168ms/step\n",
      "8/8 [==============================] - 2s 312ms/step\n",
      "8/8 [==============================] - 2s 231ms/step\n",
      "8/8 [==============================] - 1s 173ms/step\n",
      "8/8 [==============================] - 2s 314ms/step\n",
      "8/8 [==============================] - 2s 232ms/step\n",
      "8/8 [==============================] - 1s 174ms/step\n",
      "8/8 [==============================] - 2s 313ms/step\n",
      "8/8 [==============================] - 2s 229ms/step\n",
      "8/8 [==============================] - 1s 168ms/step\n",
      "8/8 [==============================] - 2s 317ms/step\n",
      "8/8 [==============================] - 2s 230ms/step\n",
      "8/8 [==============================] - 1s 167ms/step\n",
      "8/8 [==============================] - 2s 315ms/step\n",
      "8/8 [==============================] - 2s 230ms/step\n",
      "8/8 [==============================] - 1s 168ms/step\n",
      "8/8 [==============================] - 2s 315ms/step\n",
      "8/8 [==============================] - 2s 229ms/step\n",
      "8/8 [==============================] - 1s 167ms/step\n",
      "8/8 [==============================] - 2s 312ms/step\n",
      "8/8 [==============================] - 2s 230ms/step\n",
      "8/8 [==============================] - 1s 170ms/step\n",
      "8/8 [==============================] - 2s 316ms/step\n",
      "8/8 [==============================] - 2s 227ms/step\n",
      "8/8 [==============================] - 1s 166ms/step\n",
      "8/8 [==============================] - 2s 313ms/step\n",
      "8/8 [==============================] - 2s 223ms/step\n",
      "8/8 [==============================] - 1s 167ms/step\n",
      "8/8 [==============================] - 2s 313ms/step\n",
      "8/8 [==============================] - 2s 245ms/step\n",
      "8/8 [==============================] - 1s 171ms/step\n",
      "8/8 [==============================] - 2s 314ms/step\n",
      "8/8 [==============================] - 2s 231ms/step\n",
      "8/8 [==============================] - 1s 167ms/step\n",
      "8/8 [==============================] - 2s 317ms/step\n",
      "8/8 [==============================] - 2s 231ms/step\n",
      "8/8 [==============================] - 1s 172ms/step\n",
      "8/8 [==============================] - 2s 314ms/step\n",
      "8/8 [==============================] - 2s 230ms/step\n",
      "8/8 [==============================] - 1s 174ms/step\n",
      "8/8 [==============================] - 2s 315ms/step\n",
      "8/8 [==============================] - 2s 230ms/step\n",
      "8/8 [==============================] - 1s 167ms/step\n",
      "8/8 [==============================] - 2s 312ms/step\n",
      "8/8 [==============================] - 2s 230ms/step\n",
      "8/8 [==============================] - 1s 167ms/step\n",
      "8/8 [==============================] - 2s 314ms/step\n",
      "8/8 [==============================] - 2s 227ms/step\n",
      "8/8 [==============================] - 1s 170ms/step\n",
      "8/8 [==============================] - 2s 312ms/step\n",
      "8/8 [==============================] - 2s 227ms/step\n",
      "8/8 [==============================] - 1s 172ms/step\n",
      "8/8 [==============================] - 2s 315ms/step\n",
      "8/8 [==============================] - 2s 230ms/step\n",
      "8/8 [==============================] - 1s 177ms/step\n",
      "8/8 [==============================] - 2s 315ms/step\n",
      "8/8 [==============================] - 2s 229ms/step\n",
      "8/8 [==============================] - 1s 171ms/step\n",
      "8/8 [==============================] - 2s 314ms/step\n",
      "8/8 [==============================] - 2s 232ms/step\n",
      "8/8 [==============================] - 1s 167ms/step\n",
      "8/8 [==============================] - 2s 316ms/step\n",
      "8/8 [==============================] - 2s 221ms/step\n",
      "8/8 [==============================] - 1s 165ms/step\n",
      "8/8 [==============================] - 2s 314ms/step\n",
      "8/8 [==============================] - 2s 228ms/step\n",
      "8/8 [==============================] - 1s 167ms/step\n",
      "8/8 [==============================] - 2s 314ms/step\n",
      "8/8 [==============================] - 2s 230ms/step\n",
      "8/8 [==============================] - 1s 166ms/step\n",
      "8/8 [==============================] - 2s 314ms/step\n",
      "8/8 [==============================] - 2s 228ms/step\n",
      "8/8 [==============================] - 1s 171ms/step\n",
      "8/8 [==============================] - 2s 312ms/step\n",
      "8/8 [==============================] - 2s 228ms/step\n",
      "8/8 [==============================] - 1s 166ms/step\n",
      "8/8 [==============================] - 2s 314ms/step\n",
      "8/8 [==============================] - 2s 230ms/step\n",
      "8/8 [==============================] - 1s 167ms/step\n",
      "8/8 [==============================] - 2s 315ms/step\n",
      "8/8 [==============================] - 2s 233ms/step\n",
      "8/8 [==============================] - 1s 171ms/step\n",
      "8/8 [==============================] - 2s 316ms/step\n",
      "8/8 [==============================] - 2s 230ms/step\n",
      "8/8 [==============================] - 1s 167ms/step\n",
      "8/8 [==============================] - 2s 316ms/step\n",
      "8/8 [==============================] - 2s 228ms/step\n",
      "8/8 [==============================] - 1s 168ms/step\n",
      "8/8 [==============================] - 2s 314ms/step\n",
      "8/8 [==============================] - 2s 229ms/step\n",
      "8/8 [==============================] - 1s 169ms/step\n",
      "8/8 [==============================] - 2s 313ms/step\n",
      "8/8 [==============================] - 2s 229ms/step\n",
      "8/8 [==============================] - 1s 167ms/step\n",
      "8/8 [==============================] - 2s 314ms/step\n"
     ]
    }
   ],
   "source": [
    "y_pred = []  # store predicted labels\n",
    "y_true = []  # store true labels\n",
    "\n",
    "\n",
    "for image_batch, label_batch in test_ds:\n",
    "   \n",
    "   y_true.append(label_batch)\n",
    "   \n",
    "   predicciones = [modelo.predict(image_batch) for modelo in modelos_entrenados]\n",
    "   pred_promedio = np.mean(predicciones, axis=0)\n",
    "   \n",
    "   y_pred.append(np.argmax(pred_promedio, axis = - 1))\n",
    "   \n",
    "\n",
    "# convert the true and predicted labels into tensors\n",
    "correct_labels = tf.concat([item for item in y_true], axis = 0)\n",
    "predicted_labels = tf.concat([item for item in y_pred], axis = 0)"
   ]
  },
  {
   "cell_type": "code",
   "execution_count": 10,
   "metadata": {},
   "outputs": [
    {
     "data": {
      "image/png": "[encoded data removed]",
      "text/plain": [
       "<Figure size 1000x800 with 2 Axes>"
      ]
     },
     "metadata": {},
     "output_type": "display_data"
    }
   ],
   "source": [
    "import seaborn as sns\n",
    "\n",
    "confusion_mtx = tf.math.confusion_matrix(correct_labels, predicted_labels)\n",
    "plt.figure(figsize=(10, 8))\n",
    "sns.heatmap(confusion_mtx,\n",
    "            xticklabels=class_names,\n",
    "            yticklabels=class_names,\n",
    "            annot=True, fmt='g')\n",
    "plt.xlabel('Prediction')\n",
    "plt.ylabel('Label')\n",
    "plt.show()"
   ]
  },
  {
   "cell_type": "markdown",
   "metadata": {},
   "source": [
    "resnet 98.12%\n",
    "%LP: 97.96156086196855\n",
    "%VLP: 97.6328502415459\n",
    "%VT: 98.86429819452533\n",
    "\n",
    "resnet 98.12% + inception 95.56%\n",
    "%LP: 98.45661036691904\n",
    "%VLP: 97.19806763285024\n",
    "%VT: 98.66045428072219\n",
    "\n",
    "resnet 98.12% + inception 95.56% + efficient 94.50%\n",
    "%LP: 98.66045428072219\n",
    "%VLP: 97.29468599033815\n",
    "%VT: 99.21374490390215"
   ]
  },
  {
   "cell_type": "code",
   "execution_count": 11,
   "metadata": {},
   "outputs": [
    {
     "name": "stdout",
     "output_type": "stream",
     "text": [
      "%LP: 98.66045428072219\n",
      "%VLP: 97.29468599033815\n",
      "%VT: 99.21374490390215\n"
     ]
    }
   ],
   "source": [
    "cm = confusion_matrix(correct_labels, predicted_labels)\n",
    "print('%LP: '+str(cm[0][0]/sum(cm[0]) * 100))\n",
    "print('%VLP: '+str(cm[1][1]/sum(cm[1]) * 100))\n",
    "print('%VT: '+str(cm[2][2]/sum(cm[2]) * 100))"
   ]
  },
  {
   "cell_type": "code",
   "execution_count": 13,
   "metadata": {},
   "outputs": [
    {
     "name": "stdout",
     "output_type": "stream",
     "text": [
      "              precision    recall  f1-score   support\n",
      "\n",
      "           0     0.9606    0.9866    0.9734      3434\n",
      "           1     0.9978    0.9729    0.9852      4140\n",
      "           2     0.9893    0.9921    0.9907      3434\n",
      "\n",
      "    accuracy                         0.9832     11008\n",
      "   macro avg     0.9825    0.9839    0.9831     11008\n",
      "weighted avg     0.9835    0.9832    0.9832     11008\n",
      "\n"
     ]
    }
   ],
   "source": [
    "from sklearn.metrics import classification_report\n",
    "print(classification_report(correct_labels, predicted_labels, digits=4))"
   ]
  }
 ],
 "metadata": {
  "kernelspec": {
   "display_name": "Tesis_IA",
   "language": "python",
   "name": "python3"
  },
  "language_info": {
   "codemirror_mode": {
    "name": "ipython",
    "version": 3
   },
   "file_extension": ".py",
   "mimetype": "text/x-python",
   "name": "python",
   "nbconvert_exporter": "python",
   "pygments_lexer": "ipython3",
   "version": "3.8.16"
  },
  "orig_nbformat": 4
 },
 "nbformat": 4,
 "nbformat_minor": 2
}
