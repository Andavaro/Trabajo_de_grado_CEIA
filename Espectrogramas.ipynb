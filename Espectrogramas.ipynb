{
 "cells": [
  {
   "cell_type": "code",
   "execution_count": 123,
   "metadata": {},
   "outputs": [],
   "source": [
    "import os\n",
    "import pathlib\n",
    "import pandas as pd\n",
    "import numpy as np\n",
    "import matplotlib.pyplot as plt\n",
    "import tensorflow as tf\n",
    "import IPython.display as ipd\n",
    "from pathlib import Path\n",
    "import obspy\n",
    "from obspy.core import read"
   ]
  },
  {
   "attachments": {},
   "cell_type": "markdown",
   "metadata": {},
   "source": [
    "Establece la ruta del dataset"
   ]
  },
  {
   "cell_type": "code",
   "execution_count": 124,
   "metadata": {},
   "outputs": [],
   "source": [
    "ruta = \"/Users/andavaro/Desktop/Andrès/UBA/TrabajoDeGradoCEIA/VENV_Python/Tesis_IA/Dataset/\""
   ]
  },
  {
   "cell_type": "code",
   "execution_count": 125,
   "metadata": {},
   "outputs": [
    {
     "name": "stdout",
     "output_type": "stream",
     "text": [
      "Data directory will be: /Users/andavaro/Desktop/Andrès/UBA/TrabajoDeGradoCEIA/VENV_Python/Tesis_IA/Dataset/\n"
     ]
    }
   ],
   "source": [
    "data_dir = pathlib.Path(ruta)\n",
    "os.chdir(ruta)\n",
    "default_dir = os.getcwd()\n",
    "print(f'Data directory will be: {ruta}')"
   ]
  },
  {
   "attachments": {},
   "cell_type": "markdown",
   "metadata": {},
   "source": [
    "Importa los nombres de las carpetas que contiene el dataset"
   ]
  },
  {
   "cell_type": "code",
   "execution_count": 126,
   "metadata": {},
   "outputs": [
    {
     "name": "stdout",
     "output_type": "stream",
     "text": [
      "Total Labels: 4\n",
      "Label Names: ['VT', 'VTobspy', 'Copia de VT 2', 'Copia de VT']\n"
     ]
    }
   ],
   "source": [
    "labels = [name for name in os.listdir('.') if os.path.isdir(name)]\n",
    "# back to default directory\n",
    "os.chdir(default_dir)\n",
    "print(f'Total Labels: {len(labels)}')\n",
    "print(f'Label Names: {labels}')"
   ]
  },
  {
   "attachments": {},
   "cell_type": "markdown",
   "metadata": {},
   "source": [
    "Calcula el total de muestras que contiene el dataset"
   ]
  },
  {
   "cell_type": "code",
   "execution_count": 127,
   "metadata": {},
   "outputs": [
    {
     "name": "stdout",
     "output_type": "stream",
     "text": [
      "Number of total examples: 70\n"
     ]
    }
   ],
   "source": [
    "filenames = tf.io.gfile.glob(str(default_dir) + '/*/*')\n",
    "num_samples = len(filenames)\n",
    "print('Number of total examples:', num_samples)"
   ]
  },
  {
   "cell_type": "code",
   "execution_count": 128,
   "metadata": {},
   "outputs": [
    {
     "name": "stdout",
     "output_type": "stream",
     "text": [
      "VT\n",
      "VTobspy\n",
      "Copia de VT 2\n",
      "Copia de VT\n"
     ]
    }
   ],
   "source": [
    "for l in labels:\n",
    "    print(l)"
   ]
  },
  {
   "cell_type": "code",
   "execution_count": 129,
   "metadata": {},
   "outputs": [],
   "source": [
    "def preprocesamiento(Ruta, Detrend='demean', New_Sampling=0, Filter='bandpass', Fmin=0.1, Fmax=25):\n",
    "\n",
    "    '''\n",
    "    Ruta: ruta de acceso del archivo\n",
    "    Detrend: remueve la tendencia lineal\n",
    "             'demean': remueve promedio de la serie\n",
    "             'constant': extrae tendencia lineal con una recta entre el primer y último valor\n",
    "             'linear': extrae la tendencia usando una aproximación por mínimos cuadrados\n",
    "    New_Sampling: Nueva frecuencia de muestreo si se desea remuestrear. Fijar en 0 si no desea remuestreo\n",
    "    Filter: filtro deseado\n",
    "             'bandpass': pasa banda\n",
    "             'highpass': pasa alto (toma Fmin como frecuencia de corte)\n",
    "             'lowpass': pasa bajo (toma Fmax como frecuencia de corte)\n",
    "             'bandstop': band stop\n",
    "    Fmin: frecuencia mínima para el filtro\n",
    "    Fmax: frecuencia máxima para el filtro\n",
    "    '''\n",
    "    \n",
    "    #Importar los datos\n",
    "    st = read(Ruta)\n",
    "    tr = st[0]\n",
    "    \n",
    "    #Remover tendencia lineal\n",
    "    sismo = tr.detrend(Detrend)\n",
    "    \n",
    "    #Reducir frecuencia de muestreo\n",
    "    if New_Sampling > 0 and New_Sampling < sismo.stats.sampling_rate:\n",
    "        sismo = sismo.decimate(round(sismo.stats.sampling_rate / New_Sampling))\n",
    "    \n",
    "    #Filtro\n",
    "    if Filter == 'bandpass':\n",
    "        sismo.filter(Filter, freqmin=Fmin, freqmax=Fmax)\n",
    "    elif Filter == 'highpass':\n",
    "        sismo.filter(Filter, freq=Fmin)\n",
    "    elif Filter == 'lowpass':\n",
    "        sismo.filter(Filter, freq=Fmax)\n",
    "    elif Filter == 'bandstop':\n",
    "        sismo.filter(Filter, freqmin=Fmin, freqmax=Fmax)\n",
    "    else:\n",
    "        print('error')\n",
    "\n",
    "    #Convierte los datos a formato deseado\n",
    "    salida = tf.convert_to_tensor(sismo, dtype=tf.float32)\n",
    "\n",
    "    return salida #cambiar a salida se usa get_spectrogram, sismo para plt"
   ]
  },
  {
   "cell_type": "code",
   "execution_count": 136,
   "metadata": {},
   "outputs": [],
   "source": [
    "def load_audio_files(main_path: str, label:str):\n",
    "\n",
    "    ''' \n",
    "    main_path: ruta de acceso del dataset\n",
    "    label: lista de etiquetas de las clases\n",
    "    '''\n",
    "\n",
    "    dataset = []\n",
    "    \n",
    "    for l in labels:\n",
    "        \n",
    "        dataset_l = []\n",
    "        path = main_path+l\n",
    "        walker = sorted(str(p) for p in Path(path).glob(f'*.txt'))\n",
    "\n",
    "        for i, file_path in enumerate(walker):\n",
    "            path, filename = os.path.split(file_path)\n",
    "            \n",
    "            data = preprocesamiento(path+'/'+filename, Fmin=fmin, Fmax=fmax)\n",
    "            \n",
    "            dataset_l.append([data, l, filename])\n",
    "\n",
    "        dataset.append(dataset_l)\n",
    "        \n",
    "    return dataset"
   ]
  },
  {
   "cell_type": "code",
   "execution_count": 131,
   "metadata": {},
   "outputs": [],
   "source": [
    "def get_spectrogram(waveform, ns=300, sol=0.5):\n",
    "\n",
    "    '''\n",
    "    waveform = señal\n",
    "    ns = número de muestras por sección\n",
    "    sol = porcentaje de solapamiento\n",
    "    '''\n",
    "    \n",
    "    frame_length = round(waveform.shape[0] / (ns-(ns-1)*sol))\n",
    "    frame_step = round(sol*frame_length)\n",
    "    \n",
    "    #frame_length = 255\n",
    "    #frame_step = 128\n",
    "    # Padding for files with less than 16000 samples\n",
    "    zero_padding = tf.zeros([waveform.shape[0]] - tf.shape(waveform), dtype=tf.float32)\n",
    "\n",
    "    # Concatenate audio with padding so that all audio clips will be of the same length\n",
    "    waveform = tf.cast(waveform, tf.float32)\n",
    "    equal_length_waveform = tf.concat([waveform, zero_padding], 0)\n",
    "    \n",
    "    # Option 1: Use tfio to get the spectrogram\n",
    "    #spect = tfio.audio.spectrogram(input=equal_length_waveform, nfft=frame_length, window=frame_length, stride=frame_step)\n",
    "    \n",
    "    # Option 2: Use tf.signal processing to get the Short-time Fourier transform (stft)\n",
    "    spectro = tf.signal.stft(equal_length_waveform, frame_length=ns, frame_step=frame_step, window_fn=tf.signal.hamming_window)\n",
    "    spectrogram = tf.abs(spectro)\n",
    "\n",
    "    return spectrogram#, spect\n"
   ]
  },
  {
   "cell_type": "code",
   "execution_count": 132,
   "metadata": {},
   "outputs": [],
   "source": [
    "def create_images(dataset, ds_dir, label_dir):\n",
    "    # make directory\n",
    "    for l in range(len(label_dir)):\n",
    "        directory = f'{ds_dir}/train/{label_dir[l]}/ns={ns}_sol={sol}_f={fmin}-{fmax}/'\n",
    "\n",
    "        os.makedirs(directory, mode=0o777, exist_ok=True)\n",
    "\n",
    "        for i, data in enumerate(dataset[l]):\n",
    "\n",
    "            waveform = data[0]\n",
    "            spectrogram= get_spectrogram(waveform,ns=ns,sol=sol)\n",
    "            #spectrogram, freqs, bins, im = plt.specgram(waveform , NFFT=ns, Fs=waveform.stats.sampling_rate, noverlap=round(ns*sol))\n",
    "            \n",
    "            #Usar para get_spectrogram\n",
    "            \n",
    "            if fmax > spectrogram.shape[1]:\n",
    "                fc = spectrogram.shape[1]       \n",
    "            else:\n",
    "                fc = fmax\n",
    "            \n",
    "            '''            \n",
    "            \n",
    "            if fmax > freqs.max():\n",
    "                fc = freqs.max()        \n",
    "            else:\n",
    "                fc = fmax\n",
    "            '''\n",
    "            \n",
    "            log_spec = np.log(spectrogram[:,0:fc]) #Usar para get_spectrogram\n",
    "            #log_spec = np.log(spectrogram[(spectrogram.shape[0]-freqs[freqs<fc].shape[0]):spectrogram.shape[0],:].T) #usar para plt\n",
    "            plt.imsave(f'{directory}spec_img_{data[2][0:-4]}.png', log_spec)\n",
    "            \n",
    "\n",
    "        "
   ]
  },
  {
   "cell_type": "code",
   "execution_count": 133,
   "metadata": {},
   "outputs": [
    {
     "name": "stderr",
     "output_type": "stream",
     "text": [
      "/Users/andavaro/Desktop/Andrès/UBA/TrabajoDeGradoCEIA/VENV_Python/Tesis_IA/lib/python3.8/site-packages/obspy/signal/filter.py:62: UserWarning: Selected high corner frequency (35) of bandpass is at or above Nyquist (10.0). Applying a high-pass instead.\n",
      "  warnings.warn(msg)\n"
     ]
    }
   ],
   "source": [
    "fmin = 0.01\n",
    "fmax = 35\n",
    "trainset = load_audio_files(ruta, labels)"
   ]
  },
  {
   "cell_type": "code",
   "execution_count": 134,
   "metadata": {},
   "outputs": [],
   "source": [
    "ns = 2**8\n",
    "sol = 0.5\n",
    "ruta_train =  \"/Users/andavaro/Desktop/Andrès/UBA/TrabajoDeGradoCEIA/VENV_Python/Tesis_IA/\"\n",
    "create_images(trainset, ruta_train, labels)"
   ]
  }
 ],
 "metadata": {
  "kernelspec": {
   "display_name": "Tesis_IA",
   "language": "python",
   "name": "python3"
  },
  "language_info": {
   "codemirror_mode": {
    "name": "ipython",
    "version": 3
   },
   "file_extension": ".py",
   "mimetype": "text/x-python",
   "name": "python",
   "nbconvert_exporter": "python",
   "pygments_lexer": "ipython3",
   "version": "3.8.16"
  },
  "orig_nbformat": 4
 },
 "nbformat": 4,
 "nbformat_minor": 2
}
