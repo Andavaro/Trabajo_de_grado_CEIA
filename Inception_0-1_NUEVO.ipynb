{
 "cells": [
  {
   "cell_type": "code",
   "execution_count": 1,
   "metadata": {},
   "outputs": [],
   "source": [
    "import numpy as np\n",
    "import tensorflow as tf\n",
    "from tensorflow.keras import layers, models, regularizers\n",
    "from tensorflow.keras.applications import InceptionV3\n",
    "from tensorflow.keras.preprocessing.image import ImageDataGenerator\n",
    "from sklearn.utils.class_weight import compute_class_weight\n",
    "from sklearn.model_selection import train_test_split\n",
    "from sklearn.metrics import classification_report, confusion_matrix\n",
    "import matplotlib.pyplot as plt"
   ]
  },
  {
   "cell_type": "code",
   "execution_count": 2,
   "metadata": {},
   "outputs": [],
   "source": [
    "img_height = 224\n",
    "img_width = 224\n",
    "batch_size = 256"
   ]
  },
  {
   "cell_type": "code",
   "execution_count": 3,
   "metadata": {},
   "outputs": [],
   "source": [
    "train_directory = \"/Volumes/SSD_ANDRÉS/Espectrogramas/off/Copia de ns=32_sol=0.9_lowpass_f=0-1\""
   ]
  },
  {
   "cell_type": "code",
   "execution_count": 4,
   "metadata": {},
   "outputs": [
    {
     "name": "stdout",
     "output_type": "stream",
     "text": [
      "Found 5530 files belonging to 3 classes.\n",
      "Using 4977 files for training.\n",
      "Using 553 files for validation.\n"
     ]
    },
    {
     "name": "stderr",
     "output_type": "stream",
     "text": [
      "2024-06-16 14:34:40.022482: I metal_plugin/src/device/metal_device.cc:1154] Metal device set to: Apple M1\n",
      "2024-06-16 14:34:40.022503: I metal_plugin/src/device/metal_device.cc:296] systemMemory: 16.00 GB\n",
      "2024-06-16 14:34:40.022506: I metal_plugin/src/device/metal_device.cc:313] maxCacheSize: 5.33 GB\n",
      "2024-06-16 14:34:40.022533: I tensorflow/core/common_runtime/pluggable_device/pluggable_device_factory.cc:303] Could not identify NUMA node of platform GPU ID 0, defaulting to 0. Your kernel may not have been built with NUMA support.\n",
      "2024-06-16 14:34:40.022547: I tensorflow/core/common_runtime/pluggable_device/pluggable_device_factory.cc:269] Created TensorFlow device (/job:localhost/replica:0/task:0/device:GPU:0 with 0 MB memory) -> physical PluggableDevice (device: 0, name: METAL, pci bus id: <undefined>)\n"
     ]
    }
   ],
   "source": [
    "# Dividir el set en entrenamiento y validación\n",
    "train_ds, validation_dataset = tf.keras.preprocessing.image_dataset_from_directory(\n",
    "    train_directory, labels='inferred', label_mode='int', batch_size=batch_size, image_size=(img_height, img_width), seed=123, \n",
    "    validation_split=0.1, subset='both')"
   ]
  },
  {
   "cell_type": "code",
   "execution_count": 5,
   "metadata": {},
   "outputs": [
    {
     "name": "stdout",
     "output_type": "stream",
     "text": [
      "Tamaño del dataset: 20\n",
      "Tamaño de train: 17\n",
      "Tamaño de test: 3\n"
     ]
    }
   ],
   "source": [
    "# Obtener el tamaño del dataset\n",
    "class_names = train_ds.class_names\n",
    "dataset_size = len(train_ds)\n",
    "print(\"Tamaño del dataset:\", dataset_size)\n",
    "\n",
    "# Calcular el tamaño de los subconjuntos\n",
    "test_size = int(0.15 * dataset_size)\n",
    "train_size = dataset_size - test_size\n",
    "\n",
    "# Dividir el dataset en entrenamiento y prueba\n",
    "test_ds = train_ds.take(test_size)\n",
    "train_ds = train_ds.skip(test_size)\n",
    "\n",
    "print(\"Tamaño de train:\", len(train_ds))\n",
    "print(\"Tamaño de test:\", len(test_ds))"
   ]
  },
  {
   "cell_type": "code",
   "execution_count": 6,
   "metadata": {},
   "outputs": [
    {
     "data": {
      "text/plain": [
       "'test_directory = \"/Users/andavaro/Desktop/Andrès/UBA/TrabajoDeGradoCEIA/dataset/Espectrogramas/multibalance_para_test/ns=32_sol=0.9_off_f=0-40\"\\ntest_ds= tf.keras.preprocessing.image_dataset_from_directory(\\n    test_directory, labels=\\'inferred\\', label_mode=\\'int\\', batch_size=batch_size, image_size=(img_height, img_width), seed=123)'"
      ]
     },
     "execution_count": 6,
     "metadata": {},
     "output_type": "execute_result"
    }
   ],
   "source": [
    "'''test_directory = \"/Users/andavaro/Desktop/Andrès/UBA/TrabajoDeGradoCEIA/dataset/Espectrogramas/multibalance_para_test/ns=32_sol=0.9_off_f=0-40\"\n",
    "test_ds= tf.keras.preprocessing.image_dataset_from_directory(\n",
    "    test_directory, labels='inferred', label_mode='int', batch_size=batch_size, image_size=(img_height, img_width), seed=123)'''"
   ]
  },
  {
   "cell_type": "code",
   "execution_count": 7,
   "metadata": {},
   "outputs": [
    {
     "name": "stdout",
     "output_type": "stream",
     "text": [
      "['LP', 'VLP', 'VT']\n",
      "test size:3\n",
      "train size:17\n",
      "step by epoch:17\n"
     ]
    }
   ],
   "source": [
    "# Esta parte se usa para generar datos para pruebas. Si se tienen datos específicos para las pruebas, se deben llamar con el nombre de test_ds\n",
    "\n",
    "print(class_names)\n",
    "\n",
    "num_elements = len(train_ds)\n",
    "\n",
    "porcentaje_test = 0.1\n",
    "train_size = int((1-porcentaje_test) * num_elements)\n",
    "\n",
    "\n",
    "'''test_size = num_elements - train_size\n",
    "test_ds = train_ds.take(test_size)\n",
    "train_ds = train_ds.skip(test_size)'''\n",
    "\n",
    "step_by_epoch = len(train_ds)\n",
    "\n",
    "print(f'test size:{len(test_ds)}')\n",
    "print(f'train size:{len(train_ds)}')\n",
    "print(f'step by epoch:{step_by_epoch}')"
   ]
  },
  {
   "cell_type": "code",
   "execution_count": 8,
   "metadata": {},
   "outputs": [
    {
     "data": {
      "text/plain": [
       "\"y_train = train_ds.map(lambda _, label: label).unbatch()\\ny_train = list(y_train.as_numpy_iterator())\\nclass_weights = compute_class_weight('balanced', classes=np.unique(y_train), y=y_train)\\nclass_weight_dict = dict(enumerate(class_weights))\\nprint(class_weight_dict)\""
      ]
     },
     "execution_count": 8,
     "metadata": {},
     "output_type": "execute_result"
    }
   ],
   "source": [
    "'''y_train = train_ds.map(lambda _, label: label).unbatch()\n",
    "y_train = list(y_train.as_numpy_iterator())\n",
    "class_weights = compute_class_weight('balanced', classes=np.unique(y_train), y=y_train)\n",
    "class_weight_dict = dict(enumerate(class_weights))\n",
    "print(class_weight_dict)'''"
   ]
  },
  {
   "attachments": {},
   "cell_type": "markdown",
   "metadata": {},
   "source": [
    "# Modelo ResNet 50"
   ]
  },
  {
   "cell_type": "code",
   "execution_count": 9,
   "metadata": {},
   "outputs": [],
   "source": [
    "num_classes = len(class_names)"
   ]
  },
  {
   "cell_type": "code",
   "execution_count": 10,
   "metadata": {},
   "outputs": [],
   "source": [
    "# Cargar la arquitectura preentrenada VGG16 sin las capas superiores (sin incluir la capa de salida)\n",
    "base_model = InceptionV3(weights='imagenet', include_top=False, input_shape=(img_height, img_width, 3)) #input_shape=(altura, anchura, canales))\n",
    "base_model = tf.keras.Model(inputs=base_model.input, outputs=base_model.layers[-2].output)"
   ]
  },
  {
   "cell_type": "code",
   "execution_count": 11,
   "metadata": {},
   "outputs": [],
   "source": [
    "# Congelar las capas de la base (no se entrenarán durante el ajuste fino)\n",
    "for layer in base_model.layers:\n",
    "    layer.trainable = False"
   ]
  },
  {
   "cell_type": "code",
   "execution_count": 12,
   "metadata": {},
   "outputs": [],
   "source": [
    "# Agregar capas personalizadas a la arquitectura base\n",
    "model = models.Sequential([\n",
    "    base_model,\n",
    "    layers.Flatten(),\n",
    "    layers.Dense(256, activation='relu', kernel_regularizer=regularizers.L2(0.000001), activity_regularizer=regularizers.L2(0.000001)),\n",
    "    #layers.Dropout(0.5),\n",
    "    layers.Dense(len(class_names), activation='softmax')\n",
    "])"
   ]
  },
  {
   "cell_type": "code",
   "execution_count": 13,
   "metadata": {},
   "outputs": [],
   "source": [
    "# Definir la programación de la tasa de aprendizaje exponencial\n",
    "lr_schedule = tf.keras.optimizers.schedules.ExponentialDecay(\n",
    "    initial_learning_rate=0.0001,\n",
    "    decay_steps=len(train_ds)*10,\n",
    "    decay_rate=0.9\n",
    ")"
   ]
  },
  {
   "cell_type": "code",
   "execution_count": 14,
   "metadata": {},
   "outputs": [
    {
     "name": "stderr",
     "output_type": "stream",
     "text": [
      "WARNING:absl:At this time, the v2.11+ optimizer `tf.keras.optimizers.SGD` runs slowly on M1/M2 Macs, please use the legacy Keras optimizer instead, located at `tf.keras.optimizers.legacy.SGD`.\n"
     ]
    }
   ],
   "source": [
    "# Crear un optimizador con la programación de la tasa de aprendizaje exponencial y momentum\n",
    "custom_optimizer = tf.keras.optimizers.SGD(learning_rate=lr_schedule, momentum=0.9)"
   ]
  },
  {
   "cell_type": "code",
   "execution_count": 15,
   "metadata": {},
   "outputs": [
    {
     "name": "stderr",
     "output_type": "stream",
     "text": [
      "WARNING:absl:There is a known slowdown when using v2.11+ Keras optimizers on M1/M2 Macs. Falling back to the legacy Keras optimizer, i.e., `tf.keras.optimizers.legacy.SGD`.\n"
     ]
    }
   ],
   "source": [
    "# Compilar el modelo\n",
    "model.compile(optimizer=custom_optimizer,\n",
    "              loss='sparse_categorical_crossentropy',\n",
    "              metrics=['accuracy'])"
   ]
  },
  {
   "cell_type": "code",
   "execution_count": 16,
   "metadata": {},
   "outputs": [
    {
     "name": "stdout",
     "output_type": "stream",
     "text": [
      "Epoch 1/100\n"
     ]
    },
    {
     "name": "stderr",
     "output_type": "stream",
     "text": [
      "2024-06-16 14:34:43.194450: I tensorflow/core/grappler/optimizers/custom_graph_optimizer_registry.cc:114] Plugin optimizer for device_type GPU is enabled.\n"
     ]
    },
    {
     "name": "stdout",
     "output_type": "stream",
     "text": [
      "17/17 [==============================] - ETA: 0s - loss: 33.6370 - accuracy: 0.4362"
     ]
    },
    {
     "name": "stderr",
     "output_type": "stream",
     "text": [
      "2024-06-16 14:35:09.557064: I tensorflow/core/grappler/optimizers/custom_graph_optimizer_registry.cc:114] Plugin optimizer for device_type GPU is enabled.\n"
     ]
    },
    {
     "name": "stdout",
     "output_type": "stream",
     "text": [
      "17/17 [==============================] - 31s 2s/step - loss: 33.6370 - accuracy: 0.4362 - val_loss: 29.5137 - val_accuracy: 0.7342\n",
      "Epoch 2/100\n",
      "17/17 [==============================] - 29s 2s/step - loss: 14.5217 - accuracy: 0.6652 - val_loss: 15.7352 - val_accuracy: 0.7378\n",
      "Epoch 3/100\n",
      "17/17 [==============================] - 28s 2s/step - loss: 8.4943 - accuracy: 0.7011 - val_loss: 4.4308 - val_accuracy: 0.7939\n",
      "Epoch 4/100\n",
      "17/17 [==============================] - 28s 2s/step - loss: 4.1945 - accuracy: 0.7919 - val_loss: 4.1342 - val_accuracy: 0.7884\n",
      "Epoch 5/100\n",
      "17/17 [==============================] - 28s 2s/step - loss: 2.6545 - accuracy: 0.8411 - val_loss: 2.0156 - val_accuracy: 0.8698\n",
      "Epoch 6/100\n",
      "17/17 [==============================] - 29s 2s/step - loss: 1.9522 - accuracy: 0.8738 - val_loss: 2.1708 - val_accuracy: 0.8282\n",
      "Epoch 7/100\n",
      "17/17 [==============================] - 29s 2s/step - loss: 2.0042 - accuracy: 0.8693 - val_loss: 1.3816 - val_accuracy: 0.9114\n",
      "Epoch 8/100\n",
      "17/17 [==============================] - 29s 2s/step - loss: 1.4000 - accuracy: 0.9047 - val_loss: 1.2761 - val_accuracy: 0.9186\n",
      "Epoch 9/100\n",
      "17/17 [==============================] - 29s 2s/step - loss: 1.2284 - accuracy: 0.9133 - val_loss: 1.2147 - val_accuracy: 0.9150\n",
      "Epoch 10/100\n",
      "17/17 [==============================] - 29s 2s/step - loss: 1.2197 - accuracy: 0.9059 - val_loss: 2.0044 - val_accuracy: 0.8047\n",
      "Epoch 11/100\n",
      "17/17 [==============================] - 29s 2s/step - loss: 1.3296 - accuracy: 0.8926 - val_loss: 1.2674 - val_accuracy: 0.9024\n",
      "Epoch 12/100\n",
      "17/17 [==============================] - 29s 2s/step - loss: 1.3156 - accuracy: 0.8907 - val_loss: 1.4241 - val_accuracy: 0.8951\n",
      "Epoch 13/100\n",
      "17/17 [==============================] - 29s 2s/step - loss: 1.7978 - accuracy: 0.8510 - val_loss: 1.6674 - val_accuracy: 0.8391\n",
      "Epoch 14/100\n",
      "17/17 [==============================] - 29s 2s/step - loss: 1.3891 - accuracy: 0.8852 - val_loss: 1.1461 - val_accuracy: 0.9295\n",
      "Epoch 15/100\n",
      "17/17 [==============================] - 28s 2s/step - loss: 1.0926 - accuracy: 0.9242 - val_loss: 1.5554 - val_accuracy: 0.8481\n",
      "Epoch 16/100\n",
      "17/17 [==============================] - 29s 2s/step - loss: 1.1189 - accuracy: 0.9157 - val_loss: 1.0223 - val_accuracy: 0.9313\n",
      "Epoch 17/100\n",
      "17/17 [==============================] - 29s 2s/step - loss: 0.9859 - accuracy: 0.9309 - val_loss: 1.0329 - val_accuracy: 0.9277\n",
      "Epoch 18/100\n",
      "17/17 [==============================] - 29s 2s/step - loss: 1.0686 - accuracy: 0.9178 - val_loss: 1.1855 - val_accuracy: 0.8933\n",
      "Epoch 19/100\n",
      "17/17 [==============================] - 29s 2s/step - loss: 1.1180 - accuracy: 0.9187 - val_loss: 1.2422 - val_accuracy: 0.8843\n",
      "Epoch 20/100\n",
      "17/17 [==============================] - 29s 2s/step - loss: 1.0572 - accuracy: 0.9187 - val_loss: 1.1409 - val_accuracy: 0.9150\n",
      "Epoch 21/100\n",
      "17/17 [==============================] - 29s 2s/step - loss: 1.0371 - accuracy: 0.9206 - val_loss: 1.0543 - val_accuracy: 0.9060\n",
      "Epoch 22/100\n",
      "17/17 [==============================] - 29s 2s/step - loss: 0.9673 - accuracy: 0.9301 - val_loss: 0.9542 - val_accuracy: 0.9313\n",
      "Epoch 23/100\n",
      "17/17 [==============================] - 29s 2s/step - loss: 0.9559 - accuracy: 0.9306 - val_loss: 1.0272 - val_accuracy: 0.9150\n",
      "Epoch 24/100\n",
      "17/17 [==============================] - 29s 2s/step - loss: 0.9499 - accuracy: 0.9347 - val_loss: 0.9855 - val_accuracy: 0.9331\n",
      "Epoch 25/100\n",
      "17/17 [==============================] - 29s 2s/step - loss: 0.9451 - accuracy: 0.9359 - val_loss: 1.0546 - val_accuracy: 0.8969\n",
      "Epoch 26/100\n",
      "17/17 [==============================] - 29s 2s/step - loss: 1.0350 - accuracy: 0.9164 - val_loss: 1.0264 - val_accuracy: 0.9367\n",
      "Epoch 27/100\n",
      "17/17 [==============================] - 29s 2s/step - loss: 0.9138 - accuracy: 0.9401 - val_loss: 0.9015 - val_accuracy: 0.9458\n",
      "Epoch 28/100\n",
      "17/17 [==============================] - 29s 2s/step - loss: 0.9210 - accuracy: 0.9389 - val_loss: 0.9476 - val_accuracy: 0.9458\n",
      "Epoch 29/100\n",
      "17/17 [==============================] - 30s 2s/step - loss: 1.0310 - accuracy: 0.9214 - val_loss: 0.9239 - val_accuracy: 0.9439\n",
      "Epoch 30/100\n",
      "17/17 [==============================] - 29s 2s/step - loss: 0.9318 - accuracy: 0.9375 - val_loss: 0.9751 - val_accuracy: 0.9385\n",
      "Epoch 31/100\n",
      "17/17 [==============================] - 29s 2s/step - loss: 1.0145 - accuracy: 0.9233 - val_loss: 0.8922 - val_accuracy: 0.9439\n",
      "Epoch 32/100\n",
      "17/17 [==============================] - 29s 2s/step - loss: 0.8909 - accuracy: 0.9449 - val_loss: 1.0018 - val_accuracy: 0.9168\n",
      "Epoch 33/100\n",
      "17/17 [==============================] - 29s 2s/step - loss: 1.0722 - accuracy: 0.9149 - val_loss: 1.0171 - val_accuracy: 0.9367\n",
      "Epoch 34/100\n",
      "17/17 [==============================] - 29s 2s/step - loss: 0.9183 - accuracy: 0.9399 - val_loss: 0.8881 - val_accuracy: 0.9439\n",
      "Epoch 35/100\n",
      "17/17 [==============================] - 30s 2s/step - loss: 0.8837 - accuracy: 0.9458 - val_loss: 0.9161 - val_accuracy: 0.9458\n",
      "Epoch 36/100\n",
      "17/17 [==============================] - 30s 2s/step - loss: 0.8912 - accuracy: 0.9463 - val_loss: 0.8729 - val_accuracy: 0.9494\n",
      "Epoch 37/100\n",
      "17/17 [==============================] - 30s 2s/step - loss: 0.9231 - accuracy: 0.9366 - val_loss: 1.3853 - val_accuracy: 0.8481\n",
      "Epoch 38/100\n",
      "17/17 [==============================] - 30s 2s/step - loss: 0.9721 - accuracy: 0.9261 - val_loss: 0.8798 - val_accuracy: 0.9439\n",
      "Epoch 39/100\n",
      "17/17 [==============================] - 29s 2s/step - loss: 0.8789 - accuracy: 0.9468 - val_loss: 0.8642 - val_accuracy: 0.9476\n",
      "Epoch 40/100\n",
      "17/17 [==============================] - 30s 2s/step - loss: 0.8399 - accuracy: 0.9541 - val_loss: 0.9174 - val_accuracy: 0.9367\n",
      "Epoch 41/100\n",
      "17/17 [==============================] - 30s 2s/step - loss: 0.8565 - accuracy: 0.9520 - val_loss: 0.8609 - val_accuracy: 0.9439\n",
      "Epoch 42/100\n",
      "17/17 [==============================] - 29s 2s/step - loss: 0.8544 - accuracy: 0.9496 - val_loss: 0.8758 - val_accuracy: 0.9512\n",
      "Epoch 43/100\n",
      "17/17 [==============================] - 29s 2s/step - loss: 0.8660 - accuracy: 0.9458 - val_loss: 0.9744 - val_accuracy: 0.9367\n",
      "Epoch 44/100\n",
      "17/17 [==============================] - 29s 2s/step - loss: 0.9131 - accuracy: 0.9354 - val_loss: 0.8460 - val_accuracy: 0.9494\n",
      "Epoch 45/100\n",
      "17/17 [==============================] - 29s 2s/step - loss: 0.8752 - accuracy: 0.9451 - val_loss: 0.8884 - val_accuracy: 0.9385\n",
      "Epoch 46/100\n",
      "17/17 [==============================] - 29s 2s/step - loss: 1.0190 - accuracy: 0.9161 - val_loss: 1.2266 - val_accuracy: 0.8752\n",
      "Epoch 47/100\n",
      "17/17 [==============================] - 28s 2s/step - loss: 0.8763 - accuracy: 0.9454 - val_loss: 0.8778 - val_accuracy: 0.9458\n",
      "Epoch 48/100\n",
      "17/17 [==============================] - 28s 2s/step - loss: 0.8216 - accuracy: 0.9575 - val_loss: 0.8679 - val_accuracy: 0.9476\n",
      "Epoch 49/100\n",
      "17/17 [==============================] - 28s 2s/step - loss: 0.8389 - accuracy: 0.9518 - val_loss: 0.8391 - val_accuracy: 0.9494\n",
      "Epoch 50/100\n",
      "17/17 [==============================] - 28s 2s/step - loss: 0.8460 - accuracy: 0.9515 - val_loss: 0.8346 - val_accuracy: 0.9530\n",
      "Epoch 51/100\n",
      "17/17 [==============================] - 28s 2s/step - loss: 0.8360 - accuracy: 0.9522 - val_loss: 0.9257 - val_accuracy: 0.9168\n",
      "Epoch 52/100\n",
      "17/17 [==============================] - 28s 2s/step - loss: 0.8582 - accuracy: 0.9513 - val_loss: 0.8465 - val_accuracy: 0.9458\n",
      "Epoch 53/100\n",
      "17/17 [==============================] - 28s 2s/step - loss: 0.8480 - accuracy: 0.9465 - val_loss: 0.8742 - val_accuracy: 0.9548\n",
      "Epoch 54/100\n",
      "17/17 [==============================] - 28s 2s/step - loss: 0.8479 - accuracy: 0.9515 - val_loss: 0.8275 - val_accuracy: 0.9530\n",
      "Epoch 55/100\n",
      "17/17 [==============================] - 28s 2s/step - loss: 0.8415 - accuracy: 0.9458 - val_loss: 0.8597 - val_accuracy: 0.9566\n",
      "Epoch 56/100\n",
      "17/17 [==============================] - 28s 2s/step - loss: 0.9008 - accuracy: 0.9347 - val_loss: 0.8730 - val_accuracy: 0.9439\n",
      "Epoch 57/100\n",
      "17/17 [==============================] - 28s 2s/step - loss: 0.8508 - accuracy: 0.9494 - val_loss: 0.8654 - val_accuracy: 0.9476\n",
      "Epoch 58/100\n",
      "17/17 [==============================] - 29s 2s/step - loss: 0.8937 - accuracy: 0.9397 - val_loss: 0.8689 - val_accuracy: 0.9512\n",
      "Epoch 59/100\n",
      "17/17 [==============================] - 29s 2s/step - loss: 0.8567 - accuracy: 0.9470 - val_loss: 0.8316 - val_accuracy: 0.9548\n",
      "Epoch 60/100\n",
      "17/17 [==============================] - 29s 2s/step - loss: 0.8310 - accuracy: 0.9522 - val_loss: 0.8239 - val_accuracy: 0.9512\n",
      "Epoch 61/100\n",
      "17/17 [==============================] - 28s 2s/step - loss: 0.8661 - accuracy: 0.9442 - val_loss: 1.0659 - val_accuracy: 0.8969\n",
      "Epoch 62/100\n",
      "17/17 [==============================] - 29s 2s/step - loss: 0.8817 - accuracy: 0.9420 - val_loss: 0.8650 - val_accuracy: 0.9584\n",
      "Epoch 63/100\n",
      "17/17 [==============================] - 29s 2s/step - loss: 0.8428 - accuracy: 0.9520 - val_loss: 0.8311 - val_accuracy: 0.9512\n",
      "Epoch 64/100\n",
      "17/17 [==============================] - 29s 2s/step - loss: 0.8248 - accuracy: 0.9537 - val_loss: 0.9156 - val_accuracy: 0.9512\n",
      "Epoch 65/100\n",
      "17/17 [==============================] - 29s 2s/step - loss: 0.8322 - accuracy: 0.9544 - val_loss: 0.8229 - val_accuracy: 0.9512\n",
      "Epoch 66/100\n",
      "17/17 [==============================] - 29s 2s/step - loss: 0.8131 - accuracy: 0.9587 - val_loss: 0.8319 - val_accuracy: 0.9548\n",
      "Epoch 67/100\n",
      "17/17 [==============================] - 29s 2s/step - loss: 0.8206 - accuracy: 0.9584 - val_loss: 0.8396 - val_accuracy: 0.9476\n",
      "Epoch 68/100\n",
      "17/17 [==============================] - 29s 2s/step - loss: 0.8279 - accuracy: 0.9532 - val_loss: 0.8603 - val_accuracy: 0.9512\n",
      "Epoch 69/100\n",
      "17/17 [==============================] - 28s 2s/step - loss: 0.8349 - accuracy: 0.9494 - val_loss: 0.8180 - val_accuracy: 0.9584\n",
      "Epoch 70/100\n",
      "17/17 [==============================] - 29s 2s/step - loss: 0.8028 - accuracy: 0.9572 - val_loss: 0.8113 - val_accuracy: 0.9566\n",
      "Epoch 71/100\n",
      "17/17 [==============================] - 29s 2s/step - loss: 0.7940 - accuracy: 0.9648 - val_loss: 0.8109 - val_accuracy: 0.9584\n",
      "Epoch 72/100\n",
      "17/17 [==============================] - 29s 2s/step - loss: 0.8298 - accuracy: 0.9499 - val_loss: 0.8167 - val_accuracy: 0.9512\n",
      "Epoch 73/100\n",
      "17/17 [==============================] - 28s 2s/step - loss: 0.7962 - accuracy: 0.9603 - val_loss: 0.8071 - val_accuracy: 0.9548\n",
      "Epoch 74/100\n",
      "17/17 [==============================] - 28s 2s/step - loss: 0.8114 - accuracy: 0.9565 - val_loss: 0.8057 - val_accuracy: 0.9566\n",
      "Epoch 75/100\n",
      "17/17 [==============================] - 28s 2s/step - loss: 0.8665 - accuracy: 0.9425 - val_loss: 0.8204 - val_accuracy: 0.9530\n",
      "Epoch 76/100\n",
      "17/17 [==============================] - 28s 2s/step - loss: 0.8302 - accuracy: 0.9520 - val_loss: 0.8140 - val_accuracy: 0.9566\n",
      "Epoch 77/100\n",
      "17/17 [==============================] - 28s 2s/step - loss: 0.7920 - accuracy: 0.9634 - val_loss: 0.8248 - val_accuracy: 0.9602\n",
      "Epoch 78/100\n",
      "17/17 [==============================] - 28s 2s/step - loss: 0.8030 - accuracy: 0.9591 - val_loss: 0.8037 - val_accuracy: 0.9584\n",
      "Epoch 79/100\n",
      "17/17 [==============================] - 28s 2s/step - loss: 0.7862 - accuracy: 0.9610 - val_loss: 0.8172 - val_accuracy: 0.9566\n",
      "Epoch 80/100\n",
      "17/17 [==============================] - 28s 2s/step - loss: 0.8023 - accuracy: 0.9577 - val_loss: 0.8456 - val_accuracy: 0.9439\n",
      "Epoch 81/100\n",
      "17/17 [==============================] - 28s 2s/step - loss: 0.7900 - accuracy: 0.9598 - val_loss: 0.8195 - val_accuracy: 0.9566\n",
      "Epoch 82/100\n",
      "17/17 [==============================] - 28s 2s/step - loss: 0.7912 - accuracy: 0.9610 - val_loss: 0.7963 - val_accuracy: 0.9602\n",
      "Epoch 83/100\n",
      "17/17 [==============================] - 28s 2s/step - loss: 0.7944 - accuracy: 0.9582 - val_loss: 0.8038 - val_accuracy: 0.9602\n",
      "Epoch 84/100\n",
      "17/17 [==============================] - 29s 2s/step - loss: 0.7996 - accuracy: 0.9601 - val_loss: 0.8171 - val_accuracy: 0.9476\n",
      "Epoch 85/100\n",
      "17/17 [==============================] - 29s 2s/step - loss: 0.7975 - accuracy: 0.9570 - val_loss: 0.8072 - val_accuracy: 0.9512\n",
      "Epoch 86/100\n",
      "17/17 [==============================] - 29s 2s/step - loss: 0.7802 - accuracy: 0.9667 - val_loss: 0.8099 - val_accuracy: 0.9584\n",
      "Epoch 87/100\n",
      "17/17 [==============================] - 29s 2s/step - loss: 0.7935 - accuracy: 0.9601 - val_loss: 0.7974 - val_accuracy: 0.9530\n",
      "Epoch 88/100\n",
      "17/17 [==============================] - 29s 2s/step - loss: 0.7761 - accuracy: 0.9648 - val_loss: 0.8178 - val_accuracy: 0.9476\n",
      "Epoch 89/100\n",
      "17/17 [==============================] - 29s 2s/step - loss: 0.7847 - accuracy: 0.9629 - val_loss: 0.7931 - val_accuracy: 0.9602\n",
      "Epoch 90/100\n",
      "17/17 [==============================] - 29s 2s/step - loss: 0.7738 - accuracy: 0.9625 - val_loss: 0.8132 - val_accuracy: 0.9548\n",
      "Epoch 91/100\n",
      "17/17 [==============================] - 29s 2s/step - loss: 0.7794 - accuracy: 0.9627 - val_loss: 0.7952 - val_accuracy: 0.9548\n",
      "Epoch 92/100\n",
      "17/17 [==============================] - 29s 2s/step - loss: 0.7879 - accuracy: 0.9608 - val_loss: 0.7992 - val_accuracy: 0.9548\n",
      "Epoch 93/100\n",
      "17/17 [==============================] - 29s 2s/step - loss: 0.7726 - accuracy: 0.9653 - val_loss: 0.7940 - val_accuracy: 0.9530\n",
      "Epoch 94/100\n",
      "17/17 [==============================] - 29s 2s/step - loss: 0.7807 - accuracy: 0.9625 - val_loss: 0.7979 - val_accuracy: 0.9584\n",
      "Epoch 95/100\n",
      "17/17 [==============================] - 29s 2s/step - loss: 0.7823 - accuracy: 0.9627 - val_loss: 0.8208 - val_accuracy: 0.9476\n",
      "Epoch 96/100\n",
      "17/17 [==============================] - 29s 2s/step - loss: 0.7880 - accuracy: 0.9572 - val_loss: 0.8074 - val_accuracy: 0.9439\n",
      "Epoch 97/100\n",
      "17/17 [==============================] - 29s 2s/step - loss: 0.7771 - accuracy: 0.9617 - val_loss: 0.7932 - val_accuracy: 0.9566\n",
      "Epoch 98/100\n",
      "17/17 [==============================] - 29s 2s/step - loss: 0.7783 - accuracy: 0.9632 - val_loss: 0.7945 - val_accuracy: 0.9548\n",
      "Epoch 99/100\n",
      "17/17 [==============================] - 28s 2s/step - loss: 0.7737 - accuracy: 0.9665 - val_loss: 0.7879 - val_accuracy: 0.9548\n",
      "Epoch 100/100\n",
      "17/17 [==============================] - 28s 2s/step - loss: 0.7813 - accuracy: 0.9610 - val_loss: 0.8017 - val_accuracy: 0.9584\n"
     ]
    }
   ],
   "source": [
    "# Entrenar el modelo\n",
    "epochs = 100\n",
    "\n",
    "'''checkpoint_filepath = '/Volumes/SSD_ANDRÉS/PRUEBAS_nuevos_vlp/Checkpoint/resnet_sinfiltro_checkpoint.model.keras'\n",
    "model_checkpoint_callback = tf.keras.callbacks.ModelCheckpoint(\n",
    "    filepath=checkpoint_filepath,\n",
    "    monitor='val_accuracy',\n",
    "    mode='max',\n",
    "    save_best_only=True,\n",
    "    verbose=1)'''\n",
    "\n",
    "history = model.fit(train_ds, epochs=epochs, validation_data=validation_dataset)#, callbacks=[model_checkpoint_callback])#, class_weight=class_weight_dict)"
   ]
  },
  {
   "cell_type": "code",
   "execution_count": 17,
   "metadata": {},
   "outputs": [
    {
     "name": "stdout",
     "output_type": "stream",
     "text": [
      "3/3 [==============================] - 6s 1s/step - loss: 0.7378 - accuracy: 0.9661\n",
      "Precisión en el conjunto de prueba: 0.9661458730697632\n"
     ]
    }
   ],
   "source": [
    "# Evaluar el modelo en el conjunto de prueba\n",
    "test_loss, test_acc = model.evaluate(test_ds)\n",
    "print(f'Precisión en el conjunto de prueba: {test_acc}')"
   ]
  },
  {
   "cell_type": "code",
   "execution_count": 18,
   "metadata": {},
   "outputs": [
    {
     "data": {
      "image/png": "[encoded data removed]",
      "text/plain": [
       "<Figure size 1200x400 with 2 Axes>"
      ]
     },
     "metadata": {},
     "output_type": "display_data"
    }
   ],
   "source": [
    "# Trazar la curva de aprendizaje\n",
    "plt.figure(figsize=(12, 4))\n",
    "plt.subplot(1, 2, 1)\n",
    "plt.plot(history.history['accuracy'], label='Precisión de Entrenamiento')\n",
    "plt.plot(history.history['val_accuracy'], label='Precisión de Validación')\n",
    "plt.legend(loc='lower right')\n",
    "plt.title('Curva de Aprendizaje de la Precisión')\n",
    "\n",
    "plt.subplot(1, 2, 2)\n",
    "plt.plot(history.history['loss'], label='Pérdida de Entrenamiento')\n",
    "plt.plot(history.history['val_loss'], label='Pérdida de Validación')\n",
    "plt.legend(loc='upper right')\n",
    "plt.title('Curva de Aprendizaje de la Pérdida')\n",
    "plt.show()"
   ]
  },
  {
   "cell_type": "code",
   "execution_count": 19,
   "metadata": {},
   "outputs": [],
   "source": [
    "ruta_modelos_entrenados = '/Volumes/SSD_ANDRÉS/PRUEBAS_nuevos_vlp/Modelos entrenadoss'"
   ]
  },
  {
   "cell_type": "code",
   "execution_count": 20,
   "metadata": {},
   "outputs": [
    {
     "name": "stdout",
     "output_type": "stream",
     "text": [
      "INFO:tensorflow:Assets written to: /Volumes/SSD_ANDRÉS/PRUEBAS_nuevos_vlp/Modelos entrenadoss/inception_0-1/assets\n"
     ]
    },
    {
     "name": "stderr",
     "output_type": "stream",
     "text": [
      "INFO:tensorflow:Assets written to: /Volumes/SSD_ANDRÉS/PRUEBAS_nuevos_vlp/Modelos entrenadoss/inception_0-1/assets\n"
     ]
    }
   ],
   "source": [
    "model.save(ruta_modelos_entrenados+'/inception_0-1')"
   ]
  },
  {
   "cell_type": "code",
   "execution_count": 21,
   "metadata": {},
   "outputs": [
    {
     "name": "stderr",
     "output_type": "stream",
     "text": [
      "2024-06-16 15:23:05.420993: I tensorflow/core/grappler/optimizers/custom_graph_optimizer_registry.cc:114] Plugin optimizer for device_type GPU is enabled.\n"
     ]
    },
    {
     "name": "stdout",
     "output_type": "stream",
     "text": [
      "8/8 [==============================] - 2s 143ms/step\n",
      "8/8 [==============================] - 1s 164ms/step\n",
      "8/8 [==============================] - 1s 167ms/step\n"
     ]
    }
   ],
   "source": [
    "ruta_modelos_entrenados = '/Volumes/SSD_ANDRÉS/PRUEBAS_nuevos_vlp/Modelos entrenadoss'\n",
    "new_model = tf.keras.models.load_model(ruta_modelos_entrenados+'/inception_0-1')\n",
    "y_pred = []  # store predicted labels\n",
    "y_true = []  # store true labels\n",
    "\n",
    "# iterate over the dataset\n",
    "for image_batch, label_batch in test_ds:   # use dataset.unbatch() with repeat\n",
    "   # append true labels\n",
    "   #print(\"Label: \",label_batch)\n",
    "   y_true.append(label_batch)\n",
    "   # compute predictions\n",
    "   #print(\"Imagen: \",image_batch)\n",
    "   preds = new_model.predict(image_batch)\n",
    "   # append predicted labels\n",
    "   y_pred.append(np.argmax(preds, axis = - 1))\n",
    "   #print(\"-----------------\")\n",
    "\n",
    "# convert the true and predicted labels into tensors\n",
    "correct_labels = tf.concat([item for item in y_true], axis = 0)\n",
    "predicted_labels = tf.concat([item for item in y_pred], axis = 0)"
   ]
  },
  {
   "cell_type": "code",
   "execution_count": 22,
   "metadata": {},
   "outputs": [
    {
     "data": {
      "image/png": "[encoded data removed]",
      "text/plain": [
       "<Figure size 1000x800 with 2 Axes>"
      ]
     },
     "metadata": {},
     "output_type": "display_data"
    }
   ],
   "source": [
    "import seaborn as sns\n",
    "\n",
    "confusion_mtx = tf.math.confusion_matrix(correct_labels, predicted_labels)\n",
    "plt.figure(figsize=(10, 8))\n",
    "sns.heatmap(confusion_mtx,\n",
    "            xticklabels=class_names,\n",
    "            yticklabels=class_names,\n",
    "            annot=True, fmt='g')\n",
    "plt.xlabel('Prediction')\n",
    "plt.ylabel('Label')\n",
    "plt.show()"
   ]
  },
  {
   "cell_type": "code",
   "execution_count": 23,
   "metadata": {},
   "outputs": [
    {
     "name": "stdout",
     "output_type": "stream",
     "text": [
      "%LP: 90.25641025641026\n",
      "%VLP: 98.18181818181819\n",
      "%VT: 99.01960784313727\n"
     ]
    }
   ],
   "source": [
    "cm = confusion_matrix(correct_labels, predicted_labels)\n",
    "print('%LP: '+str(cm[0][0]/sum(cm[0]) * 100))\n",
    "print('%VLP: '+str(cm[1][1]/sum(cm[1]) * 100))\n",
    "print('%VT: '+str(cm[2][2]/sum(cm[2]) * 100))"
   ]
  },
  {
   "cell_type": "code",
   "execution_count": 24,
   "metadata": {},
   "outputs": [
    {
     "name": "stdout",
     "output_type": "stream",
     "text": [
      "              precision    recall  f1-score   support\n",
      "\n",
      "           0     0.9617    0.9026    0.9312       195\n",
      "           1     0.9643    0.9818    0.9730       165\n",
      "           2     0.9688    0.9902    0.9794       408\n",
      "\n",
      "    accuracy                         0.9661       768\n",
      "   macro avg     0.9650    0.9582    0.9612       768\n",
      "weighted avg     0.9661    0.9661    0.9658       768\n",
      "\n"
     ]
    }
   ],
   "source": [
    "from sklearn.metrics import classification_report\n",
    "print(classification_report(correct_labels, predicted_labels, digits=4))"
   ]
  }
 ],
 "metadata": {
  "kernelspec": {
   "display_name": "Tesis_IA",
   "language": "python",
   "name": "python3"
  },
  "language_info": {
   "codemirror_mode": {
    "name": "ipython",
    "version": 3
   },
   "file_extension": ".py",
   "mimetype": "text/x-python",
   "name": "python",
   "nbconvert_exporter": "python",
   "pygments_lexer": "ipython3",
   "version": "3.8.16"
  },
  "orig_nbformat": 4
 },
 "nbformat": 4,
 "nbformat_minor": 2
}
