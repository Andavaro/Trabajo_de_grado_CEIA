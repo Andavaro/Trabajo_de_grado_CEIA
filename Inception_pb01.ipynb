{
 "cells": [
  {
   "cell_type": "code",
   "execution_count": 1,
   "metadata": {},
   "outputs": [],
   "source": [
    "import numpy as np\n",
    "import tensorflow as tf\n",
    "from tensorflow.keras import layers, models, regularizers\n",
    "from tensorflow.keras.applications import InceptionV3\n",
    "from sklearn.utils.class_weight import compute_class_weight\n",
    "from sklearn.model_selection import train_test_split\n",
    "from sklearn.metrics import classification_report, confusion_matrix\n",
    "import matplotlib.pyplot as plt"
   ]
  },
  {
   "cell_type": "code",
   "execution_count": 2,
   "metadata": {},
   "outputs": [],
   "source": [
    "img_height = 224\n",
    "img_width = 224\n",
    "batch_size = 256"
   ]
  },
  {
   "cell_type": "code",
   "execution_count": 3,
   "metadata": {},
   "outputs": [],
   "source": [
    "train_directory = \"/Volumes/SSD_ANDRÉS/Espectrogramas/off/ns=32_sol=0.9_lowpass_f=0-25\""
   ]
  },
  {
   "cell_type": "code",
   "execution_count": 4,
   "metadata": {},
   "outputs": [
    {
     "name": "stdout",
     "output_type": "stream",
     "text": [
      "Found 8937 files belonging to 3 classes.\n",
      "Using 7150 files for training.\n",
      "Using 1787 files for validation.\n"
     ]
    },
    {
     "name": "stderr",
     "output_type": "stream",
     "text": [
      "2024-03-17 17:13:28.909427: I metal_plugin/src/device/metal_device.cc:1154] Metal device set to: Apple M1\n",
      "2024-03-17 17:13:28.909448: I metal_plugin/src/device/metal_device.cc:296] systemMemory: 16.00 GB\n",
      "2024-03-17 17:13:28.909451: I metal_plugin/src/device/metal_device.cc:313] maxCacheSize: 5.33 GB\n",
      "2024-03-17 17:13:28.909478: I tensorflow/core/common_runtime/pluggable_device/pluggable_device_factory.cc:303] Could not identify NUMA node of platform GPU ID 0, defaulting to 0. Your kernel may not have been built with NUMA support.\n",
      "2024-03-17 17:13:28.909492: I tensorflow/core/common_runtime/pluggable_device/pluggable_device_factory.cc:269] Created TensorFlow device (/job:localhost/replica:0/task:0/device:GPU:0 with 0 MB memory) -> physical PluggableDevice (device: 0, name: METAL, pci bus id: <undefined>)\n"
     ]
    }
   ],
   "source": [
    "# Dividir el set en entrenamiento y validación\n",
    "train_ds, validation_dataset = tf.keras.preprocessing.image_dataset_from_directory(\n",
    "    train_directory, labels='inferred', label_mode='int', batch_size=batch_size, image_size=(img_height, img_width), seed=123, \n",
    "    validation_split=0.2, subset='both')"
   ]
  },
  {
   "cell_type": "code",
   "execution_count": 5,
   "metadata": {},
   "outputs": [
    {
     "name": "stdout",
     "output_type": "stream",
     "text": [
      "Found 8960 files belonging to 3 classes.\n"
     ]
    }
   ],
   "source": [
    "test_directory = \"/Volumes/SSD_ANDRÉS/Espectrogramas/pb25test\"\n",
    "test_ds= tf.keras.preprocessing.image_dataset_from_directory(\n",
    "    test_directory, labels='inferred', label_mode='int', batch_size=batch_size, image_size=(img_height, img_width), seed=123)"
   ]
  },
  {
   "cell_type": "code",
   "execution_count": 6,
   "metadata": {},
   "outputs": [
    {
     "data": {
      "text/plain": [
       "'num_elements = len(train_ds)\\n\\nporcentaje_test = 0.1\\ntrain_size = int((1-porcentaje_test) * num_elements)\\n\\n\\ntest_size = num_elements - train_size\\ntest_ds = train_ds.take(test_size)\\ntrain_ds = train_ds.skip(test_size)'"
      ]
     },
     "execution_count": 6,
     "metadata": {},
     "output_type": "execute_result"
    }
   ],
   "source": [
    "# Esta parte se usa para generar datos para pruebas. Si se tienen datos específicos para las pruebas, se deben llamar con el nombre de test_ds\n",
    "'''num_elements = len(train_ds)\n",
    "\n",
    "porcentaje_test = 0.1\n",
    "train_size = int((1-porcentaje_test) * num_elements)\n",
    "\n",
    "\n",
    "test_size = num_elements - train_size\n",
    "test_ds = train_ds.take(test_size)\n",
    "train_ds = train_ds.skip(test_size)'''"
   ]
  },
  {
   "cell_type": "code",
   "execution_count": 7,
   "metadata": {},
   "outputs": [
    {
     "name": "stdout",
     "output_type": "stream",
     "text": [
      "['LP', 'VLP', 'VT']\n"
     ]
    }
   ],
   "source": [
    "class_names = train_ds.class_names\n",
    "print(class_names)"
   ]
  },
  {
   "cell_type": "code",
   "execution_count": 8,
   "metadata": {},
   "outputs": [
    {
     "data": {
      "text/plain": [
       "\"y_train = train_ds.map(lambda _, label: label).unbatch()\\ny_train = list(y_train.as_numpy_iterator())\\nclass_weights = compute_class_weight('balanced', classes=np.unique(y_train), y=y_train)\\nclass_weight_dict = dict(enumerate(class_weights))\\nprint(class_weight_dict)\""
      ]
     },
     "execution_count": 8,
     "metadata": {},
     "output_type": "execute_result"
    }
   ],
   "source": [
    "'''y_train = train_ds.map(lambda _, label: label).unbatch()\n",
    "y_train = list(y_train.as_numpy_iterator())\n",
    "class_weights = compute_class_weight('balanced', classes=np.unique(y_train), y=y_train)\n",
    "class_weight_dict = dict(enumerate(class_weights))\n",
    "print(class_weight_dict)'''"
   ]
  },
  {
   "attachments": {},
   "cell_type": "markdown",
   "metadata": {},
   "source": [
    "# Modelo DenseNet 121"
   ]
  },
  {
   "cell_type": "code",
   "execution_count": 9,
   "metadata": {},
   "outputs": [],
   "source": [
    "num_classes = len(class_names)"
   ]
  },
  {
   "cell_type": "code",
   "execution_count": 10,
   "metadata": {},
   "outputs": [],
   "source": [
    "# Cargar la arquitectura preentrenada VGG16 sin las capas superiores (sin incluir la capa de salida)\n",
    "base_model = InceptionV3(weights='imagenet', include_top=False, input_shape=(img_height, img_width, 3)) #input_shape=(altura, anchura, canales))\n",
    "base_model = tf.keras.Model(inputs=base_model.input, outputs=base_model.layers[-2].output)"
   ]
  },
  {
   "cell_type": "code",
   "execution_count": 11,
   "metadata": {},
   "outputs": [],
   "source": [
    "# Congelar las capas de la base (no se entrenarán durante el ajuste fino)\n",
    "for layer in base_model.layers:\n",
    "    layer.trainable = False"
   ]
  },
  {
   "cell_type": "code",
   "execution_count": 12,
   "metadata": {},
   "outputs": [],
   "source": [
    "# Agregar capas personalizadas a la arquitectura base\n",
    "model = models.Sequential([\n",
    "    base_model,\n",
    "    layers.Flatten(),\n",
    "    layers.Dense(256, activation='relu', kernel_regularizer=regularizers.L2(0.000001), activity_regularizer=regularizers.L2(0.000001)),\n",
    "    #layers.Dropout(0.5),\n",
    "    layers.Dense(len(class_names), activation='softmax')\n",
    "])"
   ]
  },
  {
   "cell_type": "code",
   "execution_count": 13,
   "metadata": {},
   "outputs": [],
   "source": [
    "# Definir la programación de la tasa de aprendizaje exponencial\n",
    "lr_schedule = tf.keras.optimizers.schedules.ExponentialDecay(\n",
    "    initial_learning_rate=0.0001,\n",
    "    decay_steps=len(train_ds)*10,\n",
    "    decay_rate=0.9\n",
    ")"
   ]
  },
  {
   "cell_type": "code",
   "execution_count": 14,
   "metadata": {},
   "outputs": [
    {
     "name": "stderr",
     "output_type": "stream",
     "text": [
      "WARNING:absl:At this time, the v2.11+ optimizer `tf.keras.optimizers.SGD` runs slowly on M1/M2 Macs, please use the legacy Keras optimizer instead, located at `tf.keras.optimizers.legacy.SGD`.\n"
     ]
    }
   ],
   "source": [
    "# Crear un optimizador con la programación de la tasa de aprendizaje exponencial y momentum\n",
    "custom_optimizer = tf.keras.optimizers.SGD(learning_rate=lr_schedule, momentum=0.9)"
   ]
  },
  {
   "cell_type": "code",
   "execution_count": 15,
   "metadata": {},
   "outputs": [
    {
     "name": "stderr",
     "output_type": "stream",
     "text": [
      "WARNING:absl:There is a known slowdown when using v2.11+ Keras optimizers on M1/M2 Macs. Falling back to the legacy Keras optimizer, i.e., `tf.keras.optimizers.legacy.SGD`.\n"
     ]
    }
   ],
   "source": [
    "# Compilar el modelo\n",
    "model.compile(optimizer=custom_optimizer,\n",
    "              loss='sparse_categorical_crossentropy',\n",
    "              metrics=['accuracy'])"
   ]
  },
  {
   "cell_type": "code",
   "execution_count": 16,
   "metadata": {},
   "outputs": [
    {
     "name": "stdout",
     "output_type": "stream",
     "text": [
      "Epoch 1/100\n"
     ]
    },
    {
     "name": "stderr",
     "output_type": "stream",
     "text": [
      "2024-03-17 17:13:31.862512: I tensorflow/core/grappler/optimizers/custom_graph_optimizer_registry.cc:114] Plugin optimizer for device_type GPU is enabled.\n"
     ]
    },
    {
     "name": "stdout",
     "output_type": "stream",
     "text": [
      "28/28 [==============================] - ETA: 0s - loss: 5.9018 - accuracy: 0.6631"
     ]
    },
    {
     "name": "stderr",
     "output_type": "stream",
     "text": [
      "2024-03-17 17:14:14.428016: I tensorflow/core/grappler/optimizers/custom_graph_optimizer_registry.cc:114] Plugin optimizer for device_type GPU is enabled.\n"
     ]
    },
    {
     "name": "stdout",
     "output_type": "stream",
     "text": [
      "28/28 [==============================] - 54s 2s/step - loss: 5.9018 - accuracy: 0.6631 - val_loss: 3.0543 - val_accuracy: 0.6956\n",
      "Epoch 2/100\n",
      "28/28 [==============================] - 52s 2s/step - loss: 1.5917 - accuracy: 0.8301 - val_loss: 1.1776 - val_accuracy: 0.8735\n",
      "Epoch 3/100\n",
      "28/28 [==============================] - 51s 2s/step - loss: 0.9053 - accuracy: 0.8751 - val_loss: 0.8145 - val_accuracy: 0.8797\n",
      "Epoch 4/100\n",
      "28/28 [==============================] - 51s 2s/step - loss: 0.7501 - accuracy: 0.8808 - val_loss: 0.6860 - val_accuracy: 0.8948\n",
      "Epoch 5/100\n",
      "28/28 [==============================] - 51s 2s/step - loss: 0.7209 - accuracy: 0.8829 - val_loss: 0.9677 - val_accuracy: 0.8344\n",
      "Epoch 6/100\n",
      "28/28 [==============================] - 51s 2s/step - loss: 0.5921 - accuracy: 0.9062 - val_loss: 0.6135 - val_accuracy: 0.8920\n",
      "Epoch 7/100\n",
      "28/28 [==============================] - 52s 2s/step - loss: 0.4831 - accuracy: 0.9186 - val_loss: 0.5341 - val_accuracy: 0.9110\n",
      "Epoch 8/100\n",
      "28/28 [==============================] - 51s 2s/step - loss: 0.5381 - accuracy: 0.9034 - val_loss: 0.7529 - val_accuracy: 0.8724\n",
      "Epoch 9/100\n",
      "28/28 [==============================] - 51s 2s/step - loss: 0.5469 - accuracy: 0.9055 - val_loss: 0.7011 - val_accuracy: 0.8780\n",
      "Epoch 10/100\n",
      "28/28 [==============================] - 51s 2s/step - loss: 0.4363 - accuracy: 0.9239 - val_loss: 0.4443 - val_accuracy: 0.9401\n",
      "Epoch 11/100\n",
      "28/28 [==============================] - 52s 2s/step - loss: 0.4094 - accuracy: 0.9288 - val_loss: 0.4327 - val_accuracy: 0.9407\n",
      "Epoch 12/100\n",
      "28/28 [==============================] - 52s 2s/step - loss: 0.3848 - accuracy: 0.9337 - val_loss: 0.4686 - val_accuracy: 0.9312\n",
      "Epoch 13/100\n",
      "28/28 [==============================] - 51s 2s/step - loss: 0.3779 - accuracy: 0.9351 - val_loss: 0.4067 - val_accuracy: 0.9446\n",
      "Epoch 14/100\n",
      "28/28 [==============================] - 51s 2s/step - loss: 0.3201 - accuracy: 0.9490 - val_loss: 0.4115 - val_accuracy: 0.9412\n",
      "Epoch 15/100\n",
      "28/28 [==============================] - 51s 2s/step - loss: 0.3028 - accuracy: 0.9519 - val_loss: 0.4099 - val_accuracy: 0.9340\n",
      "Epoch 16/100\n",
      "28/28 [==============================] - 51s 2s/step - loss: 0.3346 - accuracy: 0.9407 - val_loss: 0.4518 - val_accuracy: 0.9239\n",
      "Epoch 17/100\n",
      "28/28 [==============================] - 51s 2s/step - loss: 0.3099 - accuracy: 0.9502 - val_loss: 0.3698 - val_accuracy: 0.9446\n",
      "Epoch 18/100\n",
      "28/28 [==============================] - 51s 2s/step - loss: 0.3208 - accuracy: 0.9410 - val_loss: 0.5060 - val_accuracy: 0.9161\n",
      "Epoch 19/100\n",
      "28/28 [==============================] - 52s 2s/step - loss: 0.3013 - accuracy: 0.9501 - val_loss: 0.3446 - val_accuracy: 0.9496\n",
      "Epoch 20/100\n",
      "28/28 [==============================] - 51s 2s/step - loss: 0.2774 - accuracy: 0.9536 - val_loss: 0.3617 - val_accuracy: 0.9463\n",
      "Epoch 21/100\n",
      "28/28 [==============================] - 51s 2s/step - loss: 0.2535 - accuracy: 0.9607 - val_loss: 0.3530 - val_accuracy: 0.9491\n",
      "Epoch 22/100\n",
      "28/28 [==============================] - 51s 2s/step - loss: 0.2586 - accuracy: 0.9576 - val_loss: 0.3888 - val_accuracy: 0.9278\n",
      "Epoch 23/100\n",
      "28/28 [==============================] - 51s 2s/step - loss: 0.3012 - accuracy: 0.9429 - val_loss: 0.3866 - val_accuracy: 0.9429\n",
      "Epoch 24/100\n",
      "28/28 [==============================] - 51s 2s/step - loss: 0.2941 - accuracy: 0.9443 - val_loss: 0.3584 - val_accuracy: 0.9468\n",
      "Epoch 25/100\n",
      "28/28 [==============================] - 51s 2s/step - loss: 0.2515 - accuracy: 0.9594 - val_loss: 0.3392 - val_accuracy: 0.9491\n",
      "Epoch 26/100\n",
      "28/28 [==============================] - 51s 2s/step - loss: 0.2382 - accuracy: 0.9629 - val_loss: 0.3603 - val_accuracy: 0.9407\n",
      "Epoch 27/100\n",
      "28/28 [==============================] - 51s 2s/step - loss: 0.2298 - accuracy: 0.9653 - val_loss: 0.3198 - val_accuracy: 0.9552\n",
      "Epoch 28/100\n",
      "28/28 [==============================] - 51s 2s/step - loss: 0.2213 - accuracy: 0.9673 - val_loss: 0.3203 - val_accuracy: 0.9547\n",
      "Epoch 29/100\n",
      "28/28 [==============================] - 51s 2s/step - loss: 0.2204 - accuracy: 0.9662 - val_loss: 0.3118 - val_accuracy: 0.9558\n",
      "Epoch 30/100\n",
      "28/28 [==============================] - 51s 2s/step - loss: 0.2150 - accuracy: 0.9684 - val_loss: 0.3196 - val_accuracy: 0.9524\n",
      "Epoch 31/100\n",
      "28/28 [==============================] - 51s 2s/step - loss: 0.2103 - accuracy: 0.9703 - val_loss: 0.3059 - val_accuracy: 0.9552\n",
      "Epoch 32/100\n",
      "28/28 [==============================] - 52s 2s/step - loss: 0.2082 - accuracy: 0.9692 - val_loss: 0.3146 - val_accuracy: 0.9580\n",
      "Epoch 33/100\n",
      "28/28 [==============================] - 51s 2s/step - loss: 0.2118 - accuracy: 0.9671 - val_loss: 0.3235 - val_accuracy: 0.9440\n",
      "Epoch 34/100\n",
      "28/28 [==============================] - 51s 2s/step - loss: 0.2126 - accuracy: 0.9667 - val_loss: 0.3619 - val_accuracy: 0.9412\n",
      "Epoch 35/100\n",
      "28/28 [==============================] - 52s 2s/step - loss: 0.2093 - accuracy: 0.9671 - val_loss: 0.3113 - val_accuracy: 0.9541\n",
      "Epoch 36/100\n",
      "28/28 [==============================] - 51s 2s/step - loss: 0.2003 - accuracy: 0.9717 - val_loss: 0.3343 - val_accuracy: 0.9474\n",
      "Epoch 37/100\n",
      "28/28 [==============================] - 51s 2s/step - loss: 0.1995 - accuracy: 0.9713 - val_loss: 0.2973 - val_accuracy: 0.9575\n",
      "Epoch 38/100\n",
      "28/28 [==============================] - 52s 2s/step - loss: 0.1938 - accuracy: 0.9726 - val_loss: 0.2818 - val_accuracy: 0.9575\n",
      "Epoch 39/100\n",
      "28/28 [==============================] - 51s 2s/step - loss: 0.1933 - accuracy: 0.9731 - val_loss: 0.2900 - val_accuracy: 0.9597\n",
      "Epoch 40/100\n",
      "28/28 [==============================] - 51s 2s/step - loss: 0.2108 - accuracy: 0.9638 - val_loss: 0.2927 - val_accuracy: 0.9558\n",
      "Epoch 41/100\n",
      "28/28 [==============================] - 51s 2s/step - loss: 0.1900 - accuracy: 0.9717 - val_loss: 0.2786 - val_accuracy: 0.9580\n",
      "Epoch 42/100\n",
      "28/28 [==============================] - 51s 2s/step - loss: 0.1858 - accuracy: 0.9727 - val_loss: 0.2825 - val_accuracy: 0.9552\n",
      "Epoch 43/100\n",
      "28/28 [==============================] - 51s 2s/step - loss: 0.1868 - accuracy: 0.9734 - val_loss: 0.2790 - val_accuracy: 0.9575\n",
      "Epoch 44/100\n",
      "28/28 [==============================] - 51s 2s/step - loss: 0.1885 - accuracy: 0.9712 - val_loss: 0.2759 - val_accuracy: 0.9597\n",
      "Epoch 45/100\n",
      "28/28 [==============================] - 51s 2s/step - loss: 0.1833 - accuracy: 0.9738 - val_loss: 0.2766 - val_accuracy: 0.9586\n",
      "Epoch 46/100\n",
      "28/28 [==============================] - 51s 2s/step - loss: 0.1797 - accuracy: 0.9758 - val_loss: 0.2672 - val_accuracy: 0.9586\n",
      "Epoch 47/100\n",
      "28/28 [==============================] - 51s 2s/step - loss: 0.1786 - accuracy: 0.9755 - val_loss: 0.2654 - val_accuracy: 0.9597\n",
      "Epoch 48/100\n",
      "28/28 [==============================] - 51s 2s/step - loss: 0.1776 - accuracy: 0.9762 - val_loss: 0.2826 - val_accuracy: 0.9580\n",
      "Epoch 49/100\n",
      "28/28 [==============================] - 51s 2s/step - loss: 0.1753 - accuracy: 0.9775 - val_loss: 0.2669 - val_accuracy: 0.9603\n",
      "Epoch 50/100\n",
      "28/28 [==============================] - 51s 2s/step - loss: 0.1729 - accuracy: 0.9766 - val_loss: 0.2640 - val_accuracy: 0.9597\n",
      "Epoch 51/100\n",
      "28/28 [==============================] - 51s 2s/step - loss: 0.1708 - accuracy: 0.9780 - val_loss: 0.2680 - val_accuracy: 0.9591\n",
      "Epoch 52/100\n",
      "28/28 [==============================] - 51s 2s/step - loss: 0.1734 - accuracy: 0.9758 - val_loss: 0.2745 - val_accuracy: 0.9603\n",
      "Epoch 53/100\n",
      "28/28 [==============================] - 51s 2s/step - loss: 0.1723 - accuracy: 0.9752 - val_loss: 0.2670 - val_accuracy: 0.9591\n",
      "Epoch 54/100\n",
      "28/28 [==============================] - 51s 2s/step - loss: 0.1707 - accuracy: 0.9765 - val_loss: 0.2557 - val_accuracy: 0.9608\n",
      "Epoch 55/100\n",
      "28/28 [==============================] - 51s 2s/step - loss: 0.1660 - accuracy: 0.9787 - val_loss: 0.2640 - val_accuracy: 0.9625\n",
      "Epoch 56/100\n",
      "28/28 [==============================] - 52s 2s/step - loss: 0.1644 - accuracy: 0.9794 - val_loss: 0.2542 - val_accuracy: 0.9619\n",
      "Epoch 57/100\n",
      "28/28 [==============================] - 51s 2s/step - loss: 0.1627 - accuracy: 0.9797 - val_loss: 0.2516 - val_accuracy: 0.9614\n",
      "Epoch 58/100\n",
      "28/28 [==============================] - 51s 2s/step - loss: 0.1620 - accuracy: 0.9790 - val_loss: 0.2692 - val_accuracy: 0.9603\n",
      "Epoch 59/100\n",
      "28/28 [==============================] - 51s 2s/step - loss: 0.1618 - accuracy: 0.9790 - val_loss: 0.2620 - val_accuracy: 0.9603\n",
      "Epoch 60/100\n",
      "28/28 [==============================] - 52s 2s/step - loss: 0.1651 - accuracy: 0.9773 - val_loss: 0.2566 - val_accuracy: 0.9614\n",
      "Epoch 61/100\n",
      "28/28 [==============================] - 51s 2s/step - loss: 0.1582 - accuracy: 0.9796 - val_loss: 0.2519 - val_accuracy: 0.9608\n",
      "Epoch 62/100\n",
      "28/28 [==============================] - 51s 2s/step - loss: 0.1571 - accuracy: 0.9797 - val_loss: 0.2597 - val_accuracy: 0.9636\n",
      "Epoch 63/100\n",
      "28/28 [==============================] - 51s 2s/step - loss: 0.1578 - accuracy: 0.9800 - val_loss: 0.2508 - val_accuracy: 0.9603\n",
      "Epoch 64/100\n",
      "28/28 [==============================] - 51s 2s/step - loss: 0.1557 - accuracy: 0.9789 - val_loss: 0.2481 - val_accuracy: 0.9619\n",
      "Epoch 65/100\n",
      "28/28 [==============================] - 51s 2s/step - loss: 0.1609 - accuracy: 0.9775 - val_loss: 0.2472 - val_accuracy: 0.9614\n",
      "Epoch 66/100\n",
      "28/28 [==============================] - 51s 2s/step - loss: 0.1566 - accuracy: 0.9790 - val_loss: 0.2462 - val_accuracy: 0.9625\n",
      "Epoch 67/100\n",
      "28/28 [==============================] - 52s 2s/step - loss: 0.1553 - accuracy: 0.9800 - val_loss: 0.2485 - val_accuracy: 0.9608\n",
      "Epoch 68/100\n",
      "28/28 [==============================] - 51s 2s/step - loss: 0.1534 - accuracy: 0.9806 - val_loss: 0.2553 - val_accuracy: 0.9625\n",
      "Epoch 69/100\n",
      "28/28 [==============================] - 51s 2s/step - loss: 0.1511 - accuracy: 0.9806 - val_loss: 0.2492 - val_accuracy: 0.9647\n",
      "Epoch 70/100\n",
      "28/28 [==============================] - 52s 2s/step - loss: 0.1504 - accuracy: 0.9818 - val_loss: 0.2507 - val_accuracy: 0.9642\n",
      "Epoch 71/100\n",
      "28/28 [==============================] - 52s 2s/step - loss: 0.1508 - accuracy: 0.9824 - val_loss: 0.2449 - val_accuracy: 0.9625\n",
      "Epoch 72/100\n",
      "28/28 [==============================] - 52s 2s/step - loss: 0.1539 - accuracy: 0.9799 - val_loss: 0.2445 - val_accuracy: 0.9619\n",
      "Epoch 73/100\n",
      "28/28 [==============================] - 52s 2s/step - loss: 0.1515 - accuracy: 0.9821 - val_loss: 0.2501 - val_accuracy: 0.9619\n",
      "Epoch 74/100\n",
      "28/28 [==============================] - 52s 2s/step - loss: 0.1542 - accuracy: 0.9790 - val_loss: 0.2544 - val_accuracy: 0.9614\n",
      "Epoch 75/100\n",
      "28/28 [==============================] - 52s 2s/step - loss: 0.1575 - accuracy: 0.9775 - val_loss: 0.2434 - val_accuracy: 0.9619\n",
      "Epoch 76/100\n",
      "28/28 [==============================] - 51s 2s/step - loss: 0.1474 - accuracy: 0.9822 - val_loss: 0.2414 - val_accuracy: 0.9625\n",
      "Epoch 77/100\n",
      "28/28 [==============================] - 51s 2s/step - loss: 0.1456 - accuracy: 0.9817 - val_loss: 0.2495 - val_accuracy: 0.9636\n",
      "Epoch 78/100\n",
      "28/28 [==============================] - 51s 2s/step - loss: 0.1488 - accuracy: 0.9821 - val_loss: 0.2425 - val_accuracy: 0.9625\n",
      "Epoch 79/100\n",
      "28/28 [==============================] - 52s 2s/step - loss: 0.1456 - accuracy: 0.9822 - val_loss: 0.2435 - val_accuracy: 0.9631\n",
      "Epoch 80/100\n",
      "28/28 [==============================] - 51s 2s/step - loss: 0.1460 - accuracy: 0.9814 - val_loss: 0.2472 - val_accuracy: 0.9653\n",
      "Epoch 81/100\n",
      "28/28 [==============================] - 51s 2s/step - loss: 0.1479 - accuracy: 0.9804 - val_loss: 0.2631 - val_accuracy: 0.9552\n",
      "Epoch 82/100\n",
      "28/28 [==============================] - 52s 2s/step - loss: 0.1472 - accuracy: 0.9808 - val_loss: 0.2447 - val_accuracy: 0.9659\n",
      "Epoch 83/100\n",
      "28/28 [==============================] - 52s 2s/step - loss: 0.1424 - accuracy: 0.9835 - val_loss: 0.2447 - val_accuracy: 0.9642\n",
      "Epoch 84/100\n",
      "28/28 [==============================] - 52s 2s/step - loss: 0.1435 - accuracy: 0.9829 - val_loss: 0.2413 - val_accuracy: 0.9647\n",
      "Epoch 85/100\n",
      "28/28 [==============================] - 52s 2s/step - loss: 0.1423 - accuracy: 0.9825 - val_loss: 0.2376 - val_accuracy: 0.9625\n",
      "Epoch 86/100\n",
      "28/28 [==============================] - 52s 2s/step - loss: 0.1418 - accuracy: 0.9824 - val_loss: 0.2357 - val_accuracy: 0.9631\n",
      "Epoch 87/100\n",
      "28/28 [==============================] - 52s 2s/step - loss: 0.1435 - accuracy: 0.9827 - val_loss: 0.2395 - val_accuracy: 0.9659\n",
      "Epoch 88/100\n",
      "28/28 [==============================] - 52s 2s/step - loss: 0.1410 - accuracy: 0.9834 - val_loss: 0.2381 - val_accuracy: 0.9659\n",
      "Epoch 89/100\n",
      "28/28 [==============================] - 51s 2s/step - loss: 0.1430 - accuracy: 0.9829 - val_loss: 0.2398 - val_accuracy: 0.9636\n",
      "Epoch 90/100\n",
      "28/28 [==============================] - 51s 2s/step - loss: 0.1465 - accuracy: 0.9811 - val_loss: 0.2699 - val_accuracy: 0.9575\n",
      "Epoch 91/100\n",
      "28/28 [==============================] - 51s 2s/step - loss: 0.1425 - accuracy: 0.9835 - val_loss: 0.2375 - val_accuracy: 0.9625\n",
      "Epoch 92/100\n",
      "28/28 [==============================] - 51s 2s/step - loss: 0.1451 - accuracy: 0.9815 - val_loss: 0.2458 - val_accuracy: 0.9591\n",
      "Epoch 93/100\n",
      "28/28 [==============================] - 51s 2s/step - loss: 0.1392 - accuracy: 0.9834 - val_loss: 0.2296 - val_accuracy: 0.9642\n",
      "Epoch 94/100\n",
      "28/28 [==============================] - 51s 2s/step - loss: 0.1389 - accuracy: 0.9842 - val_loss: 0.2359 - val_accuracy: 0.9653\n",
      "Epoch 95/100\n",
      "28/28 [==============================] - 52s 2s/step - loss: 0.1388 - accuracy: 0.9831 - val_loss: 0.2377 - val_accuracy: 0.9647\n",
      "Epoch 96/100\n",
      "28/28 [==============================] - 51s 2s/step - loss: 0.1362 - accuracy: 0.9843 - val_loss: 0.2329 - val_accuracy: 0.9642\n",
      "Epoch 97/100\n",
      "28/28 [==============================] - 52s 2s/step - loss: 0.1397 - accuracy: 0.9845 - val_loss: 0.2342 - val_accuracy: 0.9642\n",
      "Epoch 98/100\n",
      "28/28 [==============================] - 52s 2s/step - loss: 0.1406 - accuracy: 0.9828 - val_loss: 0.2457 - val_accuracy: 0.9653\n",
      "Epoch 99/100\n",
      "28/28 [==============================] - 51s 2s/step - loss: 0.1373 - accuracy: 0.9841 - val_loss: 0.2340 - val_accuracy: 0.9642\n",
      "Epoch 100/100\n",
      "28/28 [==============================] - 52s 2s/step - loss: 0.1399 - accuracy: 0.9820 - val_loss: 0.2471 - val_accuracy: 0.9619\n"
     ]
    }
   ],
   "source": [
    "# Entrenar el modelo\n",
    "epochs = 100\n",
    "\n",
    "history = model.fit(train_ds, epochs=epochs, validation_data=validation_dataset)#, class_weight=class_weight_dict)"
   ]
  },
  {
   "cell_type": "code",
   "execution_count": 17,
   "metadata": {},
   "outputs": [
    {
     "name": "stdout",
     "output_type": "stream",
     "text": [
      "35/35 [==============================] - 51s 1s/step - loss: 0.3101 - accuracy: 0.9487\n",
      "Precisión en el conjunto de prueba: 0.9486607313156128\n"
     ]
    }
   ],
   "source": [
    "# Evaluar el modelo en el conjunto de prueba\n",
    "test_loss, test_acc = model.evaluate(test_ds)\n",
    "print(f'Precisión en el conjunto de prueba: {test_acc}')"
   ]
  },
  {
   "cell_type": "code",
   "execution_count": 18,
   "metadata": {},
   "outputs": [
    {
     "data": {
      "image/png": "[encoded data removed]",
      "text/plain": [
       "<Figure size 1200x400 with 2 Axes>"
      ]
     },
     "metadata": {},
     "output_type": "display_data"
    }
   ],
   "source": [
    "# Trazar la curva de aprendizaje\n",
    "plt.figure(figsize=(12, 4))\n",
    "plt.subplot(1, 2, 1)\n",
    "plt.plot(history.history['accuracy'], label='Precisión de Entrenamiento')\n",
    "plt.plot(history.history['val_accuracy'], label='Precisión de Validación')\n",
    "plt.legend(loc='lower right')\n",
    "plt.title('Curva de Aprendizaje de la Precisión')\n",
    "\n",
    "plt.subplot(1, 2, 2)\n",
    "plt.plot(history.history['loss'], label='Pérdida de Entrenamiento')\n",
    "plt.plot(history.history['val_loss'], label='Pérdida de Validación')\n",
    "plt.legend(loc='upper right')\n",
    "plt.title('Curva de Aprendizaje de la Pérdida')\n",
    "plt.show()"
   ]
  },
  {
   "cell_type": "code",
   "execution_count": 19,
   "metadata": {},
   "outputs": [],
   "source": [
    "ruta_modelos_entrenados = '/Volumes/SSD_ANDRÉS/Modelos entrenados'"
   ]
  },
  {
   "cell_type": "code",
   "execution_count": 20,
   "metadata": {},
   "outputs": [
    {
     "name": "stdout",
     "output_type": "stream",
     "text": [
      "INFO:tensorflow:Assets written to: /Volumes/SSD_ANDRÉS/Modelos entrenados/Inception_025/assets\n"
     ]
    },
    {
     "name": "stderr",
     "output_type": "stream",
     "text": [
      "INFO:tensorflow:Assets written to: /Volumes/SSD_ANDRÉS/Modelos entrenados/Inception_025/assets\n"
     ]
    }
   ],
   "source": [
    "model.save(ruta_modelos_entrenados+'/Inception_025')"
   ]
  },
  {
   "cell_type": "code",
   "execution_count": 21,
   "metadata": {},
   "outputs": [
    {
     "name": "stderr",
     "output_type": "stream",
     "text": [
      "2024-03-17 18:40:18.887979: I tensorflow/core/grappler/optimizers/custom_graph_optimizer_registry.cc:114] Plugin optimizer for device_type GPU is enabled.\n"
     ]
    },
    {
     "name": "stdout",
     "output_type": "stream",
     "text": [
      "8/8 [==============================] - 2s 146ms/step\n",
      "8/8 [==============================] - 1s 166ms/step\n",
      "8/8 [==============================] - 1s 167ms/step\n",
      "8/8 [==============================] - 1s 165ms/step\n",
      "8/8 [==============================] - 1s 166ms/step\n",
      "8/8 [==============================] - 1s 163ms/step\n",
      "8/8 [==============================] - 1s 163ms/step\n",
      "8/8 [==============================] - 1s 164ms/step\n",
      "8/8 [==============================] - 1s 164ms/step\n",
      "8/8 [==============================] - 1s 164ms/step\n",
      "8/8 [==============================] - 1s 165ms/step\n",
      "8/8 [==============================] - 1s 164ms/step\n",
      "8/8 [==============================] - 1s 163ms/step\n",
      "8/8 [==============================] - 1s 163ms/step\n",
      "8/8 [==============================] - 1s 164ms/step\n",
      "8/8 [==============================] - 1s 165ms/step\n",
      "8/8 [==============================] - 1s 165ms/step\n",
      "8/8 [==============================] - 1s 165ms/step\n",
      "8/8 [==============================] - 1s 166ms/step\n",
      "8/8 [==============================] - 1s 166ms/step\n",
      "8/8 [==============================] - 1s 166ms/step\n",
      "8/8 [==============================] - 1s 167ms/step\n",
      "8/8 [==============================] - 1s 166ms/step\n",
      "8/8 [==============================] - 1s 166ms/step\n",
      "8/8 [==============================] - 1s 166ms/step\n",
      "8/8 [==============================] - 1s 167ms/step\n",
      "8/8 [==============================] - 1s 166ms/step\n",
      "8/8 [==============================] - 1s 165ms/step\n",
      "8/8 [==============================] - 1s 167ms/step\n",
      "8/8 [==============================] - 1s 166ms/step\n",
      "8/8 [==============================] - 1s 166ms/step\n",
      "8/8 [==============================] - 1s 166ms/step\n",
      "8/8 [==============================] - 1s 166ms/step\n",
      "8/8 [==============================] - 1s 166ms/step\n",
      "8/8 [==============================] - 1s 165ms/step\n"
     ]
    }
   ],
   "source": [
    "ruta_modelos_entrenados = '/Volumes/SSD_ANDRÉS/Modelos entrenados'\n",
    "new_model = tf.keras.models.load_model(ruta_modelos_entrenados+'/Inception_025')\n",
    "y_pred = []  # store predicted labels\n",
    "y_true = []  # store true labels\n",
    "\n",
    "# iterate over the dataset\n",
    "for image_batch, label_batch in test_ds:   # use dataset.unbatch() with repeat\n",
    "   # append true labels\n",
    "   #print(\"Label: \",label_batch)\n",
    "   y_true.append(label_batch)\n",
    "   # compute predictions\n",
    "   #print(\"Imagen: \",image_batch)\n",
    "   preds = new_model.predict(image_batch)\n",
    "   # append predicted labels\n",
    "   y_pred.append(np.argmax(preds, axis = - 1))\n",
    "   #print(\"-----------------\")\n",
    "\n",
    "# convert the true and predicted labels into tensors\n",
    "correct_labels = tf.concat([item for item in y_true], axis = 0)\n",
    "predicted_labels = tf.concat([item for item in y_pred], axis = 0)"
   ]
  },
  {
   "cell_type": "code",
   "execution_count": 22,
   "metadata": {},
   "outputs": [
    {
     "data": {
      "image/png": "[encoded data removed]",
      "text/plain": [
       "<Figure size 1000x800 with 2 Axes>"
      ]
     },
     "metadata": {},
     "output_type": "display_data"
    }
   ],
   "source": [
    "import seaborn as sns\n",
    "\n",
    "confusion_mtx = tf.math.confusion_matrix(correct_labels, predicted_labels)\n",
    "plt.figure(figsize=(10, 8))\n",
    "sns.heatmap(confusion_mtx,\n",
    "            xticklabels=class_names,\n",
    "            yticklabels=class_names,\n",
    "            annot=True, fmt='g')\n",
    "plt.xlabel('Prediction')\n",
    "plt.ylabel('Label')\n",
    "plt.show()"
   ]
  },
  {
   "cell_type": "code",
   "execution_count": 23,
   "metadata": {},
   "outputs": [
    {
     "name": "stdout",
     "output_type": "stream",
     "text": [
      "%LP: 93.01659988551802\n",
      "%VLP: 95.5072463768116\n",
      "%VT: 96.37809187279152\n"
     ]
    }
   ],
   "source": [
    "cm = confusion_matrix(correct_labels, predicted_labels)\n",
    "print('%LP: '+str(cm[0][0]/sum(cm[0]) * 100))\n",
    "print('%VLP: '+str(cm[1][1]/sum(cm[1]) * 100))\n",
    "print('%VT: '+str(cm[2][2]/sum(cm[2]) * 100))"
   ]
  },
  {
   "cell_type": "code",
   "execution_count": 24,
   "metadata": {},
   "outputs": [
    {
     "name": "stdout",
     "output_type": "stream",
     "text": [
      "              precision    recall  f1-score   support\n",
      "\n",
      "           0       0.94      0.93      0.93      3494\n",
      "           1       0.96      0.96      0.96      2070\n",
      "           2       0.95      0.96      0.96      3396\n",
      "\n",
      "    accuracy                           0.95      8960\n",
      "   macro avg       0.95      0.95      0.95      8960\n",
      "weighted avg       0.95      0.95      0.95      8960\n",
      "\n"
     ]
    }
   ],
   "source": [
    "from sklearn.metrics import classification_report\n",
    "print(classification_report(correct_labels, predicted_labels))"
   ]
  }
 ],
 "metadata": {
  "kernelspec": {
   "display_name": "Tesis_IA",
   "language": "python",
   "name": "python3"
  },
  "language_info": {
   "codemirror_mode": {
    "name": "ipython",
    "version": 3
   },
   "file_extension": ".py",
   "mimetype": "text/x-python",
   "name": "python",
   "nbconvert_exporter": "python",
   "pygments_lexer": "ipython3",
   "version": "3.8.16"
  },
  "orig_nbformat": 4
 },
 "nbformat": 4,
 "nbformat_minor": 2
}
