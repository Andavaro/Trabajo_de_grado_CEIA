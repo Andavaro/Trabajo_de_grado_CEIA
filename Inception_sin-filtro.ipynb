{
 "cells": [
  {
   "cell_type": "code",
   "execution_count": 1,
   "metadata": {},
   "outputs": [],
   "source": [
    "import numpy as np\n",
    "import tensorflow as tf\n",
    "from tensorflow.keras import layers, models, regularizers\n",
    "from tensorflow.keras.applications import InceptionV3\n",
    "from sklearn.utils.class_weight import compute_class_weight\n",
    "from sklearn.model_selection import train_test_split\n",
    "from sklearn.metrics import classification_report, confusion_matrix\n",
    "import matplotlib.pyplot as plt"
   ]
  },
  {
   "cell_type": "code",
   "execution_count": 2,
   "metadata": {},
   "outputs": [],
   "source": [
    "img_height = 224\n",
    "img_width = 224\n",
    "batch_size = 256"
   ]
  },
  {
   "cell_type": "code",
   "execution_count": 3,
   "metadata": {},
   "outputs": [],
   "source": [
    "train_directory = \"/Users/andavaro/Desktop/Andrès/UBA/TrabajoDeGradoCEIA/dataset/Espectrogramas/smote/ns=32_sol=0.9_off_f=0-40\""
   ]
  },
  {
   "cell_type": "code",
   "execution_count": 4,
   "metadata": {},
   "outputs": [
    {
     "name": "stdout",
     "output_type": "stream",
     "text": [
      "Found 8966 files belonging to 3 classes.\n",
      "Using 7173 files for training.\n",
      "Using 1793 files for validation.\n"
     ]
    },
    {
     "name": "stderr",
     "output_type": "stream",
     "text": [
      "2024-02-08 13:57:41.418081: I metal_plugin/src/device/metal_device.cc:1154] Metal device set to: Apple M1\n",
      "2024-02-08 13:57:41.418105: I metal_plugin/src/device/metal_device.cc:296] systemMemory: 16.00 GB\n",
      "2024-02-08 13:57:41.418107: I metal_plugin/src/device/metal_device.cc:313] maxCacheSize: 5.33 GB\n",
      "2024-02-08 13:57:41.418222: I tensorflow/core/common_runtime/pluggable_device/pluggable_device_factory.cc:303] Could not identify NUMA node of platform GPU ID 0, defaulting to 0. Your kernel may not have been built with NUMA support.\n",
      "2024-02-08 13:57:41.418237: I tensorflow/core/common_runtime/pluggable_device/pluggable_device_factory.cc:269] Created TensorFlow device (/job:localhost/replica:0/task:0/device:GPU:0 with 0 MB memory) -> physical PluggableDevice (device: 0, name: METAL, pci bus id: <undefined>)\n"
     ]
    }
   ],
   "source": [
    "# Dividir el set en entrenamiento y validación\n",
    "train_ds, validation_dataset = tf.keras.preprocessing.image_dataset_from_directory(\n",
    "    train_directory, labels='inferred', label_mode='int', batch_size=batch_size, image_size=(img_height, img_width), seed=123, \n",
    "    validation_split=0.2, subset='both')"
   ]
  },
  {
   "cell_type": "code",
   "execution_count": 5,
   "metadata": {},
   "outputs": [
    {
     "name": "stdout",
     "output_type": "stream",
     "text": [
      "Found 11008 files belonging to 3 classes.\n"
     ]
    }
   ],
   "source": [
    "test_directory = \"/Users/andavaro/Desktop/Andrès/UBA/TrabajoDeGradoCEIA/dataset/Espectrogramas/multibalance_para_test/ns=32_sol=0.9_off_f=0-40\"\n",
    "test_ds= tf.keras.preprocessing.image_dataset_from_directory(\n",
    "    test_directory, labels='inferred', label_mode='int', batch_size=batch_size, image_size=(img_height, img_width), seed=123)"
   ]
  },
  {
   "cell_type": "code",
   "execution_count": 6,
   "metadata": {},
   "outputs": [
    {
     "data": {
      "text/plain": [
       "'num_elements = len(train_ds)\\n\\nporcentaje_test = 0.1\\ntrain_size = int((1-porcentaje_test) * num_elements)\\n\\n\\ntest_size = num_elements - train_size\\ntest_ds = train_ds.take(test_size)\\ntrain_ds = train_ds.skip(test_size)'"
      ]
     },
     "execution_count": 6,
     "metadata": {},
     "output_type": "execute_result"
    }
   ],
   "source": [
    "# Esta parte se usa para generar datos para pruebas. Si se tienen datos específicos para las pruebas, se deben llamar con el nombre de test_ds\n",
    "'''num_elements = len(train_ds)\n",
    "\n",
    "porcentaje_test = 0.1\n",
    "train_size = int((1-porcentaje_test) * num_elements)\n",
    "\n",
    "\n",
    "test_size = num_elements - train_size\n",
    "test_ds = train_ds.take(test_size)\n",
    "train_ds = train_ds.skip(test_size)'''"
   ]
  },
  {
   "cell_type": "code",
   "execution_count": 7,
   "metadata": {},
   "outputs": [
    {
     "name": "stdout",
     "output_type": "stream",
     "text": [
      "['LP', 'VLP', 'VT']\n"
     ]
    }
   ],
   "source": [
    "class_names = train_ds.class_names\n",
    "print(class_names)"
   ]
  },
  {
   "cell_type": "code",
   "execution_count": 8,
   "metadata": {},
   "outputs": [
    {
     "data": {
      "text/plain": [
       "\"y_train = train_ds.map(lambda _, label: label).unbatch()\\ny_train = list(y_train.as_numpy_iterator())\\nclass_weights = compute_class_weight('balanced', classes=np.unique(y_train), y=y_train)\\nclass_weight_dict = dict(enumerate(class_weights))\\nprint(class_weight_dict)\""
      ]
     },
     "execution_count": 8,
     "metadata": {},
     "output_type": "execute_result"
    }
   ],
   "source": [
    "'''y_train = train_ds.map(lambda _, label: label).unbatch()\n",
    "y_train = list(y_train.as_numpy_iterator())\n",
    "class_weights = compute_class_weight('balanced', classes=np.unique(y_train), y=y_train)\n",
    "class_weight_dict = dict(enumerate(class_weights))\n",
    "print(class_weight_dict)'''"
   ]
  },
  {
   "attachments": {},
   "cell_type": "markdown",
   "metadata": {},
   "source": [
    "# Modelo DenseNet 121"
   ]
  },
  {
   "cell_type": "code",
   "execution_count": 9,
   "metadata": {},
   "outputs": [],
   "source": [
    "num_classes = len(class_names)"
   ]
  },
  {
   "cell_type": "code",
   "execution_count": 10,
   "metadata": {},
   "outputs": [],
   "source": [
    "# Cargar la arquitectura preentrenada VGG16 sin las capas superiores (sin incluir la capa de salida)\n",
    "base_model = InceptionV3(weights='imagenet', include_top=False, input_shape=(img_height, img_width, 3)) #input_shape=(altura, anchura, canales))\n",
    "base_model = tf.keras.Model(inputs=base_model.input, outputs=base_model.layers[-2].output)"
   ]
  },
  {
   "cell_type": "code",
   "execution_count": 11,
   "metadata": {},
   "outputs": [],
   "source": [
    "# Congelar las capas de la base (no se entrenarán durante el ajuste fino)\n",
    "for layer in base_model.layers:\n",
    "    layer.trainable = False"
   ]
  },
  {
   "cell_type": "code",
   "execution_count": 12,
   "metadata": {},
   "outputs": [],
   "source": [
    "# Agregar capas personalizadas a la arquitectura base\n",
    "model = models.Sequential([\n",
    "    base_model,\n",
    "    layers.Flatten(),\n",
    "    layers.Dense(256, activation='relu', kernel_regularizer=regularizers.L2(0.000001), activity_regularizer=regularizers.L2(0.000001)),\n",
    "    #layers.Dropout(0.5),\n",
    "    layers.Dense(len(class_names), activation='softmax')\n",
    "])"
   ]
  },
  {
   "cell_type": "code",
   "execution_count": 13,
   "metadata": {},
   "outputs": [],
   "source": [
    "# Definir la programación de la tasa de aprendizaje exponencial\n",
    "lr_schedule = tf.keras.optimizers.schedules.ExponentialDecay(\n",
    "    initial_learning_rate=0.0001,\n",
    "    decay_steps=len(train_ds)*10,\n",
    "    decay_rate=0.9\n",
    ")"
   ]
  },
  {
   "cell_type": "code",
   "execution_count": 14,
   "metadata": {},
   "outputs": [
    {
     "name": "stderr",
     "output_type": "stream",
     "text": [
      "WARNING:absl:At this time, the v2.11+ optimizer `tf.keras.optimizers.SGD` runs slowly on M1/M2 Macs, please use the legacy Keras optimizer instead, located at `tf.keras.optimizers.legacy.SGD`.\n"
     ]
    }
   ],
   "source": [
    "# Crear un optimizador con la programación de la tasa de aprendizaje exponencial y momentum\n",
    "custom_optimizer = tf.keras.optimizers.SGD(learning_rate=lr_schedule, momentum=0.9)"
   ]
  },
  {
   "cell_type": "code",
   "execution_count": 15,
   "metadata": {},
   "outputs": [
    {
     "name": "stderr",
     "output_type": "stream",
     "text": [
      "WARNING:absl:There is a known slowdown when using v2.11+ Keras optimizers on M1/M2 Macs. Falling back to the legacy Keras optimizer, i.e., `tf.keras.optimizers.legacy.SGD`.\n"
     ]
    }
   ],
   "source": [
    "# Compilar el modelo\n",
    "model.compile(optimizer=custom_optimizer,\n",
    "              loss='sparse_categorical_crossentropy',\n",
    "              metrics=['accuracy'])"
   ]
  },
  {
   "cell_type": "code",
   "execution_count": 16,
   "metadata": {},
   "outputs": [
    {
     "name": "stdout",
     "output_type": "stream",
     "text": [
      "Epoch 1/100\n"
     ]
    },
    {
     "name": "stderr",
     "output_type": "stream",
     "text": [
      "2024-02-08 13:57:44.459181: I tensorflow/core/grappler/optimizers/custom_graph_optimizer_registry.cc:114] Plugin optimizer for device_type GPU is enabled.\n"
     ]
    },
    {
     "name": "stdout",
     "output_type": "stream",
     "text": [
      "29/29 [==============================] - ETA: 0s - loss: 2.2055 - accuracy: 0.7060"
     ]
    },
    {
     "name": "stderr",
     "output_type": "stream",
     "text": [
      "2024-02-08 13:58:27.042267: I tensorflow/core/grappler/optimizers/custom_graph_optimizer_registry.cc:114] Plugin optimizer for device_type GPU is enabled.\n"
     ]
    },
    {
     "name": "stdout",
     "output_type": "stream",
     "text": [
      "29/29 [==============================] - 54s 2s/step - loss: 2.2055 - accuracy: 0.7060 - val_loss: 3.6791 - val_accuracy: 0.6235\n",
      "Epoch 2/100\n",
      "29/29 [==============================] - 52s 2s/step - loss: 1.4135 - accuracy: 0.7999 - val_loss: 1.3115 - val_accuracy: 0.7942\n",
      "Epoch 3/100\n",
      "29/29 [==============================] - 52s 2s/step - loss: 0.7241 - accuracy: 0.8683 - val_loss: 0.9075 - val_accuracy: 0.8054\n",
      "Epoch 4/100\n",
      "29/29 [==============================] - 52s 2s/step - loss: 0.5803 - accuracy: 0.8775 - val_loss: 0.8964 - val_accuracy: 0.8226\n",
      "Epoch 5/100\n",
      "29/29 [==============================] - 53s 2s/step - loss: 0.4583 - accuracy: 0.9065 - val_loss: 0.5215 - val_accuracy: 0.8940\n",
      "Epoch 6/100\n",
      "29/29 [==============================] - 52s 2s/step - loss: 0.4737 - accuracy: 0.8963 - val_loss: 0.8587 - val_accuracy: 0.8215\n",
      "Epoch 7/100\n",
      "29/29 [==============================] - 52s 2s/step - loss: 0.4641 - accuracy: 0.9016 - val_loss: 0.4303 - val_accuracy: 0.8996\n",
      "Epoch 8/100\n",
      "29/29 [==============================] - 52s 2s/step - loss: 0.3271 - accuracy: 0.9320 - val_loss: 0.3948 - val_accuracy: 0.9253\n",
      "Epoch 9/100\n",
      "29/29 [==============================] - 52s 2s/step - loss: 0.3088 - accuracy: 0.9349 - val_loss: 1.0033 - val_accuracy: 0.8098\n",
      "Epoch 10/100\n",
      "29/29 [==============================] - 52s 2s/step - loss: 0.3750 - accuracy: 0.9235 - val_loss: 0.3557 - val_accuracy: 0.9253\n",
      "Epoch 11/100\n",
      "29/29 [==============================] - 52s 2s/step - loss: 0.2767 - accuracy: 0.9431 - val_loss: 0.5151 - val_accuracy: 0.8695\n",
      "Epoch 12/100\n",
      "29/29 [==============================] - 52s 2s/step - loss: 0.3214 - accuracy: 0.9261 - val_loss: 0.3318 - val_accuracy: 0.9292\n",
      "Epoch 13/100\n",
      "29/29 [==============================] - 52s 2s/step - loss: 0.2470 - accuracy: 0.9491 - val_loss: 0.3408 - val_accuracy: 0.9342\n",
      "Epoch 14/100\n",
      "29/29 [==============================] - 52s 2s/step - loss: 0.2515 - accuracy: 0.9488 - val_loss: 0.3201 - val_accuracy: 0.9347\n",
      "Epoch 15/100\n",
      "29/29 [==============================] - 52s 2s/step - loss: 0.2503 - accuracy: 0.9459 - val_loss: 0.3428 - val_accuracy: 0.9258\n",
      "Epoch 16/100\n",
      "29/29 [==============================] - 52s 2s/step - loss: 0.2343 - accuracy: 0.9520 - val_loss: 0.3145 - val_accuracy: 0.9403\n",
      "Epoch 17/100\n",
      "29/29 [==============================] - 52s 2s/step - loss: 0.2149 - accuracy: 0.9586 - val_loss: 0.3240 - val_accuracy: 0.9325\n",
      "Epoch 18/100\n",
      "29/29 [==============================] - 52s 2s/step - loss: 0.2121 - accuracy: 0.9564 - val_loss: 0.3148 - val_accuracy: 0.9320\n",
      "Epoch 19/100\n",
      "29/29 [==============================] - 52s 2s/step - loss: 0.2094 - accuracy: 0.9565 - val_loss: 0.3003 - val_accuracy: 0.9364\n",
      "Epoch 20/100\n",
      "29/29 [==============================] - 52s 2s/step - loss: 0.1979 - accuracy: 0.9619 - val_loss: 0.3273 - val_accuracy: 0.9197\n",
      "Epoch 21/100\n",
      "29/29 [==============================] - 52s 2s/step - loss: 0.2087 - accuracy: 0.9554 - val_loss: 0.2701 - val_accuracy: 0.9392\n",
      "Epoch 22/100\n",
      "29/29 [==============================] - 53s 2s/step - loss: 0.2198 - accuracy: 0.9552 - val_loss: 0.2905 - val_accuracy: 0.9403\n",
      "Epoch 23/100\n",
      "29/29 [==============================] - 52s 2s/step - loss: 0.1905 - accuracy: 0.9622 - val_loss: 0.2951 - val_accuracy: 0.9387\n",
      "Epoch 24/100\n",
      "29/29 [==============================] - 52s 2s/step - loss: 0.1867 - accuracy: 0.9640 - val_loss: 0.3076 - val_accuracy: 0.9364\n",
      "Epoch 25/100\n",
      "29/29 [==============================] - 52s 2s/step - loss: 0.1907 - accuracy: 0.9617 - val_loss: 0.9640 - val_accuracy: 0.7825\n",
      "Epoch 26/100\n",
      "29/29 [==============================] - 52s 2s/step - loss: 0.3715 - accuracy: 0.9118 - val_loss: 1.1279 - val_accuracy: 0.7674\n",
      "Epoch 27/100\n",
      "29/29 [==============================] - 52s 2s/step - loss: 0.3676 - accuracy: 0.9212 - val_loss: 0.2488 - val_accuracy: 0.9492\n",
      "Epoch 28/100\n",
      "29/29 [==============================] - 52s 2s/step - loss: 0.1862 - accuracy: 0.9656 - val_loss: 0.2471 - val_accuracy: 0.9492\n",
      "Epoch 29/100\n",
      "29/29 [==============================] - 52s 2s/step - loss: 0.1809 - accuracy: 0.9650 - val_loss: 0.2666 - val_accuracy: 0.9470\n",
      "Epoch 30/100\n",
      "29/29 [==============================] - 52s 2s/step - loss: 0.1713 - accuracy: 0.9674 - val_loss: 0.2576 - val_accuracy: 0.9520\n",
      "Epoch 31/100\n",
      "29/29 [==============================] - 52s 2s/step - loss: 0.1840 - accuracy: 0.9605 - val_loss: 0.3343 - val_accuracy: 0.9314\n",
      "Epoch 32/100\n",
      "29/29 [==============================] - 51s 2s/step - loss: 0.1782 - accuracy: 0.9647 - val_loss: 0.2427 - val_accuracy: 0.9520\n",
      "Epoch 33/100\n",
      "29/29 [==============================] - 52s 2s/step - loss: 0.1558 - accuracy: 0.9706 - val_loss: 0.2531 - val_accuracy: 0.9498\n",
      "Epoch 34/100\n",
      "29/29 [==============================] - 52s 2s/step - loss: 0.1784 - accuracy: 0.9603 - val_loss: 0.2503 - val_accuracy: 0.9526\n",
      "Epoch 35/100\n",
      "29/29 [==============================] - 52s 2s/step - loss: 0.1590 - accuracy: 0.9703 - val_loss: 0.2806 - val_accuracy: 0.9509\n",
      "Epoch 36/100\n",
      "29/29 [==============================] - 52s 2s/step - loss: 0.1518 - accuracy: 0.9739 - val_loss: 0.2385 - val_accuracy: 0.9515\n",
      "Epoch 37/100\n",
      "29/29 [==============================] - 52s 2s/step - loss: 0.1505 - accuracy: 0.9745 - val_loss: 0.3901 - val_accuracy: 0.9063\n",
      "Epoch 38/100\n",
      "29/29 [==============================] - 52s 2s/step - loss: 0.1906 - accuracy: 0.9566 - val_loss: 0.2549 - val_accuracy: 0.9498\n",
      "Epoch 39/100\n",
      "29/29 [==============================] - 52s 2s/step - loss: 0.1541 - accuracy: 0.9720 - val_loss: 0.2602 - val_accuracy: 0.9515\n",
      "Epoch 40/100\n",
      "29/29 [==============================] - 52s 2s/step - loss: 0.1473 - accuracy: 0.9734 - val_loss: 0.5742 - val_accuracy: 0.8444\n",
      "Epoch 41/100\n",
      "29/29 [==============================] - 52s 2s/step - loss: 0.2081 - accuracy: 0.9511 - val_loss: 0.2670 - val_accuracy: 0.9420\n",
      "Epoch 42/100\n",
      "29/29 [==============================] - 52s 2s/step - loss: 0.1428 - accuracy: 0.9732 - val_loss: 0.2350 - val_accuracy: 0.9498\n",
      "Epoch 43/100\n",
      "29/29 [==============================] - 52s 2s/step - loss: 0.1396 - accuracy: 0.9739 - val_loss: 0.2341 - val_accuracy: 0.9532\n",
      "Epoch 44/100\n",
      "29/29 [==============================] - 52s 2s/step - loss: 0.1394 - accuracy: 0.9750 - val_loss: 0.2262 - val_accuracy: 0.9532\n",
      "Epoch 45/100\n",
      "29/29 [==============================] - 52s 2s/step - loss: 0.1384 - accuracy: 0.9745 - val_loss: 0.2937 - val_accuracy: 0.9342\n",
      "Epoch 46/100\n",
      "29/29 [==============================] - 52s 2s/step - loss: 0.1583 - accuracy: 0.9663 - val_loss: 0.2541 - val_accuracy: 0.9409\n",
      "Epoch 47/100\n",
      "29/29 [==============================] - 52s 2s/step - loss: 0.1453 - accuracy: 0.9731 - val_loss: 0.2357 - val_accuracy: 0.9515\n",
      "Epoch 48/100\n",
      "29/29 [==============================] - 52s 2s/step - loss: 0.1322 - accuracy: 0.9777 - val_loss: 0.2493 - val_accuracy: 0.9504\n",
      "Epoch 49/100\n",
      "29/29 [==============================] - 52s 2s/step - loss: 0.1340 - accuracy: 0.9750 - val_loss: 0.2429 - val_accuracy: 0.9526\n",
      "Epoch 50/100\n",
      "29/29 [==============================] - 52s 2s/step - loss: 0.1360 - accuracy: 0.9742 - val_loss: 0.2570 - val_accuracy: 0.9492\n",
      "Epoch 51/100\n",
      "29/29 [==============================] - 52s 2s/step - loss: 0.1289 - accuracy: 0.9776 - val_loss: 0.2346 - val_accuracy: 0.9520\n",
      "Epoch 52/100\n",
      "29/29 [==============================] - 52s 2s/step - loss: 0.1285 - accuracy: 0.9763 - val_loss: 0.2285 - val_accuracy: 0.9537\n",
      "Epoch 53/100\n",
      "29/29 [==============================] - 52s 2s/step - loss: 0.1268 - accuracy: 0.9780 - val_loss: 0.2464 - val_accuracy: 0.9526\n",
      "Epoch 54/100\n",
      "29/29 [==============================] - 52s 2s/step - loss: 0.1274 - accuracy: 0.9776 - val_loss: 0.2311 - val_accuracy: 0.9559\n",
      "Epoch 55/100\n",
      "29/29 [==============================] - 51s 2s/step - loss: 0.1248 - accuracy: 0.9798 - val_loss: 0.2532 - val_accuracy: 0.9459\n",
      "Epoch 56/100\n",
      "29/29 [==============================] - 52s 2s/step - loss: 0.1257 - accuracy: 0.9783 - val_loss: 0.2304 - val_accuracy: 0.9498\n",
      "Epoch 57/100\n",
      "29/29 [==============================] - 52s 2s/step - loss: 0.1289 - accuracy: 0.9764 - val_loss: 0.2188 - val_accuracy: 0.9554\n",
      "Epoch 58/100\n",
      "29/29 [==============================] - 52s 2s/step - loss: 0.1236 - accuracy: 0.9783 - val_loss: 0.2466 - val_accuracy: 0.9520\n",
      "Epoch 59/100\n",
      "29/29 [==============================] - 52s 2s/step - loss: 0.1405 - accuracy: 0.9714 - val_loss: 0.2283 - val_accuracy: 0.9520\n",
      "Epoch 60/100\n",
      "29/29 [==============================] - 52s 2s/step - loss: 0.1222 - accuracy: 0.9788 - val_loss: 0.2151 - val_accuracy: 0.9559\n",
      "Epoch 61/100\n",
      "29/29 [==============================] - 52s 2s/step - loss: 0.1196 - accuracy: 0.9794 - val_loss: 0.2147 - val_accuracy: 0.9571\n",
      "Epoch 62/100\n",
      "29/29 [==============================] - 52s 2s/step - loss: 0.1177 - accuracy: 0.9810 - val_loss: 0.2201 - val_accuracy: 0.9571\n",
      "Epoch 63/100\n",
      "29/29 [==============================] - 52s 2s/step - loss: 0.1229 - accuracy: 0.9781 - val_loss: 0.2825 - val_accuracy: 0.9392\n",
      "Epoch 64/100\n",
      "29/29 [==============================] - 52s 2s/step - loss: 0.1834 - accuracy: 0.9525 - val_loss: 0.2213 - val_accuracy: 0.9554\n",
      "Epoch 65/100\n",
      "29/29 [==============================] - 52s 2s/step - loss: 0.1189 - accuracy: 0.9801 - val_loss: 0.2150 - val_accuracy: 0.9571\n",
      "Epoch 66/100\n",
      "29/29 [==============================] - 51s 2s/step - loss: 0.1164 - accuracy: 0.9808 - val_loss: 0.2205 - val_accuracy: 0.9543\n",
      "Epoch 67/100\n",
      "29/29 [==============================] - 52s 2s/step - loss: 0.1239 - accuracy: 0.9777 - val_loss: 0.2116 - val_accuracy: 0.9554\n",
      "Epoch 68/100\n",
      "29/29 [==============================] - 52s 2s/step - loss: 0.1167 - accuracy: 0.9805 - val_loss: 0.2111 - val_accuracy: 0.9559\n",
      "Epoch 69/100\n",
      "29/29 [==============================] - 52s 2s/step - loss: 0.1214 - accuracy: 0.9780 - val_loss: 0.2094 - val_accuracy: 0.9543\n",
      "Epoch 70/100\n",
      "29/29 [==============================] - 52s 2s/step - loss: 0.1373 - accuracy: 0.9732 - val_loss: 0.2187 - val_accuracy: 0.9571\n",
      "Epoch 71/100\n",
      "29/29 [==============================] - 52s 2s/step - loss: 0.1155 - accuracy: 0.9812 - val_loss: 0.2287 - val_accuracy: 0.9520\n",
      "Epoch 72/100\n",
      "29/29 [==============================] - 52s 2s/step - loss: 0.1245 - accuracy: 0.9773 - val_loss: 0.2375 - val_accuracy: 0.9520\n",
      "Epoch 73/100\n",
      "29/29 [==============================] - 52s 2s/step - loss: 0.1141 - accuracy: 0.9815 - val_loss: 0.2171 - val_accuracy: 0.9571\n",
      "Epoch 74/100\n",
      "29/29 [==============================] - 52s 2s/step - loss: 0.1121 - accuracy: 0.9820 - val_loss: 0.2281 - val_accuracy: 0.9526\n",
      "Epoch 75/100\n",
      "29/29 [==============================] - 52s 2s/step - loss: 0.1174 - accuracy: 0.9791 - val_loss: 0.2160 - val_accuracy: 0.9587\n",
      "Epoch 76/100\n",
      "29/29 [==============================] - 52s 2s/step - loss: 0.1112 - accuracy: 0.9822 - val_loss: 0.2128 - val_accuracy: 0.9593\n",
      "Epoch 77/100\n",
      "29/29 [==============================] - 52s 2s/step - loss: 0.1103 - accuracy: 0.9813 - val_loss: 0.2252 - val_accuracy: 0.9576\n",
      "Epoch 78/100\n",
      "29/29 [==============================] - 52s 2s/step - loss: 0.1095 - accuracy: 0.9827 - val_loss: 0.2105 - val_accuracy: 0.9593\n",
      "Epoch 79/100\n",
      "29/29 [==============================] - 52s 2s/step - loss: 0.1078 - accuracy: 0.9829 - val_loss: 0.2324 - val_accuracy: 0.9565\n",
      "Epoch 80/100\n",
      "29/29 [==============================] - 52s 2s/step - loss: 0.1245 - accuracy: 0.9776 - val_loss: 0.2271 - val_accuracy: 0.9565\n",
      "Epoch 81/100\n",
      "29/29 [==============================] - 52s 2s/step - loss: 0.1112 - accuracy: 0.9820 - val_loss: 0.2195 - val_accuracy: 0.9559\n",
      "Epoch 82/100\n",
      "29/29 [==============================] - 52s 2s/step - loss: 0.1102 - accuracy: 0.9812 - val_loss: 0.2223 - val_accuracy: 0.9565\n",
      "Epoch 83/100\n",
      "29/29 [==============================] - 52s 2s/step - loss: 0.1093 - accuracy: 0.9822 - val_loss: 0.2085 - val_accuracy: 0.9593\n",
      "Epoch 84/100\n",
      "29/29 [==============================] - 52s 2s/step - loss: 0.1085 - accuracy: 0.9830 - val_loss: 0.2221 - val_accuracy: 0.9559\n",
      "Epoch 85/100\n",
      "29/29 [==============================] - 53s 2s/step - loss: 0.1085 - accuracy: 0.9813 - val_loss: 0.2184 - val_accuracy: 0.9582\n",
      "Epoch 86/100\n",
      "29/29 [==============================] - 52s 2s/step - loss: 0.1065 - accuracy: 0.9831 - val_loss: 0.2220 - val_accuracy: 0.9565\n",
      "Epoch 87/100\n",
      "29/29 [==============================] - 53s 2s/step - loss: 0.1051 - accuracy: 0.9840 - val_loss: 0.2571 - val_accuracy: 0.9381\n",
      "Epoch 88/100\n",
      "29/29 [==============================] - 52s 2s/step - loss: 0.1562 - accuracy: 0.9631 - val_loss: 0.2129 - val_accuracy: 0.9587\n",
      "Epoch 89/100\n",
      "29/29 [==============================] - 52s 2s/step - loss: 0.1048 - accuracy: 0.9841 - val_loss: 0.2118 - val_accuracy: 0.9582\n",
      "Epoch 90/100\n",
      "29/29 [==============================] - 52s 2s/step - loss: 0.1028 - accuracy: 0.9847 - val_loss: 0.2187 - val_accuracy: 0.9582\n",
      "Epoch 91/100\n",
      "29/29 [==============================] - 52s 2s/step - loss: 0.1043 - accuracy: 0.9830 - val_loss: 0.2066 - val_accuracy: 0.9593\n",
      "Epoch 92/100\n",
      "29/29 [==============================] - 53s 2s/step - loss: 0.1030 - accuracy: 0.9847 - val_loss: 0.2105 - val_accuracy: 0.9598\n",
      "Epoch 93/100\n",
      "29/29 [==============================] - 53s 2s/step - loss: 0.1022 - accuracy: 0.9848 - val_loss: 0.2058 - val_accuracy: 0.9587\n",
      "Epoch 94/100\n",
      "29/29 [==============================] - 53s 2s/step - loss: 0.1020 - accuracy: 0.9849 - val_loss: 0.3966 - val_accuracy: 0.9024\n",
      "Epoch 95/100\n",
      "29/29 [==============================] - 53s 2s/step - loss: 0.1574 - accuracy: 0.9608 - val_loss: 0.2062 - val_accuracy: 0.9587\n",
      "Epoch 96/100\n",
      "29/29 [==============================] - 53s 2s/step - loss: 0.1035 - accuracy: 0.9831 - val_loss: 0.2167 - val_accuracy: 0.9582\n",
      "Epoch 97/100\n",
      "29/29 [==============================] - 53s 2s/step - loss: 0.1020 - accuracy: 0.9845 - val_loss: 0.2102 - val_accuracy: 0.9587\n",
      "Epoch 98/100\n",
      "29/29 [==============================] - 52s 2s/step - loss: 0.1002 - accuracy: 0.9854 - val_loss: 0.2155 - val_accuracy: 0.9587\n",
      "Epoch 99/100\n",
      "29/29 [==============================] - 53s 2s/step - loss: 0.1008 - accuracy: 0.9844 - val_loss: 0.2191 - val_accuracy: 0.9582\n",
      "Epoch 100/100\n",
      "29/29 [==============================] - 52s 2s/step - loss: 0.1007 - accuracy: 0.9841 - val_loss: 0.2216 - val_accuracy: 0.9576\n"
     ]
    }
   ],
   "source": [
    "# Entrenar el modelo\n",
    "epochs = 100\n",
    "\n",
    "history = model.fit(train_ds, epochs=epochs, validation_data=validation_dataset)#, class_weight=class_weight_dict)"
   ]
  },
  {
   "cell_type": "code",
   "execution_count": 17,
   "metadata": {},
   "outputs": [
    {
     "name": "stdout",
     "output_type": "stream",
     "text": [
      "43/43 [==============================] - 64s 1s/step - loss: 0.1999 - accuracy: 0.9556\n",
      "Precisión en el conjunto de prueba: 0.9555777311325073\n"
     ]
    }
   ],
   "source": [
    "# Evaluar el modelo en el conjunto de prueba\n",
    "test_loss, test_acc = model.evaluate(test_ds)\n",
    "print(f'Precisión en el conjunto de prueba: {test_acc}')"
   ]
  },
  {
   "cell_type": "code",
   "execution_count": 18,
   "metadata": {},
   "outputs": [
    {
     "data": {
      "image/png": "[encoded data removed]",
      "text/plain": [
       "<Figure size 1200x400 with 2 Axes>"
      ]
     },
     "metadata": {},
     "output_type": "display_data"
    }
   ],
   "source": [
    "# Trazar la curva de aprendizaje\n",
    "plt.figure(figsize=(12, 4))\n",
    "plt.subplot(1, 2, 1)\n",
    "plt.plot(history.history['accuracy'], label='Precisión de Entrenamiento')\n",
    "plt.plot(history.history['val_accuracy'], label='Precisión de Validación')\n",
    "plt.legend(loc='lower right')\n",
    "plt.title('Curva de Aprendizaje de la Precisión')\n",
    "\n",
    "plt.subplot(1, 2, 2)\n",
    "plt.plot(history.history['loss'], label='Pérdida de Entrenamiento')\n",
    "plt.plot(history.history['val_loss'], label='Pérdida de Validación')\n",
    "plt.legend(loc='upper right')\n",
    "plt.title('Curva de Aprendizaje de la Pérdida')\n",
    "plt.show()"
   ]
  },
  {
   "cell_type": "code",
   "execution_count": 19,
   "metadata": {},
   "outputs": [],
   "source": [
    "ruta_modelos_entrenados = '/Volumes/SSD_ANDRÉS/Modelos entrenados'"
   ]
  },
  {
   "cell_type": "code",
   "execution_count": 20,
   "metadata": {},
   "outputs": [
    {
     "name": "stdout",
     "output_type": "stream",
     "text": [
      "INFO:tensorflow:Assets written to: /Volumes/SSD_ANDRÉS/Modelos entrenados/Inception_RegOpt_224_bs256NDO_L2000001L2000001_decay10epoc/assets\n"
     ]
    },
    {
     "name": "stderr",
     "output_type": "stream",
     "text": [
      "INFO:tensorflow:Assets written to: /Volumes/SSD_ANDRÉS/Modelos entrenados/Inception_RegOpt_224_bs256NDO_L2000001L2000001_decay10epoc/assets\n"
     ]
    }
   ],
   "source": [
    "model.save(ruta_modelos_entrenados+'/Inception_RegOpt_224_bs256NDO_L2000001L2000001_decay10epoc')"
   ]
  },
  {
   "cell_type": "code",
   "execution_count": 21,
   "metadata": {},
   "outputs": [
    {
     "name": "stderr",
     "output_type": "stream",
     "text": [
      "2024-02-08 15:25:48.754690: I tensorflow/core/grappler/optimizers/custom_graph_optimizer_registry.cc:114] Plugin optimizer for device_type GPU is enabled.\n"
     ]
    },
    {
     "name": "stdout",
     "output_type": "stream",
     "text": [
      "8/8 [==============================] - 2s 145ms/step\n",
      "8/8 [==============================] - 1s 163ms/step\n",
      "8/8 [==============================] - 1s 169ms/step\n",
      "8/8 [==============================] - 1s 155ms/step\n",
      "8/8 [==============================] - 1s 166ms/step\n",
      "8/8 [==============================] - 1s 164ms/step\n",
      "8/8 [==============================] - 1s 158ms/step\n",
      "8/8 [==============================] - 1s 165ms/step\n",
      "8/8 [==============================] - 1s 166ms/step\n",
      "8/8 [==============================] - 1s 165ms/step\n",
      "8/8 [==============================] - 1s 166ms/step\n",
      "8/8 [==============================] - 1s 164ms/step\n",
      "8/8 [==============================] - 1s 163ms/step\n",
      "8/8 [==============================] - 1s 164ms/step\n",
      "8/8 [==============================] - 1s 164ms/step\n",
      "8/8 [==============================] - 1s 165ms/step\n",
      "8/8 [==============================] - 1s 166ms/step\n",
      "8/8 [==============================] - 1s 166ms/step\n",
      "8/8 [==============================] - 1s 165ms/step\n",
      "8/8 [==============================] - 1s 165ms/step\n",
      "8/8 [==============================] - 1s 166ms/step\n",
      "8/8 [==============================] - 1s 166ms/step\n",
      "8/8 [==============================] - 1s 164ms/step\n",
      "8/8 [==============================] - 1s 164ms/step\n",
      "8/8 [==============================] - 1s 163ms/step\n",
      "8/8 [==============================] - 1s 166ms/step\n",
      "8/8 [==============================] - 1s 165ms/step\n",
      "8/8 [==============================] - 1s 165ms/step\n",
      "8/8 [==============================] - 1s 165ms/step\n",
      "8/8 [==============================] - 1s 166ms/step\n",
      "8/8 [==============================] - 1s 165ms/step\n",
      "8/8 [==============================] - 1s 167ms/step\n",
      "8/8 [==============================] - 1s 166ms/step\n",
      "8/8 [==============================] - 1s 166ms/step\n",
      "8/8 [==============================] - 1s 166ms/step\n",
      "8/8 [==============================] - 1s 167ms/step\n",
      "8/8 [==============================] - 1s 166ms/step\n",
      "8/8 [==============================] - 1s 166ms/step\n",
      "8/8 [==============================] - 1s 166ms/step\n",
      "8/8 [==============================] - 1s 167ms/step\n",
      "8/8 [==============================] - 1s 166ms/step\n",
      "8/8 [==============================] - 1s 166ms/step\n",
      "8/8 [==============================] - 1s 165ms/step\n"
     ]
    }
   ],
   "source": [
    "ruta_modelos_entrenados = '/Volumes/SSD_ANDRÉS/Modelos entrenados'\n",
    "new_model = tf.keras.models.load_model(ruta_modelos_entrenados+'/Inception_RegOpt_224_bs256NDO_L2000001L2000001_decay10epoc')\n",
    "y_pred = []  # store predicted labels\n",
    "y_true = []  # store true labels\n",
    "\n",
    "# iterate over the dataset\n",
    "for image_batch, label_batch in test_ds:   # use dataset.unbatch() with repeat\n",
    "   # append true labels\n",
    "   #print(\"Label: \",label_batch)\n",
    "   y_true.append(label_batch)\n",
    "   # compute predictions\n",
    "   #print(\"Imagen: \",image_batch)\n",
    "   preds = new_model.predict(image_batch)\n",
    "   # append predicted labels\n",
    "   y_pred.append(np.argmax(preds, axis = - 1))\n",
    "   #print(\"-----------------\")\n",
    "\n",
    "# convert the true and predicted labels into tensors\n",
    "correct_labels = tf.concat([item for item in y_true], axis = 0)\n",
    "predicted_labels = tf.concat([item for item in y_pred], axis = 0)"
   ]
  },
  {
   "cell_type": "code",
   "execution_count": 22,
   "metadata": {},
   "outputs": [
    {
     "data": {
      "image/png": "[encoded data removed]",
      "text/plain": [
       "<Figure size 1000x800 with 2 Axes>"
      ]
     },
     "metadata": {},
     "output_type": "display_data"
    }
   ],
   "source": [
    "import seaborn as sns\n",
    "\n",
    "confusion_mtx = tf.math.confusion_matrix(correct_labels, predicted_labels)\n",
    "plt.figure(figsize=(10, 8))\n",
    "sns.heatmap(confusion_mtx,\n",
    "            xticklabels=class_names,\n",
    "            yticklabels=class_names,\n",
    "            annot=True, fmt='g')\n",
    "plt.xlabel('Prediction')\n",
    "plt.ylabel('Label')\n",
    "plt.show()"
   ]
  },
  {
   "cell_type": "code",
   "execution_count": 23,
   "metadata": {},
   "outputs": [
    {
     "name": "stdout",
     "output_type": "stream",
     "text": [
      "%LP: 94.78741991846243\n",
      "%VLP: 94.71014492753623\n",
      "%VT: 97.35002912055911\n"
     ]
    }
   ],
   "source": [
    "cm = confusion_matrix(correct_labels, predicted_labels)\n",
    "print('%LP: '+str(cm[0][0]/sum(cm[0]) * 100))\n",
    "print('%VLP: '+str(cm[1][1]/sum(cm[1]) * 100))\n",
    "print('%VT: '+str(cm[2][2]/sum(cm[2]) * 100))"
   ]
  },
  {
   "cell_type": "code",
   "execution_count": 24,
   "metadata": {},
   "outputs": [
    {
     "name": "stdout",
     "output_type": "stream",
     "text": [
      "              precision    recall  f1-score   support\n",
      "\n",
      "           0       0.91      0.95      0.93      3434\n",
      "           1       0.97      0.95      0.96      4140\n",
      "           2       0.98      0.97      0.98      3434\n",
      "\n",
      "    accuracy                           0.96     11008\n",
      "   macro avg       0.96      0.96      0.96     11008\n",
      "weighted avg       0.96      0.96      0.96     11008\n",
      "\n"
     ]
    }
   ],
   "source": [
    "from sklearn.metrics import classification_report\n",
    "print(classification_report(correct_labels, predicted_labels))"
   ]
  }
 ],
 "metadata": {
  "kernelspec": {
   "display_name": "Tesis_IA",
   "language": "python",
   "name": "python3"
  },
  "language_info": {
   "codemirror_mode": {
    "name": "ipython",
    "version": 3
   },
   "file_extension": ".py",
   "mimetype": "text/x-python",
   "name": "python",
   "nbconvert_exporter": "python",
   "pygments_lexer": "ipython3",
   "version": "3.8.16"
  },
  "orig_nbformat": 4
 },
 "nbformat": 4,
 "nbformat_minor": 2
}
