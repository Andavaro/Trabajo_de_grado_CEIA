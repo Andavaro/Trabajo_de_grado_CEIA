{
 "cells": [
  {
   "cell_type": "code",
   "execution_count": 1,
   "metadata": {},
   "outputs": [],
   "source": [
    "import numpy as np\n",
    "import tensorflow as tf\n",
    "from tensorflow.keras import layers, models\n",
    "from tensorflow.keras.applications import ResNet50\n",
    "from tensorflow.keras.preprocessing.image import ImageDataGenerator\n",
    "from sklearn.utils.class_weight import compute_class_weight\n",
    "from sklearn.model_selection import train_test_split\n",
    "from sklearn.metrics import classification_report, confusion_matrix\n",
    "import matplotlib.pyplot as plt"
   ]
  },
  {
   "cell_type": "code",
   "execution_count": 2,
   "metadata": {},
   "outputs": [],
   "source": [
    "img_height = 224\n",
    "img_width = 224\n",
    "batch_size = 256"
   ]
  },
  {
   "cell_type": "code",
   "execution_count": 3,
   "metadata": {},
   "outputs": [
    {
     "name": "stdout",
     "output_type": "stream",
     "text": [
      "/Volumes/SSD_ANDRÉS/Espectrogramas/off/VLP_ruido/RUIDO/._spec_img_columnas_ruido0.png is not an image\n",
      "/Volumes/SSD_ANDRÉS/Espectrogramas/off/VLP_ruido/RUIDO/._spec_img_columnas_ruido10.png is not an image\n",
      "/Volumes/SSD_ANDRÉS/Espectrogramas/off/VLP_ruido/RUIDO/._spec_img_columnas_ruido18.png is not an image\n",
      "/Volumes/SSD_ANDRÉS/Espectrogramas/off/VLP_ruido/RUIDO/._spec_img_columnas_ruido26.png is not an image\n"
     ]
    }
   ],
   "source": [
    "import os\n",
    "from pathlib import Path\n",
    "import imghdr\n",
    "import shutil\n",
    "from os import remove\n",
    "\n",
    "destination_folder_path = '/Volumes/SSD_ANDRÉS/Espectrogramas/descartados'\n",
    "data_dir = \"/Volumes/SSD_ANDRÉS/Espectrogramas/off/VLP_ruido\"\n",
    "image_extensions = [\".png\", \".jpg\", 'bmp', 'jpeg']  # add there all your images file extensions\n",
    "img_type_accepted_by_tf = [\"bmp\", \"gif\", \"jpeg\", \"png\"]\n",
    "contador = 0\n",
    "for filepath in Path(data_dir).rglob(\"*\"):\n",
    "    if filepath.suffix.lower() in image_extensions:\n",
    "        img_type = imghdr.what(filepath)\n",
    "        destination_file_path = os.path.join(destination_folder_path, f'/im{contador}')\n",
    "        if img_type is None:\n",
    "            print(f\"{filepath} is not an image\")\n",
    "            remove(filepath)\n",
    "            #shutil.move(filepath, destination_file_path)\n",
    "            contador += 1\n",
    "        elif img_type not in img_type_accepted_by_tf:\n",
    "            print(f\"{filepath} is a {img_type}, not accepted by TensorFlow\")\n",
    "            remove(filepath)\n",
    "            #shutil.move(filepath, destination_file_path)\n",
    "            contador += 1"
   ]
  },
  {
   "cell_type": "code",
   "execution_count": 4,
   "metadata": {},
   "outputs": [],
   "source": [
    "train_directory = \"/Volumes/SSD_ANDRÉS/Espectrogramas/off/VLP_ruido\""
   ]
  },
  {
   "cell_type": "code",
   "execution_count": 5,
   "metadata": {},
   "outputs": [
    {
     "name": "stdout",
     "output_type": "stream",
     "text": [
      "Found 4175 files belonging to 2 classes.\n",
      "Using 3340 files for training.\n",
      "Using 835 files for validation.\n"
     ]
    },
    {
     "name": "stderr",
     "output_type": "stream",
     "text": [
      "2024-09-08 21:41:21.019192: I metal_plugin/src/device/metal_device.cc:1154] Metal device set to: Apple M1\n",
      "2024-09-08 21:41:21.019213: I metal_plugin/src/device/metal_device.cc:296] systemMemory: 16.00 GB\n",
      "2024-09-08 21:41:21.019216: I metal_plugin/src/device/metal_device.cc:313] maxCacheSize: 5.33 GB\n",
      "2024-09-08 21:41:21.019404: I tensorflow/core/common_runtime/pluggable_device/pluggable_device_factory.cc:303] Could not identify NUMA node of platform GPU ID 0, defaulting to 0. Your kernel may not have been built with NUMA support.\n",
      "2024-09-08 21:41:21.019423: I tensorflow/core/common_runtime/pluggable_device/pluggable_device_factory.cc:269] Created TensorFlow device (/job:localhost/replica:0/task:0/device:GPU:0 with 0 MB memory) -> physical PluggableDevice (device: 0, name: METAL, pci bus id: <undefined>)\n"
     ]
    }
   ],
   "source": [
    "# Dividir el set en entrenamiento y validación\n",
    "train_ds, validation_dataset = tf.keras.preprocessing.image_dataset_from_directory(\n",
    "    train_directory, labels='inferred', label_mode='int', batch_size=batch_size, image_size=(img_height, img_width), seed=123, \n",
    "    validation_split=0.2, subset='both')"
   ]
  },
  {
   "cell_type": "code",
   "execution_count": 6,
   "metadata": {},
   "outputs": [
    {
     "name": "stdout",
     "output_type": "stream",
     "text": [
      "Tamaño del dataset: 14\n",
      "Tamaño de train: 13\n",
      "Tamaño de test: 1\n"
     ]
    }
   ],
   "source": [
    "# Obtener el tamaño del dataset\n",
    "class_names = train_ds.class_names\n",
    "dataset_size = len(train_ds)\n",
    "print(\"Tamaño del dataset:\", dataset_size)\n",
    "\n",
    "# Calcular el tamaño de los subconjuntos\n",
    "test_size = int(0.1 * dataset_size)\n",
    "train_size = dataset_size - test_size\n",
    "\n",
    "# Dividir el dataset en entrenamiento y prueba\n",
    "test_ds = train_ds.take(test_size)\n",
    "train_ds = train_ds.skip(test_size)\n",
    "\n",
    "print(\"Tamaño de train:\", len(train_ds))\n",
    "print(\"Tamaño de test:\", len(test_ds))"
   ]
  },
  {
   "cell_type": "code",
   "execution_count": 7,
   "metadata": {},
   "outputs": [
    {
     "data": {
      "text/plain": [
       "'test_directory = \"/Users/andavaro/Desktop/Andrès/UBA/TrabajoDeGradoCEIA/dataset/Espectrogramas/multibalance_para_test/ns=32_sol=0.9_off_f=0-40\"\\ntest_ds= tf.keras.preprocessing.image_dataset_from_directory(\\n    test_directory, labels=\\'inferred\\', label_mode=\\'int\\', batch_size=batch_size, image_size=(img_height, img_width), seed=123)'"
      ]
     },
     "execution_count": 7,
     "metadata": {},
     "output_type": "execute_result"
    }
   ],
   "source": [
    "'''test_directory = \"/Users/andavaro/Desktop/Andrès/UBA/TrabajoDeGradoCEIA/dataset/Espectrogramas/multibalance_para_test/ns=32_sol=0.9_off_f=0-40\"\n",
    "test_ds= tf.keras.preprocessing.image_dataset_from_directory(\n",
    "    test_directory, labels='inferred', label_mode='int', batch_size=batch_size, image_size=(img_height, img_width), seed=123)'''"
   ]
  },
  {
   "cell_type": "code",
   "execution_count": 8,
   "metadata": {},
   "outputs": [
    {
     "name": "stdout",
     "output_type": "stream",
     "text": [
      "['RUIDO', 'VLP']\n",
      "test size:1\n",
      "train size:13\n",
      "step by epoch:13\n"
     ]
    }
   ],
   "source": [
    "# Esta parte se usa para generar datos para pruebas. Si se tienen datos específicos para las pruebas, se deben llamar con el nombre de test_ds\n",
    "\n",
    "print(class_names)\n",
    "\n",
    "num_elements = len(train_ds)\n",
    "\n",
    "porcentaje_test = 0.1\n",
    "train_size = int((1-porcentaje_test) * num_elements)\n",
    "\n",
    "\n",
    "'''test_size = num_elements - train_size\n",
    "test_ds = train_ds.take(test_size)\n",
    "train_ds = train_ds.skip(test_size)'''\n",
    "\n",
    "step_by_epoch = len(train_ds)\n",
    "\n",
    "print(f'test size:{len(test_ds)}')\n",
    "print(f'train size:{len(train_ds)}')\n",
    "print(f'step by epoch:{step_by_epoch}')"
   ]
  },
  {
   "cell_type": "code",
   "execution_count": 9,
   "metadata": {},
   "outputs": [
    {
     "data": {
      "text/plain": [
       "\"y_train = train_ds.map(lambda _, label: label).unbatch()\\ny_train = list(y_train.as_numpy_iterator())\\nclass_weights = compute_class_weight('balanced', classes=np.unique(y_train), y=y_train)\\nclass_weight_dict = dict(enumerate(class_weights))\\nprint(class_weight_dict)\""
      ]
     },
     "execution_count": 9,
     "metadata": {},
     "output_type": "execute_result"
    }
   ],
   "source": [
    "'''y_train = train_ds.map(lambda _, label: label).unbatch()\n",
    "y_train = list(y_train.as_numpy_iterator())\n",
    "class_weights = compute_class_weight('balanced', classes=np.unique(y_train), y=y_train)\n",
    "class_weight_dict = dict(enumerate(class_weights))\n",
    "print(class_weight_dict)'''"
   ]
  },
  {
   "attachments": {},
   "cell_type": "markdown",
   "metadata": {},
   "source": [
    "# Modelo ResNet 50"
   ]
  },
  {
   "cell_type": "code",
   "execution_count": 10,
   "metadata": {},
   "outputs": [],
   "source": [
    "num_classes = len(class_names)"
   ]
  },
  {
   "cell_type": "code",
   "execution_count": 11,
   "metadata": {},
   "outputs": [],
   "source": [
    "# Cargar la arquitectura preentrenada VGG16 sin las capas superiores (sin incluir la capa de salida)\n",
    "base_model = ResNet50(weights='imagenet', include_top=False, input_shape=(img_height, img_width, 3)) #input_shape=(altura, anchura, canales))\n",
    "base_model = tf.keras.Model(inputs=base_model.input, outputs=base_model.layers[-2].output)"
   ]
  },
  {
   "cell_type": "code",
   "execution_count": 12,
   "metadata": {},
   "outputs": [],
   "source": [
    "# Congelar las capas de la base (no se entrenarán durante el ajuste fino)\n",
    "for layer in base_model.layers:\n",
    "    layer.trainable = False"
   ]
  },
  {
   "cell_type": "code",
   "execution_count": 13,
   "metadata": {},
   "outputs": [],
   "source": [
    "# Agregar capas personalizadas a la arquitectura base\n",
    "model = models.Sequential([\n",
    "    base_model,\n",
    "    layers.Flatten(),\n",
    "    layers.Dense(256, activation='relu'),\n",
    "    #layers.Dropout(0.5),\n",
    "    layers.Dense(len(class_names), activation='softmax')#, kernel_regularizer=regularizers.L2(0.000001), activity_regularizer=regularizers.L2(0.000001))\n",
    "])"
   ]
  },
  {
   "cell_type": "code",
   "execution_count": 14,
   "metadata": {},
   "outputs": [],
   "source": [
    "# Definir la programación de la tasa de aprendizaje exponencial\n",
    "lr_schedule = tf.keras.optimizers.schedules.ExponentialDecay(\n",
    "    initial_learning_rate=0.00001,\n",
    "    decay_steps=step_by_epoch*20,\n",
    "    decay_rate=0.96\n",
    ")"
   ]
  },
  {
   "cell_type": "code",
   "execution_count": 15,
   "metadata": {},
   "outputs": [
    {
     "name": "stderr",
     "output_type": "stream",
     "text": [
      "WARNING:absl:At this time, the v2.11+ optimizer `tf.keras.optimizers.SGD` runs slowly on M1/M2 Macs, please use the legacy Keras optimizer instead, located at `tf.keras.optimizers.legacy.SGD`.\n"
     ]
    }
   ],
   "source": [
    "# Crear un optimizador con la programación de la tasa de aprendizaje exponencial y momentum\n",
    "custom_optimizer = tf.keras.optimizers.SGD(learning_rate=lr_schedule, momentum=0.9)"
   ]
  },
  {
   "cell_type": "code",
   "execution_count": 16,
   "metadata": {},
   "outputs": [
    {
     "name": "stderr",
     "output_type": "stream",
     "text": [
      "WARNING:absl:There is a known slowdown when using v2.11+ Keras optimizers on M1/M2 Macs. Falling back to the legacy Keras optimizer, i.e., `tf.keras.optimizers.legacy.SGD`.\n"
     ]
    }
   ],
   "source": [
    "# Compilar el modelo\n",
    "model.compile(optimizer=custom_optimizer,\n",
    "              loss='sparse_categorical_crossentropy',\n",
    "              metrics=['accuracy'])"
   ]
  },
  {
   "cell_type": "code",
   "execution_count": 17,
   "metadata": {},
   "outputs": [
    {
     "name": "stdout",
     "output_type": "stream",
     "text": [
      "Epoch 1/100\n"
     ]
    },
    {
     "name": "stderr",
     "output_type": "stream",
     "text": [
      "2024-09-08 21:41:23.385013: I tensorflow/core/grappler/optimizers/custom_graph_optimizer_registry.cc:114] Plugin optimizer for device_type GPU is enabled.\n"
     ]
    },
    {
     "name": "stdout",
     "output_type": "stream",
     "text": [
      "13/13 [==============================] - ETA: 0s - loss: 0.5725 - accuracy: 0.8379"
     ]
    },
    {
     "name": "stderr",
     "output_type": "stream",
     "text": [
      "2024-09-08 21:41:54.914458: I tensorflow/core/grappler/optimizers/custom_graph_optimizer_registry.cc:114] Plugin optimizer for device_type GPU is enabled.\n"
     ]
    },
    {
     "name": "stdout",
     "output_type": "stream",
     "text": [
      "13/13 [==============================] - 40s 3s/step - loss: 0.5725 - accuracy: 0.8379 - val_loss: 0.1999 - val_accuracy: 0.9760\n",
      "Epoch 2/100\n",
      "13/13 [==============================] - 38s 3s/step - loss: 0.2205 - accuracy: 0.9685 - val_loss: 0.4256 - val_accuracy: 0.9126\n",
      "Epoch 3/100\n",
      "13/13 [==============================] - 39s 3s/step - loss: 0.2919 - accuracy: 0.9436 - val_loss: 0.2321 - val_accuracy: 0.9784\n",
      "Epoch 4/100\n",
      "13/13 [==============================] - 39s 3s/step - loss: 0.2289 - accuracy: 0.9656 - val_loss: 0.1745 - val_accuracy: 0.9497\n",
      "Epoch 5/100\n",
      "13/13 [==============================] - 39s 3s/step - loss: 0.1642 - accuracy: 0.9640 - val_loss: 0.1222 - val_accuracy: 0.9737\n",
      "Epoch 6/100\n",
      "13/13 [==============================] - 38s 3s/step - loss: 0.1515 - accuracy: 0.9656 - val_loss: 0.1099 - val_accuracy: 0.9701\n",
      "Epoch 7/100\n",
      "13/13 [==============================] - 38s 3s/step - loss: 0.1313 - accuracy: 0.9666 - val_loss: 0.1029 - val_accuracy: 0.9677\n",
      "Epoch 8/100\n",
      "13/13 [==============================] - 38s 3s/step - loss: 0.1196 - accuracy: 0.9679 - val_loss: 0.1085 - val_accuracy: 0.9569\n",
      "Epoch 9/100\n",
      "13/13 [==============================] - 39s 3s/step - loss: 0.1140 - accuracy: 0.9634 - val_loss: 0.0968 - val_accuracy: 0.9629\n",
      "Epoch 10/100\n",
      "13/13 [==============================] - 39s 3s/step - loss: 0.1007 - accuracy: 0.9660 - val_loss: 0.0914 - val_accuracy: 0.9749\n",
      "Epoch 11/100\n",
      "13/13 [==============================] - 39s 3s/step - loss: 0.0978 - accuracy: 0.9679 - val_loss: 0.0902 - val_accuracy: 0.9713\n",
      "Epoch 12/100\n",
      "13/13 [==============================] - 39s 3s/step - loss: 0.1003 - accuracy: 0.9705 - val_loss: 0.1324 - val_accuracy: 0.9449\n",
      "Epoch 13/100\n",
      "13/13 [==============================] - 38s 3s/step - loss: 0.1030 - accuracy: 0.9685 - val_loss: 0.0884 - val_accuracy: 0.9725\n",
      "Epoch 14/100\n",
      "13/13 [==============================] - 38s 3s/step - loss: 0.0896 - accuracy: 0.9637 - val_loss: 0.0871 - val_accuracy: 0.9725\n",
      "Epoch 15/100\n",
      "13/13 [==============================] - 38s 3s/step - loss: 0.0840 - accuracy: 0.9666 - val_loss: 0.0957 - val_accuracy: 0.9760\n",
      "Epoch 16/100\n",
      "13/13 [==============================] - 38s 3s/step - loss: 0.1124 - accuracy: 0.9692 - val_loss: 0.1078 - val_accuracy: 0.9509\n",
      "Epoch 17/100\n",
      "13/13 [==============================] - 38s 3s/step - loss: 0.0846 - accuracy: 0.9702 - val_loss: 0.0938 - val_accuracy: 0.9557\n",
      "Epoch 18/100\n",
      "13/13 [==============================] - 38s 3s/step - loss: 0.0823 - accuracy: 0.9682 - val_loss: 0.1230 - val_accuracy: 0.9485\n",
      "Epoch 19/100\n",
      "13/13 [==============================] - 38s 3s/step - loss: 0.0886 - accuracy: 0.9663 - val_loss: 0.0849 - val_accuracy: 0.9784\n",
      "Epoch 20/100\n",
      "13/13 [==============================] - 38s 3s/step - loss: 0.0781 - accuracy: 0.9702 - val_loss: 0.0917 - val_accuracy: 0.9569\n",
      "Epoch 21/100\n",
      "13/13 [==============================] - 39s 3s/step - loss: 0.0767 - accuracy: 0.9721 - val_loss: 0.0833 - val_accuracy: 0.9677\n",
      "Epoch 22/100\n",
      "13/13 [==============================] - 39s 3s/step - loss: 0.0866 - accuracy: 0.9673 - val_loss: 0.0840 - val_accuracy: 0.9629\n",
      "Epoch 23/100\n",
      "13/13 [==============================] - 39s 3s/step - loss: 0.0864 - accuracy: 0.9650 - val_loss: 0.0831 - val_accuracy: 0.9689\n",
      "Epoch 24/100\n",
      "13/13 [==============================] - 39s 3s/step - loss: 0.0738 - accuracy: 0.9695 - val_loss: 0.0817 - val_accuracy: 0.9713\n",
      "Epoch 25/100\n",
      "13/13 [==============================] - 38s 3s/step - loss: 0.0751 - accuracy: 0.9702 - val_loss: 0.0837 - val_accuracy: 0.9772\n",
      "Epoch 26/100\n",
      "13/13 [==============================] - 38s 3s/step - loss: 0.0841 - accuracy: 0.9711 - val_loss: 0.0895 - val_accuracy: 0.9581\n",
      "Epoch 27/100\n",
      "13/13 [==============================] - 38s 3s/step - loss: 0.0703 - accuracy: 0.9715 - val_loss: 0.0804 - val_accuracy: 0.9701\n",
      "Epoch 28/100\n",
      "13/13 [==============================] - 40s 3s/step - loss: 0.0705 - accuracy: 0.9724 - val_loss: 0.0814 - val_accuracy: 0.9749\n",
      "Epoch 29/100\n",
      "13/13 [==============================] - 40s 3s/step - loss: 0.0747 - accuracy: 0.9689 - val_loss: 0.0796 - val_accuracy: 0.9725\n",
      "Epoch 30/100\n",
      "13/13 [==============================] - 40s 3s/step - loss: 0.0715 - accuracy: 0.9741 - val_loss: 0.0802 - val_accuracy: 0.9760\n",
      "Epoch 31/100\n",
      "13/13 [==============================] - 39s 3s/step - loss: 0.0792 - accuracy: 0.9728 - val_loss: 0.1091 - val_accuracy: 0.9485\n",
      "Epoch 32/100\n",
      "13/13 [==============================] - 38s 3s/step - loss: 0.0691 - accuracy: 0.9676 - val_loss: 0.0925 - val_accuracy: 0.9569\n",
      "Epoch 33/100\n",
      "13/13 [==============================] - 38s 3s/step - loss: 0.0710 - accuracy: 0.9708 - val_loss: 0.0861 - val_accuracy: 0.9605\n",
      "Epoch 34/100\n",
      "13/13 [==============================] - 39s 3s/step - loss: 0.0669 - accuracy: 0.9734 - val_loss: 0.0822 - val_accuracy: 0.9784\n",
      "Epoch 35/100\n",
      "13/13 [==============================] - 39s 3s/step - loss: 0.0739 - accuracy: 0.9718 - val_loss: 0.0792 - val_accuracy: 0.9665\n",
      "Epoch 36/100\n",
      "13/13 [==============================] - 38s 3s/step - loss: 0.0619 - accuracy: 0.9744 - val_loss: 0.0777 - val_accuracy: 0.9701\n",
      "Epoch 37/100\n",
      "13/13 [==============================] - 38s 3s/step - loss: 0.0675 - accuracy: 0.9692 - val_loss: 0.0784 - val_accuracy: 0.9749\n",
      "Epoch 38/100\n",
      "13/13 [==============================] - 38s 3s/step - loss: 0.0671 - accuracy: 0.9731 - val_loss: 0.0797 - val_accuracy: 0.9653\n",
      "Epoch 39/100\n",
      "13/13 [==============================] - 38s 3s/step - loss: 0.0638 - accuracy: 0.9750 - val_loss: 0.0882 - val_accuracy: 0.9569\n",
      "Epoch 40/100\n",
      "13/13 [==============================] - 38s 3s/step - loss: 0.0594 - accuracy: 0.9754 - val_loss: 0.0840 - val_accuracy: 0.9617\n",
      "Epoch 41/100\n",
      "13/13 [==============================] - 38s 3s/step - loss: 0.0611 - accuracy: 0.9741 - val_loss: 0.0792 - val_accuracy: 0.9665\n",
      "Epoch 42/100\n",
      "13/13 [==============================] - 38s 3s/step - loss: 0.0616 - accuracy: 0.9728 - val_loss: 0.0767 - val_accuracy: 0.9689\n",
      "Epoch 43/100\n",
      "13/13 [==============================] - 38s 3s/step - loss: 0.0651 - accuracy: 0.9721 - val_loss: 0.0753 - val_accuracy: 0.9677\n",
      "Epoch 44/100\n",
      "13/13 [==============================] - 38s 3s/step - loss: 0.0644 - accuracy: 0.9718 - val_loss: 0.0797 - val_accuracy: 0.9665\n",
      "Epoch 45/100\n",
      "13/13 [==============================] - 38s 3s/step - loss: 0.0577 - accuracy: 0.9750 - val_loss: 0.0828 - val_accuracy: 0.9629\n",
      "Epoch 46/100\n",
      "13/13 [==============================] - 38s 3s/step - loss: 0.0592 - accuracy: 0.9741 - val_loss: 0.0753 - val_accuracy: 0.9701\n",
      "Epoch 47/100\n",
      "13/13 [==============================] - 38s 3s/step - loss: 0.0595 - accuracy: 0.9741 - val_loss: 0.0866 - val_accuracy: 0.9569\n",
      "Epoch 48/100\n",
      "13/13 [==============================] - 38s 3s/step - loss: 0.0563 - accuracy: 0.9754 - val_loss: 0.0752 - val_accuracy: 0.9725\n",
      "Epoch 49/100\n",
      "13/13 [==============================] - 38s 3s/step - loss: 0.0580 - accuracy: 0.9760 - val_loss: 0.0745 - val_accuracy: 0.9689\n",
      "Epoch 50/100\n",
      "13/13 [==============================] - 38s 3s/step - loss: 0.0597 - accuracy: 0.9731 - val_loss: 0.0750 - val_accuracy: 0.9677\n",
      "Epoch 51/100\n",
      "13/13 [==============================] - 38s 3s/step - loss: 0.0621 - accuracy: 0.9750 - val_loss: 0.0981 - val_accuracy: 0.9509\n",
      "Epoch 52/100\n",
      "13/13 [==============================] - 38s 3s/step - loss: 0.0605 - accuracy: 0.9744 - val_loss: 0.0920 - val_accuracy: 0.9533\n",
      "Epoch 53/100\n",
      "13/13 [==============================] - 38s 3s/step - loss: 0.0581 - accuracy: 0.9747 - val_loss: 0.0818 - val_accuracy: 0.9629\n",
      "Epoch 54/100\n",
      "13/13 [==============================] - 38s 3s/step - loss: 0.0564 - accuracy: 0.9744 - val_loss: 0.0865 - val_accuracy: 0.9581\n",
      "Epoch 55/100\n",
      "13/13 [==============================] - 39s 3s/step - loss: 0.0534 - accuracy: 0.9773 - val_loss: 0.0762 - val_accuracy: 0.9641\n",
      "Epoch 56/100\n",
      "13/13 [==============================] - 39s 3s/step - loss: 0.0489 - accuracy: 0.9780 - val_loss: 0.0865 - val_accuracy: 0.9581\n",
      "Epoch 57/100\n",
      "13/13 [==============================] - 39s 3s/step - loss: 0.0526 - accuracy: 0.9773 - val_loss: 0.0764 - val_accuracy: 0.9617\n",
      "Epoch 58/100\n",
      "13/13 [==============================] - 39s 3s/step - loss: 0.0535 - accuracy: 0.9750 - val_loss: 0.0773 - val_accuracy: 0.9617\n",
      "Epoch 59/100\n",
      "13/13 [==============================] - 39s 3s/step - loss: 0.0511 - accuracy: 0.9773 - val_loss: 0.0740 - val_accuracy: 0.9701\n",
      "Epoch 60/100\n",
      "13/13 [==============================] - 38s 3s/step - loss: 0.0502 - accuracy: 0.9773 - val_loss: 0.0738 - val_accuracy: 0.9701\n",
      "Epoch 61/100\n",
      "13/13 [==============================] - 38s 3s/step - loss: 0.0535 - accuracy: 0.9773 - val_loss: 0.0764 - val_accuracy: 0.9617\n",
      "Epoch 62/100\n",
      "13/13 [==============================] - 39s 3s/step - loss: 0.0504 - accuracy: 0.9783 - val_loss: 0.0878 - val_accuracy: 0.9581\n",
      "Epoch 63/100\n",
      "13/13 [==============================] - 39s 3s/step - loss: 0.0586 - accuracy: 0.9750 - val_loss: 0.0739 - val_accuracy: 0.9725\n",
      "Epoch 64/100\n",
      "13/13 [==============================] - 39s 3s/step - loss: 0.0511 - accuracy: 0.9776 - val_loss: 0.0805 - val_accuracy: 0.9629\n",
      "Epoch 65/100\n",
      "13/13 [==============================] - 38s 3s/step - loss: 0.0623 - accuracy: 0.9786 - val_loss: 0.0847 - val_accuracy: 0.9784\n",
      "Epoch 66/100\n",
      "13/13 [==============================] - 38s 3s/step - loss: 0.0611 - accuracy: 0.9747 - val_loss: 0.0762 - val_accuracy: 0.9772\n",
      "Epoch 67/100\n",
      "13/13 [==============================] - 38s 3s/step - loss: 0.0585 - accuracy: 0.9760 - val_loss: 0.0840 - val_accuracy: 0.9593\n",
      "Epoch 68/100\n",
      "13/13 [==============================] - 38s 3s/step - loss: 0.0514 - accuracy: 0.9789 - val_loss: 0.1053 - val_accuracy: 0.9509\n",
      "Epoch 69/100\n",
      "13/13 [==============================] - 38s 3s/step - loss: 0.0574 - accuracy: 0.9757 - val_loss: 0.0730 - val_accuracy: 0.9725\n",
      "Epoch 70/100\n",
      "13/13 [==============================] - 38s 3s/step - loss: 0.0505 - accuracy: 0.9776 - val_loss: 0.0741 - val_accuracy: 0.9665\n",
      "Epoch 71/100\n",
      "13/13 [==============================] - 38s 3s/step - loss: 0.0483 - accuracy: 0.9792 - val_loss: 0.0722 - val_accuracy: 0.9713\n",
      "Epoch 72/100\n",
      "13/13 [==============================] - 38s 3s/step - loss: 0.0466 - accuracy: 0.9789 - val_loss: 0.0762 - val_accuracy: 0.9641\n",
      "Epoch 73/100\n",
      "13/13 [==============================] - 38s 3s/step - loss: 0.0473 - accuracy: 0.9773 - val_loss: 0.0836 - val_accuracy: 0.9617\n",
      "Epoch 74/100\n",
      "13/13 [==============================] - 38s 3s/step - loss: 0.0472 - accuracy: 0.9786 - val_loss: 0.0728 - val_accuracy: 0.9677\n",
      "Epoch 75/100\n",
      "13/13 [==============================] - 38s 3s/step - loss: 0.0467 - accuracy: 0.9792 - val_loss: 0.0780 - val_accuracy: 0.9641\n",
      "Epoch 76/100\n",
      "13/13 [==============================] - 38s 3s/step - loss: 0.0469 - accuracy: 0.9812 - val_loss: 0.0721 - val_accuracy: 0.9725\n",
      "Epoch 77/100\n",
      "13/13 [==============================] - 38s 3s/step - loss: 0.0524 - accuracy: 0.9770 - val_loss: 0.0735 - val_accuracy: 0.9653\n",
      "Epoch 78/100\n",
      "13/13 [==============================] - 38s 3s/step - loss: 0.0470 - accuracy: 0.9799 - val_loss: 0.0740 - val_accuracy: 0.9760\n",
      "Epoch 79/100\n",
      "13/13 [==============================] - 38s 3s/step - loss: 0.0505 - accuracy: 0.9792 - val_loss: 0.0729 - val_accuracy: 0.9653\n",
      "Epoch 80/100\n",
      "13/13 [==============================] - 38s 3s/step - loss: 0.0433 - accuracy: 0.9805 - val_loss: 0.0742 - val_accuracy: 0.9653\n",
      "Epoch 81/100\n",
      "13/13 [==============================] - 42s 3s/step - loss: 0.0505 - accuracy: 0.9786 - val_loss: 0.0828 - val_accuracy: 0.9617\n",
      "Epoch 82/100\n",
      "13/13 [==============================] - 39s 3s/step - loss: 0.0465 - accuracy: 0.9809 - val_loss: 0.0716 - val_accuracy: 0.9725\n",
      "Epoch 83/100\n",
      "13/13 [==============================] - 39s 3s/step - loss: 0.0438 - accuracy: 0.9799 - val_loss: 0.0856 - val_accuracy: 0.9581\n",
      "Epoch 84/100\n",
      "13/13 [==============================] - 41s 3s/step - loss: 0.0467 - accuracy: 0.9789 - val_loss: 0.0733 - val_accuracy: 0.9641\n",
      "Epoch 85/100\n",
      "13/13 [==============================] - 39s 3s/step - loss: 0.0437 - accuracy: 0.9828 - val_loss: 0.0723 - val_accuracy: 0.9665\n",
      "Epoch 86/100\n",
      "13/13 [==============================] - 39s 3s/step - loss: 0.0455 - accuracy: 0.9815 - val_loss: 0.0791 - val_accuracy: 0.9605\n",
      "Epoch 87/100\n",
      "13/13 [==============================] - 38s 3s/step - loss: 0.0437 - accuracy: 0.9818 - val_loss: 0.0726 - val_accuracy: 0.9665\n",
      "Epoch 88/100\n",
      "13/13 [==============================] - 39s 3s/step - loss: 0.0433 - accuracy: 0.9818 - val_loss: 0.0854 - val_accuracy: 0.9641\n",
      "Epoch 89/100\n",
      "13/13 [==============================] - 39s 3s/step - loss: 0.0454 - accuracy: 0.9796 - val_loss: 0.0709 - val_accuracy: 0.9725\n",
      "Epoch 90/100\n",
      "13/13 [==============================] - 39s 3s/step - loss: 0.0459 - accuracy: 0.9805 - val_loss: 0.0748 - val_accuracy: 0.9641\n",
      "Epoch 91/100\n",
      "13/13 [==============================] - 38s 3s/step - loss: 0.0414 - accuracy: 0.9825 - val_loss: 0.0771 - val_accuracy: 0.9653\n",
      "Epoch 92/100\n",
      "13/13 [==============================] - 38s 3s/step - loss: 0.0444 - accuracy: 0.9822 - val_loss: 0.0709 - val_accuracy: 0.9701\n",
      "Epoch 93/100\n",
      "13/13 [==============================] - 38s 3s/step - loss: 0.0459 - accuracy: 0.9802 - val_loss: 0.0751 - val_accuracy: 0.9641\n",
      "Epoch 94/100\n",
      "13/13 [==============================] - 38s 3s/step - loss: 0.0431 - accuracy: 0.9828 - val_loss: 0.0755 - val_accuracy: 0.9653\n",
      "Epoch 95/100\n",
      "13/13 [==============================] - 38s 3s/step - loss: 0.0420 - accuracy: 0.9796 - val_loss: 0.0702 - val_accuracy: 0.9653\n",
      "Epoch 96/100\n",
      "13/13 [==============================] - 38s 3s/step - loss: 0.0402 - accuracy: 0.9825 - val_loss: 0.0768 - val_accuracy: 0.9629\n",
      "Epoch 97/100\n",
      "13/13 [==============================] - 38s 3s/step - loss: 0.0445 - accuracy: 0.9818 - val_loss: 0.0823 - val_accuracy: 0.9629\n",
      "Epoch 98/100\n",
      "13/13 [==============================] - 40s 3s/step - loss: 0.0436 - accuracy: 0.9818 - val_loss: 0.0704 - val_accuracy: 0.9653\n",
      "Epoch 99/100\n",
      "13/13 [==============================] - 39s 3s/step - loss: 0.0391 - accuracy: 0.9844 - val_loss: 0.0733 - val_accuracy: 0.9641\n",
      "Epoch 100/100\n",
      "13/13 [==============================] - 39s 3s/step - loss: 0.0419 - accuracy: 0.9818 - val_loss: 0.0701 - val_accuracy: 0.9677\n"
     ]
    }
   ],
   "source": [
    "# Entrenar el modelo\n",
    "epochs = 100\n",
    "\n",
    "'''checkpoint_filepath = '/Volumes/SSD_ANDRÉS/PRUEBAS_nuevos_vlp/Checkpoint/resnet_sinfiltro_checkpoint.model.keras'\n",
    "model_checkpoint_callback = tf.keras.callbacks.ModelCheckpoint(\n",
    "    filepath=checkpoint_filepath,\n",
    "    monitor='val_accuracy',\n",
    "    mode='max',\n",
    "    save_best_only=True,\n",
    "    verbose=1)'''\n",
    "\n",
    "history = model.fit(train_ds, epochs=epochs, validation_data=validation_dataset)#, callbacks=[model_checkpoint_callback])#, class_weight=class_weight_dict)"
   ]
  },
  {
   "cell_type": "code",
   "execution_count": 18,
   "metadata": {},
   "outputs": [
    {
     "name": "stdout",
     "output_type": "stream",
     "text": [
      "1/1 [==============================] - 4s 4s/step - loss: 0.0350 - accuracy: 0.9805\n",
      "Precisión en el conjunto de prueba: 0.98046875\n"
     ]
    }
   ],
   "source": [
    "# Evaluar el modelo en el conjunto de prueba\n",
    "test_loss, test_acc = model.evaluate(test_ds)\n",
    "print(f'Precisión en el conjunto de prueba: {test_acc}')"
   ]
  },
  {
   "cell_type": "code",
   "execution_count": 19,
   "metadata": {},
   "outputs": [
    {
     "data": {
      "image/png": "[encoded data removed]",
      "text/plain": [
       "<Figure size 1200x400 with 2 Axes>"
      ]
     },
     "metadata": {},
     "output_type": "display_data"
    }
   ],
   "source": [
    "# Trazar la curva de aprendizaje\n",
    "plt.figure(figsize=(12, 4))\n",
    "plt.subplot(1, 2, 1)\n",
    "plt.plot(history.history['accuracy'], label='Precisión de Entrenamiento')\n",
    "plt.plot(history.history['val_accuracy'], label='Precisión de Validación')\n",
    "plt.legend(loc='lower right')\n",
    "plt.title('Curva de Aprendizaje de la Precisión')\n",
    "\n",
    "plt.subplot(1, 2, 2)\n",
    "plt.plot(history.history['loss'], label='Pérdida de Entrenamiento')\n",
    "plt.plot(history.history['val_loss'], label='Pérdida de Validación')\n",
    "plt.legend(loc='upper right')\n",
    "plt.title('Curva de Aprendizaje de la Pérdida')\n",
    "plt.show()"
   ]
  },
  {
   "cell_type": "code",
   "execution_count": 20,
   "metadata": {},
   "outputs": [],
   "source": [
    "ruta_modelos_entrenados = '/Volumes/SSD_ANDRÉS/PRUEBAS_nuevos_vlp/Modelos entrenadoss'"
   ]
  },
  {
   "cell_type": "code",
   "execution_count": 21,
   "metadata": {},
   "outputs": [
    {
     "name": "stdout",
     "output_type": "stream",
     "text": [
      "INFO:tensorflow:Assets written to: /Volumes/SSD_ANDRÉS/PRUEBAS_nuevos_vlp/Modelos entrenadoss/resnet_lowpass0a1_vlp_ruido/assets\n"
     ]
    },
    {
     "name": "stderr",
     "output_type": "stream",
     "text": [
      "INFO:tensorflow:Assets written to: /Volumes/SSD_ANDRÉS/PRUEBAS_nuevos_vlp/Modelos entrenadoss/resnet_lowpass0a1_vlp_ruido/assets\n"
     ]
    }
   ],
   "source": [
    "model.save(ruta_modelos_entrenados+'/resnet_lowpass0a1_vlp_ruido')"
   ]
  },
  {
   "cell_type": "code",
   "execution_count": 22,
   "metadata": {},
   "outputs": [
    {
     "name": "stderr",
     "output_type": "stream",
     "text": [
      "2024-09-08 22:45:48.963733: I tensorflow/core/grappler/optimizers/custom_graph_optimizer_registry.cc:114] Plugin optimizer for device_type GPU is enabled.\n"
     ]
    },
    {
     "name": "stdout",
     "output_type": "stream",
     "text": [
      "8/8 [==============================] - 3s 290ms/step\n"
     ]
    }
   ],
   "source": [
    "ruta_modelos_entrenados = '/Volumes/SSD_ANDRÉS/PRUEBAS_nuevos_vlp/Modelos entrenadoss'\n",
    "new_model = tf.keras.models.load_model(ruta_modelos_entrenados+'/resnet_lowpass0a1_vlp_ruido')\n",
    "y_pred = []  # store predicted labels\n",
    "y_true = []  # store true labels\n",
    "\n",
    "# iterate over the dataset\n",
    "for image_batch, label_batch in test_ds:   # use dataset.unbatch() with repeat\n",
    "   # append true labels\n",
    "   #print(\"Label: \",label_batch)\n",
    "   y_true.append(label_batch)\n",
    "   # compute predictions\n",
    "   #print(\"Imagen: \",image_batch)\n",
    "   preds = new_model.predict(image_batch)\n",
    "   # append predicted labels\n",
    "   y_pred.append(np.argmax(preds, axis = - 1))\n",
    "   #print(\"-----------------\")\n",
    "\n",
    "# convert the true and predicted labels into tensors\n",
    "correct_labels = tf.concat([item for item in y_true], axis = 0)\n",
    "predicted_labels = tf.concat([item for item in y_pred], axis = 0)"
   ]
  },
  {
   "cell_type": "code",
   "execution_count": 23,
   "metadata": {},
   "outputs": [
    {
     "data": {
      "image/png": "[encoded data removed]",
      "text/plain": [
       "<Figure size 1000x800 with 2 Axes>"
      ]
     },
     "metadata": {},
     "output_type": "display_data"
    }
   ],
   "source": [
    "import seaborn as sns\n",
    "\n",
    "confusion_mtx = tf.math.confusion_matrix(correct_labels, predicted_labels)\n",
    "plt.figure(figsize=(10, 8))\n",
    "sns.heatmap(confusion_mtx,\n",
    "            xticklabels=class_names,\n",
    "            yticklabels=class_names,\n",
    "            annot=True, fmt='g')\n",
    "plt.xlabel('Prediction')\n",
    "plt.ylabel('Label')\n",
    "plt.show()"
   ]
  },
  {
   "cell_type": "code",
   "execution_count": 24,
   "metadata": {},
   "outputs": [
    {
     "name": "stdout",
     "output_type": "stream",
     "text": [
      "%LP: 97.9381443298969\n",
      "%VLP: 98.38709677419355\n"
     ]
    },
    {
     "ename": "IndexError",
     "evalue": "index 2 is out of bounds for axis 0 with size 2",
     "output_type": "error",
     "traceback": [
      "\u001b[0;31m---------------------------------------------------------------------------\u001b[0m",
      "\u001b[0;31mIndexError\u001b[0m                                Traceback (most recent call last)",
      "Cell \u001b[0;32mIn[24], line 4\u001b[0m\n\u001b[1;32m      2\u001b[0m \u001b[38;5;28mprint\u001b[39m(\u001b[38;5;124m'\u001b[39m\u001b[38;5;124m%\u001b[39m\u001b[38;5;124mLP: \u001b[39m\u001b[38;5;124m'\u001b[39m\u001b[38;5;241m+\u001b[39m\u001b[38;5;28mstr\u001b[39m(cm[\u001b[38;5;241m0\u001b[39m][\u001b[38;5;241m0\u001b[39m]\u001b[38;5;241m/\u001b[39m\u001b[38;5;28msum\u001b[39m(cm[\u001b[38;5;241m0\u001b[39m]) \u001b[38;5;241m*\u001b[39m \u001b[38;5;241m100\u001b[39m))\n\u001b[1;32m      3\u001b[0m \u001b[38;5;28mprint\u001b[39m(\u001b[38;5;124m'\u001b[39m\u001b[38;5;124m%\u001b[39m\u001b[38;5;124mVLP: \u001b[39m\u001b[38;5;124m'\u001b[39m\u001b[38;5;241m+\u001b[39m\u001b[38;5;28mstr\u001b[39m(cm[\u001b[38;5;241m1\u001b[39m][\u001b[38;5;241m1\u001b[39m]\u001b[38;5;241m/\u001b[39m\u001b[38;5;28msum\u001b[39m(cm[\u001b[38;5;241m1\u001b[39m]) \u001b[38;5;241m*\u001b[39m \u001b[38;5;241m100\u001b[39m))\n\u001b[0;32m----> 4\u001b[0m \u001b[38;5;28mprint\u001b[39m(\u001b[38;5;124m'\u001b[39m\u001b[38;5;124m%\u001b[39m\u001b[38;5;124mVT: \u001b[39m\u001b[38;5;124m'\u001b[39m\u001b[38;5;241m+\u001b[39m\u001b[38;5;28mstr\u001b[39m(\u001b[43mcm\u001b[49m\u001b[43m[\u001b[49m\u001b[38;5;241;43m2\u001b[39;49m\u001b[43m]\u001b[49m[\u001b[38;5;241m2\u001b[39m]\u001b[38;5;241m/\u001b[39m\u001b[38;5;28msum\u001b[39m(cm[\u001b[38;5;241m2\u001b[39m]) \u001b[38;5;241m*\u001b[39m \u001b[38;5;241m100\u001b[39m))\n",
      "\u001b[0;31mIndexError\u001b[0m: index 2 is out of bounds for axis 0 with size 2"
     ]
    }
   ],
   "source": [
    "cm = confusion_matrix(correct_labels, predicted_labels)\n",
    "print('%LP: '+str(cm[0][0]/sum(cm[0]) * 100))\n",
    "print('%VLP: '+str(cm[1][1]/sum(cm[1]) * 100))\n",
    "print('%VT: '+str(cm[2][2]/sum(cm[2]) * 100))"
   ]
  },
  {
   "cell_type": "code",
   "execution_count": 25,
   "metadata": {},
   "outputs": [
    {
     "name": "stdout",
     "output_type": "stream",
     "text": [
      "              precision    recall  f1-score   support\n",
      "\n",
      "           0     0.9948    0.9794    0.9870       194\n",
      "           1     0.9385    0.9839    0.9606        62\n",
      "\n",
      "    accuracy                         0.9805       256\n",
      "   macro avg     0.9666    0.9816    0.9738       256\n",
      "weighted avg     0.9811    0.9805    0.9806       256\n",
      "\n"
     ]
    }
   ],
   "source": [
    "from sklearn.metrics import classification_report\n",
    "print(classification_report(correct_labels, predicted_labels, digits=4))"
   ]
  }
 ],
 "metadata": {
  "kernelspec": {
   "display_name": "Tesis_IA",
   "language": "python",
   "name": "python3"
  },
  "language_info": {
   "codemirror_mode": {
    "name": "ipython",
    "version": 3
   },
   "file_extension": ".py",
   "mimetype": "text/x-python",
   "name": "python",
   "nbconvert_exporter": "python",
   "pygments_lexer": "ipython3",
   "version": "3.8.16"
  },
  "orig_nbformat": 4
 },
 "nbformat": 4,
 "nbformat_minor": 2
}
