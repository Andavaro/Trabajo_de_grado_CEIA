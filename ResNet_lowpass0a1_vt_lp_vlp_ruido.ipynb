{
 "cells": [
  {
   "cell_type": "code",
   "execution_count": 1,
   "metadata": {},
   "outputs": [],
   "source": [
    "import numpy as np\n",
    "import tensorflow as tf\n",
    "from tensorflow.keras import layers, models\n",
    "from tensorflow.keras.applications import ResNet50\n",
    "from tensorflow.keras.preprocessing.image import ImageDataGenerator\n",
    "from sklearn.utils.class_weight import compute_class_weight\n",
    "from sklearn.model_selection import train_test_split\n",
    "from sklearn.metrics import classification_report, confusion_matrix\n",
    "import matplotlib.pyplot as plt"
   ]
  },
  {
   "cell_type": "code",
   "execution_count": 2,
   "metadata": {},
   "outputs": [],
   "source": [
    "img_height = 224\n",
    "img_width = 224\n",
    "batch_size = 256"
   ]
  },
  {
   "cell_type": "code",
   "execution_count": 3,
   "metadata": {},
   "outputs": [],
   "source": [
    "train_directory = \"/Volumes/SSD_ANDRÉS/Espectrogramas/off/Copia de ns=32_sol=0.9_lowpass_f=0-1\""
   ]
  },
  {
   "cell_type": "code",
   "execution_count": 4,
   "metadata": {},
   "outputs": [
    {
     "name": "stdout",
     "output_type": "stream",
     "text": [
      "Found 5530 files belonging to 3 classes.\n",
      "Using 4977 files for training.\n",
      "Using 553 files for validation.\n"
     ]
    },
    {
     "name": "stderr",
     "output_type": "stream",
     "text": [
      "2024-06-16 11:52:24.364410: I metal_plugin/src/device/metal_device.cc:1154] Metal device set to: Apple M1\n",
      "2024-06-16 11:52:24.364431: I metal_plugin/src/device/metal_device.cc:296] systemMemory: 16.00 GB\n",
      "2024-06-16 11:52:24.364434: I metal_plugin/src/device/metal_device.cc:313] maxCacheSize: 5.33 GB\n",
      "2024-06-16 11:52:24.364464: I tensorflow/core/common_runtime/pluggable_device/pluggable_device_factory.cc:303] Could not identify NUMA node of platform GPU ID 0, defaulting to 0. Your kernel may not have been built with NUMA support.\n",
      "2024-06-16 11:52:24.364482: I tensorflow/core/common_runtime/pluggable_device/pluggable_device_factory.cc:269] Created TensorFlow device (/job:localhost/replica:0/task:0/device:GPU:0 with 0 MB memory) -> physical PluggableDevice (device: 0, name: METAL, pci bus id: <undefined>)\n"
     ]
    }
   ],
   "source": [
    "# Dividir el set en entrenamiento y validación\n",
    "train_ds, validation_dataset = tf.keras.preprocessing.image_dataset_from_directory(\n",
    "    train_directory, labels='inferred', label_mode='int', batch_size=batch_size, image_size=(img_height, img_width), seed=123, \n",
    "    validation_split=0.1, subset='both')"
   ]
  },
  {
   "cell_type": "code",
   "execution_count": 5,
   "metadata": {},
   "outputs": [
    {
     "name": "stdout",
     "output_type": "stream",
     "text": [
      "Tamaño del dataset: 20\n",
      "Tamaño de train: 17\n",
      "Tamaño de test: 3\n"
     ]
    }
   ],
   "source": [
    "# Obtener el tamaño del dataset\n",
    "class_names = train_ds.class_names\n",
    "dataset_size = len(train_ds)\n",
    "print(\"Tamaño del dataset:\", dataset_size)\n",
    "\n",
    "# Calcular el tamaño de los subconjuntos\n",
    "test_size = int(0.15 * dataset_size)\n",
    "train_size = dataset_size - test_size\n",
    "\n",
    "# Dividir el dataset en entrenamiento y prueba\n",
    "test_ds = train_ds.take(test_size)\n",
    "train_ds = train_ds.skip(test_size)\n",
    "\n",
    "print(\"Tamaño de train:\", len(train_ds))\n",
    "print(\"Tamaño de test:\", len(test_ds))"
   ]
  },
  {
   "cell_type": "code",
   "execution_count": 6,
   "metadata": {},
   "outputs": [
    {
     "data": {
      "text/plain": [
       "'test_directory = \"/Users/andavaro/Desktop/Andrès/UBA/TrabajoDeGradoCEIA/dataset/Espectrogramas/multibalance_para_test/ns=32_sol=0.9_off_f=0-40\"\\ntest_ds= tf.keras.preprocessing.image_dataset_from_directory(\\n    test_directory, labels=\\'inferred\\', label_mode=\\'int\\', batch_size=batch_size, image_size=(img_height, img_width), seed=123)'"
      ]
     },
     "execution_count": 6,
     "metadata": {},
     "output_type": "execute_result"
    }
   ],
   "source": [
    "'''test_directory = \"/Users/andavaro/Desktop/Andrès/UBA/TrabajoDeGradoCEIA/dataset/Espectrogramas/multibalance_para_test/ns=32_sol=0.9_off_f=0-40\"\n",
    "test_ds= tf.keras.preprocessing.image_dataset_from_directory(\n",
    "    test_directory, labels='inferred', label_mode='int', batch_size=batch_size, image_size=(img_height, img_width), seed=123)'''"
   ]
  },
  {
   "cell_type": "code",
   "execution_count": 7,
   "metadata": {},
   "outputs": [
    {
     "name": "stdout",
     "output_type": "stream",
     "text": [
      "['LP', 'VLP', 'VT']\n",
      "test size:3\n",
      "train size:17\n",
      "step by epoch:17\n"
     ]
    }
   ],
   "source": [
    "# Esta parte se usa para generar datos para pruebas. Si se tienen datos específicos para las pruebas, se deben llamar con el nombre de test_ds\n",
    "\n",
    "print(class_names)\n",
    "\n",
    "num_elements = len(train_ds)\n",
    "\n",
    "porcentaje_test = 0.1\n",
    "train_size = int((1-porcentaje_test) * num_elements)\n",
    "\n",
    "\n",
    "'''test_size = num_elements - train_size\n",
    "test_ds = train_ds.take(test_size)\n",
    "train_ds = train_ds.skip(test_size)'''\n",
    "\n",
    "step_by_epoch = len(train_ds)\n",
    "\n",
    "print(f'test size:{len(test_ds)}')\n",
    "print(f'train size:{len(train_ds)}')\n",
    "print(f'step by epoch:{step_by_epoch}')"
   ]
  },
  {
   "cell_type": "code",
   "execution_count": 8,
   "metadata": {},
   "outputs": [
    {
     "data": {
      "text/plain": [
       "\"y_train = train_ds.map(lambda _, label: label).unbatch()\\ny_train = list(y_train.as_numpy_iterator())\\nclass_weights = compute_class_weight('balanced', classes=np.unique(y_train), y=y_train)\\nclass_weight_dict = dict(enumerate(class_weights))\\nprint(class_weight_dict)\""
      ]
     },
     "execution_count": 8,
     "metadata": {},
     "output_type": "execute_result"
    }
   ],
   "source": [
    "'''y_train = train_ds.map(lambda _, label: label).unbatch()\n",
    "y_train = list(y_train.as_numpy_iterator())\n",
    "class_weights = compute_class_weight('balanced', classes=np.unique(y_train), y=y_train)\n",
    "class_weight_dict = dict(enumerate(class_weights))\n",
    "print(class_weight_dict)'''"
   ]
  },
  {
   "attachments": {},
   "cell_type": "markdown",
   "metadata": {},
   "source": [
    "# Modelo ResNet 50"
   ]
  },
  {
   "cell_type": "code",
   "execution_count": 9,
   "metadata": {},
   "outputs": [],
   "source": [
    "num_classes = len(class_names)"
   ]
  },
  {
   "cell_type": "code",
   "execution_count": 10,
   "metadata": {},
   "outputs": [],
   "source": [
    "# Cargar la arquitectura preentrenada VGG16 sin las capas superiores (sin incluir la capa de salida)\n",
    "base_model = ResNet50(weights='imagenet', include_top=False, input_shape=(img_height, img_width, 3)) #input_shape=(altura, anchura, canales))\n",
    "base_model = tf.keras.Model(inputs=base_model.input, outputs=base_model.layers[-2].output)"
   ]
  },
  {
   "cell_type": "code",
   "execution_count": 11,
   "metadata": {},
   "outputs": [],
   "source": [
    "# Congelar las capas de la base (no se entrenarán durante el ajuste fino)\n",
    "for layer in base_model.layers:\n",
    "    layer.trainable = False"
   ]
  },
  {
   "cell_type": "code",
   "execution_count": 12,
   "metadata": {},
   "outputs": [],
   "source": [
    "# Agregar capas personalizadas a la arquitectura base\n",
    "model = models.Sequential([\n",
    "    base_model,\n",
    "    layers.Flatten(),\n",
    "    layers.Dense(256, activation='relu'),\n",
    "    #layers.Dropout(0.5),\n",
    "    layers.Dense(len(class_names), activation='softmax')#, kernel_regularizer=regularizers.L2(0.000001), activity_regularizer=regularizers.L2(0.000001))\n",
    "])"
   ]
  },
  {
   "cell_type": "code",
   "execution_count": 13,
   "metadata": {},
   "outputs": [],
   "source": [
    "# Definir la programación de la tasa de aprendizaje exponencial\n",
    "lr_schedule = tf.keras.optimizers.schedules.ExponentialDecay(\n",
    "    initial_learning_rate=0.00001,\n",
    "    decay_steps=step_by_epoch*20,\n",
    "    decay_rate=0.96\n",
    ")"
   ]
  },
  {
   "cell_type": "code",
   "execution_count": 14,
   "metadata": {},
   "outputs": [
    {
     "name": "stderr",
     "output_type": "stream",
     "text": [
      "WARNING:absl:At this time, the v2.11+ optimizer `tf.keras.optimizers.SGD` runs slowly on M1/M2 Macs, please use the legacy Keras optimizer instead, located at `tf.keras.optimizers.legacy.SGD`.\n"
     ]
    }
   ],
   "source": [
    "# Crear un optimizador con la programación de la tasa de aprendizaje exponencial y momentum\n",
    "custom_optimizer = tf.keras.optimizers.SGD(learning_rate=lr_schedule, momentum=0.9)"
   ]
  },
  {
   "cell_type": "code",
   "execution_count": 15,
   "metadata": {},
   "outputs": [
    {
     "name": "stderr",
     "output_type": "stream",
     "text": [
      "WARNING:absl:There is a known slowdown when using v2.11+ Keras optimizers on M1/M2 Macs. Falling back to the legacy Keras optimizer, i.e., `tf.keras.optimizers.legacy.SGD`.\n"
     ]
    }
   ],
   "source": [
    "# Compilar el modelo\n",
    "model.compile(optimizer=custom_optimizer,\n",
    "              loss='sparse_categorical_crossentropy',\n",
    "              metrics=['accuracy'])"
   ]
  },
  {
   "cell_type": "code",
   "execution_count": 16,
   "metadata": {},
   "outputs": [
    {
     "name": "stdout",
     "output_type": "stream",
     "text": [
      "Epoch 1/100\n"
     ]
    },
    {
     "name": "stderr",
     "output_type": "stream",
     "text": [
      "2024-06-16 11:52:26.674866: I tensorflow/core/grappler/optimizers/custom_graph_optimizer_registry.cc:114] Plugin optimizer for device_type GPU is enabled.\n"
     ]
    },
    {
     "name": "stdout",
     "output_type": "stream",
     "text": [
      "17/17 [==============================] - ETA: 0s - loss: 2.2897 - accuracy: 0.6664"
     ]
    },
    {
     "name": "stderr",
     "output_type": "stream",
     "text": [
      "2024-06-16 11:53:08.385561: I tensorflow/core/grappler/optimizers/custom_graph_optimizer_registry.cc:114] Plugin optimizer for device_type GPU is enabled.\n"
     ]
    },
    {
     "name": "stdout",
     "output_type": "stream",
     "text": [
      "17/17 [==============================] - 48s 3s/step - loss: 2.2897 - accuracy: 0.6664 - val_loss: 0.8764 - val_accuracy: 0.8590\n",
      "Epoch 2/100\n",
      "17/17 [==============================] - 47s 3s/step - loss: 0.3896 - accuracy: 0.9062 - val_loss: 0.1646 - val_accuracy: 0.9494\n",
      "Epoch 3/100\n",
      "17/17 [==============================] - 47s 3s/step - loss: 0.1466 - accuracy: 0.9601 - val_loss: 0.1197 - val_accuracy: 0.9421\n",
      "Epoch 4/100\n",
      "17/17 [==============================] - 47s 3s/step - loss: 0.1122 - accuracy: 0.9708 - val_loss: 0.0950 - val_accuracy: 0.9656\n",
      "Epoch 5/100\n",
      "17/17 [==============================] - 47s 3s/step - loss: 0.0945 - accuracy: 0.9753 - val_loss: 0.0869 - val_accuracy: 0.9656\n",
      "Epoch 6/100\n",
      "17/17 [==============================] - 48s 3s/step - loss: 0.0826 - accuracy: 0.9767 - val_loss: 0.0851 - val_accuracy: 0.9675\n",
      "Epoch 7/100\n",
      "17/17 [==============================] - 47s 3s/step - loss: 0.0830 - accuracy: 0.9758 - val_loss: 0.0840 - val_accuracy: 0.9693\n",
      "Epoch 8/100\n",
      "17/17 [==============================] - 47s 3s/step - loss: 0.0803 - accuracy: 0.9774 - val_loss: 0.0727 - val_accuracy: 0.9729\n",
      "Epoch 9/100\n",
      "17/17 [==============================] - 48s 3s/step - loss: 0.0713 - accuracy: 0.9793 - val_loss: 0.0715 - val_accuracy: 0.9765\n",
      "Epoch 10/100\n",
      "17/17 [==============================] - 47s 3s/step - loss: 0.0670 - accuracy: 0.9798 - val_loss: 0.0697 - val_accuracy: 0.9783\n",
      "Epoch 11/100\n",
      "17/17 [==============================] - 47s 3s/step - loss: 0.0650 - accuracy: 0.9810 - val_loss: 0.0709 - val_accuracy: 0.9765\n",
      "Epoch 12/100\n",
      "17/17 [==============================] - 47s 3s/step - loss: 0.0615 - accuracy: 0.9808 - val_loss: 0.0682 - val_accuracy: 0.9783\n",
      "Epoch 13/100\n",
      "17/17 [==============================] - 47s 3s/step - loss: 0.0682 - accuracy: 0.9803 - val_loss: 0.0694 - val_accuracy: 0.9765\n",
      "Epoch 14/100\n",
      "17/17 [==============================] - 47s 3s/step - loss: 0.0623 - accuracy: 0.9824 - val_loss: 0.0651 - val_accuracy: 0.9801\n",
      "Epoch 15/100\n",
      "17/17 [==============================] - 47s 3s/step - loss: 0.0573 - accuracy: 0.9815 - val_loss: 0.0686 - val_accuracy: 0.9801\n",
      "Epoch 16/100\n",
      "17/17 [==============================] - 47s 3s/step - loss: 0.0574 - accuracy: 0.9819 - val_loss: 0.0632 - val_accuracy: 0.9819\n",
      "Epoch 17/100\n",
      "17/17 [==============================] - 47s 3s/step - loss: 0.0556 - accuracy: 0.9831 - val_loss: 0.0639 - val_accuracy: 0.9801\n",
      "Epoch 18/100\n",
      "17/17 [==============================] - 47s 3s/step - loss: 0.0567 - accuracy: 0.9819 - val_loss: 0.0645 - val_accuracy: 0.9801\n",
      "Epoch 19/100\n",
      "17/17 [==============================] - 47s 3s/step - loss: 0.0542 - accuracy: 0.9829 - val_loss: 0.0604 - val_accuracy: 0.9819\n",
      "Epoch 20/100\n",
      "17/17 [==============================] - 46s 3s/step - loss: 0.0542 - accuracy: 0.9836 - val_loss: 0.0606 - val_accuracy: 0.9819\n",
      "Epoch 21/100\n",
      "17/17 [==============================] - 46s 3s/step - loss: 0.0479 - accuracy: 0.9853 - val_loss: 0.0597 - val_accuracy: 0.9837\n",
      "Epoch 22/100\n",
      "17/17 [==============================] - 47s 3s/step - loss: 0.0544 - accuracy: 0.9846 - val_loss: 0.0652 - val_accuracy: 0.9801\n",
      "Epoch 23/100\n",
      "17/17 [==============================] - 46s 3s/step - loss: 0.0528 - accuracy: 0.9843 - val_loss: 0.0618 - val_accuracy: 0.9801\n",
      "Epoch 24/100\n",
      "17/17 [==============================] - 47s 3s/step - loss: 0.0524 - accuracy: 0.9846 - val_loss: 0.0623 - val_accuracy: 0.9801\n",
      "Epoch 25/100\n",
      "17/17 [==============================] - 46s 3s/step - loss: 0.0494 - accuracy: 0.9853 - val_loss: 0.0592 - val_accuracy: 0.9819\n",
      "Epoch 26/100\n",
      "17/17 [==============================] - 47s 3s/step - loss: 0.0475 - accuracy: 0.9857 - val_loss: 0.0638 - val_accuracy: 0.9801\n",
      "Epoch 27/100\n",
      "17/17 [==============================] - 47s 3s/step - loss: 0.0428 - accuracy: 0.9879 - val_loss: 0.0589 - val_accuracy: 0.9819\n",
      "Epoch 28/100\n",
      "17/17 [==============================] - 46s 3s/step - loss: 0.0506 - accuracy: 0.9857 - val_loss: 0.0570 - val_accuracy: 0.9837\n",
      "Epoch 29/100\n",
      "17/17 [==============================] - 47s 3s/step - loss: 0.0450 - accuracy: 0.9865 - val_loss: 0.0607 - val_accuracy: 0.9801\n",
      "Epoch 30/100\n",
      "17/17 [==============================] - 47s 3s/step - loss: 0.0444 - accuracy: 0.9860 - val_loss: 0.0568 - val_accuracy: 0.9837\n",
      "Epoch 31/100\n",
      "17/17 [==============================] - 47s 3s/step - loss: 0.0473 - accuracy: 0.9857 - val_loss: 0.0563 - val_accuracy: 0.9855\n",
      "Epoch 32/100\n",
      "17/17 [==============================] - 47s 3s/step - loss: 0.0452 - accuracy: 0.9865 - val_loss: 0.0578 - val_accuracy: 0.9819\n",
      "Epoch 33/100\n",
      "17/17 [==============================] - 47s 3s/step - loss: 0.0415 - accuracy: 0.9884 - val_loss: 0.0551 - val_accuracy: 0.9855\n",
      "Epoch 34/100\n",
      "17/17 [==============================] - 47s 3s/step - loss: 0.0454 - accuracy: 0.9874 - val_loss: 0.0566 - val_accuracy: 0.9837\n",
      "Epoch 35/100\n",
      "17/17 [==============================] - 47s 3s/step - loss: 0.0435 - accuracy: 0.9881 - val_loss: 0.0556 - val_accuracy: 0.9855\n",
      "Epoch 36/100\n",
      "17/17 [==============================] - 47s 3s/step - loss: 0.0405 - accuracy: 0.9874 - val_loss: 0.0591 - val_accuracy: 0.9801\n",
      "Epoch 37/100\n",
      "17/17 [==============================] - 47s 3s/step - loss: 0.0407 - accuracy: 0.9872 - val_loss: 0.0553 - val_accuracy: 0.9855\n",
      "Epoch 38/100\n",
      "17/17 [==============================] - 47s 3s/step - loss: 0.0432 - accuracy: 0.9872 - val_loss: 0.0545 - val_accuracy: 0.9837\n",
      "Epoch 39/100\n",
      "17/17 [==============================] - 47s 3s/step - loss: 0.0420 - accuracy: 0.9886 - val_loss: 0.0593 - val_accuracy: 0.9801\n",
      "Epoch 40/100\n",
      "17/17 [==============================] - 47s 3s/step - loss: 0.0430 - accuracy: 0.9876 - val_loss: 0.0567 - val_accuracy: 0.9837\n",
      "Epoch 41/100\n",
      "17/17 [==============================] - 46s 3s/step - loss: 0.0391 - accuracy: 0.9888 - val_loss: 0.0541 - val_accuracy: 0.9855\n",
      "Epoch 42/100\n",
      "17/17 [==============================] - 47s 3s/step - loss: 0.0372 - accuracy: 0.9884 - val_loss: 0.0537 - val_accuracy: 0.9855\n",
      "Epoch 43/100\n",
      "17/17 [==============================] - 47s 3s/step - loss: 0.0393 - accuracy: 0.9881 - val_loss: 0.0530 - val_accuracy: 0.9855\n",
      "Epoch 44/100\n",
      "17/17 [==============================] - 46s 3s/step - loss: 0.0397 - accuracy: 0.9891 - val_loss: 0.0542 - val_accuracy: 0.9855\n",
      "Epoch 45/100\n",
      "17/17 [==============================] - 46s 3s/step - loss: 0.0349 - accuracy: 0.9895 - val_loss: 0.0558 - val_accuracy: 0.9837\n",
      "Epoch 46/100\n",
      "17/17 [==============================] - 46s 3s/step - loss: 0.0401 - accuracy: 0.9888 - val_loss: 0.0538 - val_accuracy: 0.9837\n",
      "Epoch 47/100\n",
      "17/17 [==============================] - 46s 3s/step - loss: 0.0398 - accuracy: 0.9881 - val_loss: 0.0544 - val_accuracy: 0.9855\n",
      "Epoch 48/100\n",
      "17/17 [==============================] - 46s 3s/step - loss: 0.0385 - accuracy: 0.9898 - val_loss: 0.0548 - val_accuracy: 0.9855\n",
      "Epoch 49/100\n",
      "17/17 [==============================] - 46s 3s/step - loss: 0.0380 - accuracy: 0.9886 - val_loss: 0.0530 - val_accuracy: 0.9855\n",
      "Epoch 50/100\n",
      "17/17 [==============================] - 47s 3s/step - loss: 0.0395 - accuracy: 0.9886 - val_loss: 0.0543 - val_accuracy: 0.9873\n",
      "Epoch 51/100\n",
      "17/17 [==============================] - 46s 3s/step - loss: 0.0381 - accuracy: 0.9888 - val_loss: 0.0535 - val_accuracy: 0.9855\n",
      "Epoch 52/100\n",
      "17/17 [==============================] - 47s 3s/step - loss: 0.0373 - accuracy: 0.9888 - val_loss: 0.0535 - val_accuracy: 0.9873\n",
      "Epoch 53/100\n",
      "17/17 [==============================] - 48s 3s/step - loss: 0.0383 - accuracy: 0.9888 - val_loss: 0.0553 - val_accuracy: 0.9873\n",
      "Epoch 54/100\n",
      "17/17 [==============================] - 47s 3s/step - loss: 0.0359 - accuracy: 0.9898 - val_loss: 0.0532 - val_accuracy: 0.9873\n",
      "Epoch 55/100\n",
      "17/17 [==============================] - 47s 3s/step - loss: 0.0380 - accuracy: 0.9891 - val_loss: 0.0558 - val_accuracy: 0.9837\n",
      "Epoch 56/100\n",
      "17/17 [==============================] - 47s 3s/step - loss: 0.0376 - accuracy: 0.9898 - val_loss: 0.0535 - val_accuracy: 0.9837\n",
      "Epoch 57/100\n",
      "17/17 [==============================] - 47s 3s/step - loss: 0.0376 - accuracy: 0.9895 - val_loss: 0.0524 - val_accuracy: 0.9855\n",
      "Epoch 58/100\n",
      "17/17 [==============================] - 47s 3s/step - loss: 0.0337 - accuracy: 0.9900 - val_loss: 0.0525 - val_accuracy: 0.9873\n",
      "Epoch 59/100\n",
      "17/17 [==============================] - 47s 3s/step - loss: 0.0350 - accuracy: 0.9893 - val_loss: 0.0535 - val_accuracy: 0.9873\n",
      "Epoch 60/100\n",
      "17/17 [==============================] - 47s 3s/step - loss: 0.0341 - accuracy: 0.9898 - val_loss: 0.0537 - val_accuracy: 0.9873\n",
      "Epoch 61/100\n",
      "17/17 [==============================] - 47s 3s/step - loss: 0.0340 - accuracy: 0.9900 - val_loss: 0.0529 - val_accuracy: 0.9873\n",
      "Epoch 62/100\n",
      "17/17 [==============================] - 47s 3s/step - loss: 0.0349 - accuracy: 0.9900 - val_loss: 0.0516 - val_accuracy: 0.9873\n",
      "Epoch 63/100\n",
      "17/17 [==============================] - 47s 3s/step - loss: 0.0311 - accuracy: 0.9907 - val_loss: 0.0524 - val_accuracy: 0.9873\n",
      "Epoch 64/100\n",
      "17/17 [==============================] - 47s 3s/step - loss: 0.0309 - accuracy: 0.9919 - val_loss: 0.0517 - val_accuracy: 0.9873\n",
      "Epoch 65/100\n",
      "17/17 [==============================] - 47s 3s/step - loss: 0.0323 - accuracy: 0.9903 - val_loss: 0.0553 - val_accuracy: 0.9855\n",
      "Epoch 66/100\n",
      "17/17 [==============================] - 47s 3s/step - loss: 0.0349 - accuracy: 0.9893 - val_loss: 0.0522 - val_accuracy: 0.9837\n",
      "Epoch 67/100\n",
      "17/17 [==============================] - 47s 3s/step - loss: 0.0319 - accuracy: 0.9914 - val_loss: 0.0514 - val_accuracy: 0.9873\n",
      "Epoch 68/100\n",
      "17/17 [==============================] - 47s 3s/step - loss: 0.0305 - accuracy: 0.9905 - val_loss: 0.0535 - val_accuracy: 0.9873\n",
      "Epoch 69/100\n",
      "17/17 [==============================] - 47s 3s/step - loss: 0.0355 - accuracy: 0.9895 - val_loss: 0.0535 - val_accuracy: 0.9873\n",
      "Epoch 70/100\n",
      "17/17 [==============================] - 48s 3s/step - loss: 0.0334 - accuracy: 0.9905 - val_loss: 0.0519 - val_accuracy: 0.9873\n",
      "Epoch 71/100\n",
      "17/17 [==============================] - 47s 3s/step - loss: 0.0306 - accuracy: 0.9917 - val_loss: 0.0517 - val_accuracy: 0.9873\n",
      "Epoch 72/100\n",
      "17/17 [==============================] - 47s 3s/step - loss: 0.0310 - accuracy: 0.9910 - val_loss: 0.0518 - val_accuracy: 0.9873\n",
      "Epoch 73/100\n",
      "17/17 [==============================] - 47s 3s/step - loss: 0.0330 - accuracy: 0.9907 - val_loss: 0.0540 - val_accuracy: 0.9873\n",
      "Epoch 74/100\n",
      "17/17 [==============================] - 47s 3s/step - loss: 0.0343 - accuracy: 0.9914 - val_loss: 0.0543 - val_accuracy: 0.9873\n",
      "Epoch 75/100\n",
      "17/17 [==============================] - 48s 3s/step - loss: 0.0319 - accuracy: 0.9905 - val_loss: 0.0518 - val_accuracy: 0.9873\n",
      "Epoch 76/100\n",
      "17/17 [==============================] - 48s 3s/step - loss: 0.0309 - accuracy: 0.9917 - val_loss: 0.0523 - val_accuracy: 0.9855\n",
      "Epoch 77/100\n",
      "17/17 [==============================] - 48s 3s/step - loss: 0.0335 - accuracy: 0.9895 - val_loss: 0.0520 - val_accuracy: 0.9873\n",
      "Epoch 78/100\n",
      "17/17 [==============================] - 48s 3s/step - loss: 0.0318 - accuracy: 0.9912 - val_loss: 0.0537 - val_accuracy: 0.9873\n",
      "Epoch 79/100\n",
      "17/17 [==============================] - 48s 3s/step - loss: 0.0293 - accuracy: 0.9917 - val_loss: 0.0515 - val_accuracy: 0.9873\n",
      "Epoch 80/100\n",
      "17/17 [==============================] - 48s 3s/step - loss: 0.0288 - accuracy: 0.9926 - val_loss: 0.0519 - val_accuracy: 0.9873\n",
      "Epoch 81/100\n",
      "17/17 [==============================] - 48s 3s/step - loss: 0.0286 - accuracy: 0.9929 - val_loss: 0.0516 - val_accuracy: 0.9873\n",
      "Epoch 82/100\n",
      "17/17 [==============================] - 48s 3s/step - loss: 0.0281 - accuracy: 0.9924 - val_loss: 0.0524 - val_accuracy: 0.9873\n",
      "Epoch 83/100\n",
      "17/17 [==============================] - 48s 3s/step - loss: 0.0310 - accuracy: 0.9922 - val_loss: 0.0519 - val_accuracy: 0.9873\n",
      "Epoch 84/100\n",
      "17/17 [==============================] - 49s 3s/step - loss: 0.0307 - accuracy: 0.9924 - val_loss: 0.0523 - val_accuracy: 0.9873\n",
      "Epoch 85/100\n",
      "17/17 [==============================] - 50s 3s/step - loss: 0.0310 - accuracy: 0.9907 - val_loss: 0.0554 - val_accuracy: 0.9855\n",
      "Epoch 86/100\n",
      "17/17 [==============================] - 49s 3s/step - loss: 0.0283 - accuracy: 0.9912 - val_loss: 0.0528 - val_accuracy: 0.9873\n",
      "Epoch 87/100\n",
      "17/17 [==============================] - 48s 3s/step - loss: 0.0304 - accuracy: 0.9914 - val_loss: 0.0534 - val_accuracy: 0.9873\n",
      "Epoch 88/100\n",
      "17/17 [==============================] - 47s 3s/step - loss: 0.0305 - accuracy: 0.9914 - val_loss: 0.0518 - val_accuracy: 0.9873\n",
      "Epoch 89/100\n",
      "17/17 [==============================] - 48s 3s/step - loss: 0.0280 - accuracy: 0.9926 - val_loss: 0.0520 - val_accuracy: 0.9873\n",
      "Epoch 90/100\n",
      "17/17 [==============================] - 48s 3s/step - loss: 0.0280 - accuracy: 0.9919 - val_loss: 0.0521 - val_accuracy: 0.9873\n",
      "Epoch 91/100\n",
      "17/17 [==============================] - 47s 3s/step - loss: 0.0268 - accuracy: 0.9926 - val_loss: 0.0525 - val_accuracy: 0.9873\n",
      "Epoch 92/100\n",
      "17/17 [==============================] - 47s 3s/step - loss: 0.0291 - accuracy: 0.9929 - val_loss: 0.0514 - val_accuracy: 0.9873\n",
      "Epoch 93/100\n",
      "17/17 [==============================] - 47s 3s/step - loss: 0.0289 - accuracy: 0.9922 - val_loss: 0.0527 - val_accuracy: 0.9873\n",
      "Epoch 94/100\n",
      "17/17 [==============================] - 47s 3s/step - loss: 0.0299 - accuracy: 0.9922 - val_loss: 0.0523 - val_accuracy: 0.9873\n",
      "Epoch 95/100\n",
      "17/17 [==============================] - 47s 3s/step - loss: 0.0289 - accuracy: 0.9926 - val_loss: 0.0515 - val_accuracy: 0.9873\n",
      "Epoch 96/100\n",
      "17/17 [==============================] - 47s 3s/step - loss: 0.0288 - accuracy: 0.9929 - val_loss: 0.0519 - val_accuracy: 0.9855\n",
      "Epoch 97/100\n",
      "17/17 [==============================] - 47s 3s/step - loss: 0.0291 - accuracy: 0.9914 - val_loss: 0.0524 - val_accuracy: 0.9873\n",
      "Epoch 98/100\n",
      "17/17 [==============================] - 47s 3s/step - loss: 0.0291 - accuracy: 0.9922 - val_loss: 0.0527 - val_accuracy: 0.9873\n",
      "Epoch 99/100\n",
      "17/17 [==============================] - 47s 3s/step - loss: 0.0290 - accuracy: 0.9929 - val_loss: 0.0517 - val_accuracy: 0.9873\n",
      "Epoch 100/100\n",
      "17/17 [==============================] - 47s 3s/step - loss: 0.0277 - accuracy: 0.9929 - val_loss: 0.0518 - val_accuracy: 0.9873\n"
     ]
    }
   ],
   "source": [
    "# Entrenar el modelo\n",
    "epochs = 100\n",
    "\n",
    "'''checkpoint_filepath = '/Volumes/SSD_ANDRÉS/PRUEBAS_nuevos_vlp/Checkpoint/resnet_sinfiltro_checkpoint.model.keras'\n",
    "model_checkpoint_callback = tf.keras.callbacks.ModelCheckpoint(\n",
    "    filepath=checkpoint_filepath,\n",
    "    monitor='val_accuracy',\n",
    "    mode='max',\n",
    "    save_best_only=True,\n",
    "    verbose=1)'''\n",
    "\n",
    "history = model.fit(train_ds, epochs=epochs, validation_data=validation_dataset)#, callbacks=[model_checkpoint_callback])#, class_weight=class_weight_dict)"
   ]
  },
  {
   "cell_type": "code",
   "execution_count": 17,
   "metadata": {},
   "outputs": [
    {
     "name": "stdout",
     "output_type": "stream",
     "text": [
      "3/3 [==============================] - 9s 2s/step - loss: 0.0298 - accuracy: 0.9922\n",
      "Precisión en el conjunto de prueba: 0.9921875\n"
     ]
    }
   ],
   "source": [
    "# Evaluar el modelo en el conjunto de prueba\n",
    "test_loss, test_acc = model.evaluate(test_ds)\n",
    "print(f'Precisión en el conjunto de prueba: {test_acc}')"
   ]
  },
  {
   "cell_type": "code",
   "execution_count": 18,
   "metadata": {},
   "outputs": [
    {
     "data": {
      "image/png": "[encoded data removed]",
      "text/plain": [
       "<Figure size 1200x400 with 2 Axes>"
      ]
     },
     "metadata": {},
     "output_type": "display_data"
    }
   ],
   "source": [
    "# Trazar la curva de aprendizaje\n",
    "plt.figure(figsize=(12, 4))\n",
    "plt.subplot(1, 2, 1)\n",
    "plt.plot(history.history['accuracy'], label='Precisión de Entrenamiento')\n",
    "plt.plot(history.history['val_accuracy'], label='Precisión de Validación')\n",
    "plt.legend(loc='lower right')\n",
    "plt.title('Curva de Aprendizaje de la Precisión')\n",
    "\n",
    "plt.subplot(1, 2, 2)\n",
    "plt.plot(history.history['loss'], label='Pérdida de Entrenamiento')\n",
    "plt.plot(history.history['val_loss'], label='Pérdida de Validación')\n",
    "plt.legend(loc='upper right')\n",
    "plt.title('Curva de Aprendizaje de la Pérdida')\n",
    "plt.show()"
   ]
  },
  {
   "cell_type": "code",
   "execution_count": 19,
   "metadata": {},
   "outputs": [],
   "source": [
    "ruta_modelos_entrenados = '/Volumes/SSD_ANDRÉS/PRUEBAS_nuevos_vlp/Modelos entrenadoss'"
   ]
  },
  {
   "cell_type": "code",
   "execution_count": 20,
   "metadata": {},
   "outputs": [
    {
     "name": "stdout",
     "output_type": "stream",
     "text": [
      "INFO:tensorflow:Assets written to: /Volumes/SSD_ANDRÉS/PRUEBAS_nuevos_vlp/Modelos entrenadoss/resnet_0-1/assets\n"
     ]
    },
    {
     "name": "stderr",
     "output_type": "stream",
     "text": [
      "INFO:tensorflow:Assets written to: /Volumes/SSD_ANDRÉS/PRUEBAS_nuevos_vlp/Modelos entrenadoss/resnet_0-1/assets\n"
     ]
    }
   ],
   "source": [
    "model.save(ruta_modelos_entrenados+'/resnet_0-1')"
   ]
  },
  {
   "cell_type": "code",
   "execution_count": 21,
   "metadata": {},
   "outputs": [
    {
     "name": "stderr",
     "output_type": "stream",
     "text": [
      "2024-06-16 13:11:22.181679: I tensorflow/core/grappler/optimizers/custom_graph_optimizer_registry.cc:114] Plugin optimizer for device_type GPU is enabled.\n"
     ]
    },
    {
     "name": "stdout",
     "output_type": "stream",
     "text": [
      "8/8 [==============================] - 3s 300ms/step\n",
      "8/8 [==============================] - 2s 311ms/step\n",
      "8/8 [==============================] - 2s 311ms/step\n"
     ]
    }
   ],
   "source": [
    "ruta_modelos_entrenados = '/Volumes/SSD_ANDRÉS/PRUEBAS_nuevos_vlp/Modelos entrenadoss'\n",
    "new_model = tf.keras.models.load_model(ruta_modelos_entrenados+'/resnet_0-1')\n",
    "y_pred = []  # store predicted labels\n",
    "y_true = []  # store true labels\n",
    "\n",
    "# iterate over the dataset\n",
    "for image_batch, label_batch in test_ds:   # use dataset.unbatch() with repeat\n",
    "   # append true labels\n",
    "   #print(\"Label: \",label_batch)\n",
    "   y_true.append(label_batch)\n",
    "   # compute predictions\n",
    "   #print(\"Imagen: \",image_batch)\n",
    "   preds = new_model.predict(image_batch)\n",
    "   # append predicted labels\n",
    "   y_pred.append(np.argmax(preds, axis = - 1))\n",
    "   #print(\"-----------------\")\n",
    "\n",
    "# convert the true and predicted labels into tensors\n",
    "correct_labels = tf.concat([item for item in y_true], axis = 0)\n",
    "predicted_labels = tf.concat([item for item in y_pred], axis = 0)"
   ]
  },
  {
   "cell_type": "code",
   "execution_count": 22,
   "metadata": {},
   "outputs": [
    {
     "data": {
      "image/png": "[encoded data removed]",
      "text/plain": [
       "<Figure size 1000x800 with 2 Axes>"
      ]
     },
     "metadata": {},
     "output_type": "display_data"
    }
   ],
   "source": [
    "import seaborn as sns\n",
    "\n",
    "confusion_mtx = tf.math.confusion_matrix(correct_labels, predicted_labels)\n",
    "plt.figure(figsize=(10, 8))\n",
    "sns.heatmap(confusion_mtx,\n",
    "            xticklabels=class_names,\n",
    "            yticklabels=class_names,\n",
    "            annot=True, fmt='g')\n",
    "plt.xlabel('Prediction')\n",
    "plt.ylabel('Label')\n",
    "plt.show()"
   ]
  },
  {
   "cell_type": "code",
   "execution_count": 23,
   "metadata": {},
   "outputs": [
    {
     "name": "stdout",
     "output_type": "stream",
     "text": [
      "%LP: 99.48717948717949\n",
      "%VLP: 100.0\n",
      "%VT: 99.75490196078431\n"
     ]
    }
   ],
   "source": [
    "cm = confusion_matrix(correct_labels, predicted_labels)\n",
    "print('%LP: '+str(cm[0][0]/sum(cm[0]) * 100))\n",
    "print('%VLP: '+str(cm[1][1]/sum(cm[1]) * 100))\n",
    "print('%VT: '+str(cm[2][2]/sum(cm[2]) * 100))"
   ]
  },
  {
   "cell_type": "code",
   "execution_count": 24,
   "metadata": {},
   "outputs": [
    {
     "name": "stdout",
     "output_type": "stream",
     "text": [
      "              precision    recall  f1-score   support\n",
      "\n",
      "           0     0.9949    0.9949    0.9949       195\n",
      "           1     1.0000    1.0000    1.0000       165\n",
      "           2     0.9975    0.9975    0.9975       408\n",
      "\n",
      "    accuracy                         0.9974       768\n",
      "   macro avg     0.9975    0.9975    0.9975       768\n",
      "weighted avg     0.9974    0.9974    0.9974       768\n",
      "\n"
     ]
    }
   ],
   "source": [
    "from sklearn.metrics import classification_report\n",
    "print(classification_report(correct_labels, predicted_labels, digits=4))"
   ]
  }
 ],
 "metadata": {
  "kernelspec": {
   "display_name": "Tesis_IA",
   "language": "python",
   "name": "python3"
  },
  "language_info": {
   "codemirror_mode": {
    "name": "ipython",
    "version": 3
   },
   "file_extension": ".py",
   "mimetype": "text/x-python",
   "name": "python",
   "nbconvert_exporter": "python",
   "pygments_lexer": "ipython3",
   "version": "3.8.16"
  },
  "orig_nbformat": 4
 },
 "nbformat": 4,
 "nbformat_minor": 2
}
