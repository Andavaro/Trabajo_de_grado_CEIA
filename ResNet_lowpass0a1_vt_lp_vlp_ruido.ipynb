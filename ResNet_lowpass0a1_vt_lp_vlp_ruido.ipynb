{
 "cells": [
  {
   "cell_type": "code",
   "execution_count": 1,
   "metadata": {},
   "outputs": [],
   "source": [
    "import numpy as np\n",
    "import tensorflow as tf\n",
    "from tensorflow.keras import layers, models\n",
    "from tensorflow.keras.applications import ResNet50\n",
    "from tensorflow.keras.preprocessing.image import ImageDataGenerator\n",
    "from sklearn.utils.class_weight import compute_class_weight\n",
    "from sklearn.model_selection import train_test_split\n",
    "from sklearn.metrics import classification_report, confusion_matrix\n",
    "import matplotlib.pyplot as plt"
   ]
  },
  {
   "cell_type": "code",
   "execution_count": 2,
   "metadata": {},
   "outputs": [],
   "source": [
    "img_height = 224\n",
    "img_width = 224\n",
    "batch_size = 256"
   ]
  },
  {
   "cell_type": "code",
   "execution_count": 3,
   "metadata": {},
   "outputs": [
    {
     "data": {
      "text/plain": [
       "'import os\\nfrom pathlib import Path\\nimport imghdr\\nimport shutil\\nfrom os import remove\\n\\ndestination_folder_path = \\'/Volumes/SSD_ANDRÉS/Espectrogramas/descartados\\'\\ndata_dir = \"/Volumes/SSD_ANDRÉS/Espectrogramas/off/Copia de ns=32_sol=0.9_lowpass_f=0-1\"\\nimage_extensions = [\".png\", \".jpg\", \\'bmp\\', \\'jpeg\\']  # add there all your images file extensions\\nimg_type_accepted_by_tf = [\"bmp\", \"gif\", \"jpeg\", \"png\"]\\ncontador = 0\\nfor filepath in Path(data_dir).rglob(\"*\"):\\n    if filepath.suffix.lower() in image_extensions:\\n        img_type = imghdr.what(filepath)\\n        destination_file_path = os.path.join(destination_folder_path, f\\'/im{contador}\\')\\n        if img_type is None:\\n            print(f\"{filepath} is not an image\")\\n            remove(filepath)\\n            #shutil.move(filepath, destination_file_path)\\n            contador += 1\\n        elif img_type not in img_type_accepted_by_tf:\\n            print(f\"{filepath} is a {img_type}, not accepted by TensorFlow\")\\n            remove(filepath)\\n            #shutil.move(filepath, destination_file_path)\\n            contador += 1'"
      ]
     },
     "execution_count": 3,
     "metadata": {},
     "output_type": "execute_result"
    }
   ],
   "source": [
    "'''import os\n",
    "from pathlib import Path\n",
    "import imghdr\n",
    "import shutil\n",
    "from os import remove\n",
    "\n",
    "destination_folder_path = '/Volumes/SSD_ANDRÉS/Espectrogramas/descartados'\n",
    "data_dir = \"/Volumes/SSD_ANDRÉS/Espectrogramas/off/Copia de ns=32_sol=0.9_lowpass_f=0-1\"\n",
    "image_extensions = [\".png\", \".jpg\", 'bmp', 'jpeg']  # add there all your images file extensions\n",
    "img_type_accepted_by_tf = [\"bmp\", \"gif\", \"jpeg\", \"png\"]\n",
    "contador = 0\n",
    "for filepath in Path(data_dir).rglob(\"*\"):\n",
    "    if filepath.suffix.lower() in image_extensions:\n",
    "        img_type = imghdr.what(filepath)\n",
    "        destination_file_path = os.path.join(destination_folder_path, f'/im{contador}')\n",
    "        if img_type is None:\n",
    "            print(f\"{filepath} is not an image\")\n",
    "            remove(filepath)\n",
    "            #shutil.move(filepath, destination_file_path)\n",
    "            contador += 1\n",
    "        elif img_type not in img_type_accepted_by_tf:\n",
    "            print(f\"{filepath} is a {img_type}, not accepted by TensorFlow\")\n",
    "            remove(filepath)\n",
    "            #shutil.move(filepath, destination_file_path)\n",
    "            contador += 1'''"
   ]
  },
  {
   "cell_type": "code",
   "execution_count": 4,
   "metadata": {},
   "outputs": [],
   "source": [
    "train_directory = \"/Volumes/SSD_ANDRÉS/Espectrogramas/off/Copia de ns=32_sol=0.9_lowpass_f=0-1\""
   ]
  },
  {
   "cell_type": "code",
   "execution_count": 5,
   "metadata": {},
   "outputs": [
    {
     "name": "stdout",
     "output_type": "stream",
     "text": [
      "Found 8616 files belonging to 4 classes.\n",
      "Using 6893 files for training.\n",
      "Using 1723 files for validation.\n"
     ]
    },
    {
     "name": "stderr",
     "output_type": "stream",
     "text": [
      "2024-09-08 16:35:24.843495: I metal_plugin/src/device/metal_device.cc:1154] Metal device set to: Apple M1\n",
      "2024-09-08 16:35:24.843516: I metal_plugin/src/device/metal_device.cc:296] systemMemory: 16.00 GB\n",
      "2024-09-08 16:35:24.843519: I metal_plugin/src/device/metal_device.cc:313] maxCacheSize: 5.33 GB\n",
      "2024-09-08 16:35:24.843755: I tensorflow/core/common_runtime/pluggable_device/pluggable_device_factory.cc:303] Could not identify NUMA node of platform GPU ID 0, defaulting to 0. Your kernel may not have been built with NUMA support.\n",
      "2024-09-08 16:35:24.843977: I tensorflow/core/common_runtime/pluggable_device/pluggable_device_factory.cc:269] Created TensorFlow device (/job:localhost/replica:0/task:0/device:GPU:0 with 0 MB memory) -> physical PluggableDevice (device: 0, name: METAL, pci bus id: <undefined>)\n"
     ]
    }
   ],
   "source": [
    "# Dividir el set en entrenamiento y validación\n",
    "train_ds, validation_dataset = tf.keras.preprocessing.image_dataset_from_directory(\n",
    "    train_directory, labels='inferred', label_mode='int', batch_size=batch_size, image_size=(img_height, img_width), seed=123, \n",
    "    validation_split=0.2, subset='both')"
   ]
  },
  {
   "cell_type": "code",
   "execution_count": 6,
   "metadata": {},
   "outputs": [
    {
     "name": "stdout",
     "output_type": "stream",
     "text": [
      "Tamaño del dataset: 27\n",
      "Tamaño de train: 25\n",
      "Tamaño de test: 2\n"
     ]
    }
   ],
   "source": [
    "# Obtener el tamaño del dataset\n",
    "class_names = train_ds.class_names\n",
    "dataset_size = len(train_ds)\n",
    "print(\"Tamaño del dataset:\", dataset_size)\n",
    "\n",
    "# Calcular el tamaño de los subconjuntos\n",
    "test_size = int(0.1 * dataset_size)\n",
    "train_size = dataset_size - test_size\n",
    "\n",
    "# Dividir el dataset en entrenamiento y prueba\n",
    "test_ds = train_ds.take(test_size)\n",
    "train_ds = train_ds.skip(test_size)\n",
    "\n",
    "print(\"Tamaño de train:\", len(train_ds))\n",
    "print(\"Tamaño de test:\", len(test_ds))"
   ]
  },
  {
   "cell_type": "code",
   "execution_count": 7,
   "metadata": {},
   "outputs": [
    {
     "data": {
      "text/plain": [
       "'test_directory = \"/Users/andavaro/Desktop/Andrès/UBA/TrabajoDeGradoCEIA/dataset/Espectrogramas/multibalance_para_test/ns=32_sol=0.9_off_f=0-40\"\\ntest_ds= tf.keras.preprocessing.image_dataset_from_directory(\\n    test_directory, labels=\\'inferred\\', label_mode=\\'int\\', batch_size=batch_size, image_size=(img_height, img_width), seed=123)'"
      ]
     },
     "execution_count": 7,
     "metadata": {},
     "output_type": "execute_result"
    }
   ],
   "source": [
    "'''test_directory = \"/Users/andavaro/Desktop/Andrès/UBA/TrabajoDeGradoCEIA/dataset/Espectrogramas/multibalance_para_test/ns=32_sol=0.9_off_f=0-40\"\n",
    "test_ds= tf.keras.preprocessing.image_dataset_from_directory(\n",
    "    test_directory, labels='inferred', label_mode='int', batch_size=batch_size, image_size=(img_height, img_width), seed=123)'''"
   ]
  },
  {
   "cell_type": "code",
   "execution_count": 8,
   "metadata": {},
   "outputs": [
    {
     "name": "stdout",
     "output_type": "stream",
     "text": [
      "['LP', 'RUIDO', 'VLP', 'VT']\n",
      "test size:2\n",
      "train size:25\n",
      "step by epoch:25\n"
     ]
    }
   ],
   "source": [
    "# Esta parte se usa para generar datos para pruebas. Si se tienen datos específicos para las pruebas, se deben llamar con el nombre de test_ds\n",
    "\n",
    "print(class_names)\n",
    "\n",
    "num_elements = len(train_ds)\n",
    "\n",
    "porcentaje_test = 0.1\n",
    "train_size = int((1-porcentaje_test) * num_elements)\n",
    "\n",
    "\n",
    "'''test_size = num_elements - train_size\n",
    "test_ds = train_ds.take(test_size)\n",
    "train_ds = train_ds.skip(test_size)'''\n",
    "\n",
    "step_by_epoch = len(train_ds)\n",
    "\n",
    "print(f'test size:{len(test_ds)}')\n",
    "print(f'train size:{len(train_ds)}')\n",
    "print(f'step by epoch:{step_by_epoch}')"
   ]
  },
  {
   "cell_type": "code",
   "execution_count": 9,
   "metadata": {},
   "outputs": [
    {
     "data": {
      "text/plain": [
       "\"y_train = train_ds.map(lambda _, label: label).unbatch()\\ny_train = list(y_train.as_numpy_iterator())\\nclass_weights = compute_class_weight('balanced', classes=np.unique(y_train), y=y_train)\\nclass_weight_dict = dict(enumerate(class_weights))\\nprint(class_weight_dict)\""
      ]
     },
     "execution_count": 9,
     "metadata": {},
     "output_type": "execute_result"
    }
   ],
   "source": [
    "'''y_train = train_ds.map(lambda _, label: label).unbatch()\n",
    "y_train = list(y_train.as_numpy_iterator())\n",
    "class_weights = compute_class_weight('balanced', classes=np.unique(y_train), y=y_train)\n",
    "class_weight_dict = dict(enumerate(class_weights))\n",
    "print(class_weight_dict)'''"
   ]
  },
  {
   "attachments": {},
   "cell_type": "markdown",
   "metadata": {},
   "source": [
    "# Modelo ResNet 50"
   ]
  },
  {
   "cell_type": "code",
   "execution_count": 10,
   "metadata": {},
   "outputs": [],
   "source": [
    "num_classes = len(class_names)"
   ]
  },
  {
   "cell_type": "code",
   "execution_count": 11,
   "metadata": {},
   "outputs": [],
   "source": [
    "# Cargar la arquitectura preentrenada VGG16 sin las capas superiores (sin incluir la capa de salida)\n",
    "base_model = ResNet50(weights='imagenet', include_top=False, input_shape=(img_height, img_width, 3)) #input_shape=(altura, anchura, canales))\n",
    "base_model = tf.keras.Model(inputs=base_model.input, outputs=base_model.layers[-2].output)"
   ]
  },
  {
   "cell_type": "code",
   "execution_count": 12,
   "metadata": {},
   "outputs": [],
   "source": [
    "# Congelar las capas de la base (no se entrenarán durante el ajuste fino)\n",
    "for layer in base_model.layers:\n",
    "    layer.trainable = False"
   ]
  },
  {
   "cell_type": "code",
   "execution_count": 13,
   "metadata": {},
   "outputs": [],
   "source": [
    "# Agregar capas personalizadas a la arquitectura base\n",
    "model = models.Sequential([\n",
    "    base_model,\n",
    "    layers.Flatten(),\n",
    "    layers.Dense(256, activation='relu'),\n",
    "    #layers.Dropout(0.5),\n",
    "    layers.Dense(len(class_names), activation='softmax')#, kernel_regularizer=regularizers.L2(0.000001), activity_regularizer=regularizers.L2(0.000001))\n",
    "])"
   ]
  },
  {
   "cell_type": "code",
   "execution_count": 14,
   "metadata": {},
   "outputs": [],
   "source": [
    "# Definir la programación de la tasa de aprendizaje exponencial\n",
    "lr_schedule = tf.keras.optimizers.schedules.ExponentialDecay(\n",
    "    initial_learning_rate=0.00001,\n",
    "    decay_steps=step_by_epoch*20,\n",
    "    decay_rate=0.96\n",
    ")"
   ]
  },
  {
   "cell_type": "code",
   "execution_count": 15,
   "metadata": {},
   "outputs": [
    {
     "name": "stderr",
     "output_type": "stream",
     "text": [
      "WARNING:absl:At this time, the v2.11+ optimizer `tf.keras.optimizers.SGD` runs slowly on M1/M2 Macs, please use the legacy Keras optimizer instead, located at `tf.keras.optimizers.legacy.SGD`.\n"
     ]
    }
   ],
   "source": [
    "# Crear un optimizador con la programación de la tasa de aprendizaje exponencial y momentum\n",
    "custom_optimizer = tf.keras.optimizers.SGD(learning_rate=lr_schedule, momentum=0.9)"
   ]
  },
  {
   "cell_type": "code",
   "execution_count": 16,
   "metadata": {},
   "outputs": [
    {
     "name": "stderr",
     "output_type": "stream",
     "text": [
      "WARNING:absl:There is a known slowdown when using v2.11+ Keras optimizers on M1/M2 Macs. Falling back to the legacy Keras optimizer, i.e., `tf.keras.optimizers.legacy.SGD`.\n"
     ]
    }
   ],
   "source": [
    "# Compilar el modelo\n",
    "model.compile(optimizer=custom_optimizer,\n",
    "              loss='sparse_categorical_crossentropy',\n",
    "              metrics=['accuracy'])"
   ]
  },
  {
   "cell_type": "code",
   "execution_count": 17,
   "metadata": {},
   "outputs": [
    {
     "name": "stdout",
     "output_type": "stream",
     "text": [
      "Epoch 1/100\n"
     ]
    },
    {
     "name": "stderr",
     "output_type": "stream",
     "text": [
      "2024-09-08 16:35:27.689174: I tensorflow/core/grappler/optimizers/custom_graph_optimizer_registry.cc:114] Plugin optimizer for device_type GPU is enabled.\n"
     ]
    },
    {
     "name": "stdout",
     "output_type": "stream",
     "text": [
      "25/25 [==============================] - ETA: 0s - loss: 0.7349 - accuracy: 0.8104"
     ]
    },
    {
     "name": "stderr",
     "output_type": "stream",
     "text": [
      "2024-09-08 16:36:30.412046: I tensorflow/core/grappler/optimizers/custom_graph_optimizer_registry.cc:114] Plugin optimizer for device_type GPU is enabled.\n"
     ]
    },
    {
     "name": "stdout",
     "output_type": "stream",
     "text": [
      "25/25 [==============================] - 80s 3s/step - loss: 0.7349 - accuracy: 0.8104 - val_loss: 0.2298 - val_accuracy: 0.9269\n",
      "Epoch 2/100\n",
      "25/25 [==============================] - 78s 3s/step - loss: 0.1673 - accuracy: 0.9558 - val_loss: 0.1591 - val_accuracy: 0.9576\n",
      "Epoch 3/100\n",
      "25/25 [==============================] - 78s 3s/step - loss: 0.1270 - accuracy: 0.9674 - val_loss: 0.1513 - val_accuracy: 0.9536\n",
      "Epoch 4/100\n",
      "25/25 [==============================] - 78s 3s/step - loss: 0.1159 - accuracy: 0.9688 - val_loss: 0.1328 - val_accuracy: 0.9594\n",
      "Epoch 5/100\n",
      "25/25 [==============================] - 78s 3s/step - loss: 0.1105 - accuracy: 0.9694 - val_loss: 0.1253 - val_accuracy: 0.9605\n",
      "Epoch 6/100\n",
      "25/25 [==============================] - 78s 3s/step - loss: 0.1024 - accuracy: 0.9710 - val_loss: 0.1196 - val_accuracy: 0.9629\n",
      "Epoch 7/100\n",
      "25/25 [==============================] - 78s 3s/step - loss: 0.0923 - accuracy: 0.9732 - val_loss: 0.1155 - val_accuracy: 0.9611\n",
      "Epoch 8/100\n",
      "25/25 [==============================] - 79s 3s/step - loss: 0.0920 - accuracy: 0.9730 - val_loss: 0.1182 - val_accuracy: 0.9646\n",
      "Epoch 9/100\n",
      "25/25 [==============================] - 79s 3s/step - loss: 0.0869 - accuracy: 0.9738 - val_loss: 0.1099 - val_accuracy: 0.9640\n",
      "Epoch 10/100\n",
      "25/25 [==============================] - 79s 3s/step - loss: 0.0808 - accuracy: 0.9752 - val_loss: 0.1083 - val_accuracy: 0.9669\n",
      "Epoch 11/100\n",
      "25/25 [==============================] - 79s 3s/step - loss: 0.0793 - accuracy: 0.9768 - val_loss: 0.1073 - val_accuracy: 0.9646\n",
      "Epoch 12/100\n",
      "25/25 [==============================] - 79s 3s/step - loss: 0.0779 - accuracy: 0.9771 - val_loss: 0.1035 - val_accuracy: 0.9640\n",
      "Epoch 13/100\n",
      "25/25 [==============================] - 80s 3s/step - loss: 0.0759 - accuracy: 0.9774 - val_loss: 0.1038 - val_accuracy: 0.9640\n",
      "Epoch 14/100\n",
      "25/25 [==============================] - 79s 3s/step - loss: 0.0746 - accuracy: 0.9763 - val_loss: 0.0981 - val_accuracy: 0.9669\n",
      "Epoch 15/100\n",
      "25/25 [==============================] - 79s 3s/step - loss: 0.0702 - accuracy: 0.9782 - val_loss: 0.1002 - val_accuracy: 0.9669\n",
      "Epoch 16/100\n",
      "25/25 [==============================] - 79s 3s/step - loss: 0.0732 - accuracy: 0.9768 - val_loss: 0.0997 - val_accuracy: 0.9652\n",
      "Epoch 17/100\n",
      "25/25 [==============================] - 78s 3s/step - loss: 0.0740 - accuracy: 0.9754 - val_loss: 0.0993 - val_accuracy: 0.9692\n",
      "Epoch 18/100\n",
      "25/25 [==============================] - 78s 3s/step - loss: 0.0665 - accuracy: 0.9803 - val_loss: 0.0940 - val_accuracy: 0.9687\n",
      "Epoch 19/100\n",
      "25/25 [==============================] - 78s 3s/step - loss: 0.0658 - accuracy: 0.9809 - val_loss: 0.0927 - val_accuracy: 0.9692\n",
      "Epoch 20/100\n",
      "25/25 [==============================] - 78s 3s/step - loss: 0.0672 - accuracy: 0.9787 - val_loss: 0.0933 - val_accuracy: 0.9692\n",
      "Epoch 21/100\n",
      "25/25 [==============================] - 81s 3s/step - loss: 0.0645 - accuracy: 0.9803 - val_loss: 0.0922 - val_accuracy: 0.9704\n",
      "Epoch 22/100\n",
      "25/25 [==============================] - 79s 3s/step - loss: 0.0625 - accuracy: 0.9806 - val_loss: 0.0924 - val_accuracy: 0.9692\n",
      "Epoch 23/100\n",
      "25/25 [==============================] - 78s 3s/step - loss: 0.0648 - accuracy: 0.9799 - val_loss: 0.0945 - val_accuracy: 0.9698\n",
      "Epoch 24/100\n",
      "25/25 [==============================] - 79s 3s/step - loss: 0.0632 - accuracy: 0.9803 - val_loss: 0.0937 - val_accuracy: 0.9710\n",
      "Epoch 25/100\n",
      "25/25 [==============================] - 79s 3s/step - loss: 0.0607 - accuracy: 0.9812 - val_loss: 0.0916 - val_accuracy: 0.9704\n",
      "Epoch 26/100\n",
      "25/25 [==============================] - 78s 3s/step - loss: 0.0588 - accuracy: 0.9821 - val_loss: 0.0902 - val_accuracy: 0.9704\n",
      "Epoch 27/100\n",
      "25/25 [==============================] - 78s 3s/step - loss: 0.0583 - accuracy: 0.9823 - val_loss: 0.0887 - val_accuracy: 0.9704\n",
      "Epoch 28/100\n",
      "25/25 [==============================] - 78s 3s/step - loss: 0.0593 - accuracy: 0.9817 - val_loss: 0.0889 - val_accuracy: 0.9698\n",
      "Epoch 29/100\n",
      "25/25 [==============================] - 78s 3s/step - loss: 0.0585 - accuracy: 0.9812 - val_loss: 0.0884 - val_accuracy: 0.9733\n",
      "Epoch 30/100\n",
      "25/25 [==============================] - 78s 3s/step - loss: 0.0577 - accuracy: 0.9820 - val_loss: 0.0869 - val_accuracy: 0.9704\n",
      "Epoch 31/100\n",
      "25/25 [==============================] - 78s 3s/step - loss: 0.0571 - accuracy: 0.9821 - val_loss: 0.0892 - val_accuracy: 0.9692\n",
      "Epoch 32/100\n",
      "25/25 [==============================] - 78s 3s/step - loss: 0.0566 - accuracy: 0.9820 - val_loss: 0.0878 - val_accuracy: 0.9739\n",
      "Epoch 33/100\n",
      "25/25 [==============================] - 78s 3s/step - loss: 0.0567 - accuracy: 0.9828 - val_loss: 0.0874 - val_accuracy: 0.9733\n",
      "Epoch 34/100\n",
      "25/25 [==============================] - 79s 3s/step - loss: 0.0562 - accuracy: 0.9818 - val_loss: 0.0861 - val_accuracy: 0.9721\n",
      "Epoch 35/100\n",
      "25/25 [==============================] - 79s 3s/step - loss: 0.0553 - accuracy: 0.9820 - val_loss: 0.0893 - val_accuracy: 0.9710\n",
      "Epoch 36/100\n",
      "25/25 [==============================] - 78s 3s/step - loss: 0.0546 - accuracy: 0.9839 - val_loss: 0.0888 - val_accuracy: 0.9692\n",
      "Epoch 37/100\n",
      "25/25 [==============================] - 79s 3s/step - loss: 0.0554 - accuracy: 0.9821 - val_loss: 0.0881 - val_accuracy: 0.9710\n",
      "Epoch 38/100\n",
      "25/25 [==============================] - 79s 3s/step - loss: 0.0559 - accuracy: 0.9820 - val_loss: 0.0865 - val_accuracy: 0.9716\n",
      "Epoch 39/100\n",
      "25/25 [==============================] - 78s 3s/step - loss: 0.0531 - accuracy: 0.9840 - val_loss: 0.0931 - val_accuracy: 0.9669\n",
      "Epoch 40/100\n",
      "25/25 [==============================] - 78s 3s/step - loss: 0.0541 - accuracy: 0.9832 - val_loss: 0.0846 - val_accuracy: 0.9739\n",
      "Epoch 41/100\n",
      "25/25 [==============================] - 78s 3s/step - loss: 0.0524 - accuracy: 0.9832 - val_loss: 0.0938 - val_accuracy: 0.9721\n",
      "Epoch 42/100\n",
      "25/25 [==============================] - 78s 3s/step - loss: 0.0533 - accuracy: 0.9826 - val_loss: 0.0882 - val_accuracy: 0.9698\n",
      "Epoch 43/100\n",
      "25/25 [==============================] - 78s 3s/step - loss: 0.0517 - accuracy: 0.9839 - val_loss: 0.0848 - val_accuracy: 0.9733\n",
      "Epoch 44/100\n",
      "25/25 [==============================] - 78s 3s/step - loss: 0.0504 - accuracy: 0.9845 - val_loss: 0.0874 - val_accuracy: 0.9716\n",
      "Epoch 45/100\n",
      "25/25 [==============================] - 78s 3s/step - loss: 0.0501 - accuracy: 0.9853 - val_loss: 0.0864 - val_accuracy: 0.9716\n",
      "Epoch 46/100\n",
      "25/25 [==============================] - 78s 3s/step - loss: 0.0518 - accuracy: 0.9839 - val_loss: 0.0919 - val_accuracy: 0.9675\n",
      "Epoch 47/100\n",
      "25/25 [==============================] - 79s 3s/step - loss: 0.0514 - accuracy: 0.9845 - val_loss: 0.0879 - val_accuracy: 0.9710\n",
      "Epoch 48/100\n",
      "25/25 [==============================] - 78s 3s/step - loss: 0.0512 - accuracy: 0.9843 - val_loss: 0.0853 - val_accuracy: 0.9727\n",
      "Epoch 49/100\n",
      "25/25 [==============================] - 79s 3s/step - loss: 0.0509 - accuracy: 0.9837 - val_loss: 0.0857 - val_accuracy: 0.9704\n",
      "Epoch 50/100\n",
      "25/25 [==============================] - 79s 3s/step - loss: 0.0481 - accuracy: 0.9848 - val_loss: 0.0856 - val_accuracy: 0.9739\n",
      "Epoch 51/100\n",
      "25/25 [==============================] - 79s 3s/step - loss: 0.0497 - accuracy: 0.9839 - val_loss: 0.0833 - val_accuracy: 0.9716\n",
      "Epoch 52/100\n",
      "25/25 [==============================] - 78s 3s/step - loss: 0.0499 - accuracy: 0.9839 - val_loss: 0.0866 - val_accuracy: 0.9704\n",
      "Epoch 53/100\n",
      "25/25 [==============================] - 78s 3s/step - loss: 0.0486 - accuracy: 0.9848 - val_loss: 0.0857 - val_accuracy: 0.9698\n",
      "Epoch 54/100\n",
      "25/25 [==============================] - 79s 3s/step - loss: 0.0480 - accuracy: 0.9851 - val_loss: 0.0843 - val_accuracy: 0.9733\n",
      "Epoch 55/100\n",
      "25/25 [==============================] - 78s 3s/step - loss: 0.0464 - accuracy: 0.9851 - val_loss: 0.0838 - val_accuracy: 0.9733\n",
      "Epoch 56/100\n",
      "25/25 [==============================] - 78s 3s/step - loss: 0.0466 - accuracy: 0.9845 - val_loss: 0.0851 - val_accuracy: 0.9733\n",
      "Epoch 57/100\n",
      "25/25 [==============================] - 78s 3s/step - loss: 0.0468 - accuracy: 0.9850 - val_loss: 0.0840 - val_accuracy: 0.9745\n",
      "Epoch 58/100\n",
      "25/25 [==============================] - 79s 3s/step - loss: 0.0459 - accuracy: 0.9854 - val_loss: 0.0840 - val_accuracy: 0.9710\n",
      "Epoch 59/100\n",
      "25/25 [==============================] - 79s 3s/step - loss: 0.0462 - accuracy: 0.9845 - val_loss: 0.0836 - val_accuracy: 0.9710\n",
      "Epoch 60/100\n",
      "25/25 [==============================] - 79s 3s/step - loss: 0.0447 - accuracy: 0.9861 - val_loss: 0.0824 - val_accuracy: 0.9739\n",
      "Epoch 61/100\n",
      "25/25 [==============================] - 79s 3s/step - loss: 0.0460 - accuracy: 0.9842 - val_loss: 0.0836 - val_accuracy: 0.9739\n",
      "Epoch 62/100\n",
      "25/25 [==============================] - 79s 3s/step - loss: 0.0456 - accuracy: 0.9850 - val_loss: 0.0838 - val_accuracy: 0.9745\n",
      "Epoch 63/100\n",
      "25/25 [==============================] - 79s 3s/step - loss: 0.0437 - accuracy: 0.9864 - val_loss: 0.0845 - val_accuracy: 0.9739\n",
      "Epoch 64/100\n",
      "25/25 [==============================] - 80s 3s/step - loss: 0.0439 - accuracy: 0.9845 - val_loss: 0.0835 - val_accuracy: 0.9727\n",
      "Epoch 65/100\n",
      "25/25 [==============================] - 80s 3s/step - loss: 0.0451 - accuracy: 0.9864 - val_loss: 0.0859 - val_accuracy: 0.9733\n",
      "Epoch 66/100\n",
      "25/25 [==============================] - 79s 3s/step - loss: 0.0433 - accuracy: 0.9867 - val_loss: 0.0830 - val_accuracy: 0.9756\n",
      "Epoch 67/100\n",
      "25/25 [==============================] - 80s 3s/step - loss: 0.0442 - accuracy: 0.9851 - val_loss: 0.0857 - val_accuracy: 0.9727\n",
      "Epoch 68/100\n",
      "25/25 [==============================] - 80s 3s/step - loss: 0.0437 - accuracy: 0.9875 - val_loss: 0.0887 - val_accuracy: 0.9710\n",
      "Epoch 69/100\n",
      "25/25 [==============================] - 79s 3s/step - loss: 0.0451 - accuracy: 0.9846 - val_loss: 0.0873 - val_accuracy: 0.9721\n",
      "Epoch 70/100\n",
      "25/25 [==============================] - 79s 3s/step - loss: 0.0450 - accuracy: 0.9856 - val_loss: 0.0830 - val_accuracy: 0.9750\n",
      "Epoch 71/100\n",
      "25/25 [==============================] - 79s 3s/step - loss: 0.0424 - accuracy: 0.9859 - val_loss: 0.0834 - val_accuracy: 0.9745\n",
      "Epoch 72/100\n",
      "25/25 [==============================] - 79s 3s/step - loss: 0.0426 - accuracy: 0.9856 - val_loss: 0.0822 - val_accuracy: 0.9745\n",
      "Epoch 73/100\n",
      "25/25 [==============================] - 79s 3s/step - loss: 0.0423 - accuracy: 0.9862 - val_loss: 0.0834 - val_accuracy: 0.9739\n",
      "Epoch 74/100\n",
      "25/25 [==============================] - 78s 3s/step - loss: 0.0423 - accuracy: 0.9862 - val_loss: 0.0821 - val_accuracy: 0.9739\n",
      "Epoch 75/100\n",
      "25/25 [==============================] - 78s 3s/step - loss: 0.0411 - accuracy: 0.9868 - val_loss: 0.0802 - val_accuracy: 0.9750\n",
      "Epoch 76/100\n",
      "25/25 [==============================] - 78s 3s/step - loss: 0.0397 - accuracy: 0.9875 - val_loss: 0.0822 - val_accuracy: 0.9756\n",
      "Epoch 77/100\n",
      "25/25 [==============================] - 83s 3s/step - loss: 0.0410 - accuracy: 0.9861 - val_loss: 0.0825 - val_accuracy: 0.9745\n",
      "Epoch 78/100\n",
      "25/25 [==============================] - 79s 3s/step - loss: 0.0393 - accuracy: 0.9876 - val_loss: 0.0813 - val_accuracy: 0.9756\n",
      "Epoch 79/100\n",
      "25/25 [==============================] - 79s 3s/step - loss: 0.0405 - accuracy: 0.9868 - val_loss: 0.0810 - val_accuracy: 0.9756\n",
      "Epoch 80/100\n",
      "25/25 [==============================] - 80s 3s/step - loss: 0.0394 - accuracy: 0.9868 - val_loss: 0.0808 - val_accuracy: 0.9762\n",
      "Epoch 81/100\n",
      "25/25 [==============================] - 80s 3s/step - loss: 0.0394 - accuracy: 0.9876 - val_loss: 0.0819 - val_accuracy: 0.9716\n",
      "Epoch 82/100\n",
      "25/25 [==============================] - 78s 3s/step - loss: 0.0406 - accuracy: 0.9856 - val_loss: 0.0812 - val_accuracy: 0.9721\n",
      "Epoch 83/100\n",
      "25/25 [==============================] - 79s 3s/step - loss: 0.0393 - accuracy: 0.9873 - val_loss: 0.0814 - val_accuracy: 0.9745\n",
      "Epoch 84/100\n",
      "25/25 [==============================] - 78s 3s/step - loss: 0.0380 - accuracy: 0.9867 - val_loss: 0.0806 - val_accuracy: 0.9745\n",
      "Epoch 85/100\n",
      "25/25 [==============================] - 79s 3s/step - loss: 0.0393 - accuracy: 0.9867 - val_loss: 0.0800 - val_accuracy: 0.9762\n",
      "Epoch 86/100\n",
      "25/25 [==============================] - 79s 3s/step - loss: 0.0390 - accuracy: 0.9862 - val_loss: 0.0828 - val_accuracy: 0.9727\n",
      "Epoch 87/100\n",
      "25/25 [==============================] - 78s 3s/step - loss: 0.0393 - accuracy: 0.9871 - val_loss: 0.0823 - val_accuracy: 0.9739\n",
      "Epoch 88/100\n",
      "25/25 [==============================] - 79s 3s/step - loss: 0.0387 - accuracy: 0.9879 - val_loss: 0.0812 - val_accuracy: 0.9756\n",
      "Epoch 89/100\n",
      "25/25 [==============================] - 79s 3s/step - loss: 0.0384 - accuracy: 0.9875 - val_loss: 0.0818 - val_accuracy: 0.9739\n",
      "Epoch 90/100\n",
      "25/25 [==============================] - 80s 3s/step - loss: 0.0389 - accuracy: 0.9876 - val_loss: 0.0823 - val_accuracy: 0.9762\n",
      "Epoch 91/100\n",
      "25/25 [==============================] - 80s 3s/step - loss: 0.0373 - accuracy: 0.9864 - val_loss: 0.0807 - val_accuracy: 0.9745\n",
      "Epoch 92/100\n",
      "25/25 [==============================] - 79s 3s/step - loss: 0.0383 - accuracy: 0.9879 - val_loss: 0.0802 - val_accuracy: 0.9733\n",
      "Epoch 93/100\n",
      "25/25 [==============================] - 79s 3s/step - loss: 0.0378 - accuracy: 0.9875 - val_loss: 0.0819 - val_accuracy: 0.9745\n",
      "Epoch 94/100\n",
      "25/25 [==============================] - 80s 3s/step - loss: 0.0376 - accuracy: 0.9887 - val_loss: 0.0841 - val_accuracy: 0.9739\n",
      "Epoch 95/100\n",
      "25/25 [==============================] - 79s 3s/step - loss: 0.0374 - accuracy: 0.9870 - val_loss: 0.0816 - val_accuracy: 0.9739\n",
      "Epoch 96/100\n",
      "25/25 [==============================] - 78s 3s/step - loss: 0.0373 - accuracy: 0.9878 - val_loss: 0.0800 - val_accuracy: 0.9745\n",
      "Epoch 97/100\n",
      "25/25 [==============================] - 79s 3s/step - loss: 0.0369 - accuracy: 0.9882 - val_loss: 0.0818 - val_accuracy: 0.9739\n",
      "Epoch 98/100\n",
      "25/25 [==============================] - 79s 3s/step - loss: 0.0370 - accuracy: 0.9873 - val_loss: 0.0824 - val_accuracy: 0.9733\n",
      "Epoch 99/100\n",
      "25/25 [==============================] - 79s 3s/step - loss: 0.0373 - accuracy: 0.9876 - val_loss: 0.0805 - val_accuracy: 0.9756\n",
      "Epoch 100/100\n",
      "25/25 [==============================] - 79s 3s/step - loss: 0.0367 - accuracy: 0.9871 - val_loss: 0.0805 - val_accuracy: 0.9756\n"
     ]
    }
   ],
   "source": [
    "# Entrenar el modelo\n",
    "epochs = 100\n",
    "\n",
    "'''checkpoint_filepath = '/Volumes/SSD_ANDRÉS/PRUEBAS_nuevos_vlp/Checkpoint/resnet_sinfiltro_checkpoint.model.keras'\n",
    "model_checkpoint_callback = tf.keras.callbacks.ModelCheckpoint(\n",
    "    filepath=checkpoint_filepath,\n",
    "    monitor='val_accuracy',\n",
    "    mode='max',\n",
    "    save_best_only=True,\n",
    "    verbose=1)'''\n",
    "\n",
    "history = model.fit(train_ds, epochs=epochs, validation_data=validation_dataset)#, callbacks=[model_checkpoint_callback])#, class_weight=class_weight_dict)"
   ]
  },
  {
   "cell_type": "code",
   "execution_count": 18,
   "metadata": {},
   "outputs": [
    {
     "name": "stdout",
     "output_type": "stream",
     "text": [
      "2/2 [==============================] - 6s 2s/step - loss: 0.0199 - accuracy: 0.9941\n",
      "Precisión en el conjunto de prueba: 0.994140625\n"
     ]
    }
   ],
   "source": [
    "# Evaluar el modelo en el conjunto de prueba\n",
    "test_loss, test_acc = model.evaluate(test_ds)\n",
    "print(f'Precisión en el conjunto de prueba: {test_acc}')"
   ]
  },
  {
   "cell_type": "code",
   "execution_count": 19,
   "metadata": {},
   "outputs": [
    {
     "data": {
      "image/png": "[encoded data removed]",
      "text/plain": [
       "<Figure size 1200x400 with 2 Axes>"
      ]
     },
     "metadata": {},
     "output_type": "display_data"
    }
   ],
   "source": [
    "# Trazar la curva de aprendizaje\n",
    "plt.figure(figsize=(12, 4))\n",
    "plt.subplot(1, 2, 1)\n",
    "plt.plot(history.history['accuracy'], label='Precisión de Entrenamiento')\n",
    "plt.plot(history.history['val_accuracy'], label='Precisión de Validación')\n",
    "plt.legend(loc='lower right')\n",
    "plt.title('Curva de Aprendizaje de la Precisión')\n",
    "\n",
    "plt.subplot(1, 2, 2)\n",
    "plt.plot(history.history['loss'], label='Pérdida de Entrenamiento')\n",
    "plt.plot(history.history['val_loss'], label='Pérdida de Validación')\n",
    "plt.legend(loc='upper right')\n",
    "plt.title('Curva de Aprendizaje de la Pérdida')\n",
    "plt.show()"
   ]
  },
  {
   "cell_type": "code",
   "execution_count": 20,
   "metadata": {},
   "outputs": [],
   "source": [
    "ruta_modelos_entrenados = '/Volumes/SSD_ANDRÉS/PRUEBAS_nuevos_vlp/Modelos entrenadoss'"
   ]
  },
  {
   "cell_type": "code",
   "execution_count": 21,
   "metadata": {},
   "outputs": [
    {
     "name": "stdout",
     "output_type": "stream",
     "text": [
      "INFO:tensorflow:Assets written to: /Volumes/SSD_ANDRÉS/PRUEBAS_nuevos_vlp/Modelos entrenadoss/resnet_lowpass0a1_vt_lp_vlp_ruido/assets\n"
     ]
    },
    {
     "name": "stderr",
     "output_type": "stream",
     "text": [
      "INFO:tensorflow:Assets written to: /Volumes/SSD_ANDRÉS/PRUEBAS_nuevos_vlp/Modelos entrenadoss/resnet_lowpass0a1_vt_lp_vlp_ruido/assets\n"
     ]
    }
   ],
   "source": [
    "model.save(ruta_modelos_entrenados+'/resnet_lowpass0a1_vt_lp_vlp_ruido')"
   ]
  },
  {
   "cell_type": "code",
   "execution_count": 22,
   "metadata": {},
   "outputs": [
    {
     "name": "stderr",
     "output_type": "stream",
     "text": [
      "2024-09-08 18:46:54.051115: I tensorflow/core/grappler/optimizers/custom_graph_optimizer_registry.cc:114] Plugin optimizer for device_type GPU is enabled.\n"
     ]
    },
    {
     "name": "stdout",
     "output_type": "stream",
     "text": [
      "8/8 [==============================] - 3s 319ms/step\n",
      "8/8 [==============================] - 2s 311ms/step\n"
     ]
    }
   ],
   "source": [
    "ruta_modelos_entrenados = '/Volumes/SSD_ANDRÉS/PRUEBAS_nuevos_vlp/Modelos entrenadoss'\n",
    "new_model = tf.keras.models.load_model(ruta_modelos_entrenados+'/resnet_lowpass0a1_vt_lp_vlp_ruido')\n",
    "y_pred = []  # store predicted labels\n",
    "y_true = []  # store true labels\n",
    "\n",
    "# iterate over the dataset\n",
    "for image_batch, label_batch in test_ds:   # use dataset.unbatch() with repeat\n",
    "   # append true labels\n",
    "   #print(\"Label: \",label_batch)\n",
    "   y_true.append(label_batch)\n",
    "   # compute predictions\n",
    "   #print(\"Imagen: \",image_batch)\n",
    "   preds = new_model.predict(image_batch)\n",
    "   # append predicted labels\n",
    "   y_pred.append(np.argmax(preds, axis = - 1))\n",
    "   #print(\"-----------------\")\n",
    "\n",
    "# convert the true and predicted labels into tensors\n",
    "correct_labels = tf.concat([item for item in y_true], axis = 0)\n",
    "predicted_labels = tf.concat([item for item in y_pred], axis = 0)"
   ]
  },
  {
   "cell_type": "code",
   "execution_count": 23,
   "metadata": {},
   "outputs": [
    {
     "data": {
      "image/png": "[encoded data removed]",
      "text/plain": [
       "<Figure size 1000x800 with 2 Axes>"
      ]
     },
     "metadata": {},
     "output_type": "display_data"
    }
   ],
   "source": [
    "import seaborn as sns\n",
    "\n",
    "confusion_mtx = tf.math.confusion_matrix(correct_labels, predicted_labels)\n",
    "plt.figure(figsize=(10, 8))\n",
    "sns.heatmap(confusion_mtx,\n",
    "            xticklabels=class_names,\n",
    "            yticklabels=class_names,\n",
    "            annot=True, fmt='g')\n",
    "plt.xlabel('Prediction')\n",
    "plt.ylabel('Label')\n",
    "plt.show()"
   ]
  },
  {
   "cell_type": "code",
   "execution_count": 24,
   "metadata": {},
   "outputs": [
    {
     "name": "stdout",
     "output_type": "stream",
     "text": [
      "%LP: 98.75\n",
      "%VLP: 99.42528735632183\n",
      "%VT: 100.0\n"
     ]
    }
   ],
   "source": [
    "cm = confusion_matrix(correct_labels, predicted_labels)\n",
    "print('%LP: '+str(cm[0][0]/sum(cm[0]) * 100))\n",
    "print('%VLP: '+str(cm[1][1]/sum(cm[1]) * 100))\n",
    "print('%VT: '+str(cm[2][2]/sum(cm[2]) * 100))"
   ]
  },
  {
   "cell_type": "code",
   "execution_count": 25,
   "metadata": {},
   "outputs": [
    {
     "name": "stdout",
     "output_type": "stream",
     "text": [
      "              precision    recall  f1-score   support\n",
      "\n",
      "           0     0.9875    0.9875    0.9875        80\n",
      "           1     1.0000    0.9943    0.9971       174\n",
      "           2     0.9878    1.0000    0.9939        81\n",
      "           3     0.9944    0.9944    0.9944       177\n",
      "\n",
      "    accuracy                         0.9941       512\n",
      "   macro avg     0.9924    0.9940    0.9932       512\n",
      "weighted avg     0.9942    0.9941    0.9941       512\n",
      "\n"
     ]
    }
   ],
   "source": [
    "from sklearn.metrics import classification_report\n",
    "print(classification_report(correct_labels, predicted_labels, digits=4))"
   ]
  }
 ],
 "metadata": {
  "kernelspec": {
   "display_name": "Tesis_IA",
   "language": "python",
   "name": "python3"
  },
  "language_info": {
   "codemirror_mode": {
    "name": "ipython",
    "version": 3
   },
   "file_extension": ".py",
   "mimetype": "text/x-python",
   "name": "python",
   "nbconvert_exporter": "python",
   "pygments_lexer": "ipython3",
   "version": "3.8.16"
  },
  "orig_nbformat": 4
 },
 "nbformat": 4,
 "nbformat_minor": 2
}
