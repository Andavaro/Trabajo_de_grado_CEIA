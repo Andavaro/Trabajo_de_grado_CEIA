{
 "cells": [
  {
   "cell_type": "code",
   "execution_count": 1,
   "metadata": {},
   "outputs": [],
   "source": [
    "import numpy as np\n",
    "import tensorflow as tf\n",
    "from tensorflow.keras import layers, models\n",
    "from tensorflow.keras.applications import ResNet50\n",
    "from tensorflow.keras.preprocessing.image import ImageDataGenerator\n",
    "from sklearn.utils.class_weight import compute_class_weight\n",
    "from sklearn.model_selection import train_test_split\n",
    "from sklearn.metrics import classification_report, confusion_matrix\n",
    "import matplotlib.pyplot as plt"
   ]
  },
  {
   "cell_type": "code",
   "execution_count": 2,
   "metadata": {},
   "outputs": [],
   "source": [
    "img_height = 224\n",
    "img_width = 224\n",
    "batch_size = 256"
   ]
  },
  {
   "cell_type": "code",
   "execution_count": 3,
   "metadata": {},
   "outputs": [],
   "source": [
    "train_directory = \"/Volumes/SSD_ANDRÉS/Espectrogramas/off/ns=32_sol=0.9_lowpass_f=0-25\""
   ]
  },
  {
   "cell_type": "code",
   "execution_count": 4,
   "metadata": {},
   "outputs": [
    {
     "name": "stdout",
     "output_type": "stream",
     "text": [
      "Found 8937 files belonging to 3 classes.\n",
      "Using 8044 files for training.\n",
      "Using 893 files for validation.\n"
     ]
    },
    {
     "name": "stderr",
     "output_type": "stream",
     "text": [
      "2024-03-17 14:39:54.090766: I metal_plugin/src/device/metal_device.cc:1154] Metal device set to: Apple M1\n",
      "2024-03-17 14:39:54.090788: I metal_plugin/src/device/metal_device.cc:296] systemMemory: 16.00 GB\n",
      "2024-03-17 14:39:54.090791: I metal_plugin/src/device/metal_device.cc:313] maxCacheSize: 5.33 GB\n",
      "2024-03-17 14:39:54.090889: I tensorflow/core/common_runtime/pluggable_device/pluggable_device_factory.cc:303] Could not identify NUMA node of platform GPU ID 0, defaulting to 0. Your kernel may not have been built with NUMA support.\n",
      "2024-03-17 14:39:54.090907: I tensorflow/core/common_runtime/pluggable_device/pluggable_device_factory.cc:269] Created TensorFlow device (/job:localhost/replica:0/task:0/device:GPU:0 with 0 MB memory) -> physical PluggableDevice (device: 0, name: METAL, pci bus id: <undefined>)\n"
     ]
    }
   ],
   "source": [
    "# Dividir el set en entrenamiento y validación\n",
    "train_ds, validation_dataset = tf.keras.preprocessing.image_dataset_from_directory(\n",
    "    train_directory, labels='inferred', label_mode='int', batch_size=batch_size, image_size=(img_height, img_width), seed=123, \n",
    "    validation_split=0.1, subset='both')"
   ]
  },
  {
   "cell_type": "code",
   "execution_count": 5,
   "metadata": {},
   "outputs": [
    {
     "name": "stdout",
     "output_type": "stream",
     "text": [
      "Found 8960 files belonging to 3 classes.\n"
     ]
    }
   ],
   "source": [
    "test_directory = \"/Volumes/SSD_ANDRÉS/Espectrogramas/pb25test\"\n",
    "test_ds= tf.keras.preprocessing.image_dataset_from_directory(\n",
    "    test_directory, labels='inferred', label_mode='int', batch_size=batch_size, image_size=(img_height, img_width), seed=123)"
   ]
  },
  {
   "cell_type": "code",
   "execution_count": 6,
   "metadata": {},
   "outputs": [
    {
     "name": "stdout",
     "output_type": "stream",
     "text": [
      "['LP', 'VLP', 'VT']\n",
      "test size:35\n",
      "train size:32\n",
      "step by epoch:32\n"
     ]
    }
   ],
   "source": [
    "# Esta parte se usa para generar datos para pruebas. Si se tienen datos específicos para las pruebas, se deben llamar con el nombre de test_ds\n",
    "class_names = train_ds.class_names\n",
    "print(class_names)\n",
    "\n",
    "num_elements = len(train_ds)\n",
    "\n",
    "porcentaje_test = 0.1\n",
    "train_size = int((1-porcentaje_test) * num_elements)\n",
    "\n",
    "\n",
    "'''test_size = num_elements - train_size\n",
    "test_ds = train_ds.take(test_size)\n",
    "train_ds = train_ds.skip(test_size)'''\n",
    "\n",
    "step_by_epoch = len(train_ds)\n",
    "\n",
    "print(f'test size:{len(test_ds)}')\n",
    "print(f'train size:{len(train_ds)}')\n",
    "print(f'step by epoch:{step_by_epoch}')"
   ]
  },
  {
   "cell_type": "code",
   "execution_count": 7,
   "metadata": {},
   "outputs": [
    {
     "data": {
      "text/plain": [
       "\"y_train = train_ds.map(lambda _, label: label).unbatch()\\ny_train = list(y_train.as_numpy_iterator())\\nclass_weights = compute_class_weight('balanced', classes=np.unique(y_train), y=y_train)\\nclass_weight_dict = dict(enumerate(class_weights))\\nprint(class_weight_dict)\""
      ]
     },
     "execution_count": 7,
     "metadata": {},
     "output_type": "execute_result"
    }
   ],
   "source": [
    "'''y_train = train_ds.map(lambda _, label: label).unbatch()\n",
    "y_train = list(y_train.as_numpy_iterator())\n",
    "class_weights = compute_class_weight('balanced', classes=np.unique(y_train), y=y_train)\n",
    "class_weight_dict = dict(enumerate(class_weights))\n",
    "print(class_weight_dict)'''"
   ]
  },
  {
   "attachments": {},
   "cell_type": "markdown",
   "metadata": {},
   "source": [
    "# Modelo ResNet 50"
   ]
  },
  {
   "cell_type": "code",
   "execution_count": 8,
   "metadata": {},
   "outputs": [],
   "source": [
    "num_classes = len(class_names)"
   ]
  },
  {
   "cell_type": "code",
   "execution_count": 9,
   "metadata": {},
   "outputs": [],
   "source": [
    "# Cargar la arquitectura preentrenada VGG16 sin las capas superiores (sin incluir la capa de salida)\n",
    "base_model = ResNet50(weights='imagenet', include_top=False, input_shape=(img_height, img_width, 3)) #input_shape=(altura, anchura, canales))\n",
    "base_model = tf.keras.Model(inputs=base_model.input, outputs=base_model.layers[-2].output)"
   ]
  },
  {
   "cell_type": "code",
   "execution_count": 10,
   "metadata": {},
   "outputs": [],
   "source": [
    "# Congelar las capas de la base (no se entrenarán durante el ajuste fino)\n",
    "for layer in base_model.layers:\n",
    "    layer.trainable = False"
   ]
  },
  {
   "cell_type": "code",
   "execution_count": 11,
   "metadata": {},
   "outputs": [],
   "source": [
    "# Agregar capas personalizadas a la arquitectura base\n",
    "model = models.Sequential([\n",
    "    base_model,\n",
    "    layers.Flatten(),\n",
    "    layers.Dense(256, activation='relu'),\n",
    "    #layers.Dropout(0.5),\n",
    "    layers.Dense(len(class_names), activation='softmax')#, kernel_regularizer=regularizers.L2(0.000001), activity_regularizer=regularizers.L2(0.000001))\n",
    "])"
   ]
  },
  {
   "cell_type": "code",
   "execution_count": 12,
   "metadata": {},
   "outputs": [],
   "source": [
    "# Definir la programación de la tasa de aprendizaje exponencial\n",
    "lr_schedule = tf.keras.optimizers.schedules.ExponentialDecay(\n",
    "    initial_learning_rate=0.00001,\n",
    "    decay_steps=step_by_epoch*20,\n",
    "    decay_rate=0.96\n",
    ")"
   ]
  },
  {
   "cell_type": "code",
   "execution_count": 13,
   "metadata": {},
   "outputs": [
    {
     "name": "stderr",
     "output_type": "stream",
     "text": [
      "WARNING:absl:At this time, the v2.11+ optimizer `tf.keras.optimizers.SGD` runs slowly on M1/M2 Macs, please use the legacy Keras optimizer instead, located at `tf.keras.optimizers.legacy.SGD`.\n"
     ]
    }
   ],
   "source": [
    "# Crear un optimizador con la programación de la tasa de aprendizaje exponencial y momentum\n",
    "custom_optimizer = tf.keras.optimizers.SGD(learning_rate=lr_schedule, momentum=0.9)"
   ]
  },
  {
   "cell_type": "code",
   "execution_count": 14,
   "metadata": {},
   "outputs": [
    {
     "name": "stderr",
     "output_type": "stream",
     "text": [
      "WARNING:absl:There is a known slowdown when using v2.11+ Keras optimizers on M1/M2 Macs. Falling back to the legacy Keras optimizer, i.e., `tf.keras.optimizers.legacy.SGD`.\n"
     ]
    }
   ],
   "source": [
    "# Compilar el modelo\n",
    "model.compile(optimizer=custom_optimizer,\n",
    "              loss='sparse_categorical_crossentropy',\n",
    "              metrics=['accuracy'])"
   ]
  },
  {
   "cell_type": "code",
   "execution_count": 15,
   "metadata": {},
   "outputs": [
    {
     "name": "stdout",
     "output_type": "stream",
     "text": [
      "Epoch 1/100\n"
     ]
    },
    {
     "name": "stderr",
     "output_type": "stream",
     "text": [
      "2024-03-17 14:39:56.382651: I tensorflow/core/grappler/optimizers/custom_graph_optimizer_registry.cc:114] Plugin optimizer for device_type GPU is enabled.\n"
     ]
    },
    {
     "name": "stdout",
     "output_type": "stream",
     "text": [
      "32/32 [==============================] - ETA: 0s - loss: 0.8110 - accuracy: 0.7401"
     ]
    },
    {
     "name": "stderr",
     "output_type": "stream",
     "text": [
      "2024-03-17 14:41:13.548879: I tensorflow/core/grappler/optimizers/custom_graph_optimizer_registry.cc:114] Plugin optimizer for device_type GPU is enabled.\n"
     ]
    },
    {
     "name": "stdout",
     "output_type": "stream",
     "text": [
      "32/32 [==============================] - 87s 3s/step - loss: 0.8110 - accuracy: 0.7401 - val_loss: 0.4434 - val_accuracy: 0.8667\n",
      "Epoch 2/100\n",
      "32/32 [==============================] - 86s 3s/step - loss: 0.3002 - accuracy: 0.8997 - val_loss: 0.3243 - val_accuracy: 0.8925\n",
      "Epoch 3/100\n",
      "32/32 [==============================] - 86s 3s/step - loss: 0.2359 - accuracy: 0.9188 - val_loss: 0.2858 - val_accuracy: 0.9127\n",
      "Epoch 4/100\n",
      "32/32 [==============================] - 86s 3s/step - loss: 0.2021 - accuracy: 0.9306 - val_loss: 0.2656 - val_accuracy: 0.9171\n",
      "Epoch 5/100\n",
      "32/32 [==============================] - 86s 3s/step - loss: 0.1823 - accuracy: 0.9370 - val_loss: 0.2245 - val_accuracy: 0.9250\n",
      "Epoch 6/100\n",
      "32/32 [==============================] - 86s 3s/step - loss: 0.1624 - accuracy: 0.9449 - val_loss: 0.2116 - val_accuracy: 0.9306\n",
      "Epoch 7/100\n",
      "32/32 [==============================] - 86s 3s/step - loss: 0.1482 - accuracy: 0.9489 - val_loss: 0.2128 - val_accuracy: 0.9261\n",
      "Epoch 8/100\n",
      "32/32 [==============================] - 85s 3s/step - loss: 0.1425 - accuracy: 0.9528 - val_loss: 0.1951 - val_accuracy: 0.9429\n",
      "Epoch 9/100\n",
      "32/32 [==============================] - 86s 3s/step - loss: 0.1275 - accuracy: 0.9584 - val_loss: 0.1801 - val_accuracy: 0.9373\n",
      "Epoch 10/100\n",
      "32/32 [==============================] - 86s 3s/step - loss: 0.1202 - accuracy: 0.9597 - val_loss: 0.1760 - val_accuracy: 0.9451\n",
      "Epoch 11/100\n",
      "32/32 [==============================] - 86s 3s/step - loss: 0.1142 - accuracy: 0.9635 - val_loss: 0.1767 - val_accuracy: 0.9530\n",
      "Epoch 12/100\n",
      "32/32 [==============================] - 86s 3s/step - loss: 0.1113 - accuracy: 0.9656 - val_loss: 0.1660 - val_accuracy: 0.9406\n",
      "Epoch 13/100\n",
      "32/32 [==============================] - 86s 3s/step - loss: 0.1028 - accuracy: 0.9672 - val_loss: 0.1568 - val_accuracy: 0.9451\n",
      "Epoch 14/100\n",
      "32/32 [==============================] - 86s 3s/step - loss: 0.0977 - accuracy: 0.9679 - val_loss: 0.1519 - val_accuracy: 0.9608\n",
      "Epoch 15/100\n",
      "32/32 [==============================] - 85s 3s/step - loss: 0.0961 - accuracy: 0.9688 - val_loss: 0.1582 - val_accuracy: 0.9630\n",
      "Epoch 16/100\n",
      "32/32 [==============================] - 86s 3s/step - loss: 0.0914 - accuracy: 0.9724 - val_loss: 0.1523 - val_accuracy: 0.9630\n",
      "Epoch 17/100\n",
      "32/32 [==============================] - 86s 3s/step - loss: 0.0873 - accuracy: 0.9746 - val_loss: 0.1453 - val_accuracy: 0.9642\n",
      "Epoch 18/100\n",
      "32/32 [==============================] - 86s 3s/step - loss: 0.0852 - accuracy: 0.9749 - val_loss: 0.1398 - val_accuracy: 0.9619\n",
      "Epoch 19/100\n",
      "32/32 [==============================] - 86s 3s/step - loss: 0.0828 - accuracy: 0.9766 - val_loss: 0.1394 - val_accuracy: 0.9664\n",
      "Epoch 20/100\n",
      "32/32 [==============================] - 86s 3s/step - loss: 0.0793 - accuracy: 0.9780 - val_loss: 0.1405 - val_accuracy: 0.9642\n",
      "Epoch 21/100\n",
      "32/32 [==============================] - 86s 3s/step - loss: 0.0775 - accuracy: 0.9769 - val_loss: 0.1352 - val_accuracy: 0.9642\n",
      "Epoch 22/100\n",
      "32/32 [==============================] - 85s 3s/step - loss: 0.0751 - accuracy: 0.9792 - val_loss: 0.1312 - val_accuracy: 0.9630\n",
      "Epoch 23/100\n",
      "32/32 [==============================] - 86s 3s/step - loss: 0.0723 - accuracy: 0.9799 - val_loss: 0.1330 - val_accuracy: 0.9698\n",
      "Epoch 24/100\n",
      "32/32 [==============================] - 86s 3s/step - loss: 0.0698 - accuracy: 0.9804 - val_loss: 0.1303 - val_accuracy: 0.9664\n",
      "Epoch 25/100\n",
      "32/32 [==============================] - 86s 3s/step - loss: 0.0682 - accuracy: 0.9821 - val_loss: 0.1271 - val_accuracy: 0.9642\n",
      "Epoch 26/100\n",
      "32/32 [==============================] - 86s 3s/step - loss: 0.0670 - accuracy: 0.9805 - val_loss: 0.1311 - val_accuracy: 0.9709\n",
      "Epoch 27/100\n",
      "32/32 [==============================] - 86s 3s/step - loss: 0.0651 - accuracy: 0.9821 - val_loss: 0.1261 - val_accuracy: 0.9698\n",
      "Epoch 28/100\n",
      "32/32 [==============================] - 86s 3s/step - loss: 0.0636 - accuracy: 0.9820 - val_loss: 0.1273 - val_accuracy: 0.9709\n",
      "Epoch 29/100\n",
      "32/32 [==============================] - 85s 3s/step - loss: 0.0624 - accuracy: 0.9827 - val_loss: 0.1252 - val_accuracy: 0.9720\n",
      "Epoch 30/100\n",
      "32/32 [==============================] - 86s 3s/step - loss: 0.0606 - accuracy: 0.9837 - val_loss: 0.1241 - val_accuracy: 0.9709\n",
      "Epoch 31/100\n",
      "32/32 [==============================] - 86s 3s/step - loss: 0.0607 - accuracy: 0.9832 - val_loss: 0.1251 - val_accuracy: 0.9720\n",
      "Epoch 32/100\n",
      "32/32 [==============================] - 86s 3s/step - loss: 0.0589 - accuracy: 0.9853 - val_loss: 0.1291 - val_accuracy: 0.9720\n",
      "Epoch 33/100\n",
      "32/32 [==============================] - 86s 3s/step - loss: 0.0577 - accuracy: 0.9836 - val_loss: 0.1181 - val_accuracy: 0.9742\n",
      "Epoch 34/100\n",
      "32/32 [==============================] - 86s 3s/step - loss: 0.0559 - accuracy: 0.9853 - val_loss: 0.1213 - val_accuracy: 0.9731\n",
      "Epoch 35/100\n",
      "32/32 [==============================] - 86s 3s/step - loss: 0.0569 - accuracy: 0.9847 - val_loss: 0.1180 - val_accuracy: 0.9720\n",
      "Epoch 36/100\n",
      "32/32 [==============================] - 85s 3s/step - loss: 0.0554 - accuracy: 0.9856 - val_loss: 0.1274 - val_accuracy: 0.9686\n",
      "Epoch 37/100\n",
      "32/32 [==============================] - 86s 3s/step - loss: 0.0558 - accuracy: 0.9851 - val_loss: 0.1198 - val_accuracy: 0.9742\n",
      "Epoch 38/100\n",
      "32/32 [==============================] - 86s 3s/step - loss: 0.0521 - accuracy: 0.9864 - val_loss: 0.1159 - val_accuracy: 0.9765\n",
      "Epoch 39/100\n",
      "32/32 [==============================] - 86s 3s/step - loss: 0.0515 - accuracy: 0.9867 - val_loss: 0.1144 - val_accuracy: 0.9731\n",
      "Epoch 40/100\n",
      "32/32 [==============================] - 86s 3s/step - loss: 0.0511 - accuracy: 0.9868 - val_loss: 0.1127 - val_accuracy: 0.9765\n",
      "Epoch 41/100\n",
      "32/32 [==============================] - 86s 3s/step - loss: 0.0499 - accuracy: 0.9881 - val_loss: 0.1166 - val_accuracy: 0.9765\n",
      "Epoch 42/100\n",
      "32/32 [==============================] - 86s 3s/step - loss: 0.0503 - accuracy: 0.9876 - val_loss: 0.1184 - val_accuracy: 0.9754\n",
      "Epoch 43/100\n",
      "32/32 [==============================] - 87s 3s/step - loss: 0.0483 - accuracy: 0.9883 - val_loss: 0.1129 - val_accuracy: 0.9765\n",
      "Epoch 44/100\n",
      "32/32 [==============================] - 87s 3s/step - loss: 0.0473 - accuracy: 0.9882 - val_loss: 0.1112 - val_accuracy: 0.9765\n",
      "Epoch 45/100\n",
      "32/32 [==============================] - 87s 3s/step - loss: 0.0469 - accuracy: 0.9877 - val_loss: 0.1084 - val_accuracy: 0.9754\n",
      "Epoch 46/100\n",
      "32/32 [==============================] - 87s 3s/step - loss: 0.0477 - accuracy: 0.9871 - val_loss: 0.1081 - val_accuracy: 0.9742\n",
      "Epoch 47/100\n",
      "32/32 [==============================] - 87s 3s/step - loss: 0.0455 - accuracy: 0.9888 - val_loss: 0.1117 - val_accuracy: 0.9765\n",
      "Epoch 48/100\n",
      "32/32 [==============================] - 87s 3s/step - loss: 0.0454 - accuracy: 0.9888 - val_loss: 0.1095 - val_accuracy: 0.9765\n",
      "Epoch 49/100\n",
      "32/32 [==============================] - 87s 3s/step - loss: 0.0446 - accuracy: 0.9898 - val_loss: 0.1114 - val_accuracy: 0.9765\n",
      "Epoch 50/100\n",
      "32/32 [==============================] - 87s 3s/step - loss: 0.0433 - accuracy: 0.9897 - val_loss: 0.1084 - val_accuracy: 0.9765\n",
      "Epoch 51/100\n",
      "32/32 [==============================] - 86s 3s/step - loss: 0.0436 - accuracy: 0.9889 - val_loss: 0.1079 - val_accuracy: 0.9765\n",
      "Epoch 52/100\n",
      "32/32 [==============================] - 87s 3s/step - loss: 0.0424 - accuracy: 0.9893 - val_loss: 0.1076 - val_accuracy: 0.9765\n",
      "Epoch 53/100\n",
      "32/32 [==============================] - 87s 3s/step - loss: 0.0425 - accuracy: 0.9896 - val_loss: 0.1065 - val_accuracy: 0.9765\n",
      "Epoch 54/100\n",
      "32/32 [==============================] - 87s 3s/step - loss: 0.0413 - accuracy: 0.9904 - val_loss: 0.1050 - val_accuracy: 0.9754\n",
      "Epoch 55/100\n",
      "32/32 [==============================] - 87s 3s/step - loss: 0.0412 - accuracy: 0.9902 - val_loss: 0.1059 - val_accuracy: 0.9776\n",
      "Epoch 56/100\n",
      "32/32 [==============================] - 87s 3s/step - loss: 0.0409 - accuracy: 0.9903 - val_loss: 0.1060 - val_accuracy: 0.9776\n",
      "Epoch 57/100\n",
      "32/32 [==============================] - 87s 3s/step - loss: 0.0401 - accuracy: 0.9918 - val_loss: 0.1056 - val_accuracy: 0.9776\n",
      "Epoch 58/100\n",
      "32/32 [==============================] - 86s 3s/step - loss: 0.0393 - accuracy: 0.9913 - val_loss: 0.1062 - val_accuracy: 0.9776\n",
      "Epoch 59/100\n",
      "32/32 [==============================] - 87s 3s/step - loss: 0.0389 - accuracy: 0.9906 - val_loss: 0.1075 - val_accuracy: 0.9776\n",
      "Epoch 60/100\n",
      "32/32 [==============================] - 87s 3s/step - loss: 0.0384 - accuracy: 0.9912 - val_loss: 0.1035 - val_accuracy: 0.9765\n",
      "Epoch 61/100\n",
      "32/32 [==============================] - 87s 3s/step - loss: 0.0382 - accuracy: 0.9920 - val_loss: 0.1075 - val_accuracy: 0.9765\n",
      "Epoch 62/100\n",
      "32/32 [==============================] - 87s 3s/step - loss: 0.0385 - accuracy: 0.9910 - val_loss: 0.1050 - val_accuracy: 0.9776\n",
      "Epoch 63/100\n",
      "32/32 [==============================] - 87s 3s/step - loss: 0.0371 - accuracy: 0.9913 - val_loss: 0.1043 - val_accuracy: 0.9776\n",
      "Epoch 64/100\n",
      "32/32 [==============================] - 87s 3s/step - loss: 0.0367 - accuracy: 0.9915 - val_loss: 0.1035 - val_accuracy: 0.9776\n",
      "Epoch 65/100\n",
      "32/32 [==============================] - 87s 3s/step - loss: 0.0363 - accuracy: 0.9919 - val_loss: 0.1045 - val_accuracy: 0.9776\n",
      "Epoch 66/100\n",
      "32/32 [==============================] - 86s 3s/step - loss: 0.0362 - accuracy: 0.9923 - val_loss: 0.1027 - val_accuracy: 0.9765\n",
      "Epoch 67/100\n",
      "32/32 [==============================] - 87s 3s/step - loss: 0.0356 - accuracy: 0.9923 - val_loss: 0.1023 - val_accuracy: 0.9776\n",
      "Epoch 68/100\n",
      "32/32 [==============================] - 87s 3s/step - loss: 0.0351 - accuracy: 0.9919 - val_loss: 0.1076 - val_accuracy: 0.9776\n",
      "Epoch 69/100\n",
      "32/32 [==============================] - 87s 3s/step - loss: 0.0348 - accuracy: 0.9924 - val_loss: 0.1031 - val_accuracy: 0.9787\n",
      "Epoch 70/100\n",
      "32/32 [==============================] - 87s 3s/step - loss: 0.0344 - accuracy: 0.9924 - val_loss: 0.1059 - val_accuracy: 0.9787\n",
      "Epoch 71/100\n",
      "32/32 [==============================] - 87s 3s/step - loss: 0.0342 - accuracy: 0.9928 - val_loss: 0.1029 - val_accuracy: 0.9765\n",
      "Epoch 72/100\n",
      "32/32 [==============================] - 87s 3s/step - loss: 0.0349 - accuracy: 0.9917 - val_loss: 0.1045 - val_accuracy: 0.9787\n",
      "Epoch 73/100\n",
      "32/32 [==============================] - 86s 3s/step - loss: 0.0345 - accuracy: 0.9924 - val_loss: 0.1034 - val_accuracy: 0.9787\n",
      "Epoch 74/100\n",
      "32/32 [==============================] - 87s 3s/step - loss: 0.0335 - accuracy: 0.9929 - val_loss: 0.1051 - val_accuracy: 0.9787\n",
      "Epoch 75/100\n",
      "32/32 [==============================] - 87s 3s/step - loss: 0.0329 - accuracy: 0.9934 - val_loss: 0.1013 - val_accuracy: 0.9776\n",
      "Epoch 76/100\n",
      "32/32 [==============================] - 87s 3s/step - loss: 0.0324 - accuracy: 0.9937 - val_loss: 0.1068 - val_accuracy: 0.9798\n",
      "Epoch 77/100\n",
      "32/32 [==============================] - 87s 3s/step - loss: 0.0325 - accuracy: 0.9933 - val_loss: 0.1031 - val_accuracy: 0.9787\n",
      "Epoch 78/100\n",
      "32/32 [==============================] - 87s 3s/step - loss: 0.0317 - accuracy: 0.9935 - val_loss: 0.0998 - val_accuracy: 0.9765\n",
      "Epoch 79/100\n",
      "32/32 [==============================] - 87s 3s/step - loss: 0.0315 - accuracy: 0.9933 - val_loss: 0.1015 - val_accuracy: 0.9787\n",
      "Epoch 80/100\n",
      "32/32 [==============================] - 87s 3s/step - loss: 0.0312 - accuracy: 0.9934 - val_loss: 0.1039 - val_accuracy: 0.9787\n",
      "Epoch 81/100\n",
      "32/32 [==============================] - 86s 3s/step - loss: 0.0309 - accuracy: 0.9935 - val_loss: 0.1005 - val_accuracy: 0.9776\n",
      "Epoch 82/100\n",
      "32/32 [==============================] - 87s 3s/step - loss: 0.0310 - accuracy: 0.9937 - val_loss: 0.1002 - val_accuracy: 0.9776\n",
      "Epoch 83/100\n",
      "32/32 [==============================] - 87s 3s/step - loss: 0.0307 - accuracy: 0.9937 - val_loss: 0.1054 - val_accuracy: 0.9798\n",
      "Epoch 84/100\n",
      "32/32 [==============================] - 87s 3s/step - loss: 0.0305 - accuracy: 0.9937 - val_loss: 0.1037 - val_accuracy: 0.9798\n",
      "Epoch 85/100\n",
      "32/32 [==============================] - 87s 3s/step - loss: 0.0299 - accuracy: 0.9940 - val_loss: 0.1029 - val_accuracy: 0.9787\n",
      "Epoch 86/100\n",
      "32/32 [==============================] - 87s 3s/step - loss: 0.0294 - accuracy: 0.9944 - val_loss: 0.1014 - val_accuracy: 0.9787\n",
      "Epoch 87/100\n",
      "32/32 [==============================] - 87s 3s/step - loss: 0.0295 - accuracy: 0.9942 - val_loss: 0.0994 - val_accuracy: 0.9787\n",
      "Epoch 88/100\n",
      "32/32 [==============================] - 87s 3s/step - loss: 0.0295 - accuracy: 0.9938 - val_loss: 0.1022 - val_accuracy: 0.9787\n",
      "Epoch 89/100\n",
      "32/32 [==============================] - 86s 3s/step - loss: 0.0289 - accuracy: 0.9938 - val_loss: 0.1004 - val_accuracy: 0.9787\n",
      "Epoch 90/100\n",
      "32/32 [==============================] - 87s 3s/step - loss: 0.0287 - accuracy: 0.9943 - val_loss: 0.1063 - val_accuracy: 0.9765\n",
      "Epoch 91/100\n",
      "32/32 [==============================] - 87s 3s/step - loss: 0.0284 - accuracy: 0.9938 - val_loss: 0.1006 - val_accuracy: 0.9787\n",
      "Epoch 92/100\n",
      "32/32 [==============================] - 87s 3s/step - loss: 0.0287 - accuracy: 0.9943 - val_loss: 0.1020 - val_accuracy: 0.9798\n",
      "Epoch 93/100\n",
      "32/32 [==============================] - 87s 3s/step - loss: 0.0284 - accuracy: 0.9943 - val_loss: 0.0991 - val_accuracy: 0.9776\n",
      "Epoch 94/100\n",
      "32/32 [==============================] - 87s 3s/step - loss: 0.0274 - accuracy: 0.9943 - val_loss: 0.0996 - val_accuracy: 0.9787\n",
      "Epoch 95/100\n",
      "32/32 [==============================] - 87s 3s/step - loss: 0.0277 - accuracy: 0.9943 - val_loss: 0.1004 - val_accuracy: 0.9798\n",
      "Epoch 96/100\n",
      "32/32 [==============================] - 86s 3s/step - loss: 0.0269 - accuracy: 0.9944 - val_loss: 0.0980 - val_accuracy: 0.9776\n",
      "Epoch 97/100\n",
      "32/32 [==============================] - 87s 3s/step - loss: 0.0268 - accuracy: 0.9947 - val_loss: 0.1034 - val_accuracy: 0.9798\n",
      "Epoch 98/100\n",
      "32/32 [==============================] - 87s 3s/step - loss: 0.0277 - accuracy: 0.9943 - val_loss: 0.0984 - val_accuracy: 0.9798\n",
      "Epoch 99/100\n",
      "32/32 [==============================] - 88s 3s/step - loss: 0.0268 - accuracy: 0.9943 - val_loss: 0.0985 - val_accuracy: 0.9776\n",
      "Epoch 100/100\n",
      "32/32 [==============================] - 86s 3s/step - loss: 0.0265 - accuracy: 0.9949 - val_loss: 0.1009 - val_accuracy: 0.9798\n"
     ]
    }
   ],
   "source": [
    "# Entrenar el modelo\n",
    "epochs = 100\n",
    "\n",
    "history = model.fit(train_ds, epochs=epochs, validation_data=validation_dataset)#, class_weight=class_weight_dict)"
   ]
  },
  {
   "cell_type": "code",
   "execution_count": 16,
   "metadata": {},
   "outputs": [
    {
     "name": "stdout",
     "output_type": "stream",
     "text": [
      "35/35 [==============================] - 85s 2s/step - loss: 0.1047 - accuracy: 0.9733\n",
      "Precisión en el conjunto de prueba: 0.9733259081840515\n"
     ]
    }
   ],
   "source": [
    "# Evaluar el modelo en el conjunto de prueba\n",
    "test_loss, test_acc = model.evaluate(test_ds)\n",
    "print(f'Precisión en el conjunto de prueba: {test_acc}')"
   ]
  },
  {
   "cell_type": "code",
   "execution_count": 17,
   "metadata": {},
   "outputs": [
    {
     "data": {
      "image/png": "[encoded data removed]",
      "text/plain": [
       "<Figure size 1200x400 with 2 Axes>"
      ]
     },
     "metadata": {},
     "output_type": "display_data"
    }
   ],
   "source": [
    "# Trazar la curva de aprendizaje\n",
    "plt.figure(figsize=(12, 4))\n",
    "plt.subplot(1, 2, 1)\n",
    "plt.plot(history.history['accuracy'], label='Precisión de Entrenamiento')\n",
    "plt.plot(history.history['val_accuracy'], label='Precisión de Validación')\n",
    "plt.legend(loc='lower right')\n",
    "plt.title('Curva de Aprendizaje de la Precisión')\n",
    "\n",
    "plt.subplot(1, 2, 2)\n",
    "plt.plot(history.history['loss'], label='Pérdida de Entrenamiento')\n",
    "plt.plot(history.history['val_loss'], label='Pérdida de Validación')\n",
    "plt.legend(loc='upper right')\n",
    "plt.title('Curva de Aprendizaje de la Pérdida')\n",
    "plt.show()"
   ]
  },
  {
   "cell_type": "code",
   "execution_count": 18,
   "metadata": {},
   "outputs": [],
   "source": [
    "ruta_modelos_entrenados = '/Volumes/SSD_ANDRÉS/Modelos entrenados'"
   ]
  },
  {
   "cell_type": "code",
   "execution_count": 19,
   "metadata": {},
   "outputs": [
    {
     "name": "stdout",
     "output_type": "stream",
     "text": [
      "INFO:tensorflow:Assets written to: /Volumes/SSD_ANDRÉS/Modelos entrenados/resnet_025/assets\n"
     ]
    },
    {
     "name": "stderr",
     "output_type": "stream",
     "text": [
      "INFO:tensorflow:Assets written to: /Volumes/SSD_ANDRÉS/Modelos entrenados/resnet_025/assets\n"
     ]
    }
   ],
   "source": [
    "model.save(ruta_modelos_entrenados+'/resnet_025')"
   ]
  },
  {
   "cell_type": "code",
   "execution_count": 20,
   "metadata": {},
   "outputs": [
    {
     "name": "stderr",
     "output_type": "stream",
     "text": [
      "2024-03-17 17:05:36.575748: I tensorflow/core/grappler/optimizers/custom_graph_optimizer_registry.cc:114] Plugin optimizer for device_type GPU is enabled.\n"
     ]
    },
    {
     "name": "stdout",
     "output_type": "stream",
     "text": [
      "8/8 [==============================] - 3s 308ms/step\n",
      "8/8 [==============================] - 2s 315ms/step\n",
      "8/8 [==============================] - 2s 312ms/step\n",
      "8/8 [==============================] - 2s 312ms/step\n",
      "8/8 [==============================] - 2s 313ms/step\n",
      "8/8 [==============================] - 2s 310ms/step\n",
      "8/8 [==============================] - 2s 311ms/step\n",
      "8/8 [==============================] - 2s 311ms/step\n",
      "8/8 [==============================] - 2s 311ms/step\n",
      "8/8 [==============================] - 2s 312ms/step\n",
      "8/8 [==============================] - 2s 310ms/step\n",
      "8/8 [==============================] - 2s 311ms/step\n",
      "8/8 [==============================] - 2s 311ms/step\n",
      "8/8 [==============================] - 2s 311ms/step\n",
      "8/8 [==============================] - 2s 314ms/step\n",
      "8/8 [==============================] - 2s 311ms/step\n",
      "8/8 [==============================] - 2s 311ms/step\n",
      "8/8 [==============================] - 2s 311ms/step\n",
      "8/8 [==============================] - 2s 312ms/step\n",
      "8/8 [==============================] - 2s 311ms/step\n",
      "8/8 [==============================] - 2s 311ms/step\n",
      "8/8 [==============================] - 2s 310ms/step\n",
      "8/8 [==============================] - 2s 311ms/step\n",
      "8/8 [==============================] - 2s 311ms/step\n",
      "8/8 [==============================] - 2s 311ms/step\n",
      "8/8 [==============================] - 2s 311ms/step\n",
      "8/8 [==============================] - 2s 310ms/step\n",
      "8/8 [==============================] - 2s 311ms/step\n",
      "8/8 [==============================] - 2s 311ms/step\n",
      "8/8 [==============================] - 2s 310ms/step\n",
      "8/8 [==============================] - 2s 311ms/step\n",
      "8/8 [==============================] - 2s 311ms/step\n",
      "8/8 [==============================] - 2s 311ms/step\n",
      "8/8 [==============================] - 2s 311ms/step\n",
      "8/8 [==============================] - 2s 310ms/step\n"
     ]
    }
   ],
   "source": [
    "ruta_modelos_entrenados = '/Volumes/SSD_ANDRÉS/Modelos entrenados'\n",
    "new_model = tf.keras.models.load_model(ruta_modelos_entrenados+'/resnet_025')\n",
    "y_pred = []  # store predicted labels\n",
    "y_true = []  # store true labels\n",
    "\n",
    "# iterate over the dataset\n",
    "for image_batch, label_batch in test_ds:   # use dataset.unbatch() with repeat\n",
    "   # append true labels\n",
    "   #print(\"Label: \",label_batch)\n",
    "   y_true.append(label_batch)\n",
    "   # compute predictions\n",
    "   #print(\"Imagen: \",image_batch)\n",
    "   preds = new_model.predict(image_batch)\n",
    "   # append predicted labels\n",
    "   y_pred.append(np.argmax(preds, axis = - 1))\n",
    "   #print(\"-----------------\")\n",
    "\n",
    "# convert the true and predicted labels into tensors\n",
    "correct_labels = tf.concat([item for item in y_true], axis = 0)\n",
    "predicted_labels = tf.concat([item for item in y_pred], axis = 0)"
   ]
  },
  {
   "cell_type": "code",
   "execution_count": 21,
   "metadata": {},
   "outputs": [
    {
     "data": {
      "image/png": "[encoded data removed]",
      "text/plain": [
       "<Figure size 1000x800 with 2 Axes>"
      ]
     },
     "metadata": {},
     "output_type": "display_data"
    }
   ],
   "source": [
    "import seaborn as sns\n",
    "\n",
    "confusion_mtx = tf.math.confusion_matrix(correct_labels, predicted_labels)\n",
    "plt.figure(figsize=(10, 8))\n",
    "sns.heatmap(confusion_mtx,\n",
    "            xticklabels=class_names,\n",
    "            yticklabels=class_names,\n",
    "            annot=True, fmt='g')\n",
    "plt.xlabel('Prediction')\n",
    "plt.ylabel('Label')\n",
    "plt.show()"
   ]
  },
  {
   "cell_type": "code",
   "execution_count": 22,
   "metadata": {},
   "outputs": [
    {
     "name": "stdout",
     "output_type": "stream",
     "text": [
      "%LP: 94.41900400686892\n",
      "%VLP: 98.88888888888889\n",
      "%VT: 99.38162544169612\n"
     ]
    }
   ],
   "source": [
    "cm = confusion_matrix(correct_labels, predicted_labels)\n",
    "print('%LP: '+str(cm[0][0]/sum(cm[0]) * 100))\n",
    "print('%VLP: '+str(cm[1][1]/sum(cm[1]) * 100))\n",
    "print('%VT: '+str(cm[2][2]/sum(cm[2]) * 100))"
   ]
  },
  {
   "cell_type": "code",
   "execution_count": 23,
   "metadata": {},
   "outputs": [
    {
     "name": "stdout",
     "output_type": "stream",
     "text": [
      "              precision    recall  f1-score   support\n",
      "\n",
      "           0       0.99      0.94      0.97      3494\n",
      "           1       0.98      0.99      0.99      2070\n",
      "           2       0.95      0.99      0.97      3396\n",
      "\n",
      "    accuracy                           0.97      8960\n",
      "   macro avg       0.97      0.98      0.97      8960\n",
      "weighted avg       0.97      0.97      0.97      8960\n",
      "\n"
     ]
    }
   ],
   "source": [
    "from sklearn.metrics import classification_report\n",
    "print(classification_report(correct_labels, predicted_labels))"
   ]
  }
 ],
 "metadata": {
  "kernelspec": {
   "display_name": "Tesis_IA",
   "language": "python",
   "name": "python3"
  },
  "language_info": {
   "codemirror_mode": {
    "name": "ipython",
    "version": 3
   },
   "file_extension": ".py",
   "mimetype": "text/x-python",
   "name": "python",
   "nbconvert_exporter": "python",
   "pygments_lexer": "ipython3",
   "version": "3.8.16"
  },
  "orig_nbformat": 4
 },
 "nbformat": 4,
 "nbformat_minor": 2
}
