{
 "cells": [
  {
   "cell_type": "code",
   "execution_count": 1,
   "metadata": {},
   "outputs": [],
   "source": [
    "import os\n",
    "import numpy as np\n",
    "import tensorflow as tf\n",
    "from tensorflow.keras import layers, models\n",
    "from tensorflow.keras.applications import ResNet50\n",
    "from tensorflow.keras.preprocessing.image import ImageDataGenerator\n",
    "from sklearn.utils.class_weight import compute_class_weight\n",
    "from sklearn.model_selection import train_test_split\n",
    "from sklearn.metrics import classification_report, confusion_matrix\n",
    "import matplotlib.pyplot as plt"
   ]
  },
  {
   "cell_type": "code",
   "execution_count": 2,
   "metadata": {},
   "outputs": [],
   "source": [
    "img_height = 224\n",
    "img_width = 224\n",
    "batch_size = 256"
   ]
  },
  {
   "cell_type": "code",
   "execution_count": 3,
   "metadata": {},
   "outputs": [],
   "source": [
    "train_directory = \"/Volumes/SSD_ANDRÉS/Espectrogramas/off/ns=32_sol=0.9_lowpass_f=0-1\""
   ]
  },
  {
   "cell_type": "code",
   "execution_count": 4,
   "metadata": {},
   "outputs": [
    {
     "name": "stdout",
     "output_type": "stream",
     "text": [
      "Found 6015 files belonging to 3 classes.\n",
      "Using 4812 files for training.\n",
      "Using 1203 files for validation.\n"
     ]
    },
    {
     "name": "stderr",
     "output_type": "stream",
     "text": [
      "2024-03-18 13:18:24.107348: I metal_plugin/src/device/metal_device.cc:1154] Metal device set to: Apple M1\n",
      "2024-03-18 13:18:24.107372: I metal_plugin/src/device/metal_device.cc:296] systemMemory: 16.00 GB\n",
      "2024-03-18 13:18:24.107375: I metal_plugin/src/device/metal_device.cc:313] maxCacheSize: 5.33 GB\n",
      "2024-03-18 13:18:24.107800: I tensorflow/core/common_runtime/pluggable_device/pluggable_device_factory.cc:303] Could not identify NUMA node of platform GPU ID 0, defaulting to 0. Your kernel may not have been built with NUMA support.\n",
      "2024-03-18 13:18:24.108110: I tensorflow/core/common_runtime/pluggable_device/pluggable_device_factory.cc:269] Created TensorFlow device (/job:localhost/replica:0/task:0/device:GPU:0 with 0 MB memory) -> physical PluggableDevice (device: 0, name: METAL, pci bus id: <undefined>)\n"
     ]
    }
   ],
   "source": [
    "# Dividir el set en entrenamiento y validación\n",
    "train_ds, validation_dataset = tf.keras.preprocessing.image_dataset_from_directory(\n",
    "    train_directory, labels='inferred', label_mode='int', batch_size=batch_size, image_size=(img_height, img_width), seed=123, \n",
    "    validation_split=0.2, subset='both')"
   ]
  },
  {
   "cell_type": "code",
   "execution_count": 5,
   "metadata": {},
   "outputs": [
    {
     "name": "stdout",
     "output_type": "stream",
     "text": [
      "Found 8886 files belonging to 3 classes.\n"
     ]
    }
   ],
   "source": [
    "test_directory = \"/Volumes/SSD_ANDRÉS/Espectrogramas/pb1test\"\n",
    "test_ds= tf.keras.preprocessing.image_dataset_from_directory(\n",
    "    test_directory, labels='inferred', label_mode='int', batch_size=batch_size, image_size=(img_height, img_width), seed=123)"
   ]
  },
  {
   "cell_type": "code",
   "execution_count": 6,
   "metadata": {},
   "outputs": [
    {
     "name": "stdout",
     "output_type": "stream",
     "text": [
      "['LP', 'VLP', 'VT']\n",
      "test size:35\n",
      "train size:19\n",
      "step by epoch:19\n"
     ]
    }
   ],
   "source": [
    "# Esta parte se usa para generar datos para pruebas. Si se tienen datos específicos para las pruebas, se deben llamar con el nombre de test_ds\n",
    "class_names = train_ds.class_names\n",
    "print(class_names)\n",
    "\n",
    "num_elements = len(train_ds)\n",
    "\n",
    "porcentaje_test = 0.1\n",
    "train_size = int((1-porcentaje_test) * num_elements)\n",
    "\n",
    "\n",
    "'''test_size = num_elements - train_size\n",
    "test_ds = train_ds.take(test_size)\n",
    "train_ds = train_ds.skip(test_size)'''\n",
    "\n",
    "step_by_epoch = len(train_ds)\n",
    "\n",
    "print(f'test size:{len(test_ds)}')\n",
    "print(f'train size:{len(train_ds)}')\n",
    "print(f'step by epoch:{step_by_epoch}')"
   ]
  },
  {
   "cell_type": "code",
   "execution_count": 7,
   "metadata": {},
   "outputs": [
    {
     "data": {
      "text/plain": [
       "\"y_train = train_ds.map(lambda _, label: label).unbatch()\\ny_train = list(y_train.as_numpy_iterator())\\nclass_weights = compute_class_weight('balanced', classes=np.unique(y_train), y=y_train)\\nclass_weight_dict = dict(enumerate(class_weights))\\nprint(class_weight_dict)\""
      ]
     },
     "execution_count": 7,
     "metadata": {},
     "output_type": "execute_result"
    }
   ],
   "source": [
    "'''y_train = train_ds.map(lambda _, label: label).unbatch()\n",
    "y_train = list(y_train.as_numpy_iterator())\n",
    "class_weights = compute_class_weight('balanced', classes=np.unique(y_train), y=y_train)\n",
    "class_weight_dict = dict(enumerate(class_weights))\n",
    "print(class_weight_dict)'''"
   ]
  },
  {
   "attachments": {},
   "cell_type": "markdown",
   "metadata": {},
   "source": [
    "# Modelo ResNet 50"
   ]
  },
  {
   "cell_type": "code",
   "execution_count": 8,
   "metadata": {},
   "outputs": [],
   "source": [
    "num_classes = len(class_names)"
   ]
  },
  {
   "cell_type": "code",
   "execution_count": 9,
   "metadata": {},
   "outputs": [],
   "source": [
    "# Cargar la arquitectura preentrenada VGG16 sin las capas superiores (sin incluir la capa de salida)\n",
    "base_model = ResNet50(weights='imagenet', include_top=False, input_shape=(img_height, img_width, 3)) #input_shape=(altura, anchura, canales))\n",
    "base_model = tf.keras.Model(inputs=base_model.input, outputs=base_model.layers[-2].output)"
   ]
  },
  {
   "cell_type": "code",
   "execution_count": 10,
   "metadata": {},
   "outputs": [],
   "source": [
    "# Congelar las capas de la base (no se entrenarán durante el ajuste fino)\n",
    "for layer in base_model.layers:\n",
    "    layer.trainable = False"
   ]
  },
  {
   "cell_type": "code",
   "execution_count": 11,
   "metadata": {},
   "outputs": [],
   "source": [
    "# Agregar capas personalizadas a la arquitectura base\n",
    "model = models.Sequential([\n",
    "    base_model,\n",
    "    layers.Flatten(),\n",
    "    layers.Dense(256, activation='relu'),\n",
    "    #layers.Dropout(0.5),\n",
    "    layers.Dense(len(class_names), activation='softmax')#, kernel_regularizer=regularizers.L2(0.000001), activity_regularizer=regularizers.L2(0.000001))\n",
    "])"
   ]
  },
  {
   "cell_type": "code",
   "execution_count": 12,
   "metadata": {},
   "outputs": [],
   "source": [
    "# Definir la programación de la tasa de aprendizaje exponencial\n",
    "lr_schedule = tf.keras.optimizers.schedules.ExponentialDecay(\n",
    "    initial_learning_rate=0.00001,\n",
    "    decay_steps=step_by_epoch*20,\n",
    "    decay_rate=0.96\n",
    ")"
   ]
  },
  {
   "cell_type": "code",
   "execution_count": 13,
   "metadata": {},
   "outputs": [
    {
     "name": "stderr",
     "output_type": "stream",
     "text": [
      "WARNING:absl:At this time, the v2.11+ optimizer `tf.keras.optimizers.SGD` runs slowly on M1/M2 Macs, please use the legacy Keras optimizer instead, located at `tf.keras.optimizers.legacy.SGD`.\n"
     ]
    }
   ],
   "source": [
    "# Crear un optimizador con la programación de la tasa de aprendizaje exponencial y momentum\n",
    "custom_optimizer = tf.keras.optimizers.SGD(learning_rate=lr_schedule, momentum=0.9)"
   ]
  },
  {
   "cell_type": "code",
   "execution_count": 14,
   "metadata": {},
   "outputs": [
    {
     "name": "stderr",
     "output_type": "stream",
     "text": [
      "WARNING:absl:There is a known slowdown when using v2.11+ Keras optimizers on M1/M2 Macs. Falling back to the legacy Keras optimizer, i.e., `tf.keras.optimizers.legacy.SGD`.\n"
     ]
    }
   ],
   "source": [
    "# Compilar el modelo\n",
    "model.compile(optimizer=custom_optimizer,\n",
    "              loss='sparse_categorical_crossentropy',\n",
    "              metrics=['accuracy'])"
   ]
  },
  {
   "cell_type": "code",
   "execution_count": 15,
   "metadata": {},
   "outputs": [
    {
     "name": "stdout",
     "output_type": "stream",
     "text": [
      "Epoch 1/100\n"
     ]
    },
    {
     "name": "stderr",
     "output_type": "stream",
     "text": [
      "2024-03-18 13:18:27.033877: I tensorflow/core/grappler/optimizers/custom_graph_optimizer_registry.cc:114] Plugin optimizer for device_type GPU is enabled.\n"
     ]
    },
    {
     "name": "stdout",
     "output_type": "stream",
     "text": [
      "19/19 [==============================] - ETA: 0s - loss: 0.9150 - accuracy: 0.7751"
     ]
    },
    {
     "name": "stderr",
     "output_type": "stream",
     "text": [
      "2024-03-18 13:19:14.171480: I tensorflow/core/grappler/optimizers/custom_graph_optimizer_registry.cc:114] Plugin optimizer for device_type GPU is enabled.\n"
     ]
    },
    {
     "name": "stdout",
     "output_type": "stream",
     "text": [
      "19/19 [==============================] - 60s 3s/step - loss: 0.9150 - accuracy: 0.7751 - val_loss: 0.3116 - val_accuracy: 0.8869\n",
      "Epoch 2/100\n",
      "19/19 [==============================] - 58s 3s/step - loss: 0.1785 - accuracy: 0.9441 - val_loss: 0.1405 - val_accuracy: 0.9618\n",
      "Epoch 3/100\n",
      "19/19 [==============================] - 58s 3s/step - loss: 0.1075 - accuracy: 0.9680 - val_loss: 0.0940 - val_accuracy: 0.9751\n",
      "Epoch 4/100\n",
      "19/19 [==============================] - 58s 3s/step - loss: 0.0915 - accuracy: 0.9753 - val_loss: 0.0899 - val_accuracy: 0.9751\n",
      "Epoch 5/100\n",
      "19/19 [==============================] - 58s 3s/step - loss: 0.0837 - accuracy: 0.9740 - val_loss: 0.0813 - val_accuracy: 0.9759\n",
      "Epoch 6/100\n",
      "19/19 [==============================] - 58s 3s/step - loss: 0.0756 - accuracy: 0.9778 - val_loss: 0.0689 - val_accuracy: 0.9817\n",
      "Epoch 7/100\n",
      "19/19 [==============================] - 58s 3s/step - loss: 0.0680 - accuracy: 0.9796 - val_loss: 0.0655 - val_accuracy: 0.9817\n",
      "Epoch 8/100\n",
      "19/19 [==============================] - 58s 3s/step - loss: 0.0648 - accuracy: 0.9805 - val_loss: 0.0630 - val_accuracy: 0.9850\n",
      "Epoch 9/100\n",
      "19/19 [==============================] - 58s 3s/step - loss: 0.0622 - accuracy: 0.9813 - val_loss: 0.0615 - val_accuracy: 0.9834\n",
      "Epoch 10/100\n",
      "19/19 [==============================] - 58s 3s/step - loss: 0.0585 - accuracy: 0.9817 - val_loss: 0.0592 - val_accuracy: 0.9834\n",
      "Epoch 11/100\n",
      "19/19 [==============================] - 57s 3s/step - loss: 0.0559 - accuracy: 0.9830 - val_loss: 0.0586 - val_accuracy: 0.9834\n",
      "Epoch 12/100\n",
      "19/19 [==============================] - 58s 3s/step - loss: 0.0556 - accuracy: 0.9832 - val_loss: 0.0580 - val_accuracy: 0.9850\n",
      "Epoch 13/100\n",
      "19/19 [==============================] - 58s 3s/step - loss: 0.0543 - accuracy: 0.9844 - val_loss: 0.0564 - val_accuracy: 0.9850\n",
      "Epoch 14/100\n",
      "19/19 [==============================] - 58s 3s/step - loss: 0.0510 - accuracy: 0.9828 - val_loss: 0.0554 - val_accuracy: 0.9842\n",
      "Epoch 15/100\n",
      "19/19 [==============================] - 58s 3s/step - loss: 0.0492 - accuracy: 0.9857 - val_loss: 0.0547 - val_accuracy: 0.9850\n",
      "Epoch 16/100\n",
      "19/19 [==============================] - 58s 3s/step - loss: 0.0484 - accuracy: 0.9857 - val_loss: 0.0557 - val_accuracy: 0.9842\n",
      "Epoch 17/100\n",
      "19/19 [==============================] - 58s 3s/step - loss: 0.0469 - accuracy: 0.9861 - val_loss: 0.0536 - val_accuracy: 0.9850\n",
      "Epoch 18/100\n",
      "19/19 [==============================] - 58s 3s/step - loss: 0.0467 - accuracy: 0.9857 - val_loss: 0.0569 - val_accuracy: 0.9834\n",
      "Epoch 19/100\n",
      "19/19 [==============================] - 58s 3s/step - loss: 0.0451 - accuracy: 0.9863 - val_loss: 0.0536 - val_accuracy: 0.9842\n",
      "Epoch 20/100\n",
      "19/19 [==============================] - 58s 3s/step - loss: 0.0440 - accuracy: 0.9879 - val_loss: 0.0533 - val_accuracy: 0.9842\n",
      "Epoch 21/100\n",
      "19/19 [==============================] - 58s 3s/step - loss: 0.0439 - accuracy: 0.9875 - val_loss: 0.0529 - val_accuracy: 0.9850\n",
      "Epoch 22/100\n",
      "19/19 [==============================] - 57s 3s/step - loss: 0.0431 - accuracy: 0.9871 - val_loss: 0.0525 - val_accuracy: 0.9842\n",
      "Epoch 23/100\n",
      "19/19 [==============================] - 58s 3s/step - loss: 0.0439 - accuracy: 0.9865 - val_loss: 0.0531 - val_accuracy: 0.9842\n",
      "Epoch 24/100\n",
      "19/19 [==============================] - 58s 3s/step - loss: 0.0415 - accuracy: 0.9879 - val_loss: 0.0520 - val_accuracy: 0.9859\n",
      "Epoch 25/100\n",
      "19/19 [==============================] - 58s 3s/step - loss: 0.0410 - accuracy: 0.9875 - val_loss: 0.0553 - val_accuracy: 0.9842\n",
      "Epoch 26/100\n",
      "19/19 [==============================] - 58s 3s/step - loss: 0.0411 - accuracy: 0.9879 - val_loss: 0.0534 - val_accuracy: 0.9850\n",
      "Epoch 27/100\n",
      "19/19 [==============================] - 58s 3s/step - loss: 0.0399 - accuracy: 0.9882 - val_loss: 0.0515 - val_accuracy: 0.9859\n",
      "Epoch 28/100\n",
      "19/19 [==============================] - 58s 3s/step - loss: 0.0402 - accuracy: 0.9888 - val_loss: 0.0517 - val_accuracy: 0.9842\n",
      "Epoch 29/100\n",
      "19/19 [==============================] - 58s 3s/step - loss: 0.0382 - accuracy: 0.9884 - val_loss: 0.0513 - val_accuracy: 0.9850\n",
      "Epoch 30/100\n",
      "19/19 [==============================] - 58s 3s/step - loss: 0.0380 - accuracy: 0.9884 - val_loss: 0.0558 - val_accuracy: 0.9834\n",
      "Epoch 31/100\n",
      "19/19 [==============================] - 58s 3s/step - loss: 0.0374 - accuracy: 0.9894 - val_loss: 0.0512 - val_accuracy: 0.9859\n",
      "Epoch 32/100\n",
      "19/19 [==============================] - 58s 3s/step - loss: 0.0374 - accuracy: 0.9890 - val_loss: 0.0514 - val_accuracy: 0.9850\n",
      "Epoch 33/100\n",
      "19/19 [==============================] - 57s 3s/step - loss: 0.0364 - accuracy: 0.9890 - val_loss: 0.0523 - val_accuracy: 0.9850\n",
      "Epoch 34/100\n",
      "19/19 [==============================] - 58s 3s/step - loss: 0.0362 - accuracy: 0.9900 - val_loss: 0.0509 - val_accuracy: 0.9859\n",
      "Epoch 35/100\n",
      "19/19 [==============================] - 58s 3s/step - loss: 0.0357 - accuracy: 0.9894 - val_loss: 0.0509 - val_accuracy: 0.9859\n",
      "Epoch 36/100\n",
      "19/19 [==============================] - 58s 3s/step - loss: 0.0355 - accuracy: 0.9898 - val_loss: 0.0509 - val_accuracy: 0.9859\n",
      "Epoch 37/100\n",
      "19/19 [==============================] - 58s 3s/step - loss: 0.0346 - accuracy: 0.9894 - val_loss: 0.0520 - val_accuracy: 0.9850\n",
      "Epoch 38/100\n",
      "19/19 [==============================] - 58s 3s/step - loss: 0.0339 - accuracy: 0.9902 - val_loss: 0.0515 - val_accuracy: 0.9850\n",
      "Epoch 39/100\n",
      "19/19 [==============================] - 58s 3s/step - loss: 0.0341 - accuracy: 0.9900 - val_loss: 0.0513 - val_accuracy: 0.9850\n",
      "Epoch 40/100\n",
      "19/19 [==============================] - 58s 3s/step - loss: 0.0340 - accuracy: 0.9902 - val_loss: 0.0525 - val_accuracy: 0.9842\n",
      "Epoch 41/100\n",
      "19/19 [==============================] - 58s 3s/step - loss: 0.0340 - accuracy: 0.9898 - val_loss: 0.0514 - val_accuracy: 0.9850\n",
      "Epoch 42/100\n",
      "19/19 [==============================] - 58s 3s/step - loss: 0.0331 - accuracy: 0.9906 - val_loss: 0.0512 - val_accuracy: 0.9850\n",
      "Epoch 43/100\n",
      "19/19 [==============================] - 58s 3s/step - loss: 0.0332 - accuracy: 0.9902 - val_loss: 0.0505 - val_accuracy: 0.9859\n",
      "Epoch 44/100\n",
      "19/19 [==============================] - 58s 3s/step - loss: 0.0329 - accuracy: 0.9906 - val_loss: 0.0512 - val_accuracy: 0.9850\n",
      "Epoch 45/100\n",
      "19/19 [==============================] - 58s 3s/step - loss: 0.0324 - accuracy: 0.9906 - val_loss: 0.0505 - val_accuracy: 0.9859\n",
      "Epoch 46/100\n",
      "19/19 [==============================] - 58s 3s/step - loss: 0.0318 - accuracy: 0.9906 - val_loss: 0.0504 - val_accuracy: 0.9859\n",
      "Epoch 47/100\n",
      "19/19 [==============================] - 58s 3s/step - loss: 0.0320 - accuracy: 0.9906 - val_loss: 0.0504 - val_accuracy: 0.9859\n",
      "Epoch 48/100\n",
      "19/19 [==============================] - 58s 3s/step - loss: 0.0312 - accuracy: 0.9906 - val_loss: 0.0503 - val_accuracy: 0.9859\n",
      "Epoch 49/100\n",
      "19/19 [==============================] - 58s 3s/step - loss: 0.0308 - accuracy: 0.9906 - val_loss: 0.0509 - val_accuracy: 0.9850\n",
      "Epoch 50/100\n",
      "19/19 [==============================] - 58s 3s/step - loss: 0.0308 - accuracy: 0.9911 - val_loss: 0.0505 - val_accuracy: 0.9859\n",
      "Epoch 51/100\n",
      "19/19 [==============================] - 58s 3s/step - loss: 0.0303 - accuracy: 0.9913 - val_loss: 0.0504 - val_accuracy: 0.9859\n",
      "Epoch 52/100\n",
      "19/19 [==============================] - 58s 3s/step - loss: 0.0302 - accuracy: 0.9906 - val_loss: 0.0503 - val_accuracy: 0.9859\n",
      "Epoch 53/100\n",
      "19/19 [==============================] - 58s 3s/step - loss: 0.0309 - accuracy: 0.9909 - val_loss: 0.0502 - val_accuracy: 0.9859\n",
      "Epoch 54/100\n",
      "19/19 [==============================] - 58s 3s/step - loss: 0.0299 - accuracy: 0.9915 - val_loss: 0.0512 - val_accuracy: 0.9834\n",
      "Epoch 55/100\n",
      "19/19 [==============================] - 58s 3s/step - loss: 0.0307 - accuracy: 0.9913 - val_loss: 0.0501 - val_accuracy: 0.9859\n",
      "Epoch 56/100\n",
      "19/19 [==============================] - 58s 3s/step - loss: 0.0296 - accuracy: 0.9913 - val_loss: 0.0519 - val_accuracy: 0.9850\n",
      "Epoch 57/100\n",
      "19/19 [==============================] - 58s 3s/step - loss: 0.0287 - accuracy: 0.9909 - val_loss: 0.0506 - val_accuracy: 0.9859\n",
      "Epoch 58/100\n",
      "19/19 [==============================] - 58s 3s/step - loss: 0.0285 - accuracy: 0.9917 - val_loss: 0.0504 - val_accuracy: 0.9859\n",
      "Epoch 59/100\n",
      "19/19 [==============================] - 58s 3s/step - loss: 0.0288 - accuracy: 0.9915 - val_loss: 0.0504 - val_accuracy: 0.9850\n",
      "Epoch 60/100\n",
      "19/19 [==============================] - 58s 3s/step - loss: 0.0286 - accuracy: 0.9917 - val_loss: 0.0500 - val_accuracy: 0.9859\n",
      "Epoch 61/100\n",
      "19/19 [==============================] - 58s 3s/step - loss: 0.0285 - accuracy: 0.9923 - val_loss: 0.0504 - val_accuracy: 0.9859\n",
      "Epoch 62/100\n",
      "19/19 [==============================] - 58s 3s/step - loss: 0.0282 - accuracy: 0.9921 - val_loss: 0.0503 - val_accuracy: 0.9859\n",
      "Epoch 63/100\n",
      "19/19 [==============================] - 58s 3s/step - loss: 0.0275 - accuracy: 0.9921 - val_loss: 0.0519 - val_accuracy: 0.9859\n",
      "Epoch 64/100\n",
      "19/19 [==============================] - 58s 3s/step - loss: 0.0277 - accuracy: 0.9915 - val_loss: 0.0519 - val_accuracy: 0.9859\n",
      "Epoch 65/100\n",
      "19/19 [==============================] - 58s 3s/step - loss: 0.0274 - accuracy: 0.9919 - val_loss: 0.0509 - val_accuracy: 0.9859\n",
      "Epoch 66/100\n",
      "19/19 [==============================] - 58s 3s/step - loss: 0.0269 - accuracy: 0.9917 - val_loss: 0.0501 - val_accuracy: 0.9859\n",
      "Epoch 67/100\n",
      "19/19 [==============================] - 59s 3s/step - loss: 0.0270 - accuracy: 0.9921 - val_loss: 0.0502 - val_accuracy: 0.9859\n",
      "Epoch 68/100\n",
      "19/19 [==============================] - 59s 3s/step - loss: 0.0268 - accuracy: 0.9927 - val_loss: 0.0505 - val_accuracy: 0.9859\n",
      "Epoch 69/100\n",
      "19/19 [==============================] - 59s 3s/step - loss: 0.0264 - accuracy: 0.9923 - val_loss: 0.0510 - val_accuracy: 0.9859\n",
      "Epoch 70/100\n",
      "19/19 [==============================] - 59s 3s/step - loss: 0.0260 - accuracy: 0.9919 - val_loss: 0.0502 - val_accuracy: 0.9859\n",
      "Epoch 71/100\n",
      "19/19 [==============================] - 59s 3s/step - loss: 0.0260 - accuracy: 0.9921 - val_loss: 0.0500 - val_accuracy: 0.9859\n",
      "Epoch 72/100\n",
      "19/19 [==============================] - 59s 3s/step - loss: 0.0260 - accuracy: 0.9923 - val_loss: 0.0501 - val_accuracy: 0.9859\n",
      "Epoch 73/100\n",
      "19/19 [==============================] - 59s 3s/step - loss: 0.0260 - accuracy: 0.9925 - val_loss: 0.0501 - val_accuracy: 0.9859\n",
      "Epoch 74/100\n",
      "19/19 [==============================] - 59s 3s/step - loss: 0.0259 - accuracy: 0.9921 - val_loss: 0.0509 - val_accuracy: 0.9859\n",
      "Epoch 75/100\n",
      "19/19 [==============================] - 59s 3s/step - loss: 0.0257 - accuracy: 0.9927 - val_loss: 0.0504 - val_accuracy: 0.9859\n",
      "Epoch 76/100\n",
      "19/19 [==============================] - 59s 3s/step - loss: 0.0260 - accuracy: 0.9923 - val_loss: 0.0501 - val_accuracy: 0.9850\n",
      "Epoch 77/100\n",
      "19/19 [==============================] - 58s 3s/step - loss: 0.0255 - accuracy: 0.9931 - val_loss: 0.0500 - val_accuracy: 0.9859\n",
      "Epoch 78/100\n",
      "19/19 [==============================] - 59s 3s/step - loss: 0.0249 - accuracy: 0.9927 - val_loss: 0.0501 - val_accuracy: 0.9859\n",
      "Epoch 79/100\n",
      "19/19 [==============================] - 59s 3s/step - loss: 0.0249 - accuracy: 0.9929 - val_loss: 0.0502 - val_accuracy: 0.9859\n",
      "Epoch 80/100\n",
      "19/19 [==============================] - 59s 3s/step - loss: 0.0244 - accuracy: 0.9927 - val_loss: 0.0502 - val_accuracy: 0.9859\n",
      "Epoch 81/100\n",
      "19/19 [==============================] - 59s 3s/step - loss: 0.0246 - accuracy: 0.9927 - val_loss: 0.0500 - val_accuracy: 0.9859\n",
      "Epoch 82/100\n",
      "19/19 [==============================] - 59s 3s/step - loss: 0.0244 - accuracy: 0.9931 - val_loss: 0.0508 - val_accuracy: 0.9859\n",
      "Epoch 83/100\n",
      "19/19 [==============================] - 59s 3s/step - loss: 0.0238 - accuracy: 0.9931 - val_loss: 0.0501 - val_accuracy: 0.9859\n",
      "Epoch 84/100\n",
      "19/19 [==============================] - 59s 3s/step - loss: 0.0237 - accuracy: 0.9936 - val_loss: 0.0501 - val_accuracy: 0.9859\n",
      "Epoch 85/100\n",
      "19/19 [==============================] - 59s 3s/step - loss: 0.0238 - accuracy: 0.9931 - val_loss: 0.0500 - val_accuracy: 0.9859\n",
      "Epoch 86/100\n",
      "19/19 [==============================] - 59s 3s/step - loss: 0.0234 - accuracy: 0.9929 - val_loss: 0.0503 - val_accuracy: 0.9859\n",
      "Epoch 87/100\n",
      "19/19 [==============================] - 59s 3s/step - loss: 0.0238 - accuracy: 0.9933 - val_loss: 0.0500 - val_accuracy: 0.9859\n",
      "Epoch 88/100\n",
      "19/19 [==============================] - 58s 3s/step - loss: 0.0232 - accuracy: 0.9938 - val_loss: 0.0501 - val_accuracy: 0.9859\n",
      "Epoch 89/100\n",
      "19/19 [==============================] - 59s 3s/step - loss: 0.0231 - accuracy: 0.9942 - val_loss: 0.0507 - val_accuracy: 0.9850\n",
      "Epoch 90/100\n",
      "19/19 [==============================] - 59s 3s/step - loss: 0.0228 - accuracy: 0.9938 - val_loss: 0.0505 - val_accuracy: 0.9859\n",
      "Epoch 91/100\n",
      "19/19 [==============================] - 59s 3s/step - loss: 0.0226 - accuracy: 0.9933 - val_loss: 0.0507 - val_accuracy: 0.9850\n",
      "Epoch 92/100\n",
      "19/19 [==============================] - 59s 3s/step - loss: 0.0227 - accuracy: 0.9933 - val_loss: 0.0500 - val_accuracy: 0.9859\n",
      "Epoch 93/100\n",
      "19/19 [==============================] - 59s 3s/step - loss: 0.0225 - accuracy: 0.9933 - val_loss: 0.0504 - val_accuracy: 0.9850\n",
      "Epoch 94/100\n",
      "19/19 [==============================] - 59s 3s/step - loss: 0.0227 - accuracy: 0.9942 - val_loss: 0.0504 - val_accuracy: 0.9859\n",
      "Epoch 95/100\n",
      "19/19 [==============================] - 59s 3s/step - loss: 0.0225 - accuracy: 0.9933 - val_loss: 0.0500 - val_accuracy: 0.9859\n",
      "Epoch 96/100\n",
      "19/19 [==============================] - 59s 3s/step - loss: 0.0222 - accuracy: 0.9936 - val_loss: 0.0500 - val_accuracy: 0.9859\n",
      "Epoch 97/100\n",
      "19/19 [==============================] - 59s 3s/step - loss: 0.0221 - accuracy: 0.9936 - val_loss: 0.0504 - val_accuracy: 0.9850\n",
      "Epoch 98/100\n",
      "19/19 [==============================] - 59s 3s/step - loss: 0.0220 - accuracy: 0.9940 - val_loss: 0.0514 - val_accuracy: 0.9850\n",
      "Epoch 99/100\n",
      "19/19 [==============================] - 58s 3s/step - loss: 0.0216 - accuracy: 0.9940 - val_loss: 0.0500 - val_accuracy: 0.9859\n",
      "Epoch 100/100\n",
      "19/19 [==============================] - 59s 3s/step - loss: 0.0217 - accuracy: 0.9942 - val_loss: 0.0503 - val_accuracy: 0.9850\n"
     ]
    }
   ],
   "source": [
    "# Entrenar el modelo\n",
    "epochs = 100\n",
    "\n",
    "history = model.fit(train_ds, epochs=epochs, validation_data=validation_dataset)#, class_weight=class_weight_dict)"
   ]
  },
  {
   "cell_type": "code",
   "execution_count": 16,
   "metadata": {},
   "outputs": [
    {
     "name": "stdout",
     "output_type": "stream",
     "text": [
      "35/35 [==============================] - 85s 2s/step - loss: 0.4384 - accuracy: 0.8857\n",
      "Precisión en el conjunto de prueba: 0.885662853717804\n"
     ]
    }
   ],
   "source": [
    "# Evaluar el modelo en el conjunto de prueba\n",
    "test_loss, test_acc = model.evaluate(test_ds)\n",
    "print(f'Precisión en el conjunto de prueba: {test_acc}')"
   ]
  },
  {
   "cell_type": "code",
   "execution_count": 17,
   "metadata": {},
   "outputs": [
    {
     "data": {
      "image/png": "[encoded data removed]",
      "text/plain": [
       "<Figure size 1200x400 with 2 Axes>"
      ]
     },
     "metadata": {},
     "output_type": "display_data"
    }
   ],
   "source": [
    "# Trazar la curva de aprendizaje\n",
    "plt.figure(figsize=(12, 4))\n",
    "plt.subplot(1, 2, 1)\n",
    "plt.plot(history.history['accuracy'], label='Precisión de Entrenamiento')\n",
    "plt.plot(history.history['val_accuracy'], label='Precisión de Validación')\n",
    "plt.legend(loc='lower right')\n",
    "plt.title('Curva de Aprendizaje de la Precisión')\n",
    "\n",
    "plt.subplot(1, 2, 2)\n",
    "plt.plot(history.history['loss'], label='Pérdida de Entrenamiento')\n",
    "plt.plot(history.history['val_loss'], label='Pérdida de Validación')\n",
    "plt.legend(loc='upper right')\n",
    "plt.title('Curva de Aprendizaje de la Pérdida')\n",
    "plt.show()"
   ]
  },
  {
   "cell_type": "code",
   "execution_count": 18,
   "metadata": {},
   "outputs": [],
   "source": [
    "ruta_modelos_entrenados = '/Volumes/SSD_ANDRÉS/Modelos entrenados'"
   ]
  },
  {
   "cell_type": "code",
   "execution_count": 19,
   "metadata": {},
   "outputs": [
    {
     "name": "stdout",
     "output_type": "stream",
     "text": [
      "INFO:tensorflow:Assets written to: /Volumes/SSD_ANDRÉS/Modelos entrenados/resnet_01/assets\n"
     ]
    },
    {
     "name": "stderr",
     "output_type": "stream",
     "text": [
      "INFO:tensorflow:Assets written to: /Volumes/SSD_ANDRÉS/Modelos entrenados/resnet_01/assets\n"
     ]
    }
   ],
   "source": [
    "model.save(ruta_modelos_entrenados+'/resnet_01')"
   ]
  },
  {
   "cell_type": "code",
   "execution_count": 20,
   "metadata": {},
   "outputs": [
    {
     "name": "stderr",
     "output_type": "stream",
     "text": [
      "2024-03-18 14:57:32.223390: I tensorflow/core/grappler/optimizers/custom_graph_optimizer_registry.cc:114] Plugin optimizer for device_type GPU is enabled.\n"
     ]
    },
    {
     "name": "stdout",
     "output_type": "stream",
     "text": [
      "8/8 [==============================] - 3s 285ms/step\n",
      "8/8 [==============================] - 2s 316ms/step\n",
      "8/8 [==============================] - 2s 319ms/step\n",
      "8/8 [==============================] - 2s 317ms/step\n",
      "8/8 [==============================] - 2s 317ms/step\n",
      "8/8 [==============================] - 2s 317ms/step\n",
      "8/8 [==============================] - 2s 315ms/step\n",
      "8/8 [==============================] - 2s 315ms/step\n",
      "8/8 [==============================] - 2s 315ms/step\n",
      "8/8 [==============================] - 2s 315ms/step\n",
      "8/8 [==============================] - 2s 316ms/step\n",
      "8/8 [==============================] - 2s 316ms/step\n",
      "8/8 [==============================] - 2s 314ms/step\n",
      "8/8 [==============================] - 2s 317ms/step\n",
      "8/8 [==============================] - 2s 316ms/step\n",
      "8/8 [==============================] - 2s 316ms/step\n",
      "8/8 [==============================] - 2s 316ms/step\n",
      "8/8 [==============================] - 2s 316ms/step\n",
      "8/8 [==============================] - 2s 314ms/step\n",
      "8/8 [==============================] - 2s 315ms/step\n",
      "8/8 [==============================] - 2s 316ms/step\n",
      "8/8 [==============================] - 2s 316ms/step\n",
      "8/8 [==============================] - 2s 317ms/step\n",
      "8/8 [==============================] - 2s 315ms/step\n",
      "8/8 [==============================] - 2s 314ms/step\n",
      "8/8 [==============================] - 2s 316ms/step\n",
      "8/8 [==============================] - 2s 315ms/step\n",
      "8/8 [==============================] - 2s 315ms/step\n",
      "8/8 [==============================] - 2s 315ms/step\n",
      "8/8 [==============================] - 2s 314ms/step\n",
      "8/8 [==============================] - 2s 314ms/step\n",
      "8/8 [==============================] - 2s 315ms/step\n",
      "8/8 [==============================] - 2s 315ms/step\n",
      "8/8 [==============================] - 2s 314ms/step\n"
     ]
    },
    {
     "name": "stderr",
     "output_type": "stream",
     "text": [
      "2024-03-18 14:58:59.853847: I tensorflow/core/grappler/optimizers/custom_graph_optimizer_registry.cc:114] Plugin optimizer for device_type GPU is enabled.\n"
     ]
    },
    {
     "name": "stdout",
     "output_type": "stream",
     "text": [
      "6/6 [==============================] - 2s 360ms/step\n"
     ]
    }
   ],
   "source": [
    "ruta_modelos_entrenados = '/Volumes/SSD_ANDRÉS/Modelos entrenados'\n",
    "new_model = tf.keras.models.load_model(ruta_modelos_entrenados+'/resnet_01')\n",
    "y_pred = []  # store predicted labels\n",
    "y_true = []  # store true labels\n",
    "\n",
    "# iterate over the dataset\n",
    "for image_batch, label_batch in test_ds:   # use dataset.unbatch() with repeat\n",
    "   # append true labels\n",
    "   #print(\"Label: \",label_batch)\n",
    "   y_true.append(label_batch)\n",
    "   # compute predictions\n",
    "   #print(\"Imagen: \",image_batch)\n",
    "   preds = new_model.predict(image_batch)\n",
    "   # append predicted labels\n",
    "   y_pred.append(np.argmax(preds, axis = - 1))\n",
    "   #print(\"-----------------\")\n",
    "\n",
    "# convert the true and predicted labels into tensors\n",
    "correct_labels = tf.concat([item for item in y_true], axis = 0)\n",
    "predicted_labels = tf.concat([item for item in y_pred], axis = 0)"
   ]
  },
  {
   "cell_type": "code",
   "execution_count": 21,
   "metadata": {},
   "outputs": [
    {
     "data": {
      "image/png": "[encoded data removed]",
      "text/plain": [
       "<Figure size 1000x800 with 2 Axes>"
      ]
     },
     "metadata": {},
     "output_type": "display_data"
    }
   ],
   "source": [
    "import seaborn as sns\n",
    "\n",
    "confusion_mtx = tf.math.confusion_matrix(correct_labels, predicted_labels)\n",
    "plt.figure(figsize=(10, 8))\n",
    "sns.heatmap(confusion_mtx,\n",
    "            xticklabels=class_names,\n",
    "            yticklabels=class_names,\n",
    "            annot=True, fmt='g')\n",
    "plt.xlabel('Prediction')\n",
    "plt.ylabel('Label')\n",
    "plt.show()"
   ]
  },
  {
   "cell_type": "code",
   "execution_count": 22,
   "metadata": {},
   "outputs": [
    {
     "name": "stdout",
     "output_type": "stream",
     "text": [
      "%LP: 74.09356725146199\n",
      "%VLP: 99.80676328502416\n",
      "%VT: 96.28975265017668\n"
     ]
    }
   ],
   "source": [
    "cm = confusion_matrix(correct_labels, predicted_labels)\n",
    "print('%LP: '+str(cm[0][0]/sum(cm[0]) * 100))\n",
    "print('%VLP: '+str(cm[1][1]/sum(cm[1]) * 100))\n",
    "print('%VT: '+str(cm[2][2]/sum(cm[2]) * 100))"
   ]
  },
  {
   "cell_type": "code",
   "execution_count": 23,
   "metadata": {},
   "outputs": [
    {
     "name": "stdout",
     "output_type": "stream",
     "text": [
      "              precision    recall  f1-score   support\n",
      "\n",
      "           0       0.97      0.74      0.84      3420\n",
      "           1       0.72      1.00      0.84      2070\n",
      "           2       0.95      0.96      0.96      3396\n",
      "\n",
      "    accuracy                           0.89      8886\n",
      "   macro avg       0.88      0.90      0.88      8886\n",
      "weighted avg       0.91      0.89      0.89      8886\n",
      "\n"
     ]
    }
   ],
   "source": [
    "from sklearn.metrics import classification_report\n",
    "print(classification_report(correct_labels, predicted_labels))"
   ]
  }
 ],
 "metadata": {
  "kernelspec": {
   "display_name": "Tesis_IA",
   "language": "python",
   "name": "python3"
  },
  "language_info": {
   "codemirror_mode": {
    "name": "ipython",
    "version": 3
   },
   "file_extension": ".py",
   "mimetype": "text/x-python",
   "name": "python",
   "nbconvert_exporter": "python",
   "pygments_lexer": "ipython3",
   "version": "3.8.16"
  },
  "orig_nbformat": 4
 },
 "nbformat": 4,
 "nbformat_minor": 2
}
