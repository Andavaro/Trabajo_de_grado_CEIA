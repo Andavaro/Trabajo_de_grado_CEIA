{
 "cells": [
  {
   "cell_type": "code",
   "execution_count": 1,
   "metadata": {},
   "outputs": [],
   "source": [
    "import numpy as np\n",
    "import tensorflow as tf\n",
    "from tensorflow.keras import layers, models\n",
    "from tensorflow.keras.applications import ResNet50\n",
    "from tensorflow.keras.preprocessing.image import ImageDataGenerator\n",
    "from sklearn.utils.class_weight import compute_class_weight\n",
    "from sklearn.model_selection import train_test_split\n",
    "from sklearn.metrics import classification_report, confusion_matrix\n",
    "import matplotlib.pyplot as plt"
   ]
  },
  {
   "cell_type": "code",
   "execution_count": 2,
   "metadata": {},
   "outputs": [],
   "source": [
    "img_height = 224\n",
    "img_width = 224\n",
    "batch_size = 256"
   ]
  },
  {
   "cell_type": "code",
   "execution_count": 3,
   "metadata": {},
   "outputs": [],
   "source": [
    "train_directory = \"/Users/andavaro/Desktop/Andrès/UBA/TrabajoDeGradoCEIA/dataset/Espectrogramas/smote/ns=32_sol=0.9_off_f=0-40\""
   ]
  },
  {
   "cell_type": "code",
   "execution_count": 4,
   "metadata": {},
   "outputs": [
    {
     "name": "stdout",
     "output_type": "stream",
     "text": [
      "Found 8966 files belonging to 3 classes.\n",
      "Using 8070 files for training.\n",
      "Using 896 files for validation.\n"
     ]
    },
    {
     "name": "stderr",
     "output_type": "stream",
     "text": [
      "2024-02-06 15:06:36.644069: I metal_plugin/src/device/metal_device.cc:1154] Metal device set to: Apple M1\n",
      "2024-02-06 15:06:36.644092: I metal_plugin/src/device/metal_device.cc:296] systemMemory: 16.00 GB\n",
      "2024-02-06 15:06:36.644095: I metal_plugin/src/device/metal_device.cc:313] maxCacheSize: 5.33 GB\n",
      "2024-02-06 15:06:36.644122: I tensorflow/core/common_runtime/pluggable_device/pluggable_device_factory.cc:303] Could not identify NUMA node of platform GPU ID 0, defaulting to 0. Your kernel may not have been built with NUMA support.\n",
      "2024-02-06 15:06:36.644135: I tensorflow/core/common_runtime/pluggable_device/pluggable_device_factory.cc:269] Created TensorFlow device (/job:localhost/replica:0/task:0/device:GPU:0 with 0 MB memory) -> physical PluggableDevice (device: 0, name: METAL, pci bus id: <undefined>)\n"
     ]
    }
   ],
   "source": [
    "# Dividir el set en entrenamiento y validación\n",
    "train_ds, validation_dataset = tf.keras.preprocessing.image_dataset_from_directory(\n",
    "    train_directory, labels='inferred', label_mode='int', batch_size=batch_size, image_size=(img_height, img_width), seed=123, \n",
    "    validation_split=0.1, subset='both')"
   ]
  },
  {
   "cell_type": "code",
   "execution_count": 5,
   "metadata": {},
   "outputs": [
    {
     "name": "stdout",
     "output_type": "stream",
     "text": [
      "Found 11008 files belonging to 3 classes.\n"
     ]
    }
   ],
   "source": [
    "test_directory = \"/Users/andavaro/Desktop/Andrès/UBA/TrabajoDeGradoCEIA/dataset/Espectrogramas/multibalance_para_test/ns=32_sol=0.9_off_f=0-40\"\n",
    "test_ds= tf.keras.preprocessing.image_dataset_from_directory(\n",
    "    test_directory, labels='inferred', label_mode='int', batch_size=batch_size, image_size=(img_height, img_width), seed=123)"
   ]
  },
  {
   "cell_type": "code",
   "execution_count": 6,
   "metadata": {},
   "outputs": [
    {
     "name": "stdout",
     "output_type": "stream",
     "text": [
      "['LP', 'VLP', 'VT']\n",
      "test size:43\n",
      "train size:32\n",
      "step by epoch:32\n"
     ]
    }
   ],
   "source": [
    "# Esta parte se usa para generar datos para pruebas. Si se tienen datos específicos para las pruebas, se deben llamar con el nombre de test_ds\n",
    "class_names = train_ds.class_names\n",
    "print(class_names)\n",
    "\n",
    "num_elements = len(train_ds)\n",
    "\n",
    "porcentaje_test = 0.1\n",
    "train_size = int((1-porcentaje_test) * num_elements)\n",
    "\n",
    "\n",
    "'''test_size = num_elements - train_size\n",
    "test_ds = train_ds.take(test_size)\n",
    "train_ds = train_ds.skip(test_size)'''\n",
    "\n",
    "step_by_epoch = len(train_ds)\n",
    "\n",
    "print(f'test size:{len(test_ds)}')\n",
    "print(f'train size:{len(train_ds)}')\n",
    "print(f'step by epoch:{step_by_epoch}')"
   ]
  },
  {
   "cell_type": "code",
   "execution_count": 7,
   "metadata": {},
   "outputs": [
    {
     "data": {
      "text/plain": [
       "\"y_train = train_ds.map(lambda _, label: label).unbatch()\\ny_train = list(y_train.as_numpy_iterator())\\nclass_weights = compute_class_weight('balanced', classes=np.unique(y_train), y=y_train)\\nclass_weight_dict = dict(enumerate(class_weights))\\nprint(class_weight_dict)\""
      ]
     },
     "execution_count": 7,
     "metadata": {},
     "output_type": "execute_result"
    }
   ],
   "source": [
    "'''y_train = train_ds.map(lambda _, label: label).unbatch()\n",
    "y_train = list(y_train.as_numpy_iterator())\n",
    "class_weights = compute_class_weight('balanced', classes=np.unique(y_train), y=y_train)\n",
    "class_weight_dict = dict(enumerate(class_weights))\n",
    "print(class_weight_dict)'''"
   ]
  },
  {
   "attachments": {},
   "cell_type": "markdown",
   "metadata": {},
   "source": [
    "# Modelo ResNet 50"
   ]
  },
  {
   "cell_type": "code",
   "execution_count": 8,
   "metadata": {},
   "outputs": [],
   "source": [
    "num_classes = len(class_names)"
   ]
  },
  {
   "cell_type": "code",
   "execution_count": 9,
   "metadata": {},
   "outputs": [],
   "source": [
    "# Cargar la arquitectura preentrenada VGG16 sin las capas superiores (sin incluir la capa de salida)\n",
    "base_model = ResNet50(weights='imagenet', include_top=False, input_shape=(img_height, img_width, 3)) #input_shape=(altura, anchura, canales))\n",
    "base_model = tf.keras.Model(inputs=base_model.input, outputs=base_model.layers[-2].output)"
   ]
  },
  {
   "cell_type": "code",
   "execution_count": 10,
   "metadata": {},
   "outputs": [],
   "source": [
    "# Congelar las capas de la base (no se entrenarán durante el ajuste fino)\n",
    "for layer in base_model.layers:\n",
    "    layer.trainable = False"
   ]
  },
  {
   "cell_type": "code",
   "execution_count": 11,
   "metadata": {},
   "outputs": [],
   "source": [
    "# Agregar capas personalizadas a la arquitectura base\n",
    "model = models.Sequential([\n",
    "    base_model,\n",
    "    layers.Flatten(),\n",
    "    layers.Dense(256, activation='relu'),\n",
    "    #layers.Dropout(0.5),\n",
    "    layers.Dense(len(class_names), activation='softmax')#, kernel_regularizer=regularizers.L2(0.000001), activity_regularizer=regularizers.L2(0.000001))\n",
    "])"
   ]
  },
  {
   "cell_type": "code",
   "execution_count": 12,
   "metadata": {},
   "outputs": [],
   "source": [
    "# Definir la programación de la tasa de aprendizaje exponencial\n",
    "lr_schedule = tf.keras.optimizers.schedules.ExponentialDecay(\n",
    "    initial_learning_rate=0.00001,\n",
    "    decay_steps=step_by_epoch*20,\n",
    "    decay_rate=0.96\n",
    ")"
   ]
  },
  {
   "cell_type": "code",
   "execution_count": 13,
   "metadata": {},
   "outputs": [
    {
     "name": "stderr",
     "output_type": "stream",
     "text": [
      "WARNING:absl:At this time, the v2.11+ optimizer `tf.keras.optimizers.SGD` runs slowly on M1/M2 Macs, please use the legacy Keras optimizer instead, located at `tf.keras.optimizers.legacy.SGD`.\n"
     ]
    }
   ],
   "source": [
    "# Crear un optimizador con la programación de la tasa de aprendizaje exponencial y momentum\n",
    "custom_optimizer = tf.keras.optimizers.SGD(learning_rate=lr_schedule, momentum=0.9)"
   ]
  },
  {
   "cell_type": "code",
   "execution_count": 14,
   "metadata": {},
   "outputs": [
    {
     "name": "stderr",
     "output_type": "stream",
     "text": [
      "WARNING:absl:There is a known slowdown when using v2.11+ Keras optimizers on M1/M2 Macs. Falling back to the legacy Keras optimizer, i.e., `tf.keras.optimizers.legacy.SGD`.\n"
     ]
    }
   ],
   "source": [
    "# Compilar el modelo\n",
    "model.compile(optimizer=custom_optimizer,\n",
    "              loss='sparse_categorical_crossentropy',\n",
    "              metrics=['accuracy'])"
   ]
  },
  {
   "cell_type": "code",
   "execution_count": 15,
   "metadata": {},
   "outputs": [
    {
     "name": "stdout",
     "output_type": "stream",
     "text": [
      "Epoch 1/100\n"
     ]
    },
    {
     "name": "stderr",
     "output_type": "stream",
     "text": [
      "2024-02-06 15:06:39.170261: I tensorflow/core/grappler/optimizers/custom_graph_optimizer_registry.cc:114] Plugin optimizer for device_type GPU is enabled.\n"
     ]
    },
    {
     "name": "stdout",
     "output_type": "stream",
     "text": [
      "32/32 [==============================] - ETA: 0s - loss: 1.3272 - accuracy: 0.6856"
     ]
    },
    {
     "name": "stderr",
     "output_type": "stream",
     "text": [
      "2024-02-06 15:07:57.582646: I tensorflow/core/grappler/optimizers/custom_graph_optimizer_registry.cc:114] Plugin optimizer for device_type GPU is enabled.\n"
     ]
    },
    {
     "name": "stdout",
     "output_type": "stream",
     "text": [
      "32/32 [==============================] - 88s 3s/step - loss: 1.3272 - accuracy: 0.6856 - val_loss: 0.4776 - val_accuracy: 0.8259\n",
      "Epoch 2/100\n",
      "32/32 [==============================] - 86s 3s/step - loss: 0.3770 - accuracy: 0.8696 - val_loss: 0.3379 - val_accuracy: 0.8761\n",
      "Epoch 3/100\n",
      "32/32 [==============================] - 86s 3s/step - loss: 0.2857 - accuracy: 0.8974 - val_loss: 0.2998 - val_accuracy: 0.8940\n",
      "Epoch 4/100\n",
      "32/32 [==============================] - 86s 3s/step - loss: 0.2503 - accuracy: 0.9081 - val_loss: 0.2708 - val_accuracy: 0.9141\n",
      "Epoch 5/100\n",
      "32/32 [==============================] - 85s 3s/step - loss: 0.2142 - accuracy: 0.9243 - val_loss: 0.2455 - val_accuracy: 0.9208\n",
      "Epoch 6/100\n",
      "32/32 [==============================] - 85s 3s/step - loss: 0.1900 - accuracy: 0.9353 - val_loss: 0.2242 - val_accuracy: 0.9275\n",
      "Epoch 7/100\n",
      "32/32 [==============================] - 86s 3s/step - loss: 0.1770 - accuracy: 0.9392 - val_loss: 0.2140 - val_accuracy: 0.9286\n",
      "Epoch 8/100\n",
      "32/32 [==============================] - 86s 3s/step - loss: 0.1629 - accuracy: 0.9457 - val_loss: 0.2063 - val_accuracy: 0.9308\n",
      "Epoch 9/100\n",
      "32/32 [==============================] - 86s 3s/step - loss: 0.1507 - accuracy: 0.9520 - val_loss: 0.1867 - val_accuracy: 0.9353\n",
      "Epoch 10/100\n",
      "32/32 [==============================] - 86s 3s/step - loss: 0.1441 - accuracy: 0.9535 - val_loss: 0.1849 - val_accuracy: 0.9386\n",
      "Epoch 11/100\n",
      "32/32 [==============================] - 86s 3s/step - loss: 0.1330 - accuracy: 0.9596 - val_loss: 0.1854 - val_accuracy: 0.9431\n",
      "Epoch 12/100\n",
      "32/32 [==============================] - 85s 3s/step - loss: 0.1294 - accuracy: 0.9595 - val_loss: 0.1711 - val_accuracy: 0.9453\n",
      "Epoch 13/100\n",
      "32/32 [==============================] - 86s 3s/step - loss: 0.1230 - accuracy: 0.9628 - val_loss: 0.1725 - val_accuracy: 0.9464\n",
      "Epoch 14/100\n",
      "32/32 [==============================] - 86s 3s/step - loss: 0.1179 - accuracy: 0.9643 - val_loss: 0.1588 - val_accuracy: 0.9509\n",
      "Epoch 15/100\n",
      "32/32 [==============================] - 86s 3s/step - loss: 0.1128 - accuracy: 0.9670 - val_loss: 0.1578 - val_accuracy: 0.9475\n",
      "Epoch 16/100\n",
      "32/32 [==============================] - 86s 3s/step - loss: 0.1089 - accuracy: 0.9668 - val_loss: 0.1551 - val_accuracy: 0.9542\n",
      "Epoch 17/100\n",
      "32/32 [==============================] - 86s 3s/step - loss: 0.1027 - accuracy: 0.9705 - val_loss: 0.1443 - val_accuracy: 0.9587\n",
      "Epoch 18/100\n",
      "32/32 [==============================] - 86s 3s/step - loss: 0.0994 - accuracy: 0.9709 - val_loss: 0.1426 - val_accuracy: 0.9609\n",
      "Epoch 19/100\n",
      "32/32 [==============================] - 85s 3s/step - loss: 0.0967 - accuracy: 0.9719 - val_loss: 0.1383 - val_accuracy: 0.9621\n",
      "Epoch 20/100\n",
      "32/32 [==============================] - 85s 3s/step - loss: 0.0931 - accuracy: 0.9739 - val_loss: 0.1378 - val_accuracy: 0.9609\n",
      "Epoch 21/100\n",
      "32/32 [==============================] - 86s 3s/step - loss: 0.0913 - accuracy: 0.9747 - val_loss: 0.1391 - val_accuracy: 0.9632\n",
      "Epoch 22/100\n",
      "32/32 [==============================] - 86s 3s/step - loss: 0.0887 - accuracy: 0.9756 - val_loss: 0.1341 - val_accuracy: 0.9643\n",
      "Epoch 23/100\n",
      "32/32 [==============================] - 86s 3s/step - loss: 0.0860 - accuracy: 0.9755 - val_loss: 0.1336 - val_accuracy: 0.9665\n",
      "Epoch 24/100\n",
      "32/32 [==============================] - 86s 3s/step - loss: 0.0833 - accuracy: 0.9773 - val_loss: 0.1365 - val_accuracy: 0.9654\n",
      "Epoch 25/100\n",
      "32/32 [==============================] - 86s 3s/step - loss: 0.0829 - accuracy: 0.9781 - val_loss: 0.1287 - val_accuracy: 0.9665\n",
      "Epoch 26/100\n",
      "32/32 [==============================] - 85s 3s/step - loss: 0.0809 - accuracy: 0.9779 - val_loss: 0.1281 - val_accuracy: 0.9676\n",
      "Epoch 27/100\n",
      "32/32 [==============================] - 85s 3s/step - loss: 0.0771 - accuracy: 0.9791 - val_loss: 0.1300 - val_accuracy: 0.9665\n",
      "Epoch 28/100\n",
      "32/32 [==============================] - 86s 3s/step - loss: 0.0763 - accuracy: 0.9792 - val_loss: 0.1237 - val_accuracy: 0.9665\n",
      "Epoch 29/100\n",
      "32/32 [==============================] - 86s 3s/step - loss: 0.0737 - accuracy: 0.9807 - val_loss: 0.1234 - val_accuracy: 0.9676\n",
      "Epoch 30/100\n",
      "32/32 [==============================] - 86s 3s/step - loss: 0.0722 - accuracy: 0.9812 - val_loss: 0.1203 - val_accuracy: 0.9688\n",
      "Epoch 31/100\n",
      "32/32 [==============================] - 86s 3s/step - loss: 0.0706 - accuracy: 0.9817 - val_loss: 0.1276 - val_accuracy: 0.9643\n",
      "Epoch 32/100\n",
      "32/32 [==============================] - 86s 3s/step - loss: 0.0709 - accuracy: 0.9814 - val_loss: 0.1240 - val_accuracy: 0.9654\n",
      "Epoch 33/100\n",
      "32/32 [==============================] - 85s 3s/step - loss: 0.0681 - accuracy: 0.9823 - val_loss: 0.1206 - val_accuracy: 0.9665\n",
      "Epoch 34/100\n",
      "32/32 [==============================] - 85s 3s/step - loss: 0.0676 - accuracy: 0.9830 - val_loss: 0.1179 - val_accuracy: 0.9688\n",
      "Epoch 35/100\n",
      "32/32 [==============================] - 86s 3s/step - loss: 0.0661 - accuracy: 0.9834 - val_loss: 0.1200 - val_accuracy: 0.9676\n",
      "Epoch 36/100\n",
      "32/32 [==============================] - 86s 3s/step - loss: 0.0642 - accuracy: 0.9844 - val_loss: 0.1145 - val_accuracy: 0.9688\n",
      "Epoch 37/100\n",
      "32/32 [==============================] - 86s 3s/step - loss: 0.0639 - accuracy: 0.9846 - val_loss: 0.1163 - val_accuracy: 0.9699\n",
      "Epoch 38/100\n",
      "32/32 [==============================] - 86s 3s/step - loss: 0.0632 - accuracy: 0.9828 - val_loss: 0.1152 - val_accuracy: 0.9721\n",
      "Epoch 39/100\n",
      "32/32 [==============================] - 86s 3s/step - loss: 0.0612 - accuracy: 0.9846 - val_loss: 0.1189 - val_accuracy: 0.9676\n",
      "Epoch 40/100\n",
      "32/32 [==============================] - 85s 3s/step - loss: 0.0608 - accuracy: 0.9856 - val_loss: 0.1133 - val_accuracy: 0.9688\n",
      "Epoch 41/100\n",
      "32/32 [==============================] - 86s 3s/step - loss: 0.0597 - accuracy: 0.9853 - val_loss: 0.1111 - val_accuracy: 0.9688\n",
      "Epoch 42/100\n",
      "32/32 [==============================] - 86s 3s/step - loss: 0.0578 - accuracy: 0.9856 - val_loss: 0.1118 - val_accuracy: 0.9688\n",
      "Epoch 43/100\n",
      "32/32 [==============================] - 87s 3s/step - loss: 0.0570 - accuracy: 0.9857 - val_loss: 0.1125 - val_accuracy: 0.9688\n",
      "Epoch 44/100\n",
      "32/32 [==============================] - 87s 3s/step - loss: 0.0559 - accuracy: 0.9864 - val_loss: 0.1075 - val_accuracy: 0.9688\n",
      "Epoch 45/100\n",
      "32/32 [==============================] - 87s 3s/step - loss: 0.0556 - accuracy: 0.9871 - val_loss: 0.1131 - val_accuracy: 0.9688\n",
      "Epoch 46/100\n",
      "32/32 [==============================] - 87s 3s/step - loss: 0.0554 - accuracy: 0.9869 - val_loss: 0.1108 - val_accuracy: 0.9699\n",
      "Epoch 47/100\n",
      "32/32 [==============================] - 87s 3s/step - loss: 0.0542 - accuracy: 0.9862 - val_loss: 0.1105 - val_accuracy: 0.9699\n",
      "Epoch 48/100\n",
      "32/32 [==============================] - 86s 3s/step - loss: 0.0528 - accuracy: 0.9880 - val_loss: 0.1067 - val_accuracy: 0.9699\n",
      "Epoch 49/100\n",
      "32/32 [==============================] - 87s 3s/step - loss: 0.0520 - accuracy: 0.9875 - val_loss: 0.1076 - val_accuracy: 0.9710\n",
      "Epoch 50/100\n",
      "32/32 [==============================] - 87s 3s/step - loss: 0.0511 - accuracy: 0.9885 - val_loss: 0.1066 - val_accuracy: 0.9721\n",
      "Epoch 51/100\n",
      "32/32 [==============================] - 87s 3s/step - loss: 0.0503 - accuracy: 0.9888 - val_loss: 0.1072 - val_accuracy: 0.9699\n",
      "Epoch 52/100\n",
      "32/32 [==============================] - 87s 3s/step - loss: 0.0493 - accuracy: 0.9895 - val_loss: 0.1038 - val_accuracy: 0.9721\n",
      "Epoch 53/100\n",
      "32/32 [==============================] - 87s 3s/step - loss: 0.0487 - accuracy: 0.9887 - val_loss: 0.1103 - val_accuracy: 0.9688\n",
      "Epoch 54/100\n",
      "32/32 [==============================] - 87s 3s/step - loss: 0.0494 - accuracy: 0.9884 - val_loss: 0.1129 - val_accuracy: 0.9688\n",
      "Epoch 55/100\n",
      "32/32 [==============================] - 86s 3s/step - loss: 0.0498 - accuracy: 0.9884 - val_loss: 0.1064 - val_accuracy: 0.9688\n",
      "Epoch 56/100\n",
      "32/32 [==============================] - 85s 3s/step - loss: 0.0482 - accuracy: 0.9903 - val_loss: 0.1050 - val_accuracy: 0.9699\n",
      "Epoch 57/100\n",
      "32/32 [==============================] - 86s 3s/step - loss: 0.0464 - accuracy: 0.9896 - val_loss: 0.1031 - val_accuracy: 0.9699\n",
      "Epoch 58/100\n",
      "32/32 [==============================] - 86s 3s/step - loss: 0.0462 - accuracy: 0.9892 - val_loss: 0.1066 - val_accuracy: 0.9699\n",
      "Epoch 59/100\n",
      "32/32 [==============================] - 86s 3s/step - loss: 0.0456 - accuracy: 0.9902 - val_loss: 0.1048 - val_accuracy: 0.9676\n",
      "Epoch 60/100\n",
      "32/32 [==============================] - 86s 3s/step - loss: 0.0457 - accuracy: 0.9898 - val_loss: 0.1052 - val_accuracy: 0.9699\n",
      "Epoch 61/100\n",
      "32/32 [==============================] - 86s 3s/step - loss: 0.0442 - accuracy: 0.9908 - val_loss: 0.1056 - val_accuracy: 0.9676\n",
      "Epoch 62/100\n",
      "32/32 [==============================] - 85s 3s/step - loss: 0.0436 - accuracy: 0.9902 - val_loss: 0.1011 - val_accuracy: 0.9732\n",
      "Epoch 63/100\n",
      "32/32 [==============================] - 85s 3s/step - loss: 0.0429 - accuracy: 0.9907 - val_loss: 0.1035 - val_accuracy: 0.9699\n",
      "Epoch 64/100\n",
      "32/32 [==============================] - 86s 3s/step - loss: 0.0427 - accuracy: 0.9907 - val_loss: 0.1030 - val_accuracy: 0.9699\n",
      "Epoch 65/100\n",
      "32/32 [==============================] - 86s 3s/step - loss: 0.0429 - accuracy: 0.9911 - val_loss: 0.1024 - val_accuracy: 0.9699\n",
      "Epoch 66/100\n",
      "32/32 [==============================] - 86s 3s/step - loss: 0.0417 - accuracy: 0.9918 - val_loss: 0.0994 - val_accuracy: 0.9721\n",
      "Epoch 67/100\n",
      "32/32 [==============================] - 86s 3s/step - loss: 0.0410 - accuracy: 0.9914 - val_loss: 0.1018 - val_accuracy: 0.9721\n",
      "Epoch 68/100\n",
      "32/32 [==============================] - 86s 3s/step - loss: 0.0412 - accuracy: 0.9916 - val_loss: 0.1035 - val_accuracy: 0.9699\n",
      "Epoch 69/100\n",
      "32/32 [==============================] - 85s 3s/step - loss: 0.0417 - accuracy: 0.9901 - val_loss: 0.1011 - val_accuracy: 0.9721\n",
      "Epoch 70/100\n",
      "32/32 [==============================] - 85s 3s/step - loss: 0.0401 - accuracy: 0.9916 - val_loss: 0.1008 - val_accuracy: 0.9688\n",
      "Epoch 71/100\n",
      "32/32 [==============================] - 86s 3s/step - loss: 0.0395 - accuracy: 0.9916 - val_loss: 0.0989 - val_accuracy: 0.9743\n",
      "Epoch 72/100\n",
      "32/32 [==============================] - 86s 3s/step - loss: 0.0396 - accuracy: 0.9914 - val_loss: 0.1034 - val_accuracy: 0.9699\n",
      "Epoch 73/100\n",
      "32/32 [==============================] - 86s 3s/step - loss: 0.0392 - accuracy: 0.9916 - val_loss: 0.0998 - val_accuracy: 0.9732\n",
      "Epoch 74/100\n",
      "32/32 [==============================] - 86s 3s/step - loss: 0.0385 - accuracy: 0.9921 - val_loss: 0.1043 - val_accuracy: 0.9710\n",
      "Epoch 75/100\n",
      "32/32 [==============================] - 86s 3s/step - loss: 0.0380 - accuracy: 0.9921 - val_loss: 0.0980 - val_accuracy: 0.9721\n",
      "Epoch 76/100\n",
      "32/32 [==============================] - 85s 3s/step - loss: 0.0378 - accuracy: 0.9923 - val_loss: 0.0984 - val_accuracy: 0.9732\n",
      "Epoch 77/100\n",
      "32/32 [==============================] - 85s 3s/step - loss: 0.0374 - accuracy: 0.9922 - val_loss: 0.1000 - val_accuracy: 0.9699\n",
      "Epoch 78/100\n",
      "32/32 [==============================] - 86s 3s/step - loss: 0.0371 - accuracy: 0.9924 - val_loss: 0.1004 - val_accuracy: 0.9699\n",
      "Epoch 79/100\n",
      "32/32 [==============================] - 86s 3s/step - loss: 0.0363 - accuracy: 0.9929 - val_loss: 0.1020 - val_accuracy: 0.9710\n",
      "Epoch 80/100\n",
      "32/32 [==============================] - 86s 3s/step - loss: 0.0363 - accuracy: 0.9926 - val_loss: 0.0996 - val_accuracy: 0.9699\n",
      "Epoch 81/100\n",
      "32/32 [==============================] - 86s 3s/step - loss: 0.0361 - accuracy: 0.9929 - val_loss: 0.0991 - val_accuracy: 0.9710\n",
      "Epoch 82/100\n",
      "32/32 [==============================] - 86s 3s/step - loss: 0.0356 - accuracy: 0.9934 - val_loss: 0.0993 - val_accuracy: 0.9699\n",
      "Epoch 83/100\n",
      "32/32 [==============================] - 86s 3s/step - loss: 0.0351 - accuracy: 0.9932 - val_loss: 0.0973 - val_accuracy: 0.9721\n",
      "Epoch 84/100\n",
      "32/32 [==============================] - 85s 3s/step - loss: 0.0346 - accuracy: 0.9933 - val_loss: 0.0999 - val_accuracy: 0.9688\n",
      "Epoch 85/100\n",
      "32/32 [==============================] - 86s 3s/step - loss: 0.0348 - accuracy: 0.9936 - val_loss: 0.0993 - val_accuracy: 0.9710\n",
      "Epoch 86/100\n",
      "32/32 [==============================] - 86s 3s/step - loss: 0.0355 - accuracy: 0.9927 - val_loss: 0.0962 - val_accuracy: 0.9732\n",
      "Epoch 87/100\n",
      "32/32 [==============================] - 86s 3s/step - loss: 0.0339 - accuracy: 0.9934 - val_loss: 0.0968 - val_accuracy: 0.9732\n",
      "Epoch 88/100\n",
      "32/32 [==============================] - 86s 3s/step - loss: 0.0333 - accuracy: 0.9939 - val_loss: 0.0978 - val_accuracy: 0.9710\n",
      "Epoch 89/100\n",
      "32/32 [==============================] - 86s 3s/step - loss: 0.0332 - accuracy: 0.9942 - val_loss: 0.0991 - val_accuracy: 0.9710\n",
      "Epoch 90/100\n",
      "32/32 [==============================] - 86s 3s/step - loss: 0.0328 - accuracy: 0.9938 - val_loss: 0.0991 - val_accuracy: 0.9710\n",
      "Epoch 91/100\n",
      "32/32 [==============================] - 85s 3s/step - loss: 0.0325 - accuracy: 0.9939 - val_loss: 0.0941 - val_accuracy: 0.9732\n",
      "Epoch 92/100\n",
      "32/32 [==============================] - 86s 3s/step - loss: 0.0322 - accuracy: 0.9939 - val_loss: 0.0975 - val_accuracy: 0.9710\n",
      "Epoch 93/100\n",
      "32/32 [==============================] - 86s 3s/step - loss: 0.0321 - accuracy: 0.9937 - val_loss: 0.0950 - val_accuracy: 0.9732\n",
      "Epoch 94/100\n",
      "32/32 [==============================] - 86s 3s/step - loss: 0.0319 - accuracy: 0.9943 - val_loss: 0.0967 - val_accuracy: 0.9721\n",
      "Epoch 95/100\n",
      "32/32 [==============================] - 86s 3s/step - loss: 0.0319 - accuracy: 0.9936 - val_loss: 0.0972 - val_accuracy: 0.9721\n",
      "Epoch 96/100\n",
      "32/32 [==============================] - 86s 3s/step - loss: 0.0318 - accuracy: 0.9939 - val_loss: 0.0965 - val_accuracy: 0.9721\n",
      "Epoch 97/100\n",
      "32/32 [==============================] - 86s 3s/step - loss: 0.0312 - accuracy: 0.9943 - val_loss: 0.0956 - val_accuracy: 0.9732\n",
      "Epoch 98/100\n",
      "32/32 [==============================] - 85s 3s/step - loss: 0.0305 - accuracy: 0.9944 - val_loss: 0.0951 - val_accuracy: 0.9732\n",
      "Epoch 99/100\n",
      "32/32 [==============================] - 86s 3s/step - loss: 0.0302 - accuracy: 0.9945 - val_loss: 0.0965 - val_accuracy: 0.9732\n",
      "Epoch 100/100\n",
      "32/32 [==============================] - 86s 3s/step - loss: 0.0301 - accuracy: 0.9944 - val_loss: 0.0953 - val_accuracy: 0.9732\n"
     ]
    }
   ],
   "source": [
    "# Entrenar el modelo\n",
    "epochs = 100\n",
    "\n",
    "history = model.fit(train_ds, epochs=epochs, validation_data=validation_dataset)#, class_weight=class_weight_dict)"
   ]
  },
  {
   "cell_type": "code",
   "execution_count": 16,
   "metadata": {},
   "outputs": [
    {
     "name": "stdout",
     "output_type": "stream",
     "text": [
      "43/43 [==============================] - 103s 2s/step - loss: 0.0606 - accuracy: 0.9812\n",
      "Precisión en el conjunto de prueba: 0.9811955094337463\n"
     ]
    }
   ],
   "source": [
    "# Evaluar el modelo en el conjunto de prueba\n",
    "test_loss, test_acc = model.evaluate(test_ds)\n",
    "print(f'Precisión en el conjunto de prueba: {test_acc}')"
   ]
  },
  {
   "cell_type": "code",
   "execution_count": 17,
   "metadata": {},
   "outputs": [
    {
     "data": {
      "image/png": "[encoded data removed]",
      "text/plain": [
       "<Figure size 1200x400 with 2 Axes>"
      ]
     },
     "metadata": {},
     "output_type": "display_data"
    }
   ],
   "source": [
    "# Trazar la curva de aprendizaje\n",
    "plt.figure(figsize=(12, 4))\n",
    "plt.subplot(1, 2, 1)\n",
    "plt.plot(history.history['accuracy'], label='Precisión de Entrenamiento')\n",
    "plt.plot(history.history['val_accuracy'], label='Precisión de Validación')\n",
    "plt.legend(loc='lower right')\n",
    "plt.title('Curva de Aprendizaje de la Precisión')\n",
    "\n",
    "plt.subplot(1, 2, 2)\n",
    "plt.plot(history.history['loss'], label='Pérdida de Entrenamiento')\n",
    "plt.plot(history.history['val_loss'], label='Pérdida de Validación')\n",
    "plt.legend(loc='upper right')\n",
    "plt.title('Curva de Aprendizaje de la Pérdida')\n",
    "plt.show()"
   ]
  },
  {
   "cell_type": "code",
   "execution_count": 18,
   "metadata": {},
   "outputs": [],
   "source": [
    "ruta_modelos_entrenados = '/Volumes/SSD_ANDRÉS/Modelos entrenados'"
   ]
  },
  {
   "cell_type": "code",
   "execution_count": 19,
   "metadata": {},
   "outputs": [
    {
     "name": "stdout",
     "output_type": "stream",
     "text": [
      "INFO:tensorflow:Assets written to: /Volumes/SSD_ANDRÉS/Modelos entrenados/resnet_RegOpt_adasyn_224_bs256NDO_DATAyruido_decay20epoc/assets\n"
     ]
    },
    {
     "name": "stderr",
     "output_type": "stream",
     "text": [
      "INFO:tensorflow:Assets written to: /Volumes/SSD_ANDRÉS/Modelos entrenados/resnet_RegOpt_adasyn_224_bs256NDO_DATAyruido_decay20epoc/assets\n"
     ]
    }
   ],
   "source": [
    "model.save(ruta_modelos_entrenados+'/resnet_RegOpt_adasyn_224_bs256NDO_DATAyruido_decay20epoc')"
   ]
  },
  {
   "cell_type": "code",
   "execution_count": 20,
   "metadata": {},
   "outputs": [
    {
     "name": "stderr",
     "output_type": "stream",
     "text": [
      "2024-02-06 17:31:37.014049: I tensorflow/core/grappler/optimizers/custom_graph_optimizer_registry.cc:114] Plugin optimizer for device_type GPU is enabled.\n"
     ]
    },
    {
     "name": "stdout",
     "output_type": "stream",
     "text": [
      "8/8 [==============================] - 3s 286ms/step\n",
      "8/8 [==============================] - 2s 312ms/step\n",
      "8/8 [==============================] - 2s 310ms/step\n",
      "8/8 [==============================] - 2s 311ms/step\n",
      "8/8 [==============================] - 2s 306ms/step\n",
      "8/8 [==============================] - 2s 310ms/step\n",
      "8/8 [==============================] - 2s 311ms/step\n",
      "8/8 [==============================] - 2s 312ms/step\n",
      "8/8 [==============================] - 2s 310ms/step\n",
      "8/8 [==============================] - 2s 310ms/step\n",
      "8/8 [==============================] - 2s 309ms/step\n",
      "8/8 [==============================] - 2s 310ms/step\n",
      "8/8 [==============================] - 2s 310ms/step\n",
      "8/8 [==============================] - 2s 310ms/step\n",
      "8/8 [==============================] - 2s 310ms/step\n",
      "8/8 [==============================] - 2s 310ms/step\n",
      "8/8 [==============================] - 2s 310ms/step\n",
      "8/8 [==============================] - 2s 310ms/step\n",
      "8/8 [==============================] - 2s 310ms/step\n",
      "8/8 [==============================] - 2s 310ms/step\n",
      "8/8 [==============================] - 2s 310ms/step\n",
      "8/8 [==============================] - 2s 310ms/step\n",
      "8/8 [==============================] - 2s 311ms/step\n",
      "8/8 [==============================] - 2s 310ms/step\n",
      "8/8 [==============================] - 2s 310ms/step\n",
      "8/8 [==============================] - 2s 310ms/step\n",
      "8/8 [==============================] - 2s 307ms/step\n",
      "8/8 [==============================] - 2s 310ms/step\n",
      "8/8 [==============================] - 2s 309ms/step\n",
      "8/8 [==============================] - 2s 314ms/step\n",
      "8/8 [==============================] - 2s 311ms/step\n",
      "8/8 [==============================] - 2s 311ms/step\n",
      "8/8 [==============================] - 2s 314ms/step\n",
      "8/8 [==============================] - 2s 312ms/step\n",
      "8/8 [==============================] - 2s 309ms/step\n",
      "8/8 [==============================] - 2s 311ms/step\n",
      "8/8 [==============================] - 2s 311ms/step\n",
      "8/8 [==============================] - 2s 311ms/step\n",
      "8/8 [==============================] - 2s 310ms/step\n",
      "8/8 [==============================] - 2s 311ms/step\n",
      "8/8 [==============================] - 2s 310ms/step\n",
      "8/8 [==============================] - 2s 311ms/step\n",
      "8/8 [==============================] - 2s 310ms/step\n"
     ]
    }
   ],
   "source": [
    "ruta_modelos_entrenados = '/Volumes/SSD_ANDRÉS/Modelos entrenados'\n",
    "new_model = tf.keras.models.load_model(ruta_modelos_entrenados+'/resnet_RegOpt_adasyn_224_bs256NDO_DATAyruido_decay20epoc')\n",
    "y_pred = []  # store predicted labels\n",
    "y_true = []  # store true labels\n",
    "\n",
    "# iterate over the dataset\n",
    "for image_batch, label_batch in test_ds:   # use dataset.unbatch() with repeat\n",
    "   # append true labels\n",
    "   #print(\"Label: \",label_batch)\n",
    "   y_true.append(label_batch)\n",
    "   # compute predictions\n",
    "   #print(\"Imagen: \",image_batch)\n",
    "   preds = new_model.predict(image_batch)\n",
    "   # append predicted labels\n",
    "   y_pred.append(np.argmax(preds, axis = - 1))\n",
    "   #print(\"-----------------\")\n",
    "\n",
    "# convert the true and predicted labels into tensors\n",
    "correct_labels = tf.concat([item for item in y_true], axis = 0)\n",
    "predicted_labels = tf.concat([item for item in y_pred], axis = 0)"
   ]
  },
  {
   "cell_type": "code",
   "execution_count": 21,
   "metadata": {},
   "outputs": [
    {
     "data": {
      "image/png": "[encoded data removed]",
      "text/plain": [
       "<Figure size 1000x800 with 2 Axes>"
      ]
     },
     "metadata": {},
     "output_type": "display_data"
    }
   ],
   "source": [
    "import seaborn as sns\n",
    "\n",
    "confusion_mtx = tf.math.confusion_matrix(correct_labels, predicted_labels)\n",
    "plt.figure(figsize=(10, 8))\n",
    "sns.heatmap(confusion_mtx,\n",
    "            xticklabels=class_names,\n",
    "            yticklabels=class_names,\n",
    "            annot=True, fmt='g')\n",
    "plt.xlabel('Prediction')\n",
    "plt.ylabel('Label')\n",
    "plt.show()"
   ]
  },
  {
   "cell_type": "code",
   "execution_count": 22,
   "metadata": {},
   "outputs": [
    {
     "name": "stdout",
     "output_type": "stream",
     "text": [
      "%LP: 97.96156086196855\n",
      "%VLP: 97.6328502415459\n",
      "%VT: 98.86429819452533\n"
     ]
    }
   ],
   "source": [
    "cm = confusion_matrix(correct_labels, predicted_labels)\n",
    "print('%LP: '+str(cm[0][0]/sum(cm[0]) * 100))\n",
    "print('%VLP: '+str(cm[1][1]/sum(cm[1]) * 100))\n",
    "print('%VT: '+str(cm[2][2]/sum(cm[2]) * 100))"
   ]
  },
  {
   "cell_type": "code",
   "execution_count": 23,
   "metadata": {},
   "outputs": [
    {
     "name": "stdout",
     "output_type": "stream",
     "text": [
      "              precision    recall  f1-score   support\n",
      "\n",
      "           0       0.96      0.98      0.97      3434\n",
      "           1       0.99      0.98      0.99      4140\n",
      "           2       0.99      0.99      0.99      3434\n",
      "\n",
      "    accuracy                           0.98     11008\n",
      "   macro avg       0.98      0.98      0.98     11008\n",
      "weighted avg       0.98      0.98      0.98     11008\n",
      "\n"
     ]
    }
   ],
   "source": [
    "from sklearn.metrics import classification_report\n",
    "print(classification_report(correct_labels, predicted_labels))"
   ]
  }
 ],
 "metadata": {
  "kernelspec": {
   "display_name": "Tesis_IA",
   "language": "python",
   "name": "python3"
  },
  "language_info": {
   "codemirror_mode": {
    "name": "ipython",
    "version": 3
   },
   "file_extension": ".py",
   "mimetype": "text/x-python",
   "name": "python",
   "nbconvert_exporter": "python",
   "pygments_lexer": "ipython3",
   "version": "3.8.16"
  },
  "orig_nbformat": 4
 },
 "nbformat": 4,
 "nbformat_minor": 2
}
