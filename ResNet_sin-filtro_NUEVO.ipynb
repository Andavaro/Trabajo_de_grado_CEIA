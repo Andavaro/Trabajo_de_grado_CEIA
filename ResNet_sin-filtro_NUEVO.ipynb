{
 "cells": [
  {
   "cell_type": "code",
   "execution_count": 1,
   "metadata": {},
   "outputs": [],
   "source": [
    "import numpy as np\n",
    "import tensorflow as tf\n",
    "from tensorflow.keras import layers, models\n",
    "from tensorflow.keras.applications import ResNet50\n",
    "from tensorflow.keras.preprocessing.image import ImageDataGenerator\n",
    "from sklearn.utils.class_weight import compute_class_weight\n",
    "from sklearn.model_selection import train_test_split\n",
    "from sklearn.metrics import classification_report, confusion_matrix\n",
    "import matplotlib.pyplot as plt"
   ]
  },
  {
   "cell_type": "code",
   "execution_count": 2,
   "metadata": {},
   "outputs": [],
   "source": [
    "img_height = 224\n",
    "img_width = 224\n",
    "batch_size = 256"
   ]
  },
  {
   "cell_type": "code",
   "execution_count": 3,
   "metadata": {},
   "outputs": [],
   "source": [
    "train_directory = \"/Users/andavaro/Desktop/Andrès/UBA/TrabajoDeGradoCEIA/dataset/Espectrogramas/off/Copia de ns=32_sol=0.9_off_f=0-40\""
   ]
  },
  {
   "cell_type": "code",
   "execution_count": 4,
   "metadata": {},
   "outputs": [
    {
     "name": "stdout",
     "output_type": "stream",
     "text": [
      "Found 7956 files belonging to 3 classes.\n",
      "Using 7161 files for training.\n",
      "Using 795 files for validation.\n"
     ]
    },
    {
     "name": "stderr",
     "output_type": "stream",
     "text": [
      "2024-06-11 19:42:42.354740: I metal_plugin/src/device/metal_device.cc:1154] Metal device set to: Apple M1\n",
      "2024-06-11 19:42:42.354774: I metal_plugin/src/device/metal_device.cc:296] systemMemory: 16.00 GB\n",
      "2024-06-11 19:42:42.354783: I metal_plugin/src/device/metal_device.cc:313] maxCacheSize: 5.33 GB\n",
      "2024-06-11 19:42:42.354841: I tensorflow/core/common_runtime/pluggable_device/pluggable_device_factory.cc:303] Could not identify NUMA node of platform GPU ID 0, defaulting to 0. Your kernel may not have been built with NUMA support.\n",
      "2024-06-11 19:42:42.354867: I tensorflow/core/common_runtime/pluggable_device/pluggable_device_factory.cc:269] Created TensorFlow device (/job:localhost/replica:0/task:0/device:GPU:0 with 0 MB memory) -> physical PluggableDevice (device: 0, name: METAL, pci bus id: <undefined>)\n"
     ]
    }
   ],
   "source": [
    "# Dividir el set en entrenamiento y validación\n",
    "train_ds, validation_dataset = tf.keras.preprocessing.image_dataset_from_directory(\n",
    "    train_directory, labels='inferred', label_mode='int', batch_size=batch_size, image_size=(img_height, img_width), seed=123, \n",
    "    validation_split=0.1, subset='both')"
   ]
  },
  {
   "cell_type": "code",
   "execution_count": 5,
   "metadata": {},
   "outputs": [
    {
     "name": "stdout",
     "output_type": "stream",
     "text": [
      "Tamaño del dataset: 28\n",
      "Tamaño de train: 24\n",
      "Tamaño de test: 4\n"
     ]
    }
   ],
   "source": [
    "# Obtener el tamaño del dataset\n",
    "class_names = train_ds.class_names\n",
    "dataset_size = len(train_ds)\n",
    "print(\"Tamaño del dataset:\", dataset_size)\n",
    "\n",
    "# Calcular el tamaño de los subconjuntos\n",
    "test_size = int(0.15 * dataset_size)\n",
    "train_size = dataset_size - test_size\n",
    "\n",
    "# Dividir el dataset en entrenamiento y prueba\n",
    "test_ds = train_ds.take(test_size)\n",
    "train_ds = train_ds.skip(test_size)\n",
    "\n",
    "print(\"Tamaño de train:\", len(train_ds))\n",
    "print(\"Tamaño de test:\", len(test_ds))"
   ]
  },
  {
   "cell_type": "code",
   "execution_count": 6,
   "metadata": {},
   "outputs": [
    {
     "data": {
      "text/plain": [
       "'test_directory = \"/Users/andavaro/Desktop/Andrès/UBA/TrabajoDeGradoCEIA/dataset/Espectrogramas/multibalance_para_test/ns=32_sol=0.9_off_f=0-40\"\\ntest_ds= tf.keras.preprocessing.image_dataset_from_directory(\\n    test_directory, labels=\\'inferred\\', label_mode=\\'int\\', batch_size=batch_size, image_size=(img_height, img_width), seed=123)'"
      ]
     },
     "execution_count": 6,
     "metadata": {},
     "output_type": "execute_result"
    }
   ],
   "source": [
    "'''test_directory = \"/Users/andavaro/Desktop/Andrès/UBA/TrabajoDeGradoCEIA/dataset/Espectrogramas/multibalance_para_test/ns=32_sol=0.9_off_f=0-40\"\n",
    "test_ds= tf.keras.preprocessing.image_dataset_from_directory(\n",
    "    test_directory, labels='inferred', label_mode='int', batch_size=batch_size, image_size=(img_height, img_width), seed=123)'''"
   ]
  },
  {
   "cell_type": "code",
   "execution_count": 7,
   "metadata": {},
   "outputs": [
    {
     "name": "stdout",
     "output_type": "stream",
     "text": [
      "['LP', 'VLP', 'VT']\n",
      "test size:4\n",
      "train size:24\n",
      "step by epoch:24\n"
     ]
    }
   ],
   "source": [
    "# Esta parte se usa para generar datos para pruebas. Si se tienen datos específicos para las pruebas, se deben llamar con el nombre de test_ds\n",
    "\n",
    "print(class_names)\n",
    "\n",
    "num_elements = len(train_ds)\n",
    "\n",
    "porcentaje_test = 0.1\n",
    "train_size = int((1-porcentaje_test) * num_elements)\n",
    "\n",
    "\n",
    "'''test_size = num_elements - train_size\n",
    "test_ds = train_ds.take(test_size)\n",
    "train_ds = train_ds.skip(test_size)'''\n",
    "\n",
    "step_by_epoch = len(train_ds)\n",
    "\n",
    "print(f'test size:{len(test_ds)}')\n",
    "print(f'train size:{len(train_ds)}')\n",
    "print(f'step by epoch:{step_by_epoch}')"
   ]
  },
  {
   "cell_type": "code",
   "execution_count": 8,
   "metadata": {},
   "outputs": [
    {
     "data": {
      "text/plain": [
       "\"y_train = train_ds.map(lambda _, label: label).unbatch()\\ny_train = list(y_train.as_numpy_iterator())\\nclass_weights = compute_class_weight('balanced', classes=np.unique(y_train), y=y_train)\\nclass_weight_dict = dict(enumerate(class_weights))\\nprint(class_weight_dict)\""
      ]
     },
     "execution_count": 8,
     "metadata": {},
     "output_type": "execute_result"
    }
   ],
   "source": [
    "'''y_train = train_ds.map(lambda _, label: label).unbatch()\n",
    "y_train = list(y_train.as_numpy_iterator())\n",
    "class_weights = compute_class_weight('balanced', classes=np.unique(y_train), y=y_train)\n",
    "class_weight_dict = dict(enumerate(class_weights))\n",
    "print(class_weight_dict)'''"
   ]
  },
  {
   "attachments": {},
   "cell_type": "markdown",
   "metadata": {},
   "source": [
    "# Modelo ResNet 50"
   ]
  },
  {
   "cell_type": "code",
   "execution_count": 9,
   "metadata": {},
   "outputs": [],
   "source": [
    "num_classes = len(class_names)"
   ]
  },
  {
   "cell_type": "code",
   "execution_count": 10,
   "metadata": {},
   "outputs": [],
   "source": [
    "# Cargar la arquitectura preentrenada VGG16 sin las capas superiores (sin incluir la capa de salida)\n",
    "base_model = ResNet50(weights='imagenet', include_top=False, input_shape=(img_height, img_width, 3)) #input_shape=(altura, anchura, canales))\n",
    "base_model = tf.keras.Model(inputs=base_model.input, outputs=base_model.layers[-2].output)"
   ]
  },
  {
   "cell_type": "code",
   "execution_count": 11,
   "metadata": {},
   "outputs": [],
   "source": [
    "# Congelar las capas de la base (no se entrenarán durante el ajuste fino)\n",
    "for layer in base_model.layers:\n",
    "    layer.trainable = False"
   ]
  },
  {
   "cell_type": "code",
   "execution_count": 12,
   "metadata": {},
   "outputs": [],
   "source": [
    "# Agregar capas personalizadas a la arquitectura base\n",
    "model = models.Sequential([\n",
    "    base_model,\n",
    "    layers.Flatten(),\n",
    "    layers.Dense(256, activation='relu'),\n",
    "    #layers.Dropout(0.5),\n",
    "    layers.Dense(len(class_names), activation='softmax')#, kernel_regularizer=regularizers.L2(0.000001), activity_regularizer=regularizers.L2(0.000001))\n",
    "])"
   ]
  },
  {
   "cell_type": "code",
   "execution_count": 13,
   "metadata": {},
   "outputs": [],
   "source": [
    "# Definir la programación de la tasa de aprendizaje exponencial\n",
    "lr_schedule = tf.keras.optimizers.schedules.ExponentialDecay(\n",
    "    initial_learning_rate=0.00001,\n",
    "    decay_steps=step_by_epoch*20,\n",
    "    decay_rate=0.96\n",
    ")"
   ]
  },
  {
   "cell_type": "code",
   "execution_count": 14,
   "metadata": {},
   "outputs": [
    {
     "name": "stderr",
     "output_type": "stream",
     "text": [
      "WARNING:absl:At this time, the v2.11+ optimizer `tf.keras.optimizers.SGD` runs slowly on M1/M2 Macs, please use the legacy Keras optimizer instead, located at `tf.keras.optimizers.legacy.SGD`.\n"
     ]
    }
   ],
   "source": [
    "# Crear un optimizador con la programación de la tasa de aprendizaje exponencial y momentum\n",
    "custom_optimizer = tf.keras.optimizers.SGD(learning_rate=lr_schedule, momentum=0.9)"
   ]
  },
  {
   "cell_type": "code",
   "execution_count": 15,
   "metadata": {},
   "outputs": [
    {
     "name": "stderr",
     "output_type": "stream",
     "text": [
      "WARNING:absl:There is a known slowdown when using v2.11+ Keras optimizers on M1/M2 Macs. Falling back to the legacy Keras optimizer, i.e., `tf.keras.optimizers.legacy.SGD`.\n"
     ]
    }
   ],
   "source": [
    "# Compilar el modelo\n",
    "model.compile(optimizer=custom_optimizer,\n",
    "              loss='sparse_categorical_crossentropy',\n",
    "              metrics=['accuracy'])"
   ]
  },
  {
   "cell_type": "code",
   "execution_count": 16,
   "metadata": {},
   "outputs": [
    {
     "name": "stdout",
     "output_type": "stream",
     "text": [
      "Epoch 1/100\n"
     ]
    },
    {
     "name": "stderr",
     "output_type": "stream",
     "text": [
      "2024-06-11 19:42:44.721639: I tensorflow/core/grappler/optimizers/custom_graph_optimizer_registry.cc:114] Plugin optimizer for device_type GPU is enabled.\n"
     ]
    },
    {
     "name": "stdout",
     "output_type": "stream",
     "text": [
      "24/24 [==============================] - ETA: 0s - loss: 1.2346 - accuracy: 0.6779"
     ]
    },
    {
     "name": "stderr",
     "output_type": "stream",
     "text": [
      "2024-06-11 19:43:52.813301: I tensorflow/core/grappler/optimizers/custom_graph_optimizer_registry.cc:114] Plugin optimizer for device_type GPU is enabled.\n"
     ]
    },
    {
     "name": "stdout",
     "output_type": "stream",
     "text": [
      "24/24 [==============================] - 77s 3s/step - loss: 1.2346 - accuracy: 0.6779 - val_loss: 0.6212 - val_accuracy: 0.8327\n",
      "Epoch 2/100\n",
      "24/24 [==============================] - 69s 3s/step - loss: 0.4365 - accuracy: 0.8569 - val_loss: 0.4356 - val_accuracy: 0.8491\n",
      "Epoch 3/100\n",
      "24/24 [==============================] - 68s 3s/step - loss: 0.3254 - accuracy: 0.8887 - val_loss: 0.3757 - val_accuracy: 0.8704\n",
      "Epoch 4/100\n",
      "24/24 [==============================] - 68s 3s/step - loss: 0.2938 - accuracy: 0.8960 - val_loss: 0.3385 - val_accuracy: 0.8918\n",
      "Epoch 5/100\n",
      "24/24 [==============================] - 70s 3s/step - loss: 0.2621 - accuracy: 0.9086 - val_loss: 0.3151 - val_accuracy: 0.8943\n",
      "Epoch 6/100\n",
      "24/24 [==============================] - 70s 3s/step - loss: 0.2474 - accuracy: 0.9133 - val_loss: 0.2982 - val_accuracy: 0.8943\n",
      "Epoch 7/100\n",
      "24/24 [==============================] - 71s 3s/step - loss: 0.2366 - accuracy: 0.9164 - val_loss: 0.2854 - val_accuracy: 0.8994\n",
      "Epoch 8/100\n",
      "24/24 [==============================] - 68s 3s/step - loss: 0.2332 - accuracy: 0.9156 - val_loss: 0.3481 - val_accuracy: 0.8755\n",
      "Epoch 9/100\n",
      "24/24 [==============================] - 67s 3s/step - loss: 0.2222 - accuracy: 0.9206 - val_loss: 0.2776 - val_accuracy: 0.9006\n",
      "Epoch 10/100\n",
      "24/24 [==============================] - 67s 3s/step - loss: 0.2070 - accuracy: 0.9309 - val_loss: 0.2650 - val_accuracy: 0.8981\n",
      "Epoch 11/100\n",
      "24/24 [==============================] - 68s 3s/step - loss: 0.1982 - accuracy: 0.9259 - val_loss: 0.2544 - val_accuracy: 0.9157\n",
      "Epoch 12/100\n",
      "24/24 [==============================] - 67s 3s/step - loss: 0.1853 - accuracy: 0.9311 - val_loss: 0.2460 - val_accuracy: 0.9107\n",
      "Epoch 13/100\n",
      "24/24 [==============================] - 67s 3s/step - loss: 0.1794 - accuracy: 0.9338 - val_loss: 0.2564 - val_accuracy: 0.9019\n",
      "Epoch 14/100\n",
      "24/24 [==============================] - 69s 3s/step - loss: 0.1741 - accuracy: 0.9345 - val_loss: 0.2332 - val_accuracy: 0.9195\n",
      "Epoch 15/100\n",
      "24/24 [==============================] - 68s 3s/step - loss: 0.1718 - accuracy: 0.9371 - val_loss: 0.2300 - val_accuracy: 0.9145\n",
      "Epoch 16/100\n",
      "24/24 [==============================] - 69s 3s/step - loss: 0.1712 - accuracy: 0.9402 - val_loss: 0.2283 - val_accuracy: 0.9157\n",
      "Epoch 17/100\n",
      "24/24 [==============================] - 68s 3s/step - loss: 0.1646 - accuracy: 0.9381 - val_loss: 0.2225 - val_accuracy: 0.9245\n",
      "Epoch 18/100\n",
      "24/24 [==============================] - 68s 3s/step - loss: 0.1546 - accuracy: 0.9426 - val_loss: 0.2306 - val_accuracy: 0.9333\n",
      "Epoch 19/100\n",
      "24/24 [==============================] - 69s 3s/step - loss: 0.1588 - accuracy: 0.9433 - val_loss: 0.2187 - val_accuracy: 0.9346\n",
      "Epoch 20/100\n",
      "24/24 [==============================] - 68s 3s/step - loss: 0.1462 - accuracy: 0.9457 - val_loss: 0.2143 - val_accuracy: 0.9333\n",
      "Epoch 21/100\n",
      "24/24 [==============================] - 67s 3s/step - loss: 0.1510 - accuracy: 0.9453 - val_loss: 0.2112 - val_accuracy: 0.9258\n",
      "Epoch 22/100\n",
      "24/24 [==============================] - 67s 3s/step - loss: 0.1463 - accuracy: 0.9462 - val_loss: 0.2096 - val_accuracy: 0.9321\n",
      "Epoch 23/100\n",
      "24/24 [==============================] - 67s 3s/step - loss: 0.1400 - accuracy: 0.9490 - val_loss: 0.2092 - val_accuracy: 0.9208\n",
      "Epoch 24/100\n",
      "24/24 [==============================] - 67s 3s/step - loss: 0.1380 - accuracy: 0.9503 - val_loss: 0.2026 - val_accuracy: 0.9321\n",
      "Epoch 25/100\n",
      "24/24 [==============================] - 67s 3s/step - loss: 0.1404 - accuracy: 0.9492 - val_loss: 0.2020 - val_accuracy: 0.9321\n",
      "Epoch 26/100\n",
      "24/24 [==============================] - 67s 3s/step - loss: 0.1340 - accuracy: 0.9511 - val_loss: 0.2063 - val_accuracy: 0.9157\n",
      "Epoch 27/100\n",
      "24/24 [==============================] - 67s 3s/step - loss: 0.1353 - accuracy: 0.9493 - val_loss: 0.2085 - val_accuracy: 0.9170\n",
      "Epoch 28/100\n",
      "24/24 [==============================] - 67s 3s/step - loss: 0.1335 - accuracy: 0.9526 - val_loss: 0.2118 - val_accuracy: 0.9208\n",
      "Epoch 29/100\n",
      "24/24 [==============================] - 67s 3s/step - loss: 0.1283 - accuracy: 0.9521 - val_loss: 0.1957 - val_accuracy: 0.9333\n",
      "Epoch 30/100\n",
      "24/24 [==============================] - 68s 3s/step - loss: 0.1277 - accuracy: 0.9536 - val_loss: 0.1937 - val_accuracy: 0.9283\n",
      "Epoch 31/100\n",
      "24/24 [==============================] - 68s 3s/step - loss: 0.1221 - accuracy: 0.9563 - val_loss: 0.1926 - val_accuracy: 0.9321\n",
      "Epoch 32/100\n",
      "24/24 [==============================] - 69s 3s/step - loss: 0.1254 - accuracy: 0.9542 - val_loss: 0.1958 - val_accuracy: 0.9270\n",
      "Epoch 33/100\n",
      "24/24 [==============================] - 68s 3s/step - loss: 0.1191 - accuracy: 0.9557 - val_loss: 0.1934 - val_accuracy: 0.9283\n",
      "Epoch 34/100\n",
      "24/24 [==============================] - 68s 3s/step - loss: 0.1165 - accuracy: 0.9588 - val_loss: 0.1887 - val_accuracy: 0.9283\n",
      "Epoch 35/100\n",
      "24/24 [==============================] - 68s 3s/step - loss: 0.1248 - accuracy: 0.9547 - val_loss: 0.1927 - val_accuracy: 0.9384\n",
      "Epoch 36/100\n",
      "24/24 [==============================] - 68s 3s/step - loss: 0.1155 - accuracy: 0.9601 - val_loss: 0.1910 - val_accuracy: 0.9296\n",
      "Epoch 37/100\n",
      "24/24 [==============================] - 68s 3s/step - loss: 0.1165 - accuracy: 0.9589 - val_loss: 0.1882 - val_accuracy: 0.9333\n",
      "Epoch 38/100\n",
      "24/24 [==============================] - 67s 3s/step - loss: 0.1129 - accuracy: 0.9593 - val_loss: 0.2014 - val_accuracy: 0.9258\n",
      "Epoch 39/100\n",
      "24/24 [==============================] - 67s 3s/step - loss: 0.1205 - accuracy: 0.9570 - val_loss: 0.1835 - val_accuracy: 0.9333\n",
      "Epoch 40/100\n",
      "24/24 [==============================] - 67s 3s/step - loss: 0.1132 - accuracy: 0.9615 - val_loss: 0.1888 - val_accuracy: 0.9296\n",
      "Epoch 41/100\n",
      "24/24 [==============================] - 67s 3s/step - loss: 0.1093 - accuracy: 0.9622 - val_loss: 0.1850 - val_accuracy: 0.9321\n",
      "Epoch 42/100\n",
      "24/24 [==============================] - 68s 3s/step - loss: 0.1076 - accuracy: 0.9622 - val_loss: 0.1832 - val_accuracy: 0.9296\n",
      "Epoch 43/100\n",
      "24/24 [==============================] - 68s 3s/step - loss: 0.1077 - accuracy: 0.9624 - val_loss: 0.1813 - val_accuracy: 0.9346\n",
      "Epoch 44/100\n",
      "24/24 [==============================] - 69s 3s/step - loss: 0.1051 - accuracy: 0.9614 - val_loss: 0.1801 - val_accuracy: 0.9358\n",
      "Epoch 45/100\n",
      "24/24 [==============================] - 69s 3s/step - loss: 0.1033 - accuracy: 0.9642 - val_loss: 0.1814 - val_accuracy: 0.9396\n",
      "Epoch 46/100\n",
      "24/24 [==============================] - 68s 3s/step - loss: 0.1050 - accuracy: 0.9619 - val_loss: 0.1795 - val_accuracy: 0.9358\n",
      "Epoch 47/100\n",
      "24/24 [==============================] - 68s 3s/step - loss: 0.1042 - accuracy: 0.9638 - val_loss: 0.1798 - val_accuracy: 0.9371\n",
      "Epoch 48/100\n",
      "24/24 [==============================] - 68s 3s/step - loss: 0.1027 - accuracy: 0.9642 - val_loss: 0.1800 - val_accuracy: 0.9333\n",
      "Epoch 49/100\n",
      "24/24 [==============================] - 68s 3s/step - loss: 0.1023 - accuracy: 0.9658 - val_loss: 0.1802 - val_accuracy: 0.9333\n",
      "Epoch 50/100\n",
      "24/24 [==============================] - 68s 3s/step - loss: 0.1015 - accuracy: 0.9661 - val_loss: 0.1813 - val_accuracy: 0.9396\n",
      "Epoch 51/100\n",
      "24/24 [==============================] - 67s 3s/step - loss: 0.1015 - accuracy: 0.9637 - val_loss: 0.1781 - val_accuracy: 0.9421\n",
      "Epoch 52/100\n",
      "24/24 [==============================] - 67s 3s/step - loss: 0.0954 - accuracy: 0.9669 - val_loss: 0.1757 - val_accuracy: 0.9333\n",
      "Epoch 53/100\n",
      "24/24 [==============================] - 67s 3s/step - loss: 0.0942 - accuracy: 0.9663 - val_loss: 0.1773 - val_accuracy: 0.9409\n",
      "Epoch 54/100\n",
      "24/24 [==============================] - 68s 3s/step - loss: 0.1014 - accuracy: 0.9666 - val_loss: 0.1804 - val_accuracy: 0.9346\n",
      "Epoch 55/100\n",
      "24/24 [==============================] - 68s 3s/step - loss: 0.0991 - accuracy: 0.9668 - val_loss: 0.1766 - val_accuracy: 0.9346\n",
      "Epoch 56/100\n",
      "24/24 [==============================] - 69s 3s/step - loss: 0.0945 - accuracy: 0.9661 - val_loss: 0.1769 - val_accuracy: 0.9371\n",
      "Epoch 57/100\n",
      "24/24 [==============================] - 68s 3s/step - loss: 0.0936 - accuracy: 0.9689 - val_loss: 0.1741 - val_accuracy: 0.9384\n",
      "Epoch 58/100\n",
      "24/24 [==============================] - 68s 3s/step - loss: 0.0922 - accuracy: 0.9687 - val_loss: 0.1762 - val_accuracy: 0.9358\n",
      "Epoch 59/100\n",
      "24/24 [==============================] - 68s 3s/step - loss: 0.0959 - accuracy: 0.9686 - val_loss: 0.1753 - val_accuracy: 0.9371\n",
      "Epoch 60/100\n",
      "24/24 [==============================] - 68s 3s/step - loss: 0.0909 - accuracy: 0.9700 - val_loss: 0.1720 - val_accuracy: 0.9396\n",
      "Epoch 61/100\n",
      "24/24 [==============================] - 68s 3s/step - loss: 0.0888 - accuracy: 0.9687 - val_loss: 0.1717 - val_accuracy: 0.9409\n",
      "Epoch 62/100\n",
      "24/24 [==============================] - 67s 3s/step - loss: 0.0911 - accuracy: 0.9687 - val_loss: 0.1786 - val_accuracy: 0.9358\n",
      "Epoch 63/100\n",
      "24/24 [==============================] - 67s 3s/step - loss: 0.0932 - accuracy: 0.9672 - val_loss: 0.1733 - val_accuracy: 0.9371\n",
      "Epoch 64/100\n",
      "24/24 [==============================] - 67s 3s/step - loss: 0.0886 - accuracy: 0.9682 - val_loss: 0.1739 - val_accuracy: 0.9358\n",
      "Epoch 65/100\n",
      "24/24 [==============================] - 67s 3s/step - loss: 0.0876 - accuracy: 0.9708 - val_loss: 0.1701 - val_accuracy: 0.9421\n",
      "Epoch 66/100\n",
      "24/24 [==============================] - 67s 3s/step - loss: 0.0889 - accuracy: 0.9700 - val_loss: 0.1707 - val_accuracy: 0.9396\n",
      "Epoch 67/100\n",
      "24/24 [==============================] - 67s 3s/step - loss: 0.0855 - accuracy: 0.9708 - val_loss: 0.1705 - val_accuracy: 0.9384\n",
      "Epoch 68/100\n",
      "24/24 [==============================] - 69s 3s/step - loss: 0.0893 - accuracy: 0.9695 - val_loss: 0.1721 - val_accuracy: 0.9421\n",
      "Epoch 69/100\n",
      "24/24 [==============================] - 68s 3s/step - loss: 0.0842 - accuracy: 0.9708 - val_loss: 0.1740 - val_accuracy: 0.9396\n",
      "Epoch 70/100\n",
      "24/24 [==============================] - 69s 3s/step - loss: 0.0869 - accuracy: 0.9707 - val_loss: 0.1686 - val_accuracy: 0.9409\n",
      "Epoch 71/100\n",
      "24/24 [==============================] - 68s 3s/step - loss: 0.0816 - accuracy: 0.9720 - val_loss: 0.1699 - val_accuracy: 0.9447\n",
      "Epoch 72/100\n",
      "24/24 [==============================] - 67s 3s/step - loss: 0.0863 - accuracy: 0.9702 - val_loss: 0.1671 - val_accuracy: 0.9434\n",
      "Epoch 73/100\n",
      "24/24 [==============================] - 68s 3s/step - loss: 0.0839 - accuracy: 0.9721 - val_loss: 0.1675 - val_accuracy: 0.9371\n",
      "Epoch 74/100\n",
      "24/24 [==============================] - 68s 3s/step - loss: 0.0833 - accuracy: 0.9721 - val_loss: 0.1662 - val_accuracy: 0.9421\n",
      "Epoch 75/100\n",
      "24/24 [==============================] - 68s 3s/step - loss: 0.0825 - accuracy: 0.9731 - val_loss: 0.1657 - val_accuracy: 0.9434\n",
      "Epoch 76/100\n",
      "24/24 [==============================] - 70s 3s/step - loss: 0.0809 - accuracy: 0.9739 - val_loss: 0.1689 - val_accuracy: 0.9409\n",
      "Epoch 77/100\n",
      "24/24 [==============================] - 70s 3s/step - loss: 0.0826 - accuracy: 0.9725 - val_loss: 0.1658 - val_accuracy: 0.9434\n",
      "Epoch 78/100\n",
      "24/24 [==============================] - 70s 3s/step - loss: 0.0850 - accuracy: 0.9725 - val_loss: 0.1679 - val_accuracy: 0.9409\n",
      "Epoch 79/100\n",
      "24/24 [==============================] - 69s 3s/step - loss: 0.0802 - accuracy: 0.9738 - val_loss: 0.1669 - val_accuracy: 0.9421\n",
      "Epoch 80/100\n",
      "24/24 [==============================] - 69s 3s/step - loss: 0.0817 - accuracy: 0.9725 - val_loss: 0.1648 - val_accuracy: 0.9434\n",
      "Epoch 81/100\n",
      "24/24 [==============================] - 70s 3s/step - loss: 0.0810 - accuracy: 0.9733 - val_loss: 0.1676 - val_accuracy: 0.9409\n",
      "Epoch 82/100\n",
      "24/24 [==============================] - 70s 3s/step - loss: 0.0792 - accuracy: 0.9757 - val_loss: 0.1656 - val_accuracy: 0.9421\n",
      "Epoch 83/100\n",
      "24/24 [==============================] - 69s 3s/step - loss: 0.0765 - accuracy: 0.9747 - val_loss: 0.1679 - val_accuracy: 0.9421\n",
      "Epoch 84/100\n",
      "24/24 [==============================] - 70s 3s/step - loss: 0.0752 - accuracy: 0.9747 - val_loss: 0.1655 - val_accuracy: 0.9421\n",
      "Epoch 85/100\n",
      "24/24 [==============================] - 69s 3s/step - loss: 0.0782 - accuracy: 0.9752 - val_loss: 0.1672 - val_accuracy: 0.9421\n",
      "Epoch 86/100\n",
      "24/24 [==============================] - 67s 3s/step - loss: 0.0774 - accuracy: 0.9765 - val_loss: 0.1637 - val_accuracy: 0.9421\n",
      "Epoch 87/100\n",
      "24/24 [==============================] - 67s 3s/step - loss: 0.0748 - accuracy: 0.9754 - val_loss: 0.1651 - val_accuracy: 0.9434\n",
      "Epoch 88/100\n",
      "24/24 [==============================] - 67s 3s/step - loss: 0.0793 - accuracy: 0.9741 - val_loss: 0.1668 - val_accuracy: 0.9396\n",
      "Epoch 89/100\n",
      "24/24 [==============================] - 67s 3s/step - loss: 0.0797 - accuracy: 0.9734 - val_loss: 0.1643 - val_accuracy: 0.9384\n",
      "Epoch 90/100\n",
      "24/24 [==============================] - 67s 3s/step - loss: 0.0793 - accuracy: 0.9739 - val_loss: 0.1674 - val_accuracy: 0.9409\n",
      "Epoch 91/100\n",
      "24/24 [==============================] - 68s 3s/step - loss: 0.0732 - accuracy: 0.9751 - val_loss: 0.1641 - val_accuracy: 0.9434\n",
      "Epoch 92/100\n",
      "24/24 [==============================] - 68s 3s/step - loss: 0.0742 - accuracy: 0.9762 - val_loss: 0.1646 - val_accuracy: 0.9421\n",
      "Epoch 93/100\n",
      "24/24 [==============================] - 68s 3s/step - loss: 0.0751 - accuracy: 0.9762 - val_loss: 0.1634 - val_accuracy: 0.9409\n",
      "Epoch 94/100\n",
      "24/24 [==============================] - 68s 3s/step - loss: 0.0727 - accuracy: 0.9754 - val_loss: 0.1624 - val_accuracy: 0.9421\n",
      "Epoch 95/100\n",
      "24/24 [==============================] - 68s 3s/step - loss: 0.0717 - accuracy: 0.9775 - val_loss: 0.1633 - val_accuracy: 0.9421\n",
      "Epoch 96/100\n",
      "24/24 [==============================] - 68s 3s/step - loss: 0.0737 - accuracy: 0.9769 - val_loss: 0.1661 - val_accuracy: 0.9434\n",
      "Epoch 97/100\n",
      "24/24 [==============================] - 67s 3s/step - loss: 0.0729 - accuracy: 0.9772 - val_loss: 0.1627 - val_accuracy: 0.9421\n",
      "Epoch 98/100\n",
      "24/24 [==============================] - 67s 3s/step - loss: 0.0693 - accuracy: 0.9770 - val_loss: 0.1625 - val_accuracy: 0.9472\n",
      "Epoch 99/100\n",
      "24/24 [==============================] - 67s 3s/step - loss: 0.0708 - accuracy: 0.9774 - val_loss: 0.1619 - val_accuracy: 0.9434\n",
      "Epoch 100/100\n",
      "24/24 [==============================] - 67s 3s/step - loss: 0.0725 - accuracy: 0.9762 - val_loss: 0.1630 - val_accuracy: 0.9421\n"
     ]
    }
   ],
   "source": [
    "# Entrenar el modelo\n",
    "epochs = 100\n",
    "\n",
    "'''checkpoint_filepath = '/Volumes/SSD_ANDRÉS/PRUEBAS_nuevos_vlp/Checkpoint/resnet_sinfiltro_checkpoint.model.keras'\n",
    "model_checkpoint_callback = tf.keras.callbacks.ModelCheckpoint(\n",
    "    filepath=checkpoint_filepath,\n",
    "    monitor='val_accuracy',\n",
    "    mode='max',\n",
    "    save_best_only=True,\n",
    "    verbose=1)'''\n",
    "\n",
    "history = model.fit(train_ds, epochs=epochs, validation_data=validation_dataset)#, callbacks=[model_checkpoint_callback])#, class_weight=class_weight_dict)"
   ]
  },
  {
   "cell_type": "code",
   "execution_count": 17,
   "metadata": {},
   "outputs": [
    {
     "name": "stdout",
     "output_type": "stream",
     "text": [
      "4/4 [==============================] - 11s 2s/step - loss: 0.0701 - accuracy: 0.9775\n",
      "Precisión en el conjunto de prueba: 0.9775390625\n"
     ]
    }
   ],
   "source": [
    "# Evaluar el modelo en el conjunto de prueba\n",
    "test_loss, test_acc = model.evaluate(test_ds)\n",
    "print(f'Precisión en el conjunto de prueba: {test_acc}')"
   ]
  },
  {
   "cell_type": "code",
   "execution_count": 18,
   "metadata": {},
   "outputs": [
    {
     "data": {
      "image/png": "[encoded data removed]",
      "text/plain": [
       "<Figure size 1200x400 with 2 Axes>"
      ]
     },
     "metadata": {},
     "output_type": "display_data"
    }
   ],
   "source": [
    "# Trazar la curva de aprendizaje\n",
    "plt.figure(figsize=(12, 4))\n",
    "plt.subplot(1, 2, 1)\n",
    "plt.plot(history.history['accuracy'], label='Precisión de Entrenamiento')\n",
    "plt.plot(history.history['val_accuracy'], label='Precisión de Validación')\n",
    "plt.legend(loc='lower right')\n",
    "plt.title('Curva de Aprendizaje de la Precisión')\n",
    "\n",
    "plt.subplot(1, 2, 2)\n",
    "plt.plot(history.history['loss'], label='Pérdida de Entrenamiento')\n",
    "plt.plot(history.history['val_loss'], label='Pérdida de Validación')\n",
    "plt.legend(loc='upper right')\n",
    "plt.title('Curva de Aprendizaje de la Pérdida')\n",
    "plt.show()"
   ]
  },
  {
   "cell_type": "code",
   "execution_count": 19,
   "metadata": {},
   "outputs": [],
   "source": [
    "ruta_modelos_entrenados = '/Volumes/SSD_ANDRÉS/PRUEBAS_nuevos_vlp/Modelos entrenadoss'"
   ]
  },
  {
   "cell_type": "code",
   "execution_count": 20,
   "metadata": {},
   "outputs": [
    {
     "name": "stdout",
     "output_type": "stream",
     "text": [
      "INFO:tensorflow:Assets written to: /Volumes/SSD_ANDRÉS/PRUEBAS_nuevos_vlp/Modelos entrenadoss/resnet_RegOpt_adasyn_224_bs256NDO_DATAyruido_decay20epoc/assets\n"
     ]
    },
    {
     "name": "stderr",
     "output_type": "stream",
     "text": [
      "INFO:tensorflow:Assets written to: /Volumes/SSD_ANDRÉS/PRUEBAS_nuevos_vlp/Modelos entrenadoss/resnet_RegOpt_adasyn_224_bs256NDO_DATAyruido_decay20epoc/assets\n"
     ]
    }
   ],
   "source": [
    "model.save(ruta_modelos_entrenados+'/resnet_RegOpt_adasyn_224_bs256NDO_DATAyruido_decay20epoc')"
   ]
  },
  {
   "cell_type": "code",
   "execution_count": 22,
   "metadata": {},
   "outputs": [
    {
     "name": "stderr",
     "output_type": "stream",
     "text": [
      "2024-06-11 21:41:24.319641: I tensorflow/core/grappler/optimizers/custom_graph_optimizer_registry.cc:114] Plugin optimizer for device_type GPU is enabled.\n"
     ]
    },
    {
     "name": "stdout",
     "output_type": "stream",
     "text": [
      "8/8 [==============================] - 3s 306ms/step\n",
      "8/8 [==============================] - 2s 318ms/step\n",
      "8/8 [==============================] - 2s 313ms/step\n",
      "8/8 [==============================] - 2s 311ms/step\n"
     ]
    }
   ],
   "source": [
    "ruta_modelos_entrenados = '/Volumes/SSD_ANDRÉS/PRUEBAS_nuevos_vlp/Modelos entrenadoss'\n",
    "new_model = tf.keras.models.load_model(ruta_modelos_entrenados+'/resnet_RegOpt_adasyn_224_bs256NDO_DATAyruido_decay20epoc')\n",
    "y_pred = []  # store predicted labels\n",
    "y_true = []  # store true labels\n",
    "\n",
    "# iterate over the dataset\n",
    "for image_batch, label_batch in test_ds:   # use dataset.unbatch() with repeat\n",
    "   # append true labels\n",
    "   #print(\"Label: \",label_batch)\n",
    "   y_true.append(label_batch)\n",
    "   # compute predictions\n",
    "   #print(\"Imagen: \",image_batch)\n",
    "   preds = new_model.predict(image_batch)\n",
    "   # append predicted labels\n",
    "   y_pred.append(np.argmax(preds, axis = - 1))\n",
    "   #print(\"-----------------\")\n",
    "\n",
    "# convert the true and predicted labels into tensors\n",
    "correct_labels = tf.concat([item for item in y_true], axis = 0)\n",
    "predicted_labels = tf.concat([item for item in y_pred], axis = 0)"
   ]
  },
  {
   "cell_type": "code",
   "execution_count": 23,
   "metadata": {},
   "outputs": [
    {
     "data": {
      "image/png": "[encoded data removed]",
      "text/plain": [
       "<Figure size 1000x800 with 2 Axes>"
      ]
     },
     "metadata": {},
     "output_type": "display_data"
    }
   ],
   "source": [
    "import seaborn as sns\n",
    "\n",
    "confusion_mtx = tf.math.confusion_matrix(correct_labels, predicted_labels)\n",
    "plt.figure(figsize=(10, 8))\n",
    "sns.heatmap(confusion_mtx,\n",
    "            xticklabels=class_names,\n",
    "            yticklabels=class_names,\n",
    "            annot=True, fmt='g')\n",
    "plt.xlabel('Prediction')\n",
    "plt.ylabel('Label')\n",
    "plt.show()"
   ]
  },
  {
   "cell_type": "code",
   "execution_count": 24,
   "metadata": {},
   "outputs": [
    {
     "name": "stdout",
     "output_type": "stream",
     "text": [
      "%LP: 97.4477958236659\n",
      "%VLP: 88.96551724137932\n",
      "%VT: 99.10714285714286\n"
     ]
    }
   ],
   "source": [
    "cm = confusion_matrix(correct_labels, predicted_labels)\n",
    "print('%LP: '+str(cm[0][0]/sum(cm[0]) * 100))\n",
    "print('%VLP: '+str(cm[1][1]/sum(cm[1]) * 100))\n",
    "print('%VT: '+str(cm[2][2]/sum(cm[2]) * 100))"
   ]
  },
  {
   "cell_type": "code",
   "execution_count": 26,
   "metadata": {},
   "outputs": [
    {
     "name": "stdout",
     "output_type": "stream",
     "text": [
      "              precision    recall  f1-score   support\n",
      "\n",
      "           0     0.9545    0.9745    0.9644       431\n",
      "           1     0.9485    0.8897    0.9181       145\n",
      "           2     0.9911    0.9911    0.9911       448\n",
      "\n",
      "    accuracy                         0.9697      1024\n",
      "   macro avg     0.9647    0.9517    0.9579      1024\n",
      "weighted avg     0.9697    0.9697    0.9695      1024\n",
      "\n"
     ]
    }
   ],
   "source": [
    "from sklearn.metrics import classification_report\n",
    "print(classification_report(correct_labels, predicted_labels, digits=4))"
   ]
  }
 ],
 "metadata": {
  "kernelspec": {
   "display_name": "Tesis_IA",
   "language": "python",
   "name": "python3"
  },
  "language_info": {
   "codemirror_mode": {
    "name": "ipython",
    "version": 3
   },
   "file_extension": ".py",
   "mimetype": "text/x-python",
   "name": "python",
   "nbconvert_exporter": "python",
   "pygments_lexer": "ipython3",
   "version": "3.8.16"
  },
  "orig_nbformat": 4
 },
 "nbformat": 4,
 "nbformat_minor": 2
}
