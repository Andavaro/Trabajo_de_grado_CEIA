{
 "cells": [
  {
   "cell_type": "code",
   "execution_count": 1,
   "metadata": {},
   "outputs": [],
   "source": [
    "import os\n",
    "import numpy as np\n",
    "import tensorflow as tf\n",
    "from tensorflow.keras import layers, models, regularizers\n",
    "from tensorflow.keras.applications.efficientnet import EfficientNetB0 as EfficientNet\n",
    "from sklearn.utils.class_weight import compute_class_weight\n",
    "from sklearn.model_selection import train_test_split\n",
    "from sklearn.metrics import classification_report, confusion_matrix\n",
    "import matplotlib.pyplot as plt"
   ]
  },
  {
   "cell_type": "code",
   "execution_count": 2,
   "metadata": {},
   "outputs": [],
   "source": [
    "img_height = 224\n",
    "img_width = 224\n",
    "batch_size = 256"
   ]
  },
  {
   "cell_type": "code",
   "execution_count": 3,
   "metadata": {},
   "outputs": [
    {
     "name": "stdout",
     "output_type": "stream",
     "text": [
      "Found 7957 files belonging to 3 classes.\n"
     ]
    }
   ],
   "source": [
    "test_directory = \"/Users/andavaro/Desktop/Andrès/UBA/TrabajoDeGradoCEIA/dataset/Espectrogramas/multibalance_para_test/Copia de ns=32_sol=0.9_off_f=0-40\"\n",
    "test_ds= tf.keras.preprocessing.image_dataset_from_directory(\n",
    "    test_directory, labels='inferred', label_mode='int', batch_size=batch_size, image_size=(img_height, img_width), seed=123)"
   ]
  },
  {
   "cell_type": "code",
   "execution_count": 4,
   "metadata": {},
   "outputs": [
    {
     "name": "stdout",
     "output_type": "stream",
     "text": [
      "8/8 [==============================] - 3s 348ms/step\n",
      "8/8 [==============================] - 3s 346ms/step\n",
      "8/8 [==============================] - 3s 349ms/step\n",
      "8/8 [==============================] - 3s 344ms/step\n",
      "8/8 [==============================] - 3s 344ms/step\n",
      "8/8 [==============================] - 3s 345ms/step\n",
      "8/8 [==============================] - 3s 345ms/step\n",
      "8/8 [==============================] - 3s 355ms/step\n",
      "8/8 [==============================] - 3s 347ms/step\n",
      "8/8 [==============================] - 3s 352ms/step\n",
      "8/8 [==============================] - 3s 354ms/step\n",
      "8/8 [==============================] - 3s 341ms/step\n",
      "8/8 [==============================] - 3s 342ms/step\n",
      "8/8 [==============================] - 3s 343ms/step\n",
      "8/8 [==============================] - 3s 344ms/step\n",
      "8/8 [==============================] - 3s 341ms/step\n",
      "8/8 [==============================] - 3s 344ms/step\n",
      "8/8 [==============================] - 3s 354ms/step\n",
      "8/8 [==============================] - 3s 345ms/step\n",
      "8/8 [==============================] - 3s 345ms/step\n",
      "8/8 [==============================] - 3s 356ms/step\n",
      "8/8 [==============================] - 3s 347ms/step\n",
      "8/8 [==============================] - 3s 347ms/step\n",
      "8/8 [==============================] - 3s 362ms/step\n",
      "8/8 [==============================] - 3s 345ms/step\n",
      "8/8 [==============================] - 3s 342ms/step\n",
      "8/8 [==============================] - 3s 361ms/step\n",
      "8/8 [==============================] - 3s 352ms/step\n",
      "8/8 [==============================] - 3s 352ms/step\n",
      "8/8 [==============================] - 3s 420ms/step\n",
      "8/8 [==============================] - 3s 428ms/step\n",
      "1/1 [==============================] - 1s 874ms/step\n"
     ]
    }
   ],
   "source": [
    "ruta_modelos_entrenados = '/Volumes/SSD_ANDRÉS/Modelos entrenados'\n",
    "new_model = tf.keras.models.load_model(ruta_modelos_entrenados+'/Efficient_RegOpt_224_bs256NDO_L2000001L2000001_09decay20epoc')\n",
    "y_pred = []  # store predicted labels\n",
    "y_true = []  # store true labels\n",
    "\n",
    "# iterate over the dataset\n",
    "for image_batch, label_batch in test_ds:   # use dataset.unbatch() with repeat\n",
    "   # append true labels\n",
    "   #print(\"Label: \",label_batch)\n",
    "   y_true.append(label_batch)\n",
    "   # compute predictions\n",
    "   #print(\"Imagen: \",image_batch)\n",
    "   preds = new_model.predict(image_batch)\n",
    "   # append predicted labels\n",
    "   y_pred.append(np.argmax(preds, axis = - 1))\n",
    "   #print(\"-----------------\")\n",
    "\n",
    "# convert the true and predicted labels into tensors\n",
    "correct_labels = tf.concat([item for item in y_true], axis = 0)\n",
    "predicted_labels = tf.concat([item for item in y_pred], axis = 0)"
   ]
  },
  {
   "cell_type": "code",
   "execution_count": 5,
   "metadata": {},
   "outputs": [
    {
     "name": "stdout",
     "output_type": "stream",
     "text": [
      "['LP', 'VLP', 'VT']\n"
     ]
    }
   ],
   "source": [
    "class_names = test_ds.class_names\n",
    "print(class_names)"
   ]
  },
  {
   "cell_type": "code",
   "execution_count": 6,
   "metadata": {},
   "outputs": [
    {
     "data": {
      "image/png": "[encoded data removed]",
      "text/plain": [
       "<Figure size 1000x800 with 2 Axes>"
      ]
     },
     "metadata": {},
     "output_type": "display_data"
    }
   ],
   "source": [
    "import seaborn as sns\n",
    "\n",
    "confusion_mtx = tf.math.confusion_matrix(correct_labels, predicted_labels)\n",
    "plt.figure(figsize=(10, 8))\n",
    "sns.heatmap(confusion_mtx,\n",
    "            xticklabels=class_names,\n",
    "            yticklabels=class_names,\n",
    "            annot=True, fmt='g')\n",
    "plt.xlabel('Prediction')\n",
    "plt.ylabel('Label')\n",
    "plt.show()"
   ]
  },
  {
   "cell_type": "code",
   "execution_count": 7,
   "metadata": {},
   "outputs": [
    {
     "name": "stdout",
     "output_type": "stream",
     "text": [
      "%LP: 55.88235294117647\n",
      " %VLP: 51.147842056932966\n",
      "%VT: 8.765288293535235\n"
     ]
    }
   ],
   "source": [
    "cm = confusion_matrix(correct_labels, predicted_labels)\n",
    "print('%LP: '+str(cm[0][0]/sum(cm[0]) * 100))\n",
    "print(' %VLP: '+str(cm[1][1]/sum(cm[1]) * 100))\n",
    "print('%VT: '+str(cm[2][2]/sum(cm[2]) * 100))"
   ]
  },
  {
   "cell_type": "code",
   "execution_count": 8,
   "metadata": {},
   "outputs": [
    {
     "name": "stdout",
     "output_type": "stream",
     "text": [
      "              precision    recall  f1-score   support\n",
      "\n",
      "           0     0.3527    0.5588    0.4325      3434\n",
      "           1     0.2515    0.5115    0.3372      1089\n",
      "           2     1.0000    0.0877    0.1612      3434\n",
      "\n",
      "    accuracy                         0.3490      7957\n",
      "   macro avg     0.5347    0.3860    0.3103      7957\n",
      "weighted avg     0.6182    0.3490    0.3023      7957\n",
      "\n"
     ]
    }
   ],
   "source": [
    "from sklearn.metrics import classification_report\n",
    "print(classification_report(correct_labels, predicted_labels, digits=4))"
   ]
  }
 ],
 "metadata": {
  "kernelspec": {
   "display_name": "base",
   "language": "python",
   "name": "python3"
  },
  "language_info": {
   "codemirror_mode": {
    "name": "ipython",
    "version": 3
   },
   "file_extension": ".py",
   "mimetype": "text/x-python",
   "name": "python",
   "nbconvert_exporter": "python",
   "pygments_lexer": "ipython3",
   "version": "3.8.16"
  }
 },
 "nbformat": 4,
 "nbformat_minor": 2
}
